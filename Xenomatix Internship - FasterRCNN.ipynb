{
 "cells": [
  {
   "cell_type": "markdown",
   "metadata": {},
   "source": [
    "# Xenomatix Internship\n"
   ]
  },
  {
   "cell_type": "markdown",
   "metadata": {},
   "source": [
    "## Faster R-CNN"
   ]
  },
  {
   "cell_type": "code",
   "execution_count": 1,
   "metadata": {},
   "outputs": [],
   "source": [
    "from torchvision import transforms as T \n",
    "from torchvision import utils as utils\n",
    "from torchvision.utils import save_image\n",
    "import cv2\n",
    "from PIL import Image\n",
    "from matplotlib import pyplot as plt"
   ]
  },
  {
   "cell_type": "markdown",
   "metadata": {},
   "source": [
    "### Pre-trained model"
   ]
  },
  {
   "cell_type": "code",
   "execution_count": null,
   "metadata": {},
   "outputs": [],
   "source": [
    "import torchvision\n",
    "model = torchvision.models.detection.fasterrcnn_resnet50_fpn(pretrained=True)\n",
    "model.eval()"
   ]
  },
  {
   "cell_type": "code",
   "execution_count": 3,
   "metadata": {},
   "outputs": [],
   "source": [
    "# This is needed to display the images.\n",
    "%matplotlib inline"
   ]
  },
  {
   "cell_type": "markdown",
   "metadata": {},
   "source": [
    "## Available categories in model"
   ]
  },
  {
   "cell_type": "code",
   "execution_count": 7,
   "metadata": {},
   "outputs": [],
   "source": [
    "COCO_INSTANCE_CATEGORY_NAMES = [\n",
    "    '__background__', 'person', 'bicycle', 'car', 'motorcycle', 'airplane', 'bus',\n",
    "    'train', 'truck', 'boat', 'traffic light', 'fire hydrant', 'N/A', 'stop sign',\n",
    "    'parking meter', 'bench', 'bird', 'cat', 'dog', 'horse', 'sheep', 'cow',\n",
    "    'elephant', 'bear', 'zebra', 'giraffe', 'N/A', 'backpack', 'umbrella', 'N/A', 'N/A',\n",
    "    'handbag', 'tie', 'suitcase', 'frisbee', 'skis', 'snowboard', 'sports ball',\n",
    "    'kite', 'baseball bat', 'baseball glove', 'skateboard', 'surfboard', 'tennis racket',\n",
    "    'bottle', 'N/A', 'wine glass', 'cup', 'fork', 'knife', 'spoon', 'bowl',\n",
    "    'banana', 'apple', 'sandwich', 'orange', 'broccoli', 'carrot', 'hot dog', 'pizza',\n",
    "    'donut', 'cake', 'chair', 'couch', 'potted plant', 'bed', 'N/A', 'dining table',\n",
    "    'N/A', 'N/A', 'toilet', 'N/A', 'tv', 'laptop', 'mouse', 'remote', 'keyboard', 'cell phone',\n",
    "    'microwave', 'oven', 'toaster', 'sink', 'refrigerator', 'N/A', 'book',\n",
    "    'clock', 'vase', 'scissors', 'teddy bear', 'hair drier', 'toothbrush'\n",
    "]\n",
    "\n",
    "#Making selection of only 7 categories for our model\n",
    "object_class = {'person':1,'bicycle':2,'motorcycle':3,'car':4,'train':5,'truck':6,'bus':7}\n",
    "# person=1, bycycle=2, car = 3, motorcycle=4, train=5, truck = 6, bus=7 \n",
    "category_list = ['person','bicycle','motorcycle','car','train','truck','bus']\n",
    "# object_class[\"person\"]"
   ]
  },
  {
   "cell_type": "markdown",
   "metadata": {},
   "source": [
    "### 1. Predicting score | 2. Classification | 3. Bounding box dimensions"
   ]
  },
  {
   "cell_type": "code",
   "execution_count": 5,
   "metadata": {},
   "outputs": [],
   "source": [
    "def get_prediction(img_path, threshold):\n",
    "    img = Image.open(img_path) # Load the image\n",
    "    transform = T.Compose([T.ToTensor()]) # Defing PyTorch Transform\n",
    "    img = transform(img) # Apply the transform to the image\n",
    "    pred = model([img]) # Pass the image to the model\n",
    "    pred_class = [COCO_INSTANCE_CATEGORY_NAMES[i] for i in list(pred[0]['labels'].numpy())] # Get the Prediction Score        \n",
    "    pred_boxes = [[(i[0], i[1]), (i[2], i[3])] for i in list(pred[0]['boxes'].detach().numpy()) ] # Bounding boxes\n",
    "    pred_score = list(pred[0]['scores'].detach().numpy())        \n",
    "    \n",
    "    #To avoid list index out of range error when list is empty aka detection score is less than 0.8\n",
    "    list_score = [pred_score.index(x) for x in pred_score if x > threshold]    \n",
    "    if not list_score:\n",
    "        return [],[],[]\n",
    "        \n",
    "    pred_t = list_score[-1] # Get list of index with score greater than threshold.     \n",
    "    pred_boxes = pred_boxes[:pred_t+1]\n",
    "    pred_class = pred_class[:pred_t+1]\n",
    "    pred_scores = pred_score[:pred_t+1]\n",
    "\n",
    "    #filtering only person,bicycle,motorcycle,car,truck bus for the project\n",
    "    classes = [object_class[i] for i in pred_class if str(i) in category_list]\n",
    "    boxes = [pred_boxes[pos] for pos,i in enumerate(pred_class) if str(i) in category_list]    \n",
    "    \n",
    "    return boxes, classes, pred_scores\n"
   ]
  },
  {
   "cell_type": "markdown",
   "metadata": {},
   "source": [
    "### To display object detection for an individual image"
   ]
  },
  {
   "cell_type": "code",
   "execution_count": 6,
   "metadata": {},
   "outputs": [],
   "source": [
    "def object_detection_api(img_path, threshold=0.5, rect_th=2, text_size=1, text_th=2):\n",
    "    boxes, pred_cls, score = get_prediction(img_path, threshold) # Get predictions    \n",
    "    img = cv2.imread(img_path) # Read image with cv2\n",
    "    img = cv2.cvtColor(img, cv2.COLOR_BGR2RGB) # Convert to RGB\n",
    "    for i in range(len(boxes)):\n",
    "#         print(boxes[i],pred_cls[i])\n",
    "        cv2.rectangle(img, boxes[i][0], boxes[i][1],color=(248,248,255), thickness=rect_th) # Draw Rectangle with the coordinates\n",
    "        text = str(pred_cls[i]) + '(' + str(round(score[i],2))+')'\n",
    "        cv2.putText(img,text, boxes[i][0],  cv2.FONT_HERSHEY_SIMPLEX, text_size, (248,248,255),thickness=text_th) # Write the prediction class\n",
    "    plt.figure(figsize=(20,30)) # display the output image\n",
    "    plt.imshow(img)\n",
    "    plt.xticks([])\n",
    "    plt.yticks([])\n",
    "    plt.show()\n"
   ]
  },
  {
   "cell_type": "markdown",
   "metadata": {},
   "source": [
    "## To do the object detection, saving the image and dimension text on local system"
   ]
  },
  {
   "cell_type": "code",
   "execution_count": 10,
   "metadata": {},
   "outputs": [],
   "source": [
    "# Object detection without output image\n",
    "\n",
    "def object_detection_and_saving(img_path, save_path, labels_path, threshold=0.5, rect_th=2, text_size=1, text_th=2):\n",
    "    boxes, pred_cls, score = get_prediction(img_path, threshold) # Get predictions    \n",
    "    img = cv2.imread(img_path) # Read image with cv2\n",
    "    img = cv2.cvtColor(img, cv2.COLOR_BGR2RGB) # Convert to RGB\n",
    "    for i in range(len(boxes)):\n",
    "        cv2.rectangle(img, boxes[i][0], boxes[i][1],color=(0,0,255), thickness=rect_th) # Draw Rectangle with the coordinates\n",
    "        text = str(pred_cls[i]) + '(' + str(round(score[i],2))+')'\n",
    "        cv2.putText(img,text, boxes[i][0],  cv2.FONT_HERSHEY_SIMPLEX, text_size, (0,255,0),thickness=text_th) # Write the prediction class\n",
    "\n",
    "#     Saving the image\n",
    "    cv2.imwrite(save_path,img)        \n",
    "    \n",
    "    #Saving the dimensions text file\n",
    "    f= open(labels_path,\"w+\")\n",
    "    for pos,val in enumerate(boxes):        \n",
    "        f.write(\"%.4f,%.4f,%.4f,%.4f,%d,%.2f\\r\" % (val[0][0],val[0][1],val[1][0],val[1][1],pred_cls[pos],score[pos]*100))\n",
    "    \n",
    "    f.close()           \n"
   ]
  },
  {
   "cell_type": "markdown",
   "metadata": {},
   "source": [
    "### For *testing* a single image"
   ]
  },
  {
   "cell_type": "code",
   "execution_count": 68,
   "metadata": {},
   "outputs": [],
   "source": [
    "#Test run\n",
    "#Detected by Faster R-CNN\n",
    "object_detection_and_saving('C:/Users/nisha/MACS/Internship/Data/XL_CarPedDataset_INT_v2_train_val/val/VisualImages/xl_visual_session0002_00000708.vis.png','C:/Users/nisha/MACS/Internship/Data/test.png', 'C:/Users/nisha/MACS/Internship/Data/test.txt',threshold=0.70)\n"
   ]
  },
  {
   "cell_type": "markdown",
   "metadata": {},
   "source": [
    "### Final Run for all the images"
   ]
  },
  {
   "cell_type": "code",
   "execution_count": 11,
   "metadata": {},
   "outputs": [
    {
     "name": "stdout",
     "output_type": "stream",
     "text": [
      "08:44:52.72\n"
     ]
    }
   ],
   "source": [
    "#Final\n",
    "#Run only once\n",
    "\n",
    "from os import listdir\n",
    "from os.path import isfile, join\n",
    "import numpy\n",
    "import time\n",
    "\n",
    "#Tracing the time\n",
    "start = time.time()\n",
    "\n",
    "input_path = 'C:/Users/nisha/MACS/Internship/Data/XL_CarPedDataset_INT_v2_train_val/train/VisualImages/'\n",
    "labels_path = 'C:/Users/nisha/MACS/Internship/Data/XL_CarPedDataset_INT_v2_train_val/train/label_FasterRCNN/'\n",
    "detection_path = 'C:/Users/nisha/MACS/Internship/Data/XL_CarPedDataset_INT_v2_train_val/train/Detection_FasterRCNN/'\n",
    "txt='.txt'\n",
    "\n",
    "onlyfiles = [ f for f in listdir(input_path) if isfile(join(input_path,f))]\n",
    "# images = numpy.empty(len(onlyfiles), dtype=object)\n",
    "for image_id in onlyfiles:\n",
    "    image_name = image_id.split(\".\")\n",
    "    input_image = input_path+image_id\n",
    "    detected_image = detection_path+image_id\n",
    "    labels_text = labels_path+image_name[0]+txt\n",
    "    object_detection_and_saving(input_image, detected_image, labels_text, threshold=0.80)    \n",
    "\n",
    "#Time taken\n",
    "end = time.time()\n",
    "hours, rem = divmod(end-start, 3600)\n",
    "minutes, seconds = divmod(rem, 60)\n",
    "print(\"{:0>2}:{:0>2}:{:05.2f}\".format(int(hours),int(minutes),seconds))"
   ]
  },
  {
   "cell_type": "markdown",
   "metadata": {},
   "source": [
    "## Converting the XML files to txt files\n",
    "### Ground truth text"
   ]
  },
  {
   "cell_type": "code",
   "execution_count": 4,
   "metadata": {},
   "outputs": [],
   "source": [
    "import libs\n",
    "import pascal_voc_io"
   ]
  },
  {
   "cell_type": "code",
   "execution_count": 8,
   "metadata": {},
   "outputs": [],
   "source": [
    "from os import listdir\n",
    "from os.path import isfile, join\n",
    "import numpy\n",
    "\n",
    "xml_count =0\n",
    "\n",
    "annotations_xml = 'C:/Users/nisha/MACS/Internship/Data/XL_CarPedDataset_INT_v2_train_val/train/Annotation/'\n",
    "annotation_txt = 'C:/Users/nisha/MACS/Internship/Data/XL_CarPedDataset_INT_v2_train_val/train/groundtruth_txt/'\n",
    "txt = '.txt'\n",
    "\n",
    "for xml_id in listdir(annotations_xml):        \n",
    "    xml_count+=1\n",
    "    xml_name = xml_id.split(\".\")\n",
    "    labels_text = annotation_txt+xml_name[0]+txt   \n",
    "    xml_path = annotations_xml+xml_id    \n",
    "    pascal_voc_reader = pascal_voc_io.PascalVocReader(xml_path)    \n",
    "    shapes = pascal_voc_reader.getShapes()\n",
    "    \n",
    "    #Saving the dimensions text file\n",
    "    f= open(labels_text,\"w+\")\n",
    "    for val in shapes:                    \n",
    "        f.write(\"%.d,%.d,%.d,%.d,%d\\r\" % (val[1][0][0],val[1][0][1],val[1][2][0],val[1][2][1],object_class[val[0]]))    \n",
    "    f.close()    \n"
   ]
  },
  {
   "cell_type": "markdown",
   "metadata": {},
   "source": [
    "## Converting txt to XML files"
   ]
  },
  {
   "cell_type": "code",
   "execution_count": 6,
   "metadata": {},
   "outputs": [],
   "source": [
    "import os\n",
    "os.chdir('C:/Users/nisha/MACS/Internship/Data/labelImg/libs/')"
   ]
  },
  {
   "cell_type": "code",
   "execution_count": 7,
   "metadata": {},
   "outputs": [],
   "source": [
    "import libs\n",
    "import pascal_voc_io"
   ]
  },
  {
   "cell_type": "code",
   "execution_count": 9,
   "metadata": {},
   "outputs": [
    {
     "name": "stderr",
     "output_type": "stream",
     "text": [
      "  0%|▏                                                                                | 4/1412 [00:00<00:40, 34.81it/s]"
     ]
    },
    {
     "name": "stdout",
     "output_type": "stream",
     "text": [
      "Found 1412 annotation files\n",
      "C:/Users/nisha/MACS/Internship/Data/XL_CarPedDataset_INT_v2_train_val/val\\detection\\xl_visual_session0000_00000026.vis.png\n",
      "C:/Users/nisha/MACS/Internship/Data/XL_CarPedDataset_INT_v2_train_val/val\\detection\\xl_visual_session0000_00000051.vis.png\n",
      "C:/Users/nisha/MACS/Internship/Data/XL_CarPedDataset_INT_v2_train_val/val\\detection\\xl_visual_session0000_00000064.vis.png\n",
      "C:/Users/nisha/MACS/Internship/Data/XL_CarPedDataset_INT_v2_train_val/val\\detection\\xl_visual_session0000_00000068.vis.png\n",
      "C:/Users/nisha/MACS/Internship/Data/XL_CarPedDataset_INT_v2_train_val/val\\detection\\xl_visual_session0000_00000080.vis.png\n",
      "C:/Users/nisha/MACS/Internship/Data/XL_CarPedDataset_INT_v2_train_val/val\\detection\\xl_visual_session0000_00000088.vis.png\n"
     ]
    },
    {
     "name": "stderr",
     "output_type": "stream",
     "text": [
      "  1%|▋                                                                               | 12/1412 [00:00<00:41, 34.14it/s]"
     ]
    },
    {
     "name": "stdout",
     "output_type": "stream",
     "text": [
      "C:/Users/nisha/MACS/Internship/Data/XL_CarPedDataset_INT_v2_train_val/val\\detection\\xl_visual_session0000_00000100.vis.png\n",
      "C:/Users/nisha/MACS/Internship/Data/XL_CarPedDataset_INT_v2_train_val/val\\detection\\xl_visual_session0000_00000104.vis.png\n",
      "C:/Users/nisha/MACS/Internship/Data/XL_CarPedDataset_INT_v2_train_val/val\\detection\\xl_visual_session0000_00000108.vis.png\n",
      "C:/Users/nisha/MACS/Internship/Data/XL_CarPedDataset_INT_v2_train_val/val\\detection\\xl_visual_session0000_00000120.vis.png\n",
      "C:/Users/nisha/MACS/Internship/Data/XL_CarPedDataset_INT_v2_train_val/val\\detection\\xl_visual_session0000_00000144.vis.png\n",
      "C:/Users/nisha/MACS/Internship/Data/XL_CarPedDataset_INT_v2_train_val/val\\detection\\xl_visual_session0000_00000152.vis.png\n",
      "C:/Users/nisha/MACS/Internship/Data/XL_CarPedDataset_INT_v2_train_val/val\\detection\\xl_visual_session0000_00000160.vis.png\n"
     ]
    },
    {
     "name": "stderr",
     "output_type": "stream",
     "text": [
      "\r",
      "  1%|▊                                                                               | 15/1412 [00:00<00:44, 31.42it/s]"
     ]
    },
    {
     "name": "stdout",
     "output_type": "stream",
     "text": [
      "C:/Users/nisha/MACS/Internship/Data/XL_CarPedDataset_INT_v2_train_val/val\\detection\\xl_visual_session0000_00000180.vis.png\n",
      "C:/Users/nisha/MACS/Internship/Data/XL_CarPedDataset_INT_v2_train_val/val\\detection\\xl_visual_session0000_00000261.vis.png\n",
      "C:/Users/nisha/MACS/Internship/Data/XL_CarPedDataset_INT_v2_train_val/val\\detection\\xl_visual_session0000_00000321.vis.png\n",
      "C:/Users/nisha/MACS/Internship/Data/XL_CarPedDataset_INT_v2_train_val/val\\detection\\xl_visual_session0000_00000326.vis.png\n",
      "C:/Users/nisha/MACS/Internship/Data/XL_CarPedDataset_INT_v2_train_val/val\\detection\\xl_visual_session0000_00000335.vis.png\n",
      "C:/Users/nisha/MACS/Internship/Data/XL_CarPedDataset_INT_v2_train_val/val\\detection\\xl_visual_session0000_00000353.vis.png\n"
     ]
    },
    {
     "name": "stderr",
     "output_type": "stream",
     "text": [
      "  2%|█▎                                                                              | 23/1412 [00:00<00:46, 29.76it/s]"
     ]
    },
    {
     "name": "stdout",
     "output_type": "stream",
     "text": [
      "C:/Users/nisha/MACS/Internship/Data/XL_CarPedDataset_INT_v2_train_val/val\\detection\\xl_visual_session0000_00000357.vis.png\n",
      "C:/Users/nisha/MACS/Internship/Data/XL_CarPedDataset_INT_v2_train_val/val\\detection\\xl_visual_session0000_00000403.vis.png\n",
      "C:/Users/nisha/MACS/Internship/Data/XL_CarPedDataset_INT_v2_train_val/val\\detection\\xl_visual_session0000_00000408.vis.png\n",
      "C:/Users/nisha/MACS/Internship/Data/XL_CarPedDataset_INT_v2_train_val/val\\detection\\xl_visual_session0000_00000410.vis.png\n",
      "C:/Users/nisha/MACS/Internship/Data/XL_CarPedDataset_INT_v2_train_val/val\\detection\\xl_visual_session0000_00000437.vis.png\n"
     ]
    },
    {
     "name": "stderr",
     "output_type": "stream",
     "text": [
      "  2%|█▋                                                                              | 30/1412 [00:00<00:49, 28.18it/s]"
     ]
    },
    {
     "name": "stdout",
     "output_type": "stream",
     "text": [
      "C:/Users/nisha/MACS/Internship/Data/XL_CarPedDataset_INT_v2_train_val/val\\detection\\xl_visual_session0000_00000461.vis.png\n",
      "C:/Users/nisha/MACS/Internship/Data/XL_CarPedDataset_INT_v2_train_val/val\\detection\\xl_visual_session0000_00000499.vis.png\n",
      "C:/Users/nisha/MACS/Internship/Data/XL_CarPedDataset_INT_v2_train_val/val\\detection\\xl_visual_session0000_00000507.vis.png\n",
      "C:/Users/nisha/MACS/Internship/Data/XL_CarPedDataset_INT_v2_train_val/val\\detection\\xl_visual_session0000_00000510.vis.png\n",
      "C:/Users/nisha/MACS/Internship/Data/XL_CarPedDataset_INT_v2_train_val/val\\detection\\xl_visual_session0000_00000525.vis.png\n",
      "C:/Users/nisha/MACS/Internship/Data/XL_CarPedDataset_INT_v2_train_val/val\\detection\\xl_visual_session0000_00000563.vis.png\n"
     ]
    },
    {
     "name": "stderr",
     "output_type": "stream",
     "text": [
      "\r",
      "  2%|█▉                                                                              | 34/1412 [00:01<00:46, 29.36it/s]"
     ]
    },
    {
     "name": "stdout",
     "output_type": "stream",
     "text": [
      "C:/Users/nisha/MACS/Internship/Data/XL_CarPedDataset_INT_v2_train_val/val\\detection\\xl_visual_session0000_00000566.vis.png\n",
      "C:/Users/nisha/MACS/Internship/Data/XL_CarPedDataset_INT_v2_train_val/val\\detection\\xl_visual_session0000_00000572.vis.png\n",
      "C:/Users/nisha/MACS/Internship/Data/XL_CarPedDataset_INT_v2_train_val/val\\detection\\xl_visual_session0000_00000580.vis.png\n",
      "C:/Users/nisha/MACS/Internship/Data/XL_CarPedDataset_INT_v2_train_val/val\\detection\\xl_visual_session0000_00000587.vis.png\n",
      "C:/Users/nisha/MACS/Internship/Data/XL_CarPedDataset_INT_v2_train_val/val\\detection\\xl_visual_session0000_00000590.vis.png\n",
      "C:/Users/nisha/MACS/Internship/Data/XL_CarPedDataset_INT_v2_train_val/val\\detection\\xl_visual_session0000_00000615.vis.png\n"
     ]
    },
    {
     "name": "stderr",
     "output_type": "stream",
     "text": [
      "  3%|██▎                                                                             | 41/1412 [00:01<00:45, 30.46it/s]"
     ]
    },
    {
     "name": "stdout",
     "output_type": "stream",
     "text": [
      "C:/Users/nisha/MACS/Internship/Data/XL_CarPedDataset_INT_v2_train_val/val\\detection\\xl_visual_session0000_00000619.vis.png\n",
      "C:/Users/nisha/MACS/Internship/Data/XL_CarPedDataset_INT_v2_train_val/val\\detection\\xl_visual_session0000_00000696.vis.png\n",
      "C:/Users/nisha/MACS/Internship/Data/XL_CarPedDataset_INT_v2_train_val/val\\detection\\xl_visual_session0000_00000699.vis.png\n",
      "C:/Users/nisha/MACS/Internship/Data/XL_CarPedDataset_INT_v2_train_val/val\\detection\\xl_visual_session0000_00000722.vis.png\n",
      "C:/Users/nisha/MACS/Internship/Data/XL_CarPedDataset_INT_v2_train_val/val\\detection\\xl_visual_session0000_00000733.vis.png\n",
      "C:/Users/nisha/MACS/Internship/Data/XL_CarPedDataset_INT_v2_train_val/val\\detection\\xl_visual_session0000_00000743.vis.png\n"
     ]
    },
    {
     "name": "stderr",
     "output_type": "stream",
     "text": [
      "\r",
      "  3%|██▌                                                                             | 45/1412 [00:01<00:45, 29.82it/s]"
     ]
    },
    {
     "name": "stdout",
     "output_type": "stream",
     "text": [
      "C:/Users/nisha/MACS/Internship/Data/XL_CarPedDataset_INT_v2_train_val/val\\detection\\xl_visual_session0000_00000749.vis.png\n",
      "C:/Users/nisha/MACS/Internship/Data/XL_CarPedDataset_INT_v2_train_val/val\\detection\\xl_visual_session0000_00000760.vis.png\n",
      "C:/Users/nisha/MACS/Internship/Data/XL_CarPedDataset_INT_v2_train_val/val\\detection\\xl_visual_session0000_00000792.vis.png\n",
      "C:/Users/nisha/MACS/Internship/Data/XL_CarPedDataset_INT_v2_train_val/val\\detection\\xl_visual_session0000_00000809.vis.png\n",
      "C:/Users/nisha/MACS/Internship/Data/XL_CarPedDataset_INT_v2_train_val/val\\detection\\xl_visual_session0000_00000817.vis.png\n",
      "C:/Users/nisha/MACS/Internship/Data/XL_CarPedDataset_INT_v2_train_val/val\\detection\\xl_visual_session0000_00000842.vis.png\n",
      "C:/Users/nisha/MACS/Internship/Data/XL_CarPedDataset_INT_v2_train_val/val\\detection\\xl_visual_session0000_00000865.vis.png\n"
     ]
    },
    {
     "name": "stderr",
     "output_type": "stream",
     "text": [
      "  4%|███                                                                             | 53/1412 [00:01<00:45, 29.62it/s]"
     ]
    },
    {
     "name": "stdout",
     "output_type": "stream",
     "text": [
      "C:/Users/nisha/MACS/Internship/Data/XL_CarPedDataset_INT_v2_train_val/val\\detection\\xl_visual_session0000_00000873.vis.png\n",
      "C:/Users/nisha/MACS/Internship/Data/XL_CarPedDataset_INT_v2_train_val/val\\detection\\xl_visual_session0000_00000912.vis.png\n",
      "C:/Users/nisha/MACS/Internship/Data/XL_CarPedDataset_INT_v2_train_val/val\\detection\\xl_visual_session0000_00000968.vis.png\n",
      "C:/Users/nisha/MACS/Internship/Data/XL_CarPedDataset_INT_v2_train_val/val\\detection\\xl_visual_session0000_00000976.vis.png\n",
      "C:/Users/nisha/MACS/Internship/Data/XL_CarPedDataset_INT_v2_train_val/val\\detection\\xl_visual_session0000_00000983.vis.png\n",
      "C:/Users/nisha/MACS/Internship/Data/XL_CarPedDataset_INT_v2_train_val/val\\detection\\xl_visual_session0000_00000992.vis.png\n",
      "C:/Users/nisha/MACS/Internship/Data/XL_CarPedDataset_INT_v2_train_val/val\\detection\\xl_visual_session0000_00001001.vis.png"
     ]
    },
    {
     "name": "stderr",
     "output_type": "stream",
     "text": [
      "  4%|███▌                                                                            | 62/1412 [00:01<00:39, 34.16it/s]"
     ]
    },
    {
     "name": "stdout",
     "output_type": "stream",
     "text": [
      "\n",
      "C:/Users/nisha/MACS/Internship/Data/XL_CarPedDataset_INT_v2_train_val/val\\detection\\xl_visual_session0000_00001018.vis.png\n",
      "C:/Users/nisha/MACS/Internship/Data/XL_CarPedDataset_INT_v2_train_val/val\\detection\\xl_visual_session0000_00001026.vis.png\n",
      "C:/Users/nisha/MACS/Internship/Data/XL_CarPedDataset_INT_v2_train_val/val\\detection\\xl_visual_session0000_00001070.vis.png\n",
      "C:/Users/nisha/MACS/Internship/Data/XL_CarPedDataset_INT_v2_train_val/val\\detection\\xl_visual_session0000_00001174.vis.png\n",
      "C:/Users/nisha/MACS/Internship/Data/XL_CarPedDataset_INT_v2_train_val/val\\detection\\xl_visual_session0000_00001220.vis.png\n",
      "C:/Users/nisha/MACS/Internship/Data/XL_CarPedDataset_INT_v2_train_val/val\\detection\\xl_visual_session0000_00001236.vis.png\n",
      "C:/Users/nisha/MACS/Internship/Data/XL_CarPedDataset_INT_v2_train_val/val\\detection\\xl_visual_session0000_00001249.vis.png\n"
     ]
    },
    {
     "name": "stderr",
     "output_type": "stream",
     "text": [
      "  5%|████                                                                            | 71/1412 [00:02<00:38, 35.29it/s]"
     ]
    },
    {
     "name": "stdout",
     "output_type": "stream",
     "text": [
      "C:/Users/nisha/MACS/Internship/Data/XL_CarPedDataset_INT_v2_train_val/val\\detection\\xl_visual_session0000_00001258.vis.png\n",
      "C:/Users/nisha/MACS/Internship/Data/XL_CarPedDataset_INT_v2_train_val/val\\detection\\xl_visual_session0000_00001286.vis.png\n",
      "C:/Users/nisha/MACS/Internship/Data/XL_CarPedDataset_INT_v2_train_val/val\\detection\\xl_visual_session0000_00001292.vis.png\n",
      "C:/Users/nisha/MACS/Internship/Data/XL_CarPedDataset_INT_v2_train_val/val\\detection\\xl_visual_session0000_00001302.vis.png\n",
      "C:/Users/nisha/MACS/Internship/Data/XL_CarPedDataset_INT_v2_train_val/val\\detection\\xl_visual_session0000_00001309.vis.png\n",
      "C:/Users/nisha/MACS/Internship/Data/XL_CarPedDataset_INT_v2_train_val/val\\detection\\xl_visual_session0000_00001347.vis.png\n",
      "C:/Users/nisha/MACS/Internship/Data/XL_CarPedDataset_INT_v2_train_val/val\\detection\\xl_visual_session0000_00001388.vis.png\n",
      "C:/Users/nisha/MACS/Internship/Data/XL_CarPedDataset_INT_v2_train_val/val\\detection\\xl_visual_session0000_00001409.vis.png\n"
     ]
    },
    {
     "name": "stderr",
     "output_type": "stream",
     "text": [
      "\r",
      "  5%|████▏                                                                           | 75/1412 [00:02<00:37, 35.66it/s]"
     ]
    },
    {
     "name": "stdout",
     "output_type": "stream",
     "text": [
      "C:/Users/nisha/MACS/Internship/Data/XL_CarPedDataset_INT_v2_train_val/val\\detection\\xl_visual_session0000_00001421.vis.png\n",
      "C:/Users/nisha/MACS/Internship/Data/XL_CarPedDataset_INT_v2_train_val/val\\detection\\xl_visual_session0000_00001438.vis.png\n",
      "C:/Users/nisha/MACS/Internship/Data/XL_CarPedDataset_INT_v2_train_val/val\\detection\\xl_visual_session0000_00001487.vis.png\n",
      "C:/Users/nisha/MACS/Internship/Data/XL_CarPedDataset_INT_v2_train_val/val\\detection\\xl_visual_session0000_00001544.vis.png\n",
      "C:/Users/nisha/MACS/Internship/Data/XL_CarPedDataset_INT_v2_train_val/val\\detection\\xl_visual_session0000_00001589.vis.png\n",
      "C:/Users/nisha/MACS/Internship/Data/XL_CarPedDataset_INT_v2_train_val/val\\detection\\xl_visual_session0000_00001598.vis.png\n",
      "C:/Users/nisha/MACS/Internship/Data/XL_CarPedDataset_INT_v2_train_val/val\\detection\\xl_visual_session0000_00001603.vis.png\n",
      "C:/Users/nisha/MACS/Internship/Data/XL_CarPedDataset_INT_v2_train_val/val\\detection\\xl_visual_session0000_00001612.vis.png\n",
      "C:/Users/nisha/MACS/Internship/Data/XL_CarPedDataset_INT_v2_train_val/val\\detection\\xl_visual_session0000_00001625.vis.png\n"
     ]
    },
    {
     "name": "stderr",
     "output_type": "stream",
     "text": [
      "  6%|████▊                                                                           | 85/1412 [00:02<00:34, 38.92it/s]"
     ]
    },
    {
     "name": "stdout",
     "output_type": "stream",
     "text": [
      "C:/Users/nisha/MACS/Internship/Data/XL_CarPedDataset_INT_v2_train_val/val\\detection\\xl_visual_session0000_00001707.vis.png\n",
      "C:/Users/nisha/MACS/Internship/Data/XL_CarPedDataset_INT_v2_train_val/val\\detection\\xl_visual_session0000_00001713.vis.png\n",
      "C:/Users/nisha/MACS/Internship/Data/XL_CarPedDataset_INT_v2_train_val/val\\detection\\xl_visual_session0000_00001743.vis.png\n",
      "C:/Users/nisha/MACS/Internship/Data/XL_CarPedDataset_INT_v2_train_val/val\\detection\\xl_visual_session0000_00001802.vis.png\n",
      "C:/Users/nisha/MACS/Internship/Data/XL_CarPedDataset_INT_v2_train_val/val\\detection\\xl_visual_session0000_00001806.vis.png\n",
      "C:/Users/nisha/MACS/Internship/Data/XL_CarPedDataset_INT_v2_train_val/val\\detection\\xl_visual_session0000_00001810.vis.png\n",
      "C:/Users/nisha/MACS/Internship/Data/XL_CarPedDataset_INT_v2_train_val/val\\detection\\xl_visual_session0000_00001815.vis.png\n",
      "C:/Users/nisha/MACS/Internship/Data/XL_CarPedDataset_INT_v2_train_val/val\\detection\\xl_visual_session0000_00001851.vis.png\n",
      "C:/Users/nisha/MACS/Internship/Data/XL_CarPedDataset_INT_v2_train_val/val\\detection\\xl_visual_session0000_00001856.vis.png\n"
     ]
    },
    {
     "name": "stderr",
     "output_type": "stream",
     "text": [
      "  7%|█████▎                                                                          | 93/1412 [00:02<00:38, 34.61it/s]"
     ]
    },
    {
     "name": "stdout",
     "output_type": "stream",
     "text": [
      "C:/Users/nisha/MACS/Internship/Data/XL_CarPedDataset_INT_v2_train_val/val\\detection\\xl_visual_session0000_00001864.vis.png\n",
      "C:/Users/nisha/MACS/Internship/Data/XL_CarPedDataset_INT_v2_train_val/val\\detection\\xl_visual_session0000_00001884.vis.png\n",
      "C:/Users/nisha/MACS/Internship/Data/XL_CarPedDataset_INT_v2_train_val/val\\detection\\xl_visual_session0000_00001950.vis.png\n",
      "C:/Users/nisha/MACS/Internship/Data/XL_CarPedDataset_INT_v2_train_val/val\\detection\\xl_visual_session0000_00001955.vis.png\n",
      "C:/Users/nisha/MACS/Internship/Data/XL_CarPedDataset_INT_v2_train_val/val\\detection\\xl_visual_session0000_00001973.vis.png\n",
      "C:/Users/nisha/MACS/Internship/Data/XL_CarPedDataset_INT_v2_train_val/val\\detection\\xl_visual_session0000_00001985.vis.png\n",
      "C:/Users/nisha/MACS/Internship/Data/XL_CarPedDataset_INT_v2_train_val/val\\detection\\xl_visual_session0000_00001988.vis.png\n"
     ]
    },
    {
     "name": "stderr",
     "output_type": "stream",
     "text": [
      "  7%|█████▋                                                                         | 102/1412 [00:03<00:35, 36.53it/s]"
     ]
    },
    {
     "name": "stdout",
     "output_type": "stream",
     "text": [
      "C:/Users/nisha/MACS/Internship/Data/XL_CarPedDataset_INT_v2_train_val/val\\detection\\xl_visual_session0000_00001992.vis.png\n",
      "C:/Users/nisha/MACS/Internship/Data/XL_CarPedDataset_INT_v2_train_val/val\\detection\\xl_visual_session0000_00001996.vis.png\n",
      "C:/Users/nisha/MACS/Internship/Data/XL_CarPedDataset_INT_v2_train_val/val\\detection\\xl_visual_session0000_00002005.vis.png\n",
      "C:/Users/nisha/MACS/Internship/Data/XL_CarPedDataset_INT_v2_train_val/val\\detection\\xl_visual_session0000_00002025.vis.png\n",
      "C:/Users/nisha/MACS/Internship/Data/XL_CarPedDataset_INT_v2_train_val/val\\detection\\xl_visual_session0000_00002029.vis.png\n",
      "C:/Users/nisha/MACS/Internship/Data/XL_CarPedDataset_INT_v2_train_val/val\\detection\\xl_visual_session0000_00002033.vis.png\n",
      "C:/Users/nisha/MACS/Internship/Data/XL_CarPedDataset_INT_v2_train_val/val\\detection\\xl_visual_session0000_00002037.vis.png\n"
     ]
    },
    {
     "name": "stderr",
     "output_type": "stream",
     "text": [
      "\r",
      "  8%|█████▉                                                                         | 106/1412 [00:03<00:42, 31.06it/s]"
     ]
    },
    {
     "name": "stdout",
     "output_type": "stream",
     "text": [
      "C:/Users/nisha/MACS/Internship/Data/XL_CarPedDataset_INT_v2_train_val/val\\detection\\xl_visual_session0000_00002057.vis.png\n",
      "C:/Users/nisha/MACS/Internship/Data/XL_CarPedDataset_INT_v2_train_val/val\\detection\\xl_visual_session0000_00002092.vis.png\n",
      "C:/Users/nisha/MACS/Internship/Data/XL_CarPedDataset_INT_v2_train_val/val\\detection\\xl_visual_session0000_00002105.vis.png\n",
      "C:/Users/nisha/MACS/Internship/Data/XL_CarPedDataset_INT_v2_train_val/val\\detection\\xl_visual_session0000_00002123.vis.png\n",
      "C:/Users/nisha/MACS/Internship/Data/XL_CarPedDataset_INT_v2_train_val/val\\detection\\xl_visual_session0000_00002132.vis.png\n",
      "C:/Users/nisha/MACS/Internship/Data/XL_CarPedDataset_INT_v2_train_val/val\\detection\\xl_visual_session0000_00002162.vis.png\n",
      "C:/Users/nisha/MACS/Internship/Data/XL_CarPedDataset_INT_v2_train_val/val\\detection\\xl_visual_session0000_00002184.vis.png\n"
     ]
    },
    {
     "name": "stderr",
     "output_type": "stream",
     "text": [
      "  8%|██████▍                                                                        | 115/1412 [00:03<00:36, 35.17it/s]"
     ]
    },
    {
     "name": "stdout",
     "output_type": "stream",
     "text": [
      "C:/Users/nisha/MACS/Internship/Data/XL_CarPedDataset_INT_v2_train_val/val\\detection\\xl_visual_session0000_00002215.vis.png\n",
      "C:/Users/nisha/MACS/Internship/Data/XL_CarPedDataset_INT_v2_train_val/val\\detection\\xl_visual_session0000_00002251.vis.png\n",
      "C:/Users/nisha/MACS/Internship/Data/XL_CarPedDataset_INT_v2_train_val/val\\detection\\xl_visual_session0000_00002272.vis.png\n",
      "C:/Users/nisha/MACS/Internship/Data/XL_CarPedDataset_INT_v2_train_val/val\\detection\\xl_visual_session0000_00002286.vis.png\n",
      "C:/Users/nisha/MACS/Internship/Data/XL_CarPedDataset_INT_v2_train_val/val\\detection\\xl_visual_session0000_00002295.vis.png\n",
      "C:/Users/nisha/MACS/Internship/Data/XL_CarPedDataset_INT_v2_train_val/val\\detection\\xl_visual_session0000_00002304.vis.png\n",
      "C:/Users/nisha/MACS/Internship/Data/XL_CarPedDataset_INT_v2_train_val/val\\detection\\xl_visual_session0000_00002348.vis.png\n",
      "C:/Users/nisha/MACS/Internship/Data/XL_CarPedDataset_INT_v2_train_val/val\\detection\\xl_visual_session0000_00002352.vis.png\n"
     ]
    },
    {
     "name": "stderr",
     "output_type": "stream",
     "text": [
      "\r",
      "  8%|██████▋                                                                        | 119/1412 [00:03<00:39, 32.60it/s]"
     ]
    },
    {
     "name": "stdout",
     "output_type": "stream",
     "text": [
      "C:/Users/nisha/MACS/Internship/Data/XL_CarPedDataset_INT_v2_train_val/val\\detection\\xl_visual_session0000_00002375.vis.png\n",
      "C:/Users/nisha/MACS/Internship/Data/XL_CarPedDataset_INT_v2_train_val/val\\detection\\xl_visual_session0000_00002379.vis.png\n",
      "C:/Users/nisha/MACS/Internship/Data/XL_CarPedDataset_INT_v2_train_val/val\\detection\\xl_visual_session0000_00002393.vis.png\n",
      "C:/Users/nisha/MACS/Internship/Data/XL_CarPedDataset_INT_v2_train_val/val\\detection\\xl_visual_session0000_00002406.vis.png\n",
      "C:/Users/nisha/MACS/Internship/Data/XL_CarPedDataset_INT_v2_train_val/val\\detection\\xl_visual_session0000_00002429.vis.png\n"
     ]
    },
    {
     "name": "stderr",
     "output_type": "stream",
     "text": [
      "  9%|███████                                                                        | 127/1412 [00:03<00:45, 28.22it/s]"
     ]
    },
    {
     "name": "stdout",
     "output_type": "stream",
     "text": [
      "C:/Users/nisha/MACS/Internship/Data/XL_CarPedDataset_INT_v2_train_val/val\\detection\\xl_visual_session0000_00002433.vis.png\n",
      "C:/Users/nisha/MACS/Internship/Data/XL_CarPedDataset_INT_v2_train_val/val\\detection\\xl_visual_session0000_00002469.vis.png\n",
      "C:/Users/nisha/MACS/Internship/Data/XL_CarPedDataset_INT_v2_train_val/val\\detection\\xl_visual_session0000_00002474.vis.png\n",
      "C:/Users/nisha/MACS/Internship/Data/XL_CarPedDataset_INT_v2_train_val/val\\detection\\xl_visual_session0000_00002505.vis.png\n",
      "C:/Users/nisha/MACS/Internship/Data/XL_CarPedDataset_INT_v2_train_val/val\\detection\\xl_visual_session0000_00002514.vis.png\n",
      "C:/Users/nisha/MACS/Internship/Data/XL_CarPedDataset_INT_v2_train_val/val\\detection\\xl_visual_session0000_00002519.vis.png\n"
     ]
    },
    {
     "name": "stderr",
     "output_type": "stream",
     "text": [
      "  9%|███████▍                                                                       | 133/1412 [00:04<00:44, 28.43it/s]"
     ]
    },
    {
     "name": "stdout",
     "output_type": "stream",
     "text": [
      "C:/Users/nisha/MACS/Internship/Data/XL_CarPedDataset_INT_v2_train_val/val\\detection\\xl_visual_session0000_00002564.vis.png\n",
      "C:/Users/nisha/MACS/Internship/Data/XL_CarPedDataset_INT_v2_train_val/val\\detection\\xl_visual_session0000_00002617.vis.png\n",
      "C:/Users/nisha/MACS/Internship/Data/XL_CarPedDataset_INT_v2_train_val/val\\detection\\xl_visual_session0000_00002626.vis.png\n",
      "C:/Users/nisha/MACS/Internship/Data/XL_CarPedDataset_INT_v2_train_val/val\\detection\\xl_visual_session0000_00002639.vis.png\n",
      "C:/Users/nisha/MACS/Internship/Data/XL_CarPedDataset_INT_v2_train_val/val\\detection\\xl_visual_session0000_00002644.vis.png\n",
      "C:/Users/nisha/MACS/Internship/Data/XL_CarPedDataset_INT_v2_train_val/val\\detection\\xl_visual_session0000_00002671.vis.png\n"
     ]
    },
    {
     "name": "stderr",
     "output_type": "stream",
     "text": [
      " 10%|███████▊                                                                       | 139/1412 [00:04<00:48, 26.43it/s]"
     ]
    },
    {
     "name": "stdout",
     "output_type": "stream",
     "text": [
      "C:/Users/nisha/MACS/Internship/Data/XL_CarPedDataset_INT_v2_train_val/val\\detection\\xl_visual_session0000_00002680.vis.png\n",
      "C:/Users/nisha/MACS/Internship/Data/XL_CarPedDataset_INT_v2_train_val/val\\detection\\xl_visual_session0000_00002711.vis.png\n",
      "C:/Users/nisha/MACS/Internship/Data/XL_CarPedDataset_INT_v2_train_val/val\\detection\\xl_visual_session0000_00002756.vis.png\n",
      "C:/Users/nisha/MACS/Internship/Data/XL_CarPedDataset_INT_v2_train_val/val\\detection\\xl_visual_session0000_00002828.vis.png\n",
      "C:/Users/nisha/MACS/Internship/Data/XL_CarPedDataset_INT_v2_train_val/val\\detection\\xl_visual_session0000_00002846.vis.png\n"
     ]
    },
    {
     "name": "stderr",
     "output_type": "stream",
     "text": [
      " 10%|████████                                                                       | 145/1412 [00:04<00:50, 24.98it/s]"
     ]
    },
    {
     "name": "stdout",
     "output_type": "stream",
     "text": [
      "C:/Users/nisha/MACS/Internship/Data/XL_CarPedDataset_INT_v2_train_val/val\\detection\\xl_visual_session0000_00002967.vis.png\n",
      "C:/Users/nisha/MACS/Internship/Data/XL_CarPedDataset_INT_v2_train_val/val\\detection\\xl_visual_session0000_00002981.vis.png\n",
      "C:/Users/nisha/MACS/Internship/Data/XL_CarPedDataset_INT_v2_train_val/val\\detection\\xl_visual_session0000_00003003.vis.png\n",
      "C:/Users/nisha/MACS/Internship/Data/XL_CarPedDataset_INT_v2_train_val/val\\detection\\xl_visual_session0000_00003009.vis.png\n",
      "C:/Users/nisha/MACS/Internship/Data/XL_CarPedDataset_INT_v2_train_val/val\\detection\\xl_visual_session0000_00003063.vis.png\n"
     ]
    },
    {
     "name": "stderr",
     "output_type": "stream",
     "text": [
      "\r",
      " 10%|████████▎                                                                      | 148/1412 [00:04<00:50, 25.03it/s]"
     ]
    },
    {
     "name": "stdout",
     "output_type": "stream",
     "text": [
      "C:/Users/nisha/MACS/Internship/Data/XL_CarPedDataset_INT_v2_train_val/val\\detection\\xl_visual_session0000_00003069.vis.png\n",
      "C:/Users/nisha/MACS/Internship/Data/XL_CarPedDataset_INT_v2_train_val/val\\detection\\xl_visual_session0000_00003075.vis.png\n",
      "C:/Users/nisha/MACS/Internship/Data/XL_CarPedDataset_INT_v2_train_val/val\\detection\\xl_visual_session0000_00003085.vis.png\n",
      "C:/Users/nisha/MACS/Internship/Data/XL_CarPedDataset_INT_v2_train_val/val\\detection\\xl_visual_session0000_00003196.vis.png\n",
      "C:/Users/nisha/MACS/Internship/Data/XL_CarPedDataset_INT_v2_train_val/val\\detection\\xl_visual_session0001_00000010.vis.png\n"
     ]
    },
    {
     "name": "stderr",
     "output_type": "stream",
     "text": [
      " 11%|████████▌                                                                      | 154/1412 [00:04<00:48, 26.03it/s]"
     ]
    },
    {
     "name": "stdout",
     "output_type": "stream",
     "text": [
      "C:/Users/nisha/MACS/Internship/Data/XL_CarPedDataset_INT_v2_train_val/val\\detection\\xl_visual_session0001_00000039.vis.png\n",
      "C:/Users/nisha/MACS/Internship/Data/XL_CarPedDataset_INT_v2_train_val/val\\detection\\xl_visual_session0001_00000051.vis.png\n",
      "C:/Users/nisha/MACS/Internship/Data/XL_CarPedDataset_INT_v2_train_val/val\\detection\\xl_visual_session0001_00000089.vis.png\n",
      "C:/Users/nisha/MACS/Internship/Data/XL_CarPedDataset_INT_v2_train_val/val\\detection\\xl_visual_session0001_00000092.vis.png\n",
      "C:/Users/nisha/MACS/Internship/Data/XL_CarPedDataset_INT_v2_train_val/val\\detection\\xl_visual_session0001_00000112.vis.png\n",
      "C:/Users/nisha/MACS/Internship/Data/XL_CarPedDataset_INT_v2_train_val/val\\detection\\xl_visual_session0001_00000129.vis.png\n"
     ]
    },
    {
     "name": "stderr",
     "output_type": "stream",
     "text": [
      " 11%|█████████                                                                      | 161/1412 [00:05<00:46, 27.09it/s]"
     ]
    },
    {
     "name": "stdout",
     "output_type": "stream",
     "text": [
      "C:/Users/nisha/MACS/Internship/Data/XL_CarPedDataset_INT_v2_train_val/val\\detection\\xl_visual_session0001_00000145.vis.png\n",
      "C:/Users/nisha/MACS/Internship/Data/XL_CarPedDataset_INT_v2_train_val/val\\detection\\xl_visual_session0001_00000180.vis.png\n",
      "C:/Users/nisha/MACS/Internship/Data/XL_CarPedDataset_INT_v2_train_val/val\\detection\\xl_visual_session0001_00000280.vis.png\n",
      "C:/Users/nisha/MACS/Internship/Data/XL_CarPedDataset_INT_v2_train_val/val\\detection\\xl_visual_session0001_00000284.vis.png\n",
      "C:/Users/nisha/MACS/Internship/Data/XL_CarPedDataset_INT_v2_train_val/val\\detection\\xl_visual_session0001_00000305.vis.png\n",
      "C:/Users/nisha/MACS/Internship/Data/XL_CarPedDataset_INT_v2_train_val/val\\detection\\xl_visual_session0001_00000308.vis.png\n"
     ]
    },
    {
     "name": "stderr",
     "output_type": "stream",
     "text": [
      "\r",
      " 12%|█████████▏                                                                     | 164/1412 [00:05<00:49, 25.36it/s]"
     ]
    },
    {
     "name": "stdout",
     "output_type": "stream",
     "text": [
      "C:/Users/nisha/MACS/Internship/Data/XL_CarPedDataset_INT_v2_train_val/val\\detection\\xl_visual_session0001_00000319.vis.png\n",
      "C:/Users/nisha/MACS/Internship/Data/XL_CarPedDataset_INT_v2_train_val/val\\detection\\xl_visual_session0001_00000333.vis.png\n",
      "C:/Users/nisha/MACS/Internship/Data/XL_CarPedDataset_INT_v2_train_val/val\\detection\\xl_visual_session0001_00000340.vis.png\n",
      "C:/Users/nisha/MACS/Internship/Data/XL_CarPedDataset_INT_v2_train_val/val\\detection\\xl_visual_session0001_00000354.vis.png\n",
      "C:/Users/nisha/MACS/Internship/Data/XL_CarPedDataset_INT_v2_train_val/val\\detection\\xl_visual_session0001_00000357.vis.png\n"
     ]
    },
    {
     "name": "stderr",
     "output_type": "stream",
     "text": [
      " 12%|█████████▌                                                                     | 170/1412 [00:05<00:54, 22.74it/s]"
     ]
    },
    {
     "name": "stdout",
     "output_type": "stream",
     "text": [
      "C:/Users/nisha/MACS/Internship/Data/XL_CarPedDataset_INT_v2_train_val/val\\detection\\xl_visual_session0001_00000389.vis.png\n",
      "C:/Users/nisha/MACS/Internship/Data/XL_CarPedDataset_INT_v2_train_val/val\\detection\\xl_visual_session0001_00000403.vis.png\n",
      "C:/Users/nisha/MACS/Internship/Data/XL_CarPedDataset_INT_v2_train_val/val\\detection\\xl_visual_session0001_00000455.vis.png\n",
      "C:/Users/nisha/MACS/Internship/Data/XL_CarPedDataset_INT_v2_train_val/val\\detection\\xl_visual_session0001_00000473.vis.png\n",
      "C:/Users/nisha/MACS/Internship/Data/XL_CarPedDataset_INT_v2_train_val/val\\detection\\xl_visual_session0001_00000501.vis.png\n",
      "C:/Users/nisha/MACS/Internship/Data/XL_CarPedDataset_INT_v2_train_val/val\\detection\\xl_visual_session0001_00000511.vis.png"
     ]
    },
    {
     "name": "stderr",
     "output_type": "stream",
     "text": [
      "\r",
      " 12%|█████████▋                                                                     | 174/1412 [00:05<00:50, 24.36it/s]"
     ]
    },
    {
     "name": "stdout",
     "output_type": "stream",
     "text": [
      "\n",
      "C:/Users/nisha/MACS/Internship/Data/XL_CarPedDataset_INT_v2_train_val/val\\detection\\xl_visual_session0001_00000522.vis.png\n",
      "C:/Users/nisha/MACS/Internship/Data/XL_CarPedDataset_INT_v2_train_val/val\\detection\\xl_visual_session0001_00000532.vis.png\n",
      "C:/Users/nisha/MACS/Internship/Data/XL_CarPedDataset_INT_v2_train_val/val\\detection\\xl_visual_session0001_00000565.vis.png\n",
      "C:/Users/nisha/MACS/Internship/Data/XL_CarPedDataset_INT_v2_train_val/val\\detection\\xl_visual_session0001_00000598.vis.png\n"
     ]
    },
    {
     "name": "stderr",
     "output_type": "stream",
     "text": [
      " 13%|██████████▏                                                                    | 181/1412 [00:06<00:47, 25.67it/s]"
     ]
    },
    {
     "name": "stdout",
     "output_type": "stream",
     "text": [
      "C:/Users/nisha/MACS/Internship/Data/XL_CarPedDataset_INT_v2_train_val/val\\detection\\xl_visual_session0001_00000678.vis.png\n",
      "C:/Users/nisha/MACS/Internship/Data/XL_CarPedDataset_INT_v2_train_val/val\\detection\\xl_visual_session0001_00000735.vis.png\n",
      "C:/Users/nisha/MACS/Internship/Data/XL_CarPedDataset_INT_v2_train_val/val\\detection\\xl_visual_session0001_00000753.vis.png\n",
      "C:/Users/nisha/MACS/Internship/Data/XL_CarPedDataset_INT_v2_train_val/val\\detection\\xl_visual_session0001_00000757.vis.png\n",
      "C:/Users/nisha/MACS/Internship/Data/XL_CarPedDataset_INT_v2_train_val/val\\detection\\xl_visual_session0001_00000761.vis.png\n"
     ]
    },
    {
     "name": "stderr",
     "output_type": "stream",
     "text": [
      "\r",
      " 13%|██████████▎                                                                    | 184/1412 [00:06<00:50, 24.26it/s]"
     ]
    },
    {
     "name": "stdout",
     "output_type": "stream",
     "text": [
      "C:/Users/nisha/MACS/Internship/Data/XL_CarPedDataset_INT_v2_train_val/val\\detection\\xl_visual_session0001_00000797.vis.png\n",
      "C:/Users/nisha/MACS/Internship/Data/XL_CarPedDataset_INT_v2_train_val/val\\detection\\xl_visual_session0001_00000815.vis.png\n",
      "C:/Users/nisha/MACS/Internship/Data/XL_CarPedDataset_INT_v2_train_val/val\\detection\\xl_visual_session0001_00000827.vis.png\n",
      "C:/Users/nisha/MACS/Internship/Data/XL_CarPedDataset_INT_v2_train_val/val\\detection\\xl_visual_session0001_00000834.vis.png\n",
      "C:/Users/nisha/MACS/Internship/Data/XL_CarPedDataset_INT_v2_train_val/val\\detection\\xl_visual_session0001_00000844.vis.png\n"
     ]
    },
    {
     "name": "stderr",
     "output_type": "stream",
     "text": [
      " 14%|██████████▋                                                                    | 191/1412 [00:06<00:46, 26.08it/s]"
     ]
    },
    {
     "name": "stdout",
     "output_type": "stream",
     "text": [
      "C:/Users/nisha/MACS/Internship/Data/XL_CarPedDataset_INT_v2_train_val/val\\detection\\xl_visual_session0001_00000851.vis.png\n",
      "C:/Users/nisha/MACS/Internship/Data/XL_CarPedDataset_INT_v2_train_val/val\\detection\\xl_visual_session0001_00000865.vis.png\n",
      "C:/Users/nisha/MACS/Internship/Data/XL_CarPedDataset_INT_v2_train_val/val\\detection\\xl_visual_session0001_00000940.vis.png\n",
      "C:/Users/nisha/MACS/Internship/Data/XL_CarPedDataset_INT_v2_train_val/val\\detection\\xl_visual_session0001_00000951.vis.png\n",
      "C:/Users/nisha/MACS/Internship/Data/XL_CarPedDataset_INT_v2_train_val/val\\detection\\xl_visual_session0001_00000954.vis.png\n",
      "C:/Users/nisha/MACS/Internship/Data/XL_CarPedDataset_INT_v2_train_val/val\\detection\\xl_visual_session0001_00000957.vis.png\n",
      "C:/Users/nisha/MACS/Internship/Data/XL_CarPedDataset_INT_v2_train_val/val\\detection\\xl_visual_session0001_00000963.vis.png\n",
      "C:/Users/nisha/MACS/Internship/Data/XL_CarPedDataset_INT_v2_train_val/val\\detection\\xl_visual_session0001_00000990.vis.png\n"
     ]
    },
    {
     "name": "stderr",
     "output_type": "stream",
     "text": [
      " 14%|███████████▏                                                                   | 199/1412 [00:06<00:45, 26.71it/s]"
     ]
    },
    {
     "name": "stdout",
     "output_type": "stream",
     "text": [
      "C:/Users/nisha/MACS/Internship/Data/XL_CarPedDataset_INT_v2_train_val/val\\detection\\xl_visual_session0001_00001011.vis.png\n",
      "C:/Users/nisha/MACS/Internship/Data/XL_CarPedDataset_INT_v2_train_val/val\\detection\\xl_visual_session0001_00001023.vis.png\n",
      "C:/Users/nisha/MACS/Internship/Data/XL_CarPedDataset_INT_v2_train_val/val\\detection\\xl_visual_session0001_00001032.vis.png\n",
      "C:/Users/nisha/MACS/Internship/Data/XL_CarPedDataset_INT_v2_train_val/val\\detection\\xl_visual_session0001_00001038.vis.png\n",
      "C:/Users/nisha/MACS/Internship/Data/XL_CarPedDataset_INT_v2_train_val/val\\detection\\xl_visual_session0001_00001062.vis.png\n"
     ]
    },
    {
     "name": "stderr",
     "output_type": "stream",
     "text": [
      " 15%|███████████▍                                                                   | 205/1412 [00:06<00:44, 27.12it/s]"
     ]
    },
    {
     "name": "stdout",
     "output_type": "stream",
     "text": [
      "C:/Users/nisha/MACS/Internship/Data/XL_CarPedDataset_INT_v2_train_val/val\\detection\\xl_visual_session0002_00000006.vis.png\n",
      "C:/Users/nisha/MACS/Internship/Data/XL_CarPedDataset_INT_v2_train_val/val\\detection\\xl_visual_session0002_00000014.vis.png\n",
      "C:/Users/nisha/MACS/Internship/Data/XL_CarPedDataset_INT_v2_train_val/val\\detection\\xl_visual_session0002_00000034.vis.png\n",
      "C:/Users/nisha/MACS/Internship/Data/XL_CarPedDataset_INT_v2_train_val/val\\detection\\xl_visual_session0002_00000038.vis.png\n",
      "C:/Users/nisha/MACS/Internship/Data/XL_CarPedDataset_INT_v2_train_val/val\\detection\\xl_visual_session0002_00000042.vis.png\n",
      "C:/Users/nisha/MACS/Internship/Data/XL_CarPedDataset_INT_v2_train_val/val\\detection\\xl_visual_session0002_00000046.vis.png"
     ]
    },
    {
     "name": "stderr",
     "output_type": "stream",
     "text": [
      "\r",
      " 15%|███████████▋                                                                   | 208/1412 [00:07<00:43, 27.81it/s]"
     ]
    },
    {
     "name": "stdout",
     "output_type": "stream",
     "text": [
      "\n",
      "C:/Users/nisha/MACS/Internship/Data/XL_CarPedDataset_INT_v2_train_val/val\\detection\\xl_visual_session0002_00000075.vis.png\n",
      "C:/Users/nisha/MACS/Internship/Data/XL_CarPedDataset_INT_v2_train_val/val\\detection\\xl_visual_session0002_00000161.vis.png\n",
      "C:/Users/nisha/MACS/Internship/Data/XL_CarPedDataset_INT_v2_train_val/val\\detection\\xl_visual_session0002_00000229.vis.png\n",
      "C:/Users/nisha/MACS/Internship/Data/XL_CarPedDataset_INT_v2_train_val/val\\detection\\xl_visual_session0002_00000248.vis.png\n"
     ]
    },
    {
     "name": "stderr",
     "output_type": "stream",
     "text": [
      " 15%|███████████▉                                                                   | 214/1412 [00:07<00:48, 24.87it/s]"
     ]
    },
    {
     "name": "stdout",
     "output_type": "stream",
     "text": [
      "C:/Users/nisha/MACS/Internship/Data/XL_CarPedDataset_INT_v2_train_val/val\\detection\\xl_visual_session0002_00000320.vis.png\n",
      "C:/Users/nisha/MACS/Internship/Data/XL_CarPedDataset_INT_v2_train_val/val\\detection\\xl_visual_session0002_00000324.vis.png\n",
      "C:/Users/nisha/MACS/Internship/Data/XL_CarPedDataset_INT_v2_train_val/val\\detection\\xl_visual_session0002_00000341.vis.png\n",
      "C:/Users/nisha/MACS/Internship/Data/XL_CarPedDataset_INT_v2_train_val/val\\detection\\xl_visual_session0002_00000368.vis.png\n",
      "C:/Users/nisha/MACS/Internship/Data/XL_CarPedDataset_INT_v2_train_val/val\\detection\\xl_visual_session0002_00000377.vis.png\n"
     ]
    },
    {
     "name": "stderr",
     "output_type": "stream",
     "text": [
      "\r",
      " 15%|████████████▏                                                                  | 217/1412 [00:07<00:50, 23.78it/s]"
     ]
    },
    {
     "name": "stdout",
     "output_type": "stream",
     "text": [
      "C:/Users/nisha/MACS/Internship/Data/XL_CarPedDataset_INT_v2_train_val/val\\detection\\xl_visual_session0002_00000387.vis.png\n",
      "C:/Users/nisha/MACS/Internship/Data/XL_CarPedDataset_INT_v2_train_val/val\\detection\\xl_visual_session0002_00000406.vis.png\n",
      "C:/Users/nisha/MACS/Internship/Data/XL_CarPedDataset_INT_v2_train_val/val\\detection\\xl_visual_session0002_00000442.vis.png\n",
      "C:/Users/nisha/MACS/Internship/Data/XL_CarPedDataset_INT_v2_train_val/val\\detection\\xl_visual_session0002_00000447.vis.png\n",
      "C:/Users/nisha/MACS/Internship/Data/XL_CarPedDataset_INT_v2_train_val/val\\detection\\xl_visual_session0002_00000456.vis.png"
     ]
    },
    {
     "name": "stderr",
     "output_type": "stream",
     "text": [
      "\r",
      " 16%|████████████▎                                                                  | 220/1412 [00:07<00:57, 20.81it/s]"
     ]
    },
    {
     "name": "stdout",
     "output_type": "stream",
     "text": [
      "\n",
      "C:/Users/nisha/MACS/Internship/Data/XL_CarPedDataset_INT_v2_train_val/val\\detection\\xl_visual_session0002_00000475.vis.png\n",
      "C:/Users/nisha/MACS/Internship/Data/XL_CarPedDataset_INT_v2_train_val/val\\detection\\xl_visual_session0002_00000513.vis.png\n",
      "C:/Users/nisha/MACS/Internship/Data/XL_CarPedDataset_INT_v2_train_val/val\\detection\\xl_visual_session0002_00000517.vis.png\n"
     ]
    },
    {
     "name": "stderr",
     "output_type": "stream",
     "text": [
      " 16%|████████████▋                                                                  | 226/1412 [00:07<00:53, 22.25it/s]"
     ]
    },
    {
     "name": "stdout",
     "output_type": "stream",
     "text": [
      "C:/Users/nisha/MACS/Internship/Data/XL_CarPedDataset_INT_v2_train_val/val\\detection\\xl_visual_session0002_00000535.vis.png\n",
      "C:/Users/nisha/MACS/Internship/Data/XL_CarPedDataset_INT_v2_train_val/val\\detection\\xl_visual_session0002_00000558.vis.png\n",
      "C:/Users/nisha/MACS/Internship/Data/XL_CarPedDataset_INT_v2_train_val/val\\detection\\xl_visual_session0002_00000582.vis.png\n",
      "C:/Users/nisha/MACS/Internship/Data/XL_CarPedDataset_INT_v2_train_val/val\\detection\\xl_visual_session0002_00000604.vis.png\n",
      "C:/Users/nisha/MACS/Internship/Data/XL_CarPedDataset_INT_v2_train_val/val\\detection\\xl_visual_session0002_00000627.vis.png\n"
     ]
    },
    {
     "name": "stderr",
     "output_type": "stream",
     "text": [
      " 16%|████████████▉                                                                  | 232/1412 [00:08<00:50, 23.16it/s]"
     ]
    },
    {
     "name": "stdout",
     "output_type": "stream",
     "text": [
      "C:/Users/nisha/MACS/Internship/Data/XL_CarPedDataset_INT_v2_train_val/val\\detection\\xl_visual_session0002_00000662.vis.png\n",
      "C:/Users/nisha/MACS/Internship/Data/XL_CarPedDataset_INT_v2_train_val/val\\detection\\xl_visual_session0002_00000680.vis.png\n",
      "C:/Users/nisha/MACS/Internship/Data/XL_CarPedDataset_INT_v2_train_val/val\\detection\\xl_visual_session0002_00000702.vis.png\n",
      "C:/Users/nisha/MACS/Internship/Data/XL_CarPedDataset_INT_v2_train_val/val\\detection\\xl_visual_session0002_00000708.vis.png\n",
      "C:/Users/nisha/MACS/Internship/Data/XL_CarPedDataset_INT_v2_train_val/val\\detection\\xl_visual_session0002_00000720.vis.png\n"
     ]
    },
    {
     "name": "stderr",
     "output_type": "stream",
     "text": [
      "\r",
      " 17%|█████████████▏                                                                 | 235/1412 [00:08<00:48, 24.37it/s]"
     ]
    },
    {
     "name": "stdout",
     "output_type": "stream",
     "text": [
      "C:/Users/nisha/MACS/Internship/Data/XL_CarPedDataset_INT_v2_train_val/val\\detection\\xl_visual_session0002_00000731.vis.png\n",
      "C:/Users/nisha/MACS/Internship/Data/XL_CarPedDataset_INT_v2_train_val/val\\detection\\xl_visual_session0002_00000737.vis.png\n",
      "C:/Users/nisha/MACS/Internship/Data/XL_CarPedDataset_INT_v2_train_val/val\\detection\\xl_visual_session0002_00000773.vis.png\n",
      "C:/Users/nisha/MACS/Internship/Data/XL_CarPedDataset_INT_v2_train_val/val\\detection\\xl_visual_session0002_00000782.vis.png\n",
      "C:/Users/nisha/MACS/Internship/Data/XL_CarPedDataset_INT_v2_train_val/val\\detection\\xl_visual_session0002_00000814.vis.png\n"
     ]
    },
    {
     "name": "stderr",
     "output_type": "stream",
     "text": [
      " 17%|█████████████▍                                                                 | 241/1412 [00:08<00:55, 21.11it/s]"
     ]
    },
    {
     "name": "stdout",
     "output_type": "stream",
     "text": [
      "C:/Users/nisha/MACS/Internship/Data/XL_CarPedDataset_INT_v2_train_val/val\\detection\\xl_visual_session0002_00000864.vis.png\n",
      "C:/Users/nisha/MACS/Internship/Data/XL_CarPedDataset_INT_v2_train_val/val\\detection\\xl_visual_session0002_00000874.vis.png\n",
      "C:/Users/nisha/MACS/Internship/Data/XL_CarPedDataset_INT_v2_train_val/val\\detection\\xl_visual_session0002_00000893.vis.png\n",
      "C:/Users/nisha/MACS/Internship/Data/XL_CarPedDataset_INT_v2_train_val/val\\detection\\xl_visual_session0002_00000897.vis.png\n"
     ]
    },
    {
     "name": "stderr",
     "output_type": "stream",
     "text": [
      "\r",
      " 17%|█████████████▋                                                                 | 244/1412 [00:08<00:56, 20.69it/s]"
     ]
    },
    {
     "name": "stdout",
     "output_type": "stream",
     "text": [
      "C:/Users/nisha/MACS/Internship/Data/XL_CarPedDataset_INT_v2_train_val/val\\detection\\xl_visual_session0002_00000920.vis.png\n",
      "C:/Users/nisha/MACS/Internship/Data/XL_CarPedDataset_INT_v2_train_val/val\\detection\\xl_visual_session0002_00000930.vis.png\n",
      "C:/Users/nisha/MACS/Internship/Data/XL_CarPedDataset_INT_v2_train_val/val\\detection\\xl_visual_session0002_00000934.vis.png\n",
      "C:/Users/nisha/MACS/Internship/Data/XL_CarPedDataset_INT_v2_train_val/val\\detection\\xl_visual_session0002_00000948.vis.png\n",
      "C:/Users/nisha/MACS/Internship/Data/XL_CarPedDataset_INT_v2_train_val/val\\detection\\xl_visual_session0002_00000952.vis.png\n"
     ]
    },
    {
     "name": "stderr",
     "output_type": "stream",
     "text": [
      " 18%|██████████████                                                                 | 251/1412 [00:09<00:50, 22.78it/s]"
     ]
    },
    {
     "name": "stdout",
     "output_type": "stream",
     "text": [
      "C:/Users/nisha/MACS/Internship/Data/XL_CarPedDataset_INT_v2_train_val/val\\detection\\xl_visual_session0002_00000966.vis.png\n",
      "C:/Users/nisha/MACS/Internship/Data/XL_CarPedDataset_INT_v2_train_val/val\\detection\\xl_visual_session0002_00000988.vis.png\n",
      "C:/Users/nisha/MACS/Internship/Data/XL_CarPedDataset_INT_v2_train_val/val\\detection\\xl_visual_session0002_00001011.vis.png\n",
      "C:/Users/nisha/MACS/Internship/Data/XL_CarPedDataset_INT_v2_train_val/val\\detection\\xl_visual_session0002_00001020.vis.png\n",
      "C:/Users/nisha/MACS/Internship/Data/XL_CarPedDataset_INT_v2_train_val/val\\detection\\xl_visual_session0002_00001033.vis.png\n"
     ]
    },
    {
     "name": "stderr",
     "output_type": "stream",
     "text": [
      "\r",
      " 18%|██████████████▏                                                                | 254/1412 [00:09<00:49, 23.51it/s]"
     ]
    },
    {
     "name": "stdout",
     "output_type": "stream",
     "text": [
      "C:/Users/nisha/MACS/Internship/Data/XL_CarPedDataset_INT_v2_train_val/val\\detection\\xl_visual_session0002_00001096.vis.png\n",
      "C:/Users/nisha/MACS/Internship/Data/XL_CarPedDataset_INT_v2_train_val/val\\detection\\xl_visual_session0002_00001101.vis.png\n",
      "C:/Users/nisha/MACS/Internship/Data/XL_CarPedDataset_INT_v2_train_val/val\\detection\\xl_visual_session0002_00001119.vis.png\n",
      "C:/Users/nisha/MACS/Internship/Data/XL_CarPedDataset_INT_v2_train_val/val\\detection\\xl_visual_session0002_00001137.vis.png\n",
      "C:/Users/nisha/MACS/Internship/Data/XL_CarPedDataset_INT_v2_train_val/val\\detection\\xl_visual_session0002_00001141.vis.png\n"
     ]
    },
    {
     "name": "stderr",
     "output_type": "stream",
     "text": [
      " 18%|██████████████▌                                                                | 260/1412 [00:09<00:55, 20.87it/s]"
     ]
    },
    {
     "name": "stdout",
     "output_type": "stream",
     "text": [
      "C:/Users/nisha/MACS/Internship/Data/XL_CarPedDataset_INT_v2_train_val/val\\detection\\xl_visual_session0002_00001159.vis.png\n",
      "C:/Users/nisha/MACS/Internship/Data/XL_CarPedDataset_INT_v2_train_val/val\\detection\\xl_visual_session0002_00001182.vis.png\n",
      "C:/Users/nisha/MACS/Internship/Data/XL_CarPedDataset_INT_v2_train_val/val\\detection\\xl_visual_session0002_00001209.vis.png\n",
      "C:/Users/nisha/MACS/Internship/Data/XL_CarPedDataset_INT_v2_train_val/val\\detection\\xl_visual_session0002_00001263.vis.png\n",
      "C:/Users/nisha/MACS/Internship/Data/XL_CarPedDataset_INT_v2_train_val/val\\detection\\xl_visual_session0002_00001267.vis.png\n"
     ]
    },
    {
     "name": "stderr",
     "output_type": "stream",
     "text": [
      "\r",
      " 19%|██████████████▋                                                                | 263/1412 [00:09<00:54, 21.05it/s]"
     ]
    },
    {
     "name": "stdout",
     "output_type": "stream",
     "text": [
      "C:/Users/nisha/MACS/Internship/Data/XL_CarPedDataset_INT_v2_train_val/val\\detection\\xl_visual_session0002_00001276.vis.png\n",
      "C:/Users/nisha/MACS/Internship/Data/XL_CarPedDataset_INT_v2_train_val/val\\detection\\xl_visual_session0002_00001290.vis.png\n",
      "C:/Users/nisha/MACS/Internship/Data/XL_CarPedDataset_INT_v2_train_val/val\\detection\\xl_visual_session0002_00001303.vis.png\n",
      "C:/Users/nisha/MACS/Internship/Data/XL_CarPedDataset_INT_v2_train_val/val\\detection\\xl_visual_session0002_00001348.vis.png\n"
     ]
    },
    {
     "name": "stderr",
     "output_type": "stream",
     "text": [
      " 19%|███████████████                                                                | 269/1412 [00:09<00:51, 22.41it/s]"
     ]
    },
    {
     "name": "stdout",
     "output_type": "stream",
     "text": [
      "C:/Users/nisha/MACS/Internship/Data/XL_CarPedDataset_INT_v2_train_val/val\\detection\\xl_visual_session0002_00001353.vis.png\n",
      "C:/Users/nisha/MACS/Internship/Data/XL_CarPedDataset_INT_v2_train_val/val\\detection\\xl_visual_session0002_00001366.vis.png\n",
      "C:/Users/nisha/MACS/Internship/Data/XL_CarPedDataset_INT_v2_train_val/val\\detection\\xl_visual_session0002_00001407.vis.png\n",
      "C:/Users/nisha/MACS/Internship/Data/XL_CarPedDataset_INT_v2_train_val/val\\detection\\xl_visual_session0002_00001452.vis.png\n",
      "C:/Users/nisha/MACS/Internship/Data/XL_CarPedDataset_INT_v2_train_val/val\\detection\\xl_visual_session0002_00001479.vis.png\n",
      "C:/Users/nisha/MACS/Internship/Data/XL_CarPedDataset_INT_v2_train_val/val\\detection\\xl_visual_session0002_00001497.vis.png\n"
     ]
    },
    {
     "name": "stderr",
     "output_type": "stream",
     "text": [
      " 20%|███████████████▍                                                               | 277/1412 [00:10<00:41, 27.23it/s]"
     ]
    },
    {
     "name": "stdout",
     "output_type": "stream",
     "text": [
      "C:/Users/nisha/MACS/Internship/Data/XL_CarPedDataset_INT_v2_train_val/val\\detection\\xl_visual_session0002_00001535.vis.png\n",
      "C:/Users/nisha/MACS/Internship/Data/XL_CarPedDataset_INT_v2_train_val/val\\detection\\xl_visual_session0002_00001558.vis.png\n",
      "C:/Users/nisha/MACS/Internship/Data/XL_CarPedDataset_INT_v2_train_val/val\\detection\\xl_visual_session0002_00001563.vis.png\n",
      "C:/Users/nisha/MACS/Internship/Data/XL_CarPedDataset_INT_v2_train_val/val\\detection\\xl_visual_session0002_00001585.vis.png\n",
      "C:/Users/nisha/MACS/Internship/Data/XL_CarPedDataset_INT_v2_train_val/val\\detection\\xl_visual_session0002_00001599.vis.png\n",
      "C:/Users/nisha/MACS/Internship/Data/XL_CarPedDataset_INT_v2_train_val/val\\detection\\xl_visual_session0002_00001608.vis.png\n",
      "C:/Users/nisha/MACS/Internship/Data/XL_CarPedDataset_INT_v2_train_val/val\\detection\\xl_visual_session0002_00001612.vis.png\n",
      "C:/Users/nisha/MACS/Internship/Data/XL_CarPedDataset_INT_v2_train_val/val\\detection\\xl_visual_session0002_00001630.vis.png\n"
     ]
    },
    {
     "name": "stderr",
     "output_type": "stream",
     "text": [
      "\r",
      " 20%|███████████████▋                                                               | 281/1412 [00:10<00:40, 27.71it/s]"
     ]
    },
    {
     "name": "stdout",
     "output_type": "stream",
     "text": [
      "C:/Users/nisha/MACS/Internship/Data/XL_CarPedDataset_INT_v2_train_val/val\\detection\\xl_visual_session0002_00001635.vis.png\n",
      "C:/Users/nisha/MACS/Internship/Data/XL_CarPedDataset_INT_v2_train_val/val\\detection\\xl_visual_session0002_00001648.vis.png\n",
      "C:/Users/nisha/MACS/Internship/Data/XL_CarPedDataset_INT_v2_train_val/val\\detection\\xl_visual_session0002_00001662.vis.png\n",
      "C:/Users/nisha/MACS/Internship/Data/XL_CarPedDataset_INT_v2_train_val/val\\detection\\xl_visual_session0002_00001689.vis.png\n"
     ]
    },
    {
     "name": "stderr",
     "output_type": "stream",
     "text": [
      " 20%|████████████████                                                               | 287/1412 [00:10<00:45, 24.74it/s]"
     ]
    },
    {
     "name": "stdout",
     "output_type": "stream",
     "text": [
      "C:/Users/nisha/MACS/Internship/Data/XL_CarPedDataset_INT_v2_train_val/val\\detection\\xl_visual_session0002_00001702.vis.png\n",
      "C:/Users/nisha/MACS/Internship/Data/XL_CarPedDataset_INT_v2_train_val/val\\detection\\xl_visual_session0002_00001716.vis.png\n",
      "C:/Users/nisha/MACS/Internship/Data/XL_CarPedDataset_INT_v2_train_val/val\\detection\\xl_visual_session0002_00001725.vis.png\n",
      "C:/Users/nisha/MACS/Internship/Data/XL_CarPedDataset_INT_v2_train_val/val\\detection\\xl_visual_session0002_00001780.vis.png\n",
      "C:/Users/nisha/MACS/Internship/Data/XL_CarPedDataset_INT_v2_train_val/val\\detection\\xl_visual_session0002_00001784.vis.png\n",
      "C:/Users/nisha/MACS/Internship/Data/XL_CarPedDataset_INT_v2_train_val/val\\detection\\xl_visual_session0002_00001793.vis.png"
     ]
    },
    {
     "name": "stderr",
     "output_type": "stream",
     "text": [
      " 21%|████████████████▍                                                              | 293/1412 [00:10<00:44, 25.07it/s]"
     ]
    },
    {
     "name": "stdout",
     "output_type": "stream",
     "text": [
      "\n",
      "C:/Users/nisha/MACS/Internship/Data/XL_CarPedDataset_INT_v2_train_val/val\\detection\\xl_visual_session0002_00001861.vis.png\n",
      "C:/Users/nisha/MACS/Internship/Data/XL_CarPedDataset_INT_v2_train_val/val\\detection\\xl_visual_session0002_00001870.vis.png\n",
      "C:/Users/nisha/MACS/Internship/Data/XL_CarPedDataset_INT_v2_train_val/val\\detection\\xl_visual_session0002_00001874.vis.png\n",
      "C:/Users/nisha/MACS/Internship/Data/XL_CarPedDataset_INT_v2_train_val/val\\detection\\xl_visual_session0002_00001893.vis.png\n",
      "C:/Users/nisha/MACS/Internship/Data/XL_CarPedDataset_INT_v2_train_val/val\\detection\\xl_visual_session0002_00001921.vis.png\n"
     ]
    },
    {
     "name": "stderr",
     "output_type": "stream",
     "text": [
      " 21%|████████████████▋                                                              | 299/1412 [00:10<00:43, 25.40it/s]"
     ]
    },
    {
     "name": "stdout",
     "output_type": "stream",
     "text": [
      "C:/Users/nisha/MACS/Internship/Data/XL_CarPedDataset_INT_v2_train_val/val\\detection\\xl_visual_session0002_00001930.vis.png\n",
      "C:/Users/nisha/MACS/Internship/Data/XL_CarPedDataset_INT_v2_train_val/val\\detection\\xl_visual_session0002_00001935.vis.png\n",
      "C:/Users/nisha/MACS/Internship/Data/XL_CarPedDataset_INT_v2_train_val/val\\detection\\xl_visual_session0002_00001939.vis.png\n",
      "C:/Users/nisha/MACS/Internship/Data/XL_CarPedDataset_INT_v2_train_val/val\\detection\\xl_visual_session0002_00001944.vis.png\n",
      "C:/Users/nisha/MACS/Internship/Data/XL_CarPedDataset_INT_v2_train_val/val\\detection\\xl_visual_session0002_00001969.vis.png\n"
     ]
    },
    {
     "name": "stderr",
     "output_type": "stream",
     "text": [
      "\r",
      " 21%|████████████████▉                                                              | 302/1412 [00:11<00:51, 21.63it/s]"
     ]
    },
    {
     "name": "stdout",
     "output_type": "stream",
     "text": [
      "C:/Users/nisha/MACS/Internship/Data/XL_CarPedDataset_INT_v2_train_val/val\\detection\\xl_visual_session0002_00002001.vis.png\n",
      "C:/Users/nisha/MACS/Internship/Data/XL_CarPedDataset_INT_v2_train_val/val\\detection\\xl_visual_session0002_00002023.vis.png\n",
      "C:/Users/nisha/MACS/Internship/Data/XL_CarPedDataset_INT_v2_train_val/val\\detection\\xl_visual_session0002_00002055.vis.png\n",
      "C:/Users/nisha/MACS/Internship/Data/XL_CarPedDataset_INT_v2_train_val/val\\detection\\xl_visual_session0002_00002059.vis.png\n",
      "C:/Users/nisha/MACS/Internship/Data/XL_CarPedDataset_INT_v2_train_val/val\\detection\\xl_visual_session0002_00002095.vis.png\n"
     ]
    },
    {
     "name": "stderr",
     "output_type": "stream",
     "text": [
      " 22%|█████████████████▎                                                             | 310/1412 [00:11<00:45, 24.40it/s]"
     ]
    },
    {
     "name": "stdout",
     "output_type": "stream",
     "text": [
      "C:/Users/nisha/MACS/Internship/Data/XL_CarPedDataset_INT_v2_train_val/val\\detection\\xl_visual_session0002_00002117.vis.png\n",
      "C:/Users/nisha/MACS/Internship/Data/XL_CarPedDataset_INT_v2_train_val/val\\detection\\xl_visual_session0002_00002128.vis.png\n",
      "C:/Users/nisha/MACS/Internship/Data/XL_CarPedDataset_INT_v2_train_val/val\\detection\\xl_visual_session0002_00002155.vis.png\n",
      "C:/Users/nisha/MACS/Internship/Data/XL_CarPedDataset_INT_v2_train_val/val\\detection\\xl_visual_session0002_00002165.vis.png\n",
      "C:/Users/nisha/MACS/Internship/Data/XL_CarPedDataset_INT_v2_train_val/val\\detection\\xl_visual_session0002_00002179.vis.png\n",
      "C:/Users/nisha/MACS/Internship/Data/XL_CarPedDataset_INT_v2_train_val/val\\detection\\xl_visual_session0002_00002207.vis.png\n",
      "C:/Users/nisha/MACS/Internship/Data/XL_CarPedDataset_INT_v2_train_val/val\\detection\\xl_visual_session0002_00002225.vis.png\n",
      "C:/Users/nisha/MACS/Internship/Data/XL_CarPedDataset_INT_v2_train_val/val\\detection\\xl_visual_session0002_00002251.vis.png\n",
      "C:/Users/nisha/MACS/Internship/Data/XL_CarPedDataset_INT_v2_train_val/val\\detection\\xl_visual_session0002_00002295.vis.png\n"
     ]
    },
    {
     "name": "stderr",
     "output_type": "stream",
     "text": [
      " 23%|█████████████████▉                                                             | 320/1412 [00:11<00:34, 31.24it/s]"
     ]
    },
    {
     "name": "stdout",
     "output_type": "stream",
     "text": [
      "C:/Users/nisha/MACS/Internship/Data/XL_CarPedDataset_INT_v2_train_val/val\\detection\\xl_visual_session0002_00002363.vis.png\n",
      "C:/Users/nisha/MACS/Internship/Data/XL_CarPedDataset_INT_v2_train_val/val\\detection\\xl_visual_session0002_00002366.vis.png\n",
      "C:/Users/nisha/MACS/Internship/Data/XL_CarPedDataset_INT_v2_train_val/val\\detection\\xl_visual_session0002_00002389.vis.png\n",
      "C:/Users/nisha/MACS/Internship/Data/XL_CarPedDataset_INT_v2_train_val/val\\detection\\xl_visual_session0002_00002399.vis.png\n",
      "C:/Users/nisha/MACS/Internship/Data/XL_CarPedDataset_INT_v2_train_val/val\\detection\\xl_visual_session0002_00002424.vis.png\n",
      "C:/Users/nisha/MACS/Internship/Data/XL_CarPedDataset_INT_v2_train_val/val\\detection\\xl_visual_session0002_00002427.vis.png\n",
      "C:/Users/nisha/MACS/Internship/Data/XL_CarPedDataset_INT_v2_train_val/val\\detection\\xl_visual_session0002_00002441.vis.png\n",
      "C:/Users/nisha/MACS/Internship/Data/XL_CarPedDataset_INT_v2_train_val/val\\detection\\xl_visual_session0002_00002459.vis.png\n"
     ]
    },
    {
     "name": "stderr",
     "output_type": "stream",
     "text": [
      "\r",
      " 23%|██████████████████▏                                                            | 324/1412 [00:11<00:38, 28.57it/s]"
     ]
    },
    {
     "name": "stdout",
     "output_type": "stream",
     "text": [
      "C:/Users/nisha/MACS/Internship/Data/XL_CarPedDataset_INT_v2_train_val/val\\detection\\xl_visual_session0002_00002468.vis.png\n",
      "C:/Users/nisha/MACS/Internship/Data/XL_CarPedDataset_INT_v2_train_val/val\\detection\\xl_visual_session0002_00002562.vis.png\n",
      "C:/Users/nisha/MACS/Internship/Data/XL_CarPedDataset_INT_v2_train_val/val\\detection\\xl_visual_session0002_00002593.vis.png\n",
      "C:/Users/nisha/MACS/Internship/Data/XL_CarPedDataset_INT_v2_train_val/val\\detection\\xl_visual_session0002_00002607.vis.png\n",
      "C:/Users/nisha/MACS/Internship/Data/XL_CarPedDataset_INT_v2_train_val/val\\detection\\xl_visual_session0002_00002620.vis.png\n"
     ]
    },
    {
     "name": "stderr",
     "output_type": "stream",
     "text": [
      " 23%|██████████████████▌                                                            | 331/1412 [00:12<00:42, 25.27it/s]"
     ]
    },
    {
     "name": "stdout",
     "output_type": "stream",
     "text": [
      "C:/Users/nisha/MACS/Internship/Data/XL_CarPedDataset_INT_v2_train_val/val\\detection\\xl_visual_session0002_00002665.vis.png\n",
      "C:/Users/nisha/MACS/Internship/Data/XL_CarPedDataset_INT_v2_train_val/val\\detection\\xl_visual_session0002_00002704.vis.png\n",
      "C:/Users/nisha/MACS/Internship/Data/XL_CarPedDataset_INT_v2_train_val/val\\detection\\xl_visual_session0002_00002740.vis.png\n",
      "C:/Users/nisha/MACS/Internship/Data/XL_CarPedDataset_INT_v2_train_val/val\\detection\\xl_visual_session0002_00002824.vis.png\n",
      "C:/Users/nisha/MACS/Internship/Data/XL_CarPedDataset_INT_v2_train_val/val\\detection\\xl_visual_session0002_00002874.vis.png"
     ]
    },
    {
     "name": "stderr",
     "output_type": "stream",
     "text": [
      "\r",
      " 24%|██████████████████▋                                                            | 334/1412 [00:12<00:45, 23.63it/s]"
     ]
    },
    {
     "name": "stdout",
     "output_type": "stream",
     "text": [
      "\n",
      "C:/Users/nisha/MACS/Internship/Data/XL_CarPedDataset_INT_v2_train_val/val\\detection\\xl_visual_session0002_00002887.vis.png\n",
      "C:/Users/nisha/MACS/Internship/Data/XL_CarPedDataset_INT_v2_train_val/val\\detection\\xl_visual_session0002_00002896.vis.png\n",
      "C:/Users/nisha/MACS/Internship/Data/XL_CarPedDataset_INT_v2_train_val/val\\detection\\xl_visual_session0002_00002905.vis.png\n",
      "C:/Users/nisha/MACS/Internship/Data/XL_CarPedDataset_INT_v2_train_val/val\\detection\\xl_visual_session0002_00002950.vis.png\n"
     ]
    },
    {
     "name": "stderr",
     "output_type": "stream",
     "text": [
      " 24%|███████████████████                                                            | 340/1412 [00:12<00:46, 22.98it/s]"
     ]
    },
    {
     "name": "stdout",
     "output_type": "stream",
     "text": [
      "C:/Users/nisha/MACS/Internship/Data/XL_CarPedDataset_INT_v2_train_val/val\\detection\\xl_visual_session0002_00002956.vis.png\n",
      "C:/Users/nisha/MACS/Internship/Data/XL_CarPedDataset_INT_v2_train_val/val\\detection\\xl_visual_session0002_00002960.vis.png\n",
      "C:/Users/nisha/MACS/Internship/Data/XL_CarPedDataset_INT_v2_train_val/val\\detection\\xl_visual_session0002_00002978.vis.png\n",
      "C:/Users/nisha/MACS/Internship/Data/XL_CarPedDataset_INT_v2_train_val/val\\detection\\xl_visual_session0002_00002983.vis.png\n",
      "C:/Users/nisha/MACS/Internship/Data/XL_CarPedDataset_INT_v2_train_val/val\\detection\\xl_visual_session0002_00002988.vis.png\n"
     ]
    },
    {
     "name": "stderr",
     "output_type": "stream",
     "text": [
      "\r",
      " 24%|███████████████████▏                                                           | 343/1412 [00:12<00:46, 23.05it/s]"
     ]
    },
    {
     "name": "stdout",
     "output_type": "stream",
     "text": [
      "C:/Users/nisha/MACS/Internship/Data/XL_CarPedDataset_INT_v2_train_val/val\\detection\\xl_visual_session0002_00003006.vis.png\n",
      "C:/Users/nisha/MACS/Internship/Data/XL_CarPedDataset_INT_v2_train_val/val\\detection\\xl_visual_session0002_00003015.vis.png\n",
      "C:/Users/nisha/MACS/Internship/Data/XL_CarPedDataset_INT_v2_train_val/val\\detection\\xl_visual_session0002_00003042.vis.png\n",
      "C:/Users/nisha/MACS/Internship/Data/XL_CarPedDataset_INT_v2_train_val/val\\detection\\xl_visual_session0002_00003060.vis.png\n",
      "C:/Users/nisha/MACS/Internship/Data/XL_CarPedDataset_INT_v2_train_val/val\\detection\\xl_visual_session0002_00003065.vis.png\n"
     ]
    },
    {
     "name": "stderr",
     "output_type": "stream",
     "text": [
      " 25%|███████████████████▌                                                           | 349/1412 [00:12<00:45, 23.23it/s]"
     ]
    },
    {
     "name": "stdout",
     "output_type": "stream",
     "text": [
      "C:/Users/nisha/MACS/Internship/Data/XL_CarPedDataset_INT_v2_train_val/val\\detection\\xl_visual_session0002_00003069.vis.png\n",
      "C:/Users/nisha/MACS/Internship/Data/XL_CarPedDataset_INT_v2_train_val/val\\detection\\xl_visual_session0002_00003078.vis.png\n",
      "C:/Users/nisha/MACS/Internship/Data/XL_CarPedDataset_INT_v2_train_val/val\\detection\\xl_visual_session0002_00003087.vis.png\n",
      "C:/Users/nisha/MACS/Internship/Data/XL_CarPedDataset_INT_v2_train_val/val\\detection\\xl_visual_session0002_00003105.vis.png\n",
      "C:/Users/nisha/MACS/Internship/Data/XL_CarPedDataset_INT_v2_train_val/val\\detection\\xl_visual_session0002_00003110.vis.png\n",
      "C:/Users/nisha/MACS/Internship/Data/XL_CarPedDataset_INT_v2_train_val/val\\detection\\xl_visual_session0002_00003137.vis.png\n"
     ]
    },
    {
     "name": "stderr",
     "output_type": "stream",
     "text": [
      " 25%|███████████████████▉                                                           | 356/1412 [00:13<00:42, 24.97it/s]"
     ]
    },
    {
     "name": "stdout",
     "output_type": "stream",
     "text": [
      "C:/Users/nisha/MACS/Internship/Data/XL_CarPedDataset_INT_v2_train_val/val\\detection\\xl_visual_session0002_00003164.vis.png\n",
      "C:/Users/nisha/MACS/Internship/Data/XL_CarPedDataset_INT_v2_train_val/val\\detection\\xl_visual_session0002_00003191.vis.png\n",
      "C:/Users/nisha/MACS/Internship/Data/XL_CarPedDataset_INT_v2_train_val/val\\detection\\xl_visual_session0002_00003195.vis.png\n",
      "C:/Users/nisha/MACS/Internship/Data/XL_CarPedDataset_INT_v2_train_val/val\\detection\\xl_visual_session0002_00003200.vis.png\n",
      "C:/Users/nisha/MACS/Internship/Data/XL_CarPedDataset_INT_v2_train_val/val\\detection\\xl_visual_session0002_00003213.vis.png\n",
      "C:/Users/nisha/MACS/Internship/Data/XL_CarPedDataset_INT_v2_train_val/val\\detection\\xl_visual_session0002_00003222.vis.png\n"
     ]
    },
    {
     "name": "stderr",
     "output_type": "stream",
     "text": [
      " 26%|████████████████████▎                                                          | 363/1412 [00:13<00:37, 27.68it/s]"
     ]
    },
    {
     "name": "stdout",
     "output_type": "stream",
     "text": [
      "C:/Users/nisha/MACS/Internship/Data/XL_CarPedDataset_INT_v2_train_val/val\\detection\\xl_visual_session0002_00003231.vis.png\n",
      "C:/Users/nisha/MACS/Internship/Data/XL_CarPedDataset_INT_v2_train_val/val\\detection\\xl_visual_session0002_00003254.vis.png\n",
      "C:/Users/nisha/MACS/Internship/Data/XL_CarPedDataset_INT_v2_train_val/val\\detection\\xl_visual_session0002_00003281.vis.png\n",
      "C:/Users/nisha/MACS/Internship/Data/XL_CarPedDataset_INT_v2_train_val/val\\detection\\xl_visual_session0002_00003313.vis.png\n",
      "C:/Users/nisha/MACS/Internship/Data/XL_CarPedDataset_INT_v2_train_val/val\\detection\\xl_visual_session0002_00003385.vis.png\n",
      "C:/Users/nisha/MACS/Internship/Data/XL_CarPedDataset_INT_v2_train_val/val\\detection\\xl_visual_session0002_00003439.vis.png\n"
     ]
    },
    {
     "name": "stderr",
     "output_type": "stream",
     "text": [
      "\r",
      " 26%|████████████████████▍                                                          | 366/1412 [00:13<00:41, 24.97it/s]"
     ]
    },
    {
     "name": "stdout",
     "output_type": "stream",
     "text": [
      "C:/Users/nisha/MACS/Internship/Data/XL_CarPedDataset_INT_v2_train_val/val\\detection\\xl_visual_session0002_00003444.vis.png\n",
      "C:/Users/nisha/MACS/Internship/Data/XL_CarPedDataset_INT_v2_train_val/val\\detection\\xl_visual_session0002_00003453.vis.png\n",
      "C:/Users/nisha/MACS/Internship/Data/XL_CarPedDataset_INT_v2_train_val/val\\detection\\xl_visual_session0002_00003463.vis.png\n",
      "C:/Users/nisha/MACS/Internship/Data/XL_CarPedDataset_INT_v2_train_val/val\\detection\\xl_visual_session0002_00003465.vis.png\n",
      "C:/Users/nisha/MACS/Internship/Data/XL_CarPedDataset_INT_v2_train_val/val\\detection\\xl_visual_session0002_00003516.vis.png\n"
     ]
    },
    {
     "name": "stderr",
     "output_type": "stream",
     "text": [
      "\r",
      " 26%|████████████████████▋                                                          | 369/1412 [00:13<00:43, 23.70it/s]"
     ]
    },
    {
     "name": "stdout",
     "output_type": "stream",
     "text": [
      "C:/Users/nisha/MACS/Internship/Data/XL_CarPedDataset_INT_v2_train_val/val\\detection\\xl_visual_session0002_00003528.vis.png\n",
      "C:/Users/nisha/MACS/Internship/Data/XL_CarPedDataset_INT_v2_train_val/val\\detection\\xl_visual_session0002_00003537.vis.png\n",
      "C:/Users/nisha/MACS/Internship/Data/XL_CarPedDataset_INT_v2_train_val/val\\detection\\xl_visual_session0002_00003546.vis.png\n"
     ]
    },
    {
     "name": "stderr",
     "output_type": "stream",
     "text": [
      " 27%|████████████████████▉                                                          | 375/1412 [00:14<00:48, 21.50it/s]"
     ]
    },
    {
     "name": "stdout",
     "output_type": "stream",
     "text": [
      "C:/Users/nisha/MACS/Internship/Data/XL_CarPedDataset_INT_v2_train_val/val\\detection\\xl_visual_session0002_00003569.vis.png\n",
      "C:/Users/nisha/MACS/Internship/Data/XL_CarPedDataset_INT_v2_train_val/val\\detection\\xl_visual_session0002_00003572.vis.png\n",
      "C:/Users/nisha/MACS/Internship/Data/XL_CarPedDataset_INT_v2_train_val/val\\detection\\xl_visual_session0002_00003581.vis.png\n",
      "C:/Users/nisha/MACS/Internship/Data/XL_CarPedDataset_INT_v2_train_val/val\\detection\\xl_visual_session0002_00003589.vis.png\n",
      "C:/Users/nisha/MACS/Internship/Data/XL_CarPedDataset_INT_v2_train_val/val\\detection\\xl_visual_session0002_00003592.vis.png\n",
      "C:/Users/nisha/MACS/Internship/Data/XL_CarPedDataset_INT_v2_train_val/val\\detection\\xl_visual_session0002_00003621.vis.png\n"
     ]
    },
    {
     "name": "stderr",
     "output_type": "stream",
     "text": [
      " 27%|█████████████████████▎                                                         | 381/1412 [00:14<00:50, 20.53it/s]"
     ]
    },
    {
     "name": "stdout",
     "output_type": "stream",
     "text": [
      "C:/Users/nisha/MACS/Internship/Data/XL_CarPedDataset_INT_v2_train_val/val\\detection\\xl_visual_session0002_00003656.vis.png\n",
      "C:/Users/nisha/MACS/Internship/Data/XL_CarPedDataset_INT_v2_train_val/val\\detection\\xl_visual_session0002_00003665.vis.png\n",
      "C:/Users/nisha/MACS/Internship/Data/XL_CarPedDataset_INT_v2_train_val/val\\detection\\xl_visual_session0002_00003686.vis.png\n",
      "C:/Users/nisha/MACS/Internship/Data/XL_CarPedDataset_INT_v2_train_val/val\\detection\\xl_visual_session0002_00003715.vis.png\n"
     ]
    },
    {
     "name": "stderr",
     "output_type": "stream",
     "text": [
      "\r",
      " 27%|█████████████████████▍                                                         | 384/1412 [00:14<00:54, 18.93it/s]"
     ]
    },
    {
     "name": "stdout",
     "output_type": "stream",
     "text": [
      "C:/Users/nisha/MACS/Internship/Data/XL_CarPedDataset_INT_v2_train_val/val\\detection\\xl_visual_session0002_00003721.vis.png\n",
      "C:/Users/nisha/MACS/Internship/Data/XL_CarPedDataset_INT_v2_train_val/val\\detection\\xl_visual_session0002_00003727.vis.png\n",
      "C:/Users/nisha/MACS/Internship/Data/XL_CarPedDataset_INT_v2_train_val/val\\detection\\xl_visual_session0002_00003732.vis.png\n",
      "C:/Users/nisha/MACS/Internship/Data/XL_CarPedDataset_INT_v2_train_val/val\\detection\\xl_visual_session0002_00003756.vis.png\n"
     ]
    },
    {
     "name": "stderr",
     "output_type": "stream",
     "text": [
      "\r",
      " 27%|█████████████████████▋                                                         | 387/1412 [00:14<00:59, 17.19it/s]"
     ]
    },
    {
     "name": "stdout",
     "output_type": "stream",
     "text": [
      "C:/Users/nisha/MACS/Internship/Data/XL_CarPedDataset_INT_v2_train_val/val\\detection\\xl_visual_session0002_00003759.vis.png\n",
      "C:/Users/nisha/MACS/Internship/Data/XL_CarPedDataset_INT_v2_train_val/val\\detection\\xl_visual_session0002_00003786.vis.png\n",
      "C:/Users/nisha/MACS/Internship/Data/XL_CarPedDataset_INT_v2_train_val/val\\detection\\xl_visual_session0002_00003789.vis.png\n",
      "C:/Users/nisha/MACS/Internship/Data/XL_CarPedDataset_INT_v2_train_val/val\\detection\\xl_visual_session0002_00003792.vis.png\n"
     ]
    },
    {
     "name": "stderr",
     "output_type": "stream",
     "text": [
      " 28%|█████████████████████▉                                                         | 393/1412 [00:15<00:50, 19.99it/s]"
     ]
    },
    {
     "name": "stdout",
     "output_type": "stream",
     "text": [
      "C:/Users/nisha/MACS/Internship/Data/XL_CarPedDataset_INT_v2_train_val/val\\detection\\xl_visual_session0002_00003811.vis.png\n",
      "C:/Users/nisha/MACS/Internship/Data/XL_CarPedDataset_INT_v2_train_val/val\\detection\\xl_visual_session0002_00003821.vis.png\n",
      "C:/Users/nisha/MACS/Internship/Data/XL_CarPedDataset_INT_v2_train_val/val\\detection\\xl_visual_session0002_00003830.vis.png\n",
      "C:/Users/nisha/MACS/Internship/Data/XL_CarPedDataset_INT_v2_train_val/val\\detection\\xl_visual_session0002_00003833.vis.png\n",
      "C:/Users/nisha/MACS/Internship/Data/XL_CarPedDataset_INT_v2_train_val/val\\detection\\xl_visual_session0003_00000006.vis.png\n",
      "C:/Users/nisha/MACS/Internship/Data/XL_CarPedDataset_INT_v2_train_val/val\\detection\\xl_visual_session0003_00000026.vis.png\n"
     ]
    },
    {
     "name": "stderr",
     "output_type": "stream",
     "text": [
      " 28%|██████████████████████▎                                                        | 399/1412 [00:15<00:44, 22.78it/s]"
     ]
    },
    {
     "name": "stdout",
     "output_type": "stream",
     "text": [
      "C:/Users/nisha/MACS/Internship/Data/XL_CarPedDataset_INT_v2_train_val/val\\detection\\xl_visual_session0003_00000030.vis.png\n",
      "C:/Users/nisha/MACS/Internship/Data/XL_CarPedDataset_INT_v2_train_val/val\\detection\\xl_visual_session0003_00000088.vis.png\n",
      "C:/Users/nisha/MACS/Internship/Data/XL_CarPedDataset_INT_v2_train_val/val\\detection\\xl_visual_session0003_00000102.vis.png\n",
      "C:/Users/nisha/MACS/Internship/Data/XL_CarPedDataset_INT_v2_train_val/val\\detection\\xl_visual_session0003_00000107.vis.png\n",
      "C:/Users/nisha/MACS/Internship/Data/XL_CarPedDataset_INT_v2_train_val/val\\detection\\xl_visual_session0003_00000117.vis.png\n",
      "C:/Users/nisha/MACS/Internship/Data/XL_CarPedDataset_INT_v2_train_val/val\\detection\\xl_visual_session0003_00000173.vis.png\n"
     ]
    },
    {
     "name": "stderr",
     "output_type": "stream",
     "text": [
      " 29%|██████████████████████▋                                                        | 405/1412 [00:15<00:41, 24.17it/s]"
     ]
    },
    {
     "name": "stdout",
     "output_type": "stream",
     "text": [
      "C:/Users/nisha/MACS/Internship/Data/XL_CarPedDataset_INT_v2_train_val/val\\detection\\xl_visual_session0003_00000208.vis.png\n",
      "C:/Users/nisha/MACS/Internship/Data/XL_CarPedDataset_INT_v2_train_val/val\\detection\\xl_visual_session0003_00000213.vis.png\n",
      "C:/Users/nisha/MACS/Internship/Data/XL_CarPedDataset_INT_v2_train_val/val\\detection\\xl_visual_session0003_00000228.vis.png\n",
      "C:/Users/nisha/MACS/Internship/Data/XL_CarPedDataset_INT_v2_train_val/val\\detection\\xl_visual_session0003_00000238.vis.png\n"
     ]
    },
    {
     "name": "stderr",
     "output_type": "stream",
     "text": [
      "\r",
      " 29%|██████████████████████▊                                                        | 408/1412 [00:15<00:48, 20.66it/s]"
     ]
    },
    {
     "name": "stdout",
     "output_type": "stream",
     "text": [
      "C:/Users/nisha/MACS/Internship/Data/XL_CarPedDataset_INT_v2_train_val/val\\detection\\xl_visual_session0003_00000248.vis.png\n",
      "C:/Users/nisha/MACS/Internship/Data/XL_CarPedDataset_INT_v2_train_val/val\\detection\\xl_visual_session0003_00000258.vis.png\n",
      "C:/Users/nisha/MACS/Internship/Data/XL_CarPedDataset_INT_v2_train_val/val\\detection\\xl_visual_session0003_00000268.vis.png\n",
      "C:/Users/nisha/MACS/Internship/Data/XL_CarPedDataset_INT_v2_train_val/val\\detection\\xl_visual_session0003_00000331.vis.png\n"
     ]
    },
    {
     "name": "stderr",
     "output_type": "stream",
     "text": [
      " 29%|███████████████████████▏                                                       | 414/1412 [00:15<00:44, 22.66it/s]"
     ]
    },
    {
     "name": "stdout",
     "output_type": "stream",
     "text": [
      "C:/Users/nisha/MACS/Internship/Data/XL_CarPedDataset_INT_v2_train_val/val\\detection\\xl_visual_session0003_00000335.vis.png\n",
      "C:/Users/nisha/MACS/Internship/Data/XL_CarPedDataset_INT_v2_train_val/val\\detection\\xl_visual_session0003_00000359.vis.png\n",
      "C:/Users/nisha/MACS/Internship/Data/XL_CarPedDataset_INT_v2_train_val/val\\detection\\xl_visual_session0003_00000373.vis.png\n",
      "C:/Users/nisha/MACS/Internship/Data/XL_CarPedDataset_INT_v2_train_val/val\\detection\\xl_visual_session0003_00000387.vis.png\n",
      "C:/Users/nisha/MACS/Internship/Data/XL_CarPedDataset_INT_v2_train_val/val\\detection\\xl_visual_session0003_00000400.vis.png\n",
      "C:/Users/nisha/MACS/Internship/Data/XL_CarPedDataset_INT_v2_train_val/val\\detection\\xl_visual_session0003_00000417.vis.png\n"
     ]
    },
    {
     "name": "stderr",
     "output_type": "stream",
     "text": [
      " 30%|███████████████████████▍                                                       | 420/1412 [00:16<00:39, 24.95it/s]"
     ]
    },
    {
     "name": "stdout",
     "output_type": "stream",
     "text": [
      "C:/Users/nisha/MACS/Internship/Data/XL_CarPedDataset_INT_v2_train_val/val\\detection\\xl_visual_session0003_00000431.vis.png\n",
      "C:/Users/nisha/MACS/Internship/Data/XL_CarPedDataset_INT_v2_train_val/val\\detection\\xl_visual_session0003_00000434.vis.png\n",
      "C:/Users/nisha/MACS/Internship/Data/XL_CarPedDataset_INT_v2_train_val/val\\detection\\xl_visual_session0003_00000458.vis.png\n",
      "C:/Users/nisha/MACS/Internship/Data/XL_CarPedDataset_INT_v2_train_val/val\\detection\\xl_visual_session0003_00000467.vis.png\n",
      "C:/Users/nisha/MACS/Internship/Data/XL_CarPedDataset_INT_v2_train_val/val\\detection\\xl_visual_session0003_00000479.vis.png\n"
     ]
    },
    {
     "name": "stderr",
     "output_type": "stream",
     "text": [
      "\r",
      " 30%|███████████████████████▋                                                       | 423/1412 [00:16<00:45, 21.66it/s]"
     ]
    },
    {
     "name": "stdout",
     "output_type": "stream",
     "text": [
      "C:/Users/nisha/MACS/Internship/Data/XL_CarPedDataset_INT_v2_train_val/val\\detection\\xl_visual_session0003_00000512.vis.png\n",
      "C:/Users/nisha/MACS/Internship/Data/XL_CarPedDataset_INT_v2_train_val/val\\detection\\xl_visual_session0003_00000519.vis.png\n",
      "C:/Users/nisha/MACS/Internship/Data/XL_CarPedDataset_INT_v2_train_val/val\\detection\\xl_visual_session0003_00000526.vis.png\n",
      "C:/Users/nisha/MACS/Internship/Data/XL_CarPedDataset_INT_v2_train_val/val\\detection\\xl_visual_session0003_00000568.vis.png\n",
      "C:/Users/nisha/MACS/Internship/Data/XL_CarPedDataset_INT_v2_train_val/val\\detection\\xl_visual_session0003_00000575.vis.png\n"
     ]
    },
    {
     "name": "stderr",
     "output_type": "stream",
     "text": [
      " 30%|████████████████████████                                                       | 429/1412 [00:16<00:45, 21.53it/s]"
     ]
    },
    {
     "name": "stdout",
     "output_type": "stream",
     "text": [
      "C:/Users/nisha/MACS/Internship/Data/XL_CarPedDataset_INT_v2_train_val/val\\detection\\xl_visual_session0003_00000622.vis.png\n",
      "C:/Users/nisha/MACS/Internship/Data/XL_CarPedDataset_INT_v2_train_val/val\\detection\\xl_visual_session0003_00000628.vis.png\n",
      "C:/Users/nisha/MACS/Internship/Data/XL_CarPedDataset_INT_v2_train_val/val\\detection\\xl_visual_session0003_00000635.vis.png\n",
      "C:/Users/nisha/MACS/Internship/Data/XL_CarPedDataset_INT_v2_train_val/val\\detection\\xl_visual_session0003_00000642.vis.png\n"
     ]
    },
    {
     "name": "stderr",
     "output_type": "stream",
     "text": [
      "\r",
      " 31%|████████████████████████▏                                                      | 432/1412 [00:16<00:49, 20.00it/s]"
     ]
    },
    {
     "name": "stdout",
     "output_type": "stream",
     "text": [
      "C:/Users/nisha/MACS/Internship/Data/XL_CarPedDataset_INT_v2_train_val/val\\detection\\xl_visual_session0003_00000663.vis.png\n",
      "C:/Users/nisha/MACS/Internship/Data/XL_CarPedDataset_INT_v2_train_val/val\\detection\\xl_visual_session0003_00000684.vis.png\n",
      "C:/Users/nisha/MACS/Internship/Data/XL_CarPedDataset_INT_v2_train_val/val\\detection\\xl_visual_session0003_00000764.vis.png\n",
      "C:/Users/nisha/MACS/Internship/Data/XL_CarPedDataset_INT_v2_train_val/val\\detection\\xl_visual_session0003_00000810.vis.png\n",
      "C:/Users/nisha/MACS/Internship/Data/XL_CarPedDataset_INT_v2_train_val/val\\detection\\xl_visual_session0003_00000828.vis.png\n"
     ]
    },
    {
     "name": "stderr",
     "output_type": "stream",
     "text": [
      " 31%|████████████████████████▌                                                      | 438/1412 [00:17<00:45, 21.62it/s]"
     ]
    },
    {
     "name": "stdout",
     "output_type": "stream",
     "text": [
      "C:/Users/nisha/MACS/Internship/Data/XL_CarPedDataset_INT_v2_train_val/val\\detection\\xl_visual_session0003_00000841.vis.png\n",
      "C:/Users/nisha/MACS/Internship/Data/XL_CarPedDataset_INT_v2_train_val/val\\detection\\xl_visual_session0003_00000886.vis.png\n",
      "C:/Users/nisha/MACS/Internship/Data/XL_CarPedDataset_INT_v2_train_val/val\\detection\\xl_visual_session0003_00000891.vis.png\n",
      "C:/Users/nisha/MACS/Internship/Data/XL_CarPedDataset_INT_v2_train_val/val\\detection\\xl_visual_session0003_00000902.vis.png\n",
      "C:/Users/nisha/MACS/Internship/Data/XL_CarPedDataset_INT_v2_train_val/val\\detection\\xl_visual_session0003_00000966.vis.png\n",
      "C:/Users/nisha/MACS/Internship/Data/XL_CarPedDataset_INT_v2_train_val/val\\detection\\xl_visual_session0003_00000976.vis.png\n"
     ]
    },
    {
     "name": "stderr",
     "output_type": "stream",
     "text": [
      " 32%|█████████████████████████                                                      | 447/1412 [00:17<00:33, 28.48it/s]"
     ]
    },
    {
     "name": "stdout",
     "output_type": "stream",
     "text": [
      "C:/Users/nisha/MACS/Internship/Data/XL_CarPedDataset_INT_v2_train_val/val\\detection\\xl_visual_session0003_00000995.vis.png\n",
      "C:/Users/nisha/MACS/Internship/Data/XL_CarPedDataset_INT_v2_train_val/val\\detection\\xl_visual_session0003_00001014.vis.png\n",
      "C:/Users/nisha/MACS/Internship/Data/XL_CarPedDataset_INT_v2_train_val/val\\detection\\xl_visual_session0003_00001020.vis.png\n",
      "C:/Users/nisha/MACS/Internship/Data/XL_CarPedDataset_INT_v2_train_val/val\\detection\\xl_visual_session0003_00001078.vis.png\n",
      "C:/Users/nisha/MACS/Internship/Data/XL_CarPedDataset_INT_v2_train_val/val\\detection\\xl_visual_session0003_00001123.vis.png\n",
      "C:/Users/nisha/MACS/Internship/Data/XL_CarPedDataset_INT_v2_train_val/val\\detection\\xl_visual_session0003_00001127.vis.png\n",
      "C:/Users/nisha/MACS/Internship/Data/XL_CarPedDataset_INT_v2_train_val/val\\detection\\xl_visual_session0003_00001151.vis.png\n",
      "C:/Users/nisha/MACS/Internship/Data/XL_CarPedDataset_INT_v2_train_val/val\\detection\\xl_visual_session0003_00001213.vis.png\n"
     ]
    },
    {
     "name": "stderr",
     "output_type": "stream",
     "text": [
      "\r",
      " 32%|█████████████████████████▏                                                     | 451/1412 [00:17<00:32, 29.72it/s]"
     ]
    },
    {
     "name": "stdout",
     "output_type": "stream",
     "text": [
      "C:/Users/nisha/MACS/Internship/Data/XL_CarPedDataset_INT_v2_train_val/val\\detection\\xl_visual_session0003_00001249.vis.png\n",
      "C:/Users/nisha/MACS/Internship/Data/XL_CarPedDataset_INT_v2_train_val/val\\detection\\xl_visual_session0003_00001258.vis.png\n",
      "C:/Users/nisha/MACS/Internship/Data/XL_CarPedDataset_INT_v2_train_val/val\\detection\\xl_visual_session0003_00001262.vis.png\n",
      "C:/Users/nisha/MACS/Internship/Data/XL_CarPedDataset_INT_v2_train_val/val\\detection\\xl_visual_session0003_00001330.vis.png\n",
      "C:/Users/nisha/MACS/Internship/Data/XL_CarPedDataset_INT_v2_train_val/val\\detection\\xl_visual_session0003_00001348.vis.png\n"
     ]
    },
    {
     "name": "stderr",
     "output_type": "stream",
     "text": [
      " 33%|█████████████████████████▋                                                     | 459/1412 [00:17<00:35, 27.15it/s]"
     ]
    },
    {
     "name": "stdout",
     "output_type": "stream",
     "text": [
      "C:/Users/nisha/MACS/Internship/Data/XL_CarPedDataset_INT_v2_train_val/val\\detection\\xl_visual_session0003_00001358.vis.png\n",
      "C:/Users/nisha/MACS/Internship/Data/XL_CarPedDataset_INT_v2_train_val/val\\detection\\xl_visual_session0003_00001361.vis.png\n",
      "C:/Users/nisha/MACS/Internship/Data/XL_CarPedDataset_INT_v2_train_val/val\\detection\\xl_visual_session0003_00001371.vis.png\n",
      "C:/Users/nisha/MACS/Internship/Data/XL_CarPedDataset_INT_v2_train_val/val\\detection\\xl_visual_session0003_00001413.vis.png\n",
      "C:/Users/nisha/MACS/Internship/Data/XL_CarPedDataset_INT_v2_train_val/val\\detection\\xl_visual_session0003_00001436.vis.png\n"
     ]
    },
    {
     "name": "stderr",
     "output_type": "stream",
     "text": [
      "\r",
      " 33%|█████████████████████████▊                                                     | 462/1412 [00:17<00:34, 27.85it/s]"
     ]
    },
    {
     "name": "stdout",
     "output_type": "stream",
     "text": [
      "C:/Users/nisha/MACS/Internship/Data/XL_CarPedDataset_INT_v2_train_val/val\\detection\\xl_visual_session0003_00001439.vis.png\n",
      "C:/Users/nisha/MACS/Internship/Data/XL_CarPedDataset_INT_v2_train_val/val\\detection\\xl_visual_session0003_00001449.vis.png\n",
      "C:/Users/nisha/MACS/Internship/Data/XL_CarPedDataset_INT_v2_train_val/val\\detection\\xl_visual_session0003_00001452.vis.png\n",
      "C:/Users/nisha/MACS/Internship/Data/XL_CarPedDataset_INT_v2_train_val/val\\detection\\xl_visual_session0003_00001458.vis.png\n",
      "C:/Users/nisha/MACS/Internship/Data/XL_CarPedDataset_INT_v2_train_val/val\\detection\\xl_visual_session0003_00001467.vis.png\n",
      "C:/Users/nisha/MACS/Internship/Data/XL_CarPedDataset_INT_v2_train_val/val\\detection\\xl_visual_session0003_00001472.vis.png\n"
     ]
    },
    {
     "name": "stderr",
     "output_type": "stream",
     "text": [
      " 33%|██████████████████████████▏                                                    | 469/1412 [00:18<00:34, 27.44it/s]"
     ]
    },
    {
     "name": "stdout",
     "output_type": "stream",
     "text": [
      "C:/Users/nisha/MACS/Internship/Data/XL_CarPedDataset_INT_v2_train_val/val\\detection\\xl_visual_session0003_00001489.vis.png\n",
      "C:/Users/nisha/MACS/Internship/Data/XL_CarPedDataset_INT_v2_train_val/val\\detection\\xl_visual_session0003_00001491.vis.png\n",
      "C:/Users/nisha/MACS/Internship/Data/XL_CarPedDataset_INT_v2_train_val/val\\detection\\xl_visual_session0003_00001496.vis.png\n",
      "C:/Users/nisha/MACS/Internship/Data/XL_CarPedDataset_INT_v2_train_val/val\\detection\\xl_visual_session0003_00001498.vis.png\n",
      "C:/Users/nisha/MACS/Internship/Data/XL_CarPedDataset_INT_v2_train_val/val\\detection\\xl_visual_session0003_00001517.vis.png\n"
     ]
    },
    {
     "name": "stderr",
     "output_type": "stream",
     "text": [
      "\r",
      " 33%|██████████████████████████▍                                                    | 472/1412 [00:18<00:44, 21.22it/s]"
     ]
    },
    {
     "name": "stdout",
     "output_type": "stream",
     "text": [
      "C:/Users/nisha/MACS/Internship/Data/XL_CarPedDataset_INT_v2_train_val/val\\detection\\xl_visual_session0003_00001533.vis.png\n",
      "C:/Users/nisha/MACS/Internship/Data/XL_CarPedDataset_INT_v2_train_val/val\\detection\\xl_visual_session0003_00001535.vis.png\n",
      "C:/Users/nisha/MACS/Internship/Data/XL_CarPedDataset_INT_v2_train_val/val\\detection\\xl_visual_session0003_00001552.vis.png\n",
      "C:/Users/nisha/MACS/Internship/Data/XL_CarPedDataset_INT_v2_train_val/val\\detection\\xl_visual_session0003_00001558.vis.png\n"
     ]
    },
    {
     "name": "stderr",
     "output_type": "stream",
     "text": [
      " 34%|██████████████████████████▋                                                    | 478/1412 [00:18<00:40, 22.98it/s]"
     ]
    },
    {
     "name": "stdout",
     "output_type": "stream",
     "text": [
      "C:/Users/nisha/MACS/Internship/Data/XL_CarPedDataset_INT_v2_train_val/val\\detection\\xl_visual_session0003_00001615.vis.png\n",
      "C:/Users/nisha/MACS/Internship/Data/XL_CarPedDataset_INT_v2_train_val/val\\detection\\xl_visual_session0003_00001650.vis.png\n",
      "C:/Users/nisha/MACS/Internship/Data/XL_CarPedDataset_INT_v2_train_val/val\\detection\\xl_visual_session0003_00001678.vis.png\n",
      "C:/Users/nisha/MACS/Internship/Data/XL_CarPedDataset_INT_v2_train_val/val\\detection\\xl_visual_session0003_00001707.vis.png\n",
      "C:/Users/nisha/MACS/Internship/Data/XL_CarPedDataset_INT_v2_train_val/val\\detection\\xl_visual_session0003_00001727.vis.png\n",
      "C:/Users/nisha/MACS/Internship/Data/XL_CarPedDataset_INT_v2_train_val/val\\detection\\xl_visual_session0003_00001731.vis.png\n"
     ]
    },
    {
     "name": "stderr",
     "output_type": "stream",
     "text": [
      " 34%|███████████████████████████                                                    | 484/1412 [00:18<00:40, 23.03it/s]"
     ]
    },
    {
     "name": "stdout",
     "output_type": "stream",
     "text": [
      "C:/Users/nisha/MACS/Internship/Data/XL_CarPedDataset_INT_v2_train_val/val\\detection\\xl_visual_session0003_00001760.vis.png\n",
      "C:/Users/nisha/MACS/Internship/Data/XL_CarPedDataset_INT_v2_train_val/val\\detection\\xl_visual_session0003_00001764.vis.png\n",
      "C:/Users/nisha/MACS/Internship/Data/XL_CarPedDataset_INT_v2_train_val/val\\detection\\xl_visual_session0003_00001774.vis.png\n",
      "C:/Users/nisha/MACS/Internship/Data/XL_CarPedDataset_INT_v2_train_val/val\\detection\\xl_visual_session0003_00001779.vis.png\n",
      "C:/Users/nisha/MACS/Internship/Data/XL_CarPedDataset_INT_v2_train_val/val\\detection\\xl_visual_session0003_00001788.vis.png\n"
     ]
    },
    {
     "name": "stderr",
     "output_type": "stream",
     "text": [
      "\r",
      " 34%|███████████████████████████▏                                                   | 487/1412 [00:18<00:38, 23.77it/s]"
     ]
    },
    {
     "name": "stdout",
     "output_type": "stream",
     "text": [
      "C:/Users/nisha/MACS/Internship/Data/XL_CarPedDataset_INT_v2_train_val/val\\detection\\xl_visual_session0003_00001792.vis.png\n",
      "C:/Users/nisha/MACS/Internship/Data/XL_CarPedDataset_INT_v2_train_val/val\\detection\\xl_visual_session0003_00001811.vis.png\n",
      "C:/Users/nisha/MACS/Internship/Data/XL_CarPedDataset_INT_v2_train_val/val\\detection\\xl_visual_session0003_00001828.vis.png\n",
      "C:/Users/nisha/MACS/Internship/Data/XL_CarPedDataset_INT_v2_train_val/val\\detection\\xl_visual_session0003_00001846.vis.png\n",
      "C:/Users/nisha/MACS/Internship/Data/XL_CarPedDataset_INT_v2_train_val/val\\detection\\xl_visual_session0003_00001868.vis.png\n"
     ]
    },
    {
     "name": "stderr",
     "output_type": "stream",
     "text": [
      " 35%|███████████████████████████▌                                                   | 493/1412 [00:19<00:40, 22.74it/s]"
     ]
    },
    {
     "name": "stdout",
     "output_type": "stream",
     "text": [
      "C:/Users/nisha/MACS/Internship/Data/XL_CarPedDataset_INT_v2_train_val/val\\detection\\xl_visual_session0003_00001890.vis.png\n",
      "C:/Users/nisha/MACS/Internship/Data/XL_CarPedDataset_INT_v2_train_val/val\\detection\\xl_visual_session0003_00001899.vis.png\n",
      "C:/Users/nisha/MACS/Internship/Data/XL_CarPedDataset_INT_v2_train_val/val\\detection\\xl_visual_session0003_00001904.vis.png\n",
      "C:/Users/nisha/MACS/Internship/Data/XL_CarPedDataset_INT_v2_train_val/val\\detection\\xl_visual_session0003_00001917.vis.png\n"
     ]
    },
    {
     "name": "stderr",
     "output_type": "stream",
     "text": [
      "\r",
      " 35%|███████████████████████████▊                                                   | 496/1412 [00:19<00:43, 21.25it/s]"
     ]
    },
    {
     "name": "stdout",
     "output_type": "stream",
     "text": [
      "C:/Users/nisha/MACS/Internship/Data/XL_CarPedDataset_INT_v2_train_val/val\\detection\\xl_visual_session0003_00001944.vis.png\n",
      "C:/Users/nisha/MACS/Internship/Data/XL_CarPedDataset_INT_v2_train_val/val\\detection\\xl_visual_session0003_00002009.vis.png\n",
      "C:/Users/nisha/MACS/Internship/Data/XL_CarPedDataset_INT_v2_train_val/val\\detection\\xl_visual_session0003_00002037.vis.png\n",
      "C:/Users/nisha/MACS/Internship/Data/XL_CarPedDataset_INT_v2_train_val/val\\detection\\xl_visual_session0003_00002064.vis.png\n"
     ]
    },
    {
     "name": "stderr",
     "output_type": "stream",
     "text": [
      "\r",
      " 35%|███████████████████████████▉                                                   | 499/1412 [00:19<00:43, 20.75it/s]"
     ]
    },
    {
     "name": "stdout",
     "output_type": "stream",
     "text": [
      "C:/Users/nisha/MACS/Internship/Data/XL_CarPedDataset_INT_v2_train_val/val\\detection\\xl_visual_session0003_00002079.vis.png\n",
      "C:/Users/nisha/MACS/Internship/Data/XL_CarPedDataset_INT_v2_train_val/val\\detection\\xl_visual_session0003_00002097.vis.png\n",
      "C:/Users/nisha/MACS/Internship/Data/XL_CarPedDataset_INT_v2_train_val/val\\detection\\xl_visual_session0003_00002121.vis.png\n",
      "C:/Users/nisha/MACS/Internship/Data/XL_CarPedDataset_INT_v2_train_val/val\\detection\\xl_visual_session0003_00002147.vis.png\n"
     ]
    },
    {
     "name": "stderr",
     "output_type": "stream",
     "text": [
      " 36%|████████████████████████████▎                                                  | 506/1412 [00:19<00:40, 22.44it/s]"
     ]
    },
    {
     "name": "stdout",
     "output_type": "stream",
     "text": [
      "C:/Users/nisha/MACS/Internship/Data/XL_CarPedDataset_INT_v2_train_val/val\\detection\\xl_visual_session0003_00002174.vis.png\n",
      "C:/Users/nisha/MACS/Internship/Data/XL_CarPedDataset_INT_v2_train_val/val\\detection\\xl_visual_session0003_00002204.vis.png\n",
      "C:/Users/nisha/MACS/Internship/Data/XL_CarPedDataset_INT_v2_train_val/val\\detection\\xl_visual_session0003_00002216.vis.png\n",
      "C:/Users/nisha/MACS/Internship/Data/XL_CarPedDataset_INT_v2_train_val/val\\detection\\xl_visual_session0003_00002221.vis.png\n",
      "C:/Users/nisha/MACS/Internship/Data/XL_CarPedDataset_INT_v2_train_val/val\\detection\\xl_visual_session0003_00002227.vis.png\n",
      "C:/Users/nisha/MACS/Internship/Data/XL_CarPedDataset_INT_v2_train_val/val\\detection\\xl_visual_session0003_00002245.vis.png\n",
      "C:/Users/nisha/MACS/Internship/Data/XL_CarPedDataset_INT_v2_train_val/val\\detection\\xl_visual_session0003_00002261.vis.png\n",
      "C:/Users/nisha/MACS/Internship/Data/XL_CarPedDataset_INT_v2_train_val/val\\detection\\xl_visual_session0003_00002270.vis.png\n"
     ]
    },
    {
     "name": "stderr",
     "output_type": "stream",
     "text": [
      " 36%|████████████████████████████▊                                                  | 514/1412 [00:20<00:37, 24.23it/s]"
     ]
    },
    {
     "name": "stdout",
     "output_type": "stream",
     "text": [
      "C:/Users/nisha/MACS/Internship/Data/XL_CarPedDataset_INT_v2_train_val/val\\detection\\xl_visual_session0003_00002308.vis.png\n",
      "C:/Users/nisha/MACS/Internship/Data/XL_CarPedDataset_INT_v2_train_val/val\\detection\\xl_visual_session0003_00002315.vis.png\n",
      "C:/Users/nisha/MACS/Internship/Data/XL_CarPedDataset_INT_v2_train_val/val\\detection\\xl_visual_session0003_00002380.vis.png\n",
      "C:/Users/nisha/MACS/Internship/Data/XL_CarPedDataset_INT_v2_train_val/val\\detection\\xl_visual_session0003_00002389.vis.png\n",
      "C:/Users/nisha/MACS/Internship/Data/XL_CarPedDataset_INT_v2_train_val/val\\detection\\xl_visual_session0003_00002412.vis.png\n"
     ]
    },
    {
     "name": "stderr",
     "output_type": "stream",
     "text": [
      "\r",
      " 37%|████████████████████████████▉                                                  | 517/1412 [00:20<00:36, 24.57it/s]"
     ]
    },
    {
     "name": "stdout",
     "output_type": "stream",
     "text": [
      "C:/Users/nisha/MACS/Internship/Data/XL_CarPedDataset_INT_v2_train_val/val\\detection\\xl_visual_session0003_00002421.vis.png\n",
      "C:/Users/nisha/MACS/Internship/Data/XL_CarPedDataset_INT_v2_train_val/val\\detection\\xl_visual_session0003_00002454.vis.png\n",
      "C:/Users/nisha/MACS/Internship/Data/XL_CarPedDataset_INT_v2_train_val/val\\detection\\xl_visual_session0003_00002469.vis.png\n",
      "C:/Users/nisha/MACS/Internship/Data/XL_CarPedDataset_INT_v2_train_val/val\\detection\\xl_visual_session0003_00002511.vis.png\n"
     ]
    },
    {
     "name": "stderr",
     "output_type": "stream",
     "text": [
      " 37%|█████████████████████████████▎                                                 | 523/1412 [00:20<00:36, 24.51it/s]"
     ]
    },
    {
     "name": "stdout",
     "output_type": "stream",
     "text": [
      "C:/Users/nisha/MACS/Internship/Data/XL_CarPedDataset_INT_v2_train_val/val\\detection\\xl_visual_session0003_00002560.vis.png\n",
      "C:/Users/nisha/MACS/Internship/Data/XL_CarPedDataset_INT_v2_train_val/val\\detection\\xl_visual_session0003_00002626.vis.png\n",
      "C:/Users/nisha/MACS/Internship/Data/XL_CarPedDataset_INT_v2_train_val/val\\detection\\xl_visual_session0003_00002754.vis.png\n",
      "C:/Users/nisha/MACS/Internship/Data/XL_CarPedDataset_INT_v2_train_val/val\\detection\\xl_visual_session0003_00002759.vis.png\n",
      "C:/Users/nisha/MACS/Internship/Data/XL_CarPedDataset_INT_v2_train_val/val\\detection\\xl_visual_session0003_00002775.vis.png\n",
      "C:/Users/nisha/MACS/Internship/Data/XL_CarPedDataset_INT_v2_train_val/val\\detection\\xl_visual_session0003_00002790.vis.png\n"
     ]
    },
    {
     "name": "stderr",
     "output_type": "stream",
     "text": [
      " 37%|█████████████████████████████▌                                                 | 529/1412 [00:20<00:37, 23.39it/s]"
     ]
    },
    {
     "name": "stdout",
     "output_type": "stream",
     "text": [
      "C:/Users/nisha/MACS/Internship/Data/XL_CarPedDataset_INT_v2_train_val/val\\detection\\xl_visual_session0003_00002890.vis.png\n",
      "C:/Users/nisha/MACS/Internship/Data/XL_CarPedDataset_INT_v2_train_val/val\\detection\\xl_visual_session0003_00002896.vis.png\n",
      "C:/Users/nisha/MACS/Internship/Data/XL_CarPedDataset_INT_v2_train_val/val\\detection\\xl_visual_session0003_00002908.vis.png\n",
      "C:/Users/nisha/MACS/Internship/Data/XL_CarPedDataset_INT_v2_train_val/val\\detection\\xl_visual_session0003_00002913.vis.png\n"
     ]
    },
    {
     "name": "stderr",
     "output_type": "stream",
     "text": [
      "\r",
      " 38%|█████████████████████████████▊                                                 | 533/1412 [00:20<00:33, 25.88it/s]"
     ]
    },
    {
     "name": "stdout",
     "output_type": "stream",
     "text": [
      "C:/Users/nisha/MACS/Internship/Data/XL_CarPedDataset_INT_v2_train_val/val\\detection\\xl_visual_session0003_00002920.vis.png\n",
      "C:/Users/nisha/MACS/Internship/Data/XL_CarPedDataset_INT_v2_train_val/val\\detection\\xl_visual_session0003_00002925.vis.png\n",
      "C:/Users/nisha/MACS/Internship/Data/XL_CarPedDataset_INT_v2_train_val/val\\detection\\xl_visual_session0003_00002934.vis.png\n",
      "C:/Users/nisha/MACS/Internship/Data/XL_CarPedDataset_INT_v2_train_val/val\\detection\\xl_visual_session0003_00002973.vis.png\n",
      "C:/Users/nisha/MACS/Internship/Data/XL_CarPedDataset_INT_v2_train_val/val\\detection\\xl_visual_session0003_00003001.vis.png\n",
      "C:/Users/nisha/MACS/Internship/Data/XL_CarPedDataset_INT_v2_train_val/val\\detection\\xl_visual_session0003_00003006.vis.png\n",
      "C:/Users/nisha/MACS/Internship/Data/XL_CarPedDataset_INT_v2_train_val/val\\detection\\xl_visual_session0003_00003015.vis.png\n",
      "C:/Users/nisha/MACS/Internship/Data/XL_CarPedDataset_INT_v2_train_val/val\\detection\\xl_visual_session0003_00003046.vis.png\n"
     ]
    },
    {
     "name": "stderr",
     "output_type": "stream",
     "text": [
      " 38%|██████████████████████████████▎                                                | 541/1412 [00:20<00:29, 29.76it/s]"
     ]
    },
    {
     "name": "stdout",
     "output_type": "stream",
     "text": [
      "C:/Users/nisha/MACS/Internship/Data/XL_CarPedDataset_INT_v2_train_val/val\\detection\\xl_visual_session0003_00003060.vis.png\n",
      "C:/Users/nisha/MACS/Internship/Data/XL_CarPedDataset_INT_v2_train_val/val\\detection\\xl_visual_session0003_00003101.vis.png\n",
      "C:/Users/nisha/MACS/Internship/Data/XL_CarPedDataset_INT_v2_train_val/val\\detection\\xl_visual_session0003_00003110.vis.png\n",
      "C:/Users/nisha/MACS/Internship/Data/XL_CarPedDataset_INT_v2_train_val/val\\detection\\xl_visual_session0003_00003213.vis.png\n",
      "C:/Users/nisha/MACS/Internship/Data/XL_CarPedDataset_INT_v2_train_val/val\\detection\\xl_visual_session0003_00003222.vis.png\n",
      "C:/Users/nisha/MACS/Internship/Data/XL_CarPedDataset_INT_v2_train_val/val\\detection\\xl_visual_session0003_00003225.vis.png\n"
     ]
    },
    {
     "name": "stderr",
     "output_type": "stream",
     "text": [
      "\r",
      " 39%|██████████████████████████████▍                                                | 545/1412 [00:21<00:35, 24.24it/s]"
     ]
    },
    {
     "name": "stdout",
     "output_type": "stream",
     "text": [
      "C:/Users/nisha/MACS/Internship/Data/XL_CarPedDataset_INT_v2_train_val/val\\detection\\xl_visual_session0003_00003238.vis.png\n",
      "C:/Users/nisha/MACS/Internship/Data/XL_CarPedDataset_INT_v2_train_val/val\\detection\\xl_visual_session0003_00003254.vis.png\n",
      "C:/Users/nisha/MACS/Internship/Data/XL_CarPedDataset_INT_v2_train_val/val\\detection\\xl_visual_session0003_00003266.vis.png\n"
     ]
    },
    {
     "name": "stderr",
     "output_type": "stream",
     "text": [
      "\r",
      " 39%|██████████████████████████████▋                                                | 548/1412 [00:21<00:39, 21.84it/s]"
     ]
    },
    {
     "name": "stdout",
     "output_type": "stream",
     "text": [
      "C:/Users/nisha/MACS/Internship/Data/XL_CarPedDataset_INT_v2_train_val/val\\detection\\xl_visual_session0003_00003269.vis.png\n",
      "C:/Users/nisha/MACS/Internship/Data/XL_CarPedDataset_INT_v2_train_val/val\\detection\\xl_visual_session0003_00003276.vis.png\n",
      "C:/Users/nisha/MACS/Internship/Data/XL_CarPedDataset_INT_v2_train_val/val\\detection\\xl_visual_session0003_00003323.vis.png\n",
      "C:/Users/nisha/MACS/Internship/Data/XL_CarPedDataset_INT_v2_train_val/val\\detection\\xl_visual_session0003_00003325.vis.png\n",
      "C:/Users/nisha/MACS/Internship/Data/XL_CarPedDataset_INT_v2_train_val/val\\detection\\xl_visual_session0003_00003330.vis.png\n"
     ]
    },
    {
     "name": "stderr",
     "output_type": "stream",
     "text": [
      " 39%|██████████████████████████████▉                                                | 554/1412 [00:21<00:39, 21.74it/s]"
     ]
    },
    {
     "name": "stdout",
     "output_type": "stream",
     "text": [
      "C:/Users/nisha/MACS/Internship/Data/XL_CarPedDataset_INT_v2_train_val/val\\detection\\xl_visual_session0003_00003338.vis.png\n",
      "C:/Users/nisha/MACS/Internship/Data/XL_CarPedDataset_INT_v2_train_val/val\\detection\\xl_visual_session0003_00003354.vis.png\n",
      "C:/Users/nisha/MACS/Internship/Data/XL_CarPedDataset_INT_v2_train_val/val\\detection\\xl_visual_session0003_00003383.vis.png\n",
      "C:/Users/nisha/MACS/Internship/Data/XL_CarPedDataset_INT_v2_train_val/val\\detection\\xl_visual_session0003_00003402.vis.png\n"
     ]
    },
    {
     "name": "stderr",
     "output_type": "stream",
     "text": [
      " 40%|███████████████████████████████▍                                               | 563/1412 [00:21<00:32, 26.27it/s]"
     ]
    },
    {
     "name": "stdout",
     "output_type": "stream",
     "text": [
      "C:/Users/nisha/MACS/Internship/Data/XL_CarPedDataset_INT_v2_train_val/val\\detection\\xl_visual_session0003_00003461.vis.png\n",
      "C:/Users/nisha/MACS/Internship/Data/XL_CarPedDataset_INT_v2_train_val/val\\detection\\xl_visual_session0003_00003470.vis.png\n",
      "C:/Users/nisha/MACS/Internship/Data/XL_CarPedDataset_INT_v2_train_val/val\\detection\\xl_visual_session0003_00003497.vis.png\n",
      "C:/Users/nisha/MACS/Internship/Data/XL_CarPedDataset_INT_v2_train_val/val\\detection\\xl_visual_session0003_00003501.vis.png\n",
      "C:/Users/nisha/MACS/Internship/Data/XL_CarPedDataset_INT_v2_train_val/val\\detection\\xl_visual_session0003_00003598.vis.png\n",
      "C:/Users/nisha/MACS/Internship/Data/XL_CarPedDataset_INT_v2_train_val/val\\detection\\xl_visual_session0003_00003624.vis.png\n",
      "C:/Users/nisha/MACS/Internship/Data/XL_CarPedDataset_INT_v2_train_val/val\\detection\\xl_visual_session0003_00003704.vis.png\n",
      "C:/Users/nisha/MACS/Internship/Data/XL_CarPedDataset_INT_v2_train_val/val\\detection\\xl_visual_session0003_00003707.vis.png\n",
      "C:/Users/nisha/MACS/Internship/Data/XL_CarPedDataset_INT_v2_train_val/val\\detection\\xl_visual_session0003_00003748.vis.png"
     ]
    },
    {
     "name": "stderr",
     "output_type": "stream",
     "text": [
      "\r",
      " 40%|███████████████████████████████▊                                               | 568/1412 [00:22<00:28, 29.92it/s]"
     ]
    },
    {
     "name": "stdout",
     "output_type": "stream",
     "text": [
      "\n",
      "C:/Users/nisha/MACS/Internship/Data/XL_CarPedDataset_INT_v2_train_val/val\\detection\\xl_visual_session0003_00003783.vis.png\n",
      "C:/Users/nisha/MACS/Internship/Data/XL_CarPedDataset_INT_v2_train_val/val\\detection\\xl_visual_session0003_00003792.vis.png\n",
      "C:/Users/nisha/MACS/Internship/Data/XL_CarPedDataset_INT_v2_train_val/val\\detection\\xl_visual_session0003_00003865.vis.png\n",
      "C:/Users/nisha/MACS/Internship/Data/XL_CarPedDataset_INT_v2_train_val/val\\detection\\xl_visual_session0003_00003883.vis.png\n",
      "C:/Users/nisha/MACS/Internship/Data/XL_CarPedDataset_INT_v2_train_val/val\\detection\\xl_visual_session0003_00003902.vis.png\n",
      "C:/Users/nisha/MACS/Internship/Data/XL_CarPedDataset_INT_v2_train_val/val\\detection\\xl_visual_session0003_00003906.vis.png\n",
      "C:/Users/nisha/MACS/Internship/Data/XL_CarPedDataset_INT_v2_train_val/val\\detection\\xl_visual_session0003_00003930.vis.png\n"
     ]
    },
    {
     "name": "stderr",
     "output_type": "stream",
     "text": [
      "\r",
      " 41%|████████████████████████████████                                               | 572/1412 [00:22<00:28, 29.99it/s]"
     ]
    },
    {
     "name": "stdout",
     "output_type": "stream",
     "text": [
      "C:/Users/nisha/MACS/Internship/Data/XL_CarPedDataset_INT_v2_train_val/val\\detection\\xl_visual_session0003_00003969.vis.png\n",
      "C:/Users/nisha/MACS/Internship/Data/XL_CarPedDataset_INT_v2_train_val/val\\detection\\xl_visual_session0003_00004010.vis.png\n",
      "C:/Users/nisha/MACS/Internship/Data/XL_CarPedDataset_INT_v2_train_val/val\\detection\\xl_visual_session0003_00004028.vis.png\n",
      "C:/Users/nisha/MACS/Internship/Data/XL_CarPedDataset_INT_v2_train_val/val\\detection\\xl_visual_session0003_00004037.vis.png\n",
      "C:/Users/nisha/MACS/Internship/Data/XL_CarPedDataset_INT_v2_train_val/val\\detection\\xl_visual_session0003_00004071.vis.png\n"
     ]
    },
    {
     "name": "stderr",
     "output_type": "stream",
     "text": [
      " 41%|████████████████████████████████▍                                              | 579/1412 [00:22<00:37, 22.47it/s]"
     ]
    },
    {
     "name": "stdout",
     "output_type": "stream",
     "text": [
      "C:/Users/nisha/MACS/Internship/Data/XL_CarPedDataset_INT_v2_train_val/val\\detection\\xl_visual_session0003_00004089.vis.png\n",
      "C:/Users/nisha/MACS/Internship/Data/XL_CarPedDataset_INT_v2_train_val/val\\detection\\xl_visual_session0003_00004092.vis.png\n",
      "C:/Users/nisha/MACS/Internship/Data/XL_CarPedDataset_INT_v2_train_val/val\\detection\\xl_visual_session0003_00004099.vis.png\n",
      "C:/Users/nisha/MACS/Internship/Data/XL_CarPedDataset_INT_v2_train_val/val\\detection\\xl_visual_session0003_00004108.vis.png\n",
      "C:/Users/nisha/MACS/Internship/Data/XL_CarPedDataset_INT_v2_train_val/val\\detection\\xl_visual_session0003_00004135.vis.png\n"
     ]
    },
    {
     "name": "stderr",
     "output_type": "stream",
     "text": [
      " 42%|████████████████████████████████▊                                              | 587/1412 [00:22<00:30, 27.25it/s]"
     ]
    },
    {
     "name": "stdout",
     "output_type": "stream",
     "text": [
      "C:/Users/nisha/MACS/Internship/Data/XL_CarPedDataset_INT_v2_train_val/val\\detection\\xl_visual_session0003_00004140.vis.png\n",
      "C:/Users/nisha/MACS/Internship/Data/XL_CarPedDataset_INT_v2_train_val/val\\detection\\xl_visual_session0003_00004144.vis.png\n",
      "C:/Users/nisha/MACS/Internship/Data/XL_CarPedDataset_INT_v2_train_val/val\\detection\\xl_visual_session0003_00004180.vis.png\n",
      "C:/Users/nisha/MACS/Internship/Data/XL_CarPedDataset_INT_v2_train_val/val\\detection\\xl_visual_session0003_00004200.vis.png\n",
      "C:/Users/nisha/MACS/Internship/Data/XL_CarPedDataset_INT_v2_train_val/val\\detection\\xl_visual_session0003_00004215.vis.png\n",
      "C:/Users/nisha/MACS/Internship/Data/XL_CarPedDataset_INT_v2_train_val/val\\detection\\xl_visual_session0003_00004265.vis.png\n",
      "C:/Users/nisha/MACS/Internship/Data/XL_CarPedDataset_INT_v2_train_val/val\\detection\\xl_visual_session0003_00004302.vis.png\n"
     ]
    },
    {
     "name": "stderr",
     "output_type": "stream",
     "text": [
      "\r",
      " 42%|█████████████████████████████████                                              | 591/1412 [00:22<00:30, 27.31it/s]"
     ]
    },
    {
     "name": "stdout",
     "output_type": "stream",
     "text": [
      "C:/Users/nisha/MACS/Internship/Data/XL_CarPedDataset_INT_v2_train_val/val\\detection\\xl_visual_session0003_00004315.vis.png\n",
      "C:/Users/nisha/MACS/Internship/Data/XL_CarPedDataset_INT_v2_train_val/val\\detection\\xl_visual_session0003_00004334.vis.png\n",
      "C:/Users/nisha/MACS/Internship/Data/XL_CarPedDataset_INT_v2_train_val/val\\detection\\xl_visual_session0003_00004338.vis.png\n",
      "C:/Users/nisha/MACS/Internship/Data/XL_CarPedDataset_INT_v2_train_val/val\\detection\\xl_visual_session0003_00004344.vis.png\n",
      "C:/Users/nisha/MACS/Internship/Data/XL_CarPedDataset_INT_v2_train_val/val\\detection\\xl_visual_session0003_00004347.vis.png\n",
      "C:/Users/nisha/MACS/Internship/Data/XL_CarPedDataset_INT_v2_train_val/val\\detection\\xl_visual_session0003_00004350.vis.png\n",
      "C:/Users/nisha/MACS/Internship/Data/XL_CarPedDataset_INT_v2_train_val/val\\detection\\xl_visual_session0003_00004375.vis.png\n"
     ]
    },
    {
     "name": "stderr",
     "output_type": "stream",
     "text": [
      " 42%|█████████████████████████████████▌                                             | 599/1412 [00:23<00:30, 26.86it/s]"
     ]
    },
    {
     "name": "stdout",
     "output_type": "stream",
     "text": [
      "C:/Users/nisha/MACS/Internship/Data/XL_CarPedDataset_INT_v2_train_val/val\\detection\\xl_visual_session0003_00004387.vis.png\n",
      "C:/Users/nisha/MACS/Internship/Data/XL_CarPedDataset_INT_v2_train_val/val\\detection\\xl_visual_session0003_00004427.vis.png\n",
      "C:/Users/nisha/MACS/Internship/Data/XL_CarPedDataset_INT_v2_train_val/val\\detection\\xl_visual_session0003_00004498.vis.png\n",
      "C:/Users/nisha/MACS/Internship/Data/XL_CarPedDataset_INT_v2_train_val/val\\detection\\xl_visual_session0003_00004507.vis.png\n",
      "C:/Users/nisha/MACS/Internship/Data/XL_CarPedDataset_INT_v2_train_val/val\\detection\\xl_visual_session0003_00004542.vis.png\n"
     ]
    },
    {
     "name": "stderr",
     "output_type": "stream",
     "text": [
      "\r",
      " 43%|█████████████████████████████████▋                                             | 602/1412 [00:23<00:33, 24.09it/s]"
     ]
    },
    {
     "name": "stdout",
     "output_type": "stream",
     "text": [
      "C:/Users/nisha/MACS/Internship/Data/XL_CarPedDataset_INT_v2_train_val/val\\detection\\xl_visual_session0003_00004562.vis.png\n",
      "C:/Users/nisha/MACS/Internship/Data/XL_CarPedDataset_INT_v2_train_val/val\\detection\\xl_visual_session0003_00004599.vis.png\n",
      "C:/Users/nisha/MACS/Internship/Data/XL_CarPedDataset_INT_v2_train_val/val\\detection\\xl_visual_session0003_00004631.vis.png\n",
      "C:/Users/nisha/MACS/Internship/Data/XL_CarPedDataset_INT_v2_train_val/val\\detection\\xl_visual_session0003_00004640.vis.png\n"
     ]
    },
    {
     "name": "stderr",
     "output_type": "stream",
     "text": [
      " 43%|██████████████████████████████████                                             | 608/1412 [00:23<00:36, 21.75it/s]"
     ]
    },
    {
     "name": "stdout",
     "output_type": "stream",
     "text": [
      "C:/Users/nisha/MACS/Internship/Data/XL_CarPedDataset_INT_v2_train_val/val\\detection\\xl_visual_session0003_00004655.vis.png\n",
      "C:/Users/nisha/MACS/Internship/Data/XL_CarPedDataset_INT_v2_train_val/val\\detection\\xl_visual_session0003_00004669.vis.png\n",
      "C:/Users/nisha/MACS/Internship/Data/XL_CarPedDataset_INT_v2_train_val/val\\detection\\xl_visual_session0003_00004744.vis.png\n",
      "C:/Users/nisha/MACS/Internship/Data/XL_CarPedDataset_INT_v2_train_val/val\\detection\\xl_visual_session0003_00004763.vis.png\n",
      "C:/Users/nisha/MACS/Internship/Data/XL_CarPedDataset_INT_v2_train_val/val\\detection\\xl_visual_session0003_00004771.vis.png"
     ]
    },
    {
     "name": "stderr",
     "output_type": "stream",
     "text": [
      "\r",
      " 43%|██████████████████████████████████▏                                            | 611/1412 [00:23<00:38, 20.88it/s]"
     ]
    },
    {
     "name": "stdout",
     "output_type": "stream",
     "text": [
      "\n",
      "C:/Users/nisha/MACS/Internship/Data/XL_CarPedDataset_INT_v2_train_val/val\\detection\\xl_visual_session0003_00004784.vis.png\n",
      "C:/Users/nisha/MACS/Internship/Data/XL_CarPedDataset_INT_v2_train_val/val\\detection\\xl_visual_session0003_00004820.vis.png\n",
      "C:/Users/nisha/MACS/Internship/Data/XL_CarPedDataset_INT_v2_train_val/val\\detection\\xl_visual_session0003_00004827.vis.png\n"
     ]
    },
    {
     "name": "stderr",
     "output_type": "stream",
     "text": [
      "\r",
      " 43%|██████████████████████████████████▎                                            | 614/1412 [00:23<00:37, 21.12it/s]"
     ]
    },
    {
     "name": "stdout",
     "output_type": "stream",
     "text": [
      "C:/Users/nisha/MACS/Internship/Data/XL_CarPedDataset_INT_v2_train_val/val\\detection\\xl_visual_session0003_00004848.vis.png\n",
      "C:/Users/nisha/MACS/Internship/Data/XL_CarPedDataset_INT_v2_train_val/val\\detection\\xl_visual_session0003_00004852.vis.png\n",
      "C:/Users/nisha/MACS/Internship/Data/XL_CarPedDataset_INT_v2_train_val/val\\detection\\xl_visual_session0003_00004897.vis.png\n",
      "C:/Users/nisha/MACS/Internship/Data/XL_CarPedDataset_INT_v2_train_val/val\\detection\\xl_visual_session0003_00004901.vis.png\n"
     ]
    },
    {
     "name": "stderr",
     "output_type": "stream",
     "text": [
      "\r",
      " 44%|██████████████████████████████████▌                                            | 617/1412 [00:24<00:43, 18.36it/s]"
     ]
    },
    {
     "name": "stdout",
     "output_type": "stream",
     "text": [
      "C:/Users/nisha/MACS/Internship/Data/XL_CarPedDataset_INT_v2_train_val/val\\detection\\xl_visual_session0003_00004911.vis.png\n",
      "C:/Users/nisha/MACS/Internship/Data/XL_CarPedDataset_INT_v2_train_val/val\\detection\\xl_visual_session0003_00004922.vis.png\n",
      "C:/Users/nisha/MACS/Internship/Data/XL_CarPedDataset_INT_v2_train_val/val\\detection\\xl_visual_session0003_00004929.vis.png\n",
      "C:/Users/nisha/MACS/Internship/Data/XL_CarPedDataset_INT_v2_train_val/val\\detection\\xl_visual_session0003_00004936.vis.png\n"
     ]
    },
    {
     "name": "stderr",
     "output_type": "stream",
     "text": [
      " 44%|██████████████████████████████████▊                                            | 623/1412 [00:24<00:38, 20.24it/s]"
     ]
    },
    {
     "name": "stdout",
     "output_type": "stream",
     "text": [
      "C:/Users/nisha/MACS/Internship/Data/XL_CarPedDataset_INT_v2_train_val/val\\detection\\xl_visual_session0003_00004955.vis.png\n",
      "C:/Users/nisha/MACS/Internship/Data/XL_CarPedDataset_INT_v2_train_val/val\\detection\\xl_visual_session0003_00004967.vis.png\n",
      "C:/Users/nisha/MACS/Internship/Data/XL_CarPedDataset_INT_v2_train_val/val\\detection\\xl_visual_session0003_00004973.vis.png\n",
      "C:/Users/nisha/MACS/Internship/Data/XL_CarPedDataset_INT_v2_train_val/val\\detection\\xl_visual_session0003_00004981.vis.png\n",
      "C:/Users/nisha/MACS/Internship/Data/XL_CarPedDataset_INT_v2_train_val/val\\detection\\xl_visual_session0003_00004983.vis.png\n"
     ]
    },
    {
     "name": "stderr",
     "output_type": "stream",
     "text": [
      " 45%|███████████████████████████████████▏                                           | 629/1412 [00:24<00:38, 20.29it/s]"
     ]
    },
    {
     "name": "stdout",
     "output_type": "stream",
     "text": [
      "C:/Users/nisha/MACS/Internship/Data/XL_CarPedDataset_INT_v2_train_val/val\\detection\\xl_visual_session0003_00004986.vis.png\n",
      "C:/Users/nisha/MACS/Internship/Data/XL_CarPedDataset_INT_v2_train_val/val\\detection\\xl_visual_session0003_00004988.vis.png\n",
      "C:/Users/nisha/MACS/Internship/Data/XL_CarPedDataset_INT_v2_train_val/val\\detection\\xl_visual_session0003_00004995.vis.png\n",
      "C:/Users/nisha/MACS/Internship/Data/XL_CarPedDataset_INT_v2_train_val/val\\detection\\xl_visual_session0003_00005007.vis.png\n"
     ]
    },
    {
     "name": "stderr",
     "output_type": "stream",
     "text": [
      "\r",
      " 45%|███████████████████████████████████▎                                           | 632/1412 [00:24<00:36, 21.45it/s]"
     ]
    },
    {
     "name": "stdout",
     "output_type": "stream",
     "text": [
      "C:/Users/nisha/MACS/Internship/Data/XL_CarPedDataset_INT_v2_train_val/val\\detection\\xl_visual_session0003_00005016.vis.png\n",
      "C:/Users/nisha/MACS/Internship/Data/XL_CarPedDataset_INT_v2_train_val/val\\detection\\xl_visual_session0003_00005022.vis.png\n",
      "C:/Users/nisha/MACS/Internship/Data/XL_CarPedDataset_INT_v2_train_val/val\\detection\\xl_visual_session0003_00005049.vis.png\n",
      "C:/Users/nisha/MACS/Internship/Data/XL_CarPedDataset_INT_v2_train_val/val\\detection\\xl_visual_session0003_00005063.vis.png\n",
      "C:/Users/nisha/MACS/Internship/Data/XL_CarPedDataset_INT_v2_train_val/val\\detection\\xl_visual_session0003_00005084.vis.png\n"
     ]
    },
    {
     "name": "stderr",
     "output_type": "stream",
     "text": [
      "\r",
      " 45%|███████████████████████████████████▌                                           | 635/1412 [00:25<00:39, 19.70it/s]"
     ]
    },
    {
     "name": "stdout",
     "output_type": "stream",
     "text": [
      "C:/Users/nisha/MACS/Internship/Data/XL_CarPedDataset_INT_v2_train_val/val\\detection\\xl_visual_session0003_00005091.vis.png\n",
      "C:/Users/nisha/MACS/Internship/Data/XL_CarPedDataset_INT_v2_train_val/val\\detection\\xl_visual_session0003_00005098.vis.png\n",
      "C:/Users/nisha/MACS/Internship/Data/XL_CarPedDataset_INT_v2_train_val/val\\detection\\xl_visual_session0003_00005132.vis.png\n",
      "C:/Users/nisha/MACS/Internship/Data/XL_CarPedDataset_INT_v2_train_val/val\\detection\\xl_visual_session0003_00005148.vis.png\n"
     ]
    },
    {
     "name": "stderr",
     "output_type": "stream",
     "text": [
      " 45%|███████████████████████████████████▊                                           | 640/1412 [00:25<00:40, 18.84it/s]"
     ]
    },
    {
     "name": "stdout",
     "output_type": "stream",
     "text": [
      "C:/Users/nisha/MACS/Internship/Data/XL_CarPedDataset_INT_v2_train_val/val\\detection\\xl_visual_session0003_00005157.vis.png\n",
      "C:/Users/nisha/MACS/Internship/Data/XL_CarPedDataset_INT_v2_train_val/val\\detection\\xl_visual_session0003_00005164.vis.png\n",
      "C:/Users/nisha/MACS/Internship/Data/XL_CarPedDataset_INT_v2_train_val/val\\detection\\xl_visual_session0003_00005176.vis.png\n",
      "C:/Users/nisha/MACS/Internship/Data/XL_CarPedDataset_INT_v2_train_val/val\\detection\\xl_visual_session0003_00005193.vis.png\n",
      "C:/Users/nisha/MACS/Internship/Data/XL_CarPedDataset_INT_v2_train_val/val\\detection\\xl_visual_session0003_00005196.vis.png\n"
     ]
    },
    {
     "name": "stderr",
     "output_type": "stream",
     "text": [
      " 46%|████████████████████████████████████                                           | 645/1412 [00:25<00:40, 18.77it/s]"
     ]
    },
    {
     "name": "stdout",
     "output_type": "stream",
     "text": [
      "C:/Users/nisha/MACS/Internship/Data/XL_CarPedDataset_INT_v2_train_val/val\\detection\\xl_visual_session0003_00005216.vis.png\n",
      "C:/Users/nisha/MACS/Internship/Data/XL_CarPedDataset_INT_v2_train_val/val\\detection\\xl_visual_session0003_00005348.vis.png\n",
      "C:/Users/nisha/MACS/Internship/Data/XL_CarPedDataset_INT_v2_train_val/val\\detection\\xl_visual_session0003_00005353.vis.png\n",
      "C:/Users/nisha/MACS/Internship/Data/XL_CarPedDataset_INT_v2_train_val/val\\detection\\xl_visual_session0003_00005372.vis.png\n",
      "C:/Users/nisha/MACS/Internship/Data/XL_CarPedDataset_INT_v2_train_val/val\\detection\\xl_visual_session0003_00005391.vis.png\n"
     ]
    },
    {
     "name": "stderr",
     "output_type": "stream",
     "text": [
      " 46%|████████████████████████████████████▍                                          | 651/1412 [00:25<00:40, 18.94it/s]"
     ]
    },
    {
     "name": "stdout",
     "output_type": "stream",
     "text": [
      "C:/Users/nisha/MACS/Internship/Data/XL_CarPedDataset_INT_v2_train_val/val\\detection\\xl_visual_session0003_00005395.vis.png\n",
      "C:/Users/nisha/MACS/Internship/Data/XL_CarPedDataset_INT_v2_train_val/val\\detection\\xl_visual_session0003_00005427.vis.png\n",
      "C:/Users/nisha/MACS/Internship/Data/XL_CarPedDataset_INT_v2_train_val/val\\detection\\xl_visual_session0003_00005444.vis.png\n",
      "C:/Users/nisha/MACS/Internship/Data/XL_CarPedDataset_INT_v2_train_val/val\\detection\\xl_visual_session0003_00005468.vis.png\n",
      "C:/Users/nisha/MACS/Internship/Data/XL_CarPedDataset_INT_v2_train_val/val\\detection\\xl_visual_session0003_00005484.vis.png"
     ]
    },
    {
     "name": "stderr",
     "output_type": "stream",
     "text": [
      "\r",
      " 46%|████████████████████████████████████▌                                          | 654/1412 [00:26<00:37, 20.38it/s]"
     ]
    },
    {
     "name": "stdout",
     "output_type": "stream",
     "text": [
      "\n",
      "C:/Users/nisha/MACS/Internship/Data/XL_CarPedDataset_INT_v2_train_val/val\\detection\\xl_visual_session0003_00005501.vis.png\n",
      "C:/Users/nisha/MACS/Internship/Data/XL_CarPedDataset_INT_v2_train_val/val\\detection\\xl_visual_session0003_00005507.vis.png\n",
      "C:/Users/nisha/MACS/Internship/Data/XL_CarPedDataset_INT_v2_train_val/val\\detection\\xl_visual_session0003_00005517.vis.png\n",
      "C:/Users/nisha/MACS/Internship/Data/XL_CarPedDataset_INT_v2_train_val/val\\detection\\xl_visual_session0003_00005549.vis.png\n"
     ]
    },
    {
     "name": "stderr",
     "output_type": "stream",
     "text": [
      " 47%|████████████████████████████████████▉                                          | 660/1412 [00:26<00:34, 21.74it/s]"
     ]
    },
    {
     "name": "stdout",
     "output_type": "stream",
     "text": [
      "C:/Users/nisha/MACS/Internship/Data/XL_CarPedDataset_INT_v2_train_val/val\\detection\\xl_visual_session0003_00005553.vis.png\n",
      "C:/Users/nisha/MACS/Internship/Data/XL_CarPedDataset_INT_v2_train_val/val\\detection\\xl_visual_session0003_00005607.vis.png\n",
      "C:/Users/nisha/MACS/Internship/Data/XL_CarPedDataset_INT_v2_train_val/val\\detection\\xl_visual_session0003_00005618.vis.png\n",
      "C:/Users/nisha/MACS/Internship/Data/XL_CarPedDataset_INT_v2_train_val/val\\detection\\xl_visual_session0003_00005633.vis.png\n",
      "C:/Users/nisha/MACS/Internship/Data/XL_CarPedDataset_INT_v2_train_val/val\\detection\\xl_visual_session0003_00005683.vis.png\n"
     ]
    },
    {
     "name": "stderr",
     "output_type": "stream",
     "text": [
      " 47%|█████████████████████████████████████▎                                         | 667/1412 [00:26<00:28, 25.97it/s]"
     ]
    },
    {
     "name": "stdout",
     "output_type": "stream",
     "text": [
      "C:/Users/nisha/MACS/Internship/Data/XL_CarPedDataset_INT_v2_train_val/val\\detection\\xl_visual_session0003_00005698.vis.png\n",
      "C:/Users/nisha/MACS/Internship/Data/XL_CarPedDataset_INT_v2_train_val/val\\detection\\xl_visual_session0003_00006518.vis.png\n",
      "C:/Users/nisha/MACS/Internship/Data/XL_CarPedDataset_INT_v2_train_val/val\\detection\\xl_visual_session0003_00006542.vis.png\n",
      "C:/Users/nisha/MACS/Internship/Data/XL_CarPedDataset_INT_v2_train_val/val\\detection\\xl_visual_session0003_00006570.vis.png\n",
      "C:/Users/nisha/MACS/Internship/Data/XL_CarPedDataset_INT_v2_train_val/val\\detection\\xl_visual_session0003_00006577.vis.png\n",
      "C:/Users/nisha/MACS/Internship/Data/XL_CarPedDataset_INT_v2_train_val/val\\detection\\xl_visual_session0003_00006612.vis.png\n",
      "C:/Users/nisha/MACS/Internship/Data/XL_CarPedDataset_INT_v2_train_val/val\\detection\\xl_visual_session0003_00006654.vis.png\n",
      "C:/Users/nisha/MACS/Internship/Data/XL_CarPedDataset_INT_v2_train_val/val\\detection\\xl_visual_session0003_00006665.vis.png"
     ]
    },
    {
     "name": "stderr",
     "output_type": "stream",
     "text": [
      "\r",
      " 48%|█████████████████████████████████████▋                                         | 673/1412 [00:26<00:24, 30.18it/s]"
     ]
    },
    {
     "name": "stdout",
     "output_type": "stream",
     "text": [
      "\n",
      "C:/Users/nisha/MACS/Internship/Data/XL_CarPedDataset_INT_v2_train_val/val\\detection\\xl_visual_session0003_00006672.vis.png\n",
      "C:/Users/nisha/MACS/Internship/Data/XL_CarPedDataset_INT_v2_train_val/val\\detection\\xl_visual_session0003_00006700.vis.png\n",
      "C:/Users/nisha/MACS/Internship/Data/XL_CarPedDataset_INT_v2_train_val/val\\detection\\xl_visual_session0003_00006735.vis.png\n",
      "C:/Users/nisha/MACS/Internship/Data/XL_CarPedDataset_INT_v2_train_val/val\\detection\\xl_visual_session0003_00006738.vis.png\n",
      "C:/Users/nisha/MACS/Internship/Data/XL_CarPedDataset_INT_v2_train_val/val\\detection\\xl_visual_session0003_00006794.vis.png\n",
      "C:/Users/nisha/MACS/Internship/Data/XL_CarPedDataset_INT_v2_train_val/val\\detection\\xl_visual_session0003_00006819.vis.png\n",
      "C:/Users/nisha/MACS/Internship/Data/XL_CarPedDataset_INT_v2_train_val/val\\detection\\xl_visual_session0003_00006833.vis.png\n"
     ]
    },
    {
     "name": "stderr",
     "output_type": "stream",
     "text": [
      " 48%|██████████████████████████████████████                                         | 681/1412 [00:26<00:27, 26.66it/s]"
     ]
    },
    {
     "name": "stdout",
     "output_type": "stream",
     "text": [
      "C:/Users/nisha/MACS/Internship/Data/XL_CarPedDataset_INT_v2_train_val/val\\detection\\xl_visual_session0003_00006850.vis.png\n",
      "C:/Users/nisha/MACS/Internship/Data/XL_CarPedDataset_INT_v2_train_val/val\\detection\\xl_visual_session0003_00006854.vis.png\n",
      "C:/Users/nisha/MACS/Internship/Data/XL_CarPedDataset_INT_v2_train_val/val\\detection\\xl_visual_session0003_00006861.vis.png\n",
      "C:/Users/nisha/MACS/Internship/Data/XL_CarPedDataset_INT_v2_train_val/val\\detection\\xl_visual_session0003_00006868.vis.png\n",
      "C:/Users/nisha/MACS/Internship/Data/XL_CarPedDataset_INT_v2_train_val/val\\detection\\xl_visual_session0003_00006885.vis.png\n"
     ]
    },
    {
     "name": "stderr",
     "output_type": "stream",
     "text": [
      "\r",
      " 48%|██████████████████████████████████████▎                                        | 684/1412 [00:27<00:29, 24.74it/s]"
     ]
    },
    {
     "name": "stdout",
     "output_type": "stream",
     "text": [
      "C:/Users/nisha/MACS/Internship/Data/XL_CarPedDataset_INT_v2_train_val/val\\detection\\xl_visual_session0003_00006906.vis.png\n",
      "C:/Users/nisha/MACS/Internship/Data/XL_CarPedDataset_INT_v2_train_val/val\\detection\\xl_visual_session0003_00006932.vis.png\n",
      "C:/Users/nisha/MACS/Internship/Data/XL_CarPedDataset_INT_v2_train_val/val\\detection\\xl_visual_session0003_00006936.vis.png\n",
      "C:/Users/nisha/MACS/Internship/Data/XL_CarPedDataset_INT_v2_train_val/val\\detection\\xl_visual_session0003_00006943.vis.png\n",
      "C:/Users/nisha/MACS/Internship/Data/XL_CarPedDataset_INT_v2_train_val/val\\detection\\xl_visual_session0003_00006971.vis.png\n",
      "C:/Users/nisha/MACS/Internship/Data/XL_CarPedDataset_INT_v2_train_val/val\\detection\\xl_visual_session0003_00006982.vis.png"
     ]
    },
    {
     "name": "stderr",
     "output_type": "stream",
     "text": [
      " 49%|██████████████████████████████████████▍                                        | 688/1412 [00:27<00:27, 26.54it/s]C:\\Users\\nisha\\Anaconda3\\envs\\pytorch\\lib\\site-packages\\ipykernel_launcher.py:32: UserWarning: loadtxt: Empty input file: \"C:/Users/nisha/MACS/Internship/Data/XL_CarPedDataset_INT_v2_train_val/val\\detection_txt\\xl_visual_session0003_00007009.txt\"\n",
      " 49%|██████████████████████████████████████▋                                        | 692/1412 [00:27<00:25, 28.66it/s]"
     ]
    },
    {
     "name": "stdout",
     "output_type": "stream",
     "text": [
      "\n",
      "C:/Users/nisha/MACS/Internship/Data/XL_CarPedDataset_INT_v2_train_val/val\\detection\\xl_visual_session0003_00006999.vis.png\n",
      "C:/Users/nisha/MACS/Internship/Data/XL_CarPedDataset_INT_v2_train_val/val\\detection\\xl_visual_session0003_00007009.vis.png\n",
      "C:/Users/nisha/MACS/Internship/Data/XL_CarPedDataset_INT_v2_train_val/val\\detection\\xl_visual_session0003_00007016.vis.png\n",
      "C:/Users/nisha/MACS/Internship/Data/XL_CarPedDataset_INT_v2_train_val/val\\detection\\xl_visual_session0003_00007027.vis.png\n",
      "C:/Users/nisha/MACS/Internship/Data/XL_CarPedDataset_INT_v2_train_val/val\\detection\\xl_visual_session0003_00007114.vis.png\n",
      "C:/Users/nisha/MACS/Internship/Data/XL_CarPedDataset_INT_v2_train_val/val\\detection\\xl_visual_session0003_00007117.vis.png\n",
      "C:/Users/nisha/MACS/Internship/Data/XL_CarPedDataset_INT_v2_train_val/val\\detection\\xl_visual_session0003_00007129.vis.png\n"
     ]
    },
    {
     "name": "stderr",
     "output_type": "stream",
     "text": [
      "C:\\Users\\nisha\\Anaconda3\\envs\\pytorch\\lib\\site-packages\\ipykernel_launcher.py:32: UserWarning: loadtxt: Empty input file: \"C:/Users/nisha/MACS/Internship/Data/XL_CarPedDataset_INT_v2_train_val/val\\detection_txt\\xl_visual_session0003_00007117.txt\"\n",
      " 49%|██████████████████████████████████████▉                                        | 696/1412 [00:27<00:23, 30.69it/s]"
     ]
    },
    {
     "name": "stdout",
     "output_type": "stream",
     "text": [
      "C:/Users/nisha/MACS/Internship/Data/XL_CarPedDataset_INT_v2_train_val/val\\detection\\xl_visual_session0003_00007160.vis.png\n",
      "C:/Users/nisha/MACS/Internship/Data/XL_CarPedDataset_INT_v2_train_val/val\\detection\\xl_visual_session0003_00007171.vis.png\n",
      "C:/Users/nisha/MACS/Internship/Data/XL_CarPedDataset_INT_v2_train_val/val\\detection\\xl_visual_session0003_00007178.vis.png\n",
      "C:/Users/nisha/MACS/Internship/Data/XL_CarPedDataset_INT_v2_train_val/val\\detection\\xl_visual_session0003_00007181.vis.png\n",
      "C:/Users/nisha/MACS/Internship/Data/XL_CarPedDataset_INT_v2_train_val/val\\detection\\xl_visual_session0003_00007204.vis.png\n"
     ]
    },
    {
     "name": "stderr",
     "output_type": "stream",
     "text": [
      " 50%|███████████████████████████████████████▎                                       | 703/1412 [00:27<00:25, 28.15it/s]"
     ]
    },
    {
     "name": "stdout",
     "output_type": "stream",
     "text": [
      "C:/Users/nisha/MACS/Internship/Data/XL_CarPedDataset_INT_v2_train_val/val\\detection\\xl_visual_session0003_00007235.vis.png\n",
      "C:/Users/nisha/MACS/Internship/Data/XL_CarPedDataset_INT_v2_train_val/val\\detection\\xl_visual_session0003_00007239.vis.png\n",
      "C:/Users/nisha/MACS/Internship/Data/XL_CarPedDataset_INT_v2_train_val/val\\detection\\xl_visual_session0003_00007253.vis.png\n",
      "C:/Users/nisha/MACS/Internship/Data/XL_CarPedDataset_INT_v2_train_val/val\\detection\\xl_visual_session0003_00007257.vis.png\n",
      "C:/Users/nisha/MACS/Internship/Data/XL_CarPedDataset_INT_v2_train_val/val\\detection\\xl_visual_session0003_00007302.vis.png\n"
     ]
    },
    {
     "name": "stderr",
     "output_type": "stream",
     "text": [
      "C:\\Users\\nisha\\Anaconda3\\envs\\pytorch\\lib\\site-packages\\ipykernel_launcher.py:32: UserWarning: loadtxt: Empty input file: \"C:/Users/nisha/MACS/Internship/Data/XL_CarPedDataset_INT_v2_train_val/val\\detection_txt\\xl_visual_session0003_00007317.txt\"\n",
      " 50%|███████████████████████████████████████▌                                       | 706/1412 [00:27<00:29, 24.04it/s]C:\\Users\\nisha\\Anaconda3\\envs\\pytorch\\lib\\site-packages\\ipykernel_launcher.py:32: UserWarning: loadtxt: Empty input file: \"C:/Users/nisha/MACS/Internship/Data/XL_CarPedDataset_INT_v2_train_val/val\\detection_txt\\xl_visual_session0003_00007321.txt\"\n",
      " 50%|███████████████████████████████████████▋                                       | 709/1412 [00:28<00:28, 24.39it/s]"
     ]
    },
    {
     "name": "stdout",
     "output_type": "stream",
     "text": [
      "C:/Users/nisha/MACS/Internship/Data/XL_CarPedDataset_INT_v2_train_val/val\\detection\\xl_visual_session0003_00007317.vis.png\n",
      "C:/Users/nisha/MACS/Internship/Data/XL_CarPedDataset_INT_v2_train_val/val\\detection\\xl_visual_session0003_00007321.vis.png\n",
      "C:/Users/nisha/MACS/Internship/Data/XL_CarPedDataset_INT_v2_train_val/val\\detection\\xl_visual_session0003_00007330.vis.png\n",
      "C:/Users/nisha/MACS/Internship/Data/XL_CarPedDataset_INT_v2_train_val/val\\detection\\xl_visual_session0003_00007358.vis.png\n",
      "C:/Users/nisha/MACS/Internship/Data/XL_CarPedDataset_INT_v2_train_val/val\\detection\\xl_visual_session0003_00007419.vis.png\n"
     ]
    },
    {
     "name": "stderr",
     "output_type": "stream",
     "text": [
      " 50%|███████████████████████████████████████▊                                       | 712/1412 [00:28<00:29, 24.09it/s]C:\\Users\\nisha\\Anaconda3\\envs\\pytorch\\lib\\site-packages\\ipykernel_launcher.py:32: UserWarning: loadtxt: Empty input file: \"C:/Users/nisha/MACS/Internship/Data/XL_CarPedDataset_INT_v2_train_val/val\\detection_txt\\xl_visual_session0003_00007465.txt\"\n",
      " 51%|████████████████████████████████████████                                       | 715/1412 [00:28<00:28, 24.60it/s]"
     ]
    },
    {
     "name": "stdout",
     "output_type": "stream",
     "text": [
      "C:/Users/nisha/MACS/Internship/Data/XL_CarPedDataset_INT_v2_train_val/val\\detection\\xl_visual_session0003_00007441.vis.png\n",
      "C:/Users/nisha/MACS/Internship/Data/XL_CarPedDataset_INT_v2_train_val/val\\detection\\xl_visual_session0003_00007450.vis.png\n",
      "C:/Users/nisha/MACS/Internship/Data/XL_CarPedDataset_INT_v2_train_val/val\\detection\\xl_visual_session0003_00007465.vis.png\n",
      "C:/Users/nisha/MACS/Internship/Data/XL_CarPedDataset_INT_v2_train_val/val\\detection\\xl_visual_session0003_00007469.vis.png\n",
      "C:/Users/nisha/MACS/Internship/Data/XL_CarPedDataset_INT_v2_train_val/val\\detection\\xl_visual_session0004_00000272.vis.png\n"
     ]
    },
    {
     "name": "stderr",
     "output_type": "stream",
     "text": [
      "\r",
      " 51%|████████████████████████████████████████▏                                      | 718/1412 [00:28<00:28, 24.56it/s]"
     ]
    },
    {
     "name": "stdout",
     "output_type": "stream",
     "text": [
      "C:/Users/nisha/MACS/Internship/Data/XL_CarPedDataset_INT_v2_train_val/val\\detection\\xl_visual_session0004_00000274.vis.png\n",
      "C:/Users/nisha/MACS/Internship/Data/XL_CarPedDataset_INT_v2_train_val/val\\detection\\xl_visual_session0004_00000283.vis.png\n",
      "C:/Users/nisha/MACS/Internship/Data/XL_CarPedDataset_INT_v2_train_val/val\\detection\\xl_visual_session0004_00000288.vis.png\n",
      "C:/Users/nisha/MACS/Internship/Data/XL_CarPedDataset_INT_v2_train_val/val\\detection\\xl_visual_session0004_00000293.vis.png\n",
      "C:/Users/nisha/MACS/Internship/Data/XL_CarPedDataset_INT_v2_train_val/val\\detection\\xl_visual_session0004_00000296.vis.png\n",
      "C:/Users/nisha/MACS/Internship/Data/XL_CarPedDataset_INT_v2_train_val/val\\detection\\xl_visual_session0004_00000297.vis.png\n"
     ]
    },
    {
     "name": "stderr",
     "output_type": "stream",
     "text": [
      " 51%|████████████████████████████████████████▌                                      | 724/1412 [00:28<00:27, 24.68it/s]"
     ]
    },
    {
     "name": "stdout",
     "output_type": "stream",
     "text": [
      "C:/Users/nisha/MACS/Internship/Data/XL_CarPedDataset_INT_v2_train_val/val\\detection\\xl_visual_session0004_00000300.vis.png\n",
      "C:/Users/nisha/MACS/Internship/Data/XL_CarPedDataset_INT_v2_train_val/val\\detection\\xl_visual_session0004_00000304.vis.png\n",
      "C:/Users/nisha/MACS/Internship/Data/XL_CarPedDataset_INT_v2_train_val/val\\detection\\xl_visual_session0004_00000306.vis.png\n",
      "C:/Users/nisha/MACS/Internship/Data/XL_CarPedDataset_INT_v2_train_val/val\\detection\\xl_visual_session0004_00000311.vis.png\n",
      "C:/Users/nisha/MACS/Internship/Data/XL_CarPedDataset_INT_v2_train_val/val\\detection\\xl_visual_session0004_00000316.vis.png\n"
     ]
    },
    {
     "name": "stderr",
     "output_type": "stream",
     "text": [
      " 52%|████████████████████████████████████████▊                                      | 730/1412 [00:28<00:27, 24.41it/s]"
     ]
    },
    {
     "name": "stdout",
     "output_type": "stream",
     "text": [
      "C:/Users/nisha/MACS/Internship/Data/XL_CarPedDataset_INT_v2_train_val/val\\detection\\xl_visual_session0004_00000507.vis.png\n",
      "C:/Users/nisha/MACS/Internship/Data/XL_CarPedDataset_INT_v2_train_val/val\\detection\\xl_visual_session0004_00000512.vis.png\n",
      "C:/Users/nisha/MACS/Internship/Data/XL_CarPedDataset_INT_v2_train_val/val\\detection\\xl_visual_session0004_00000514.vis.png\n",
      "C:/Users/nisha/MACS/Internship/Data/XL_CarPedDataset_INT_v2_train_val/val\\detection\\xl_visual_session0004_00000517.vis.png\n",
      "C:/Users/nisha/MACS/Internship/Data/XL_CarPedDataset_INT_v2_train_val/val\\detection\\xl_visual_session0004_00000532.vis.png\n"
     ]
    },
    {
     "name": "stderr",
     "output_type": "stream",
     "text": [
      "\r",
      " 52%|█████████████████████████████████████████                                      | 733/1412 [00:29<00:28, 23.47it/s]"
     ]
    },
    {
     "name": "stdout",
     "output_type": "stream",
     "text": [
      "C:/Users/nisha/MACS/Internship/Data/XL_CarPedDataset_INT_v2_train_val/val\\detection\\xl_visual_session0004_00000535.vis.png\n",
      "C:/Users/nisha/MACS/Internship/Data/XL_CarPedDataset_INT_v2_train_val/val\\detection\\xl_visual_session0004_00000538.vis.png\n",
      "C:/Users/nisha/MACS/Internship/Data/XL_CarPedDataset_INT_v2_train_val/val\\detection\\xl_visual_session0004_00000546.vis.png\n",
      "C:/Users/nisha/MACS/Internship/Data/XL_CarPedDataset_INT_v2_train_val/val\\detection\\xl_visual_session0004_00000554.vis.png\n",
      "C:/Users/nisha/MACS/Internship/Data/XL_CarPedDataset_INT_v2_train_val/val\\detection\\xl_visual_session0004_00000776.vis.png\n"
     ]
    },
    {
     "name": "stderr",
     "output_type": "stream",
     "text": [
      " 52%|█████████████████████████████████████████▎                                     | 739/1412 [00:29<00:31, 21.45it/s]"
     ]
    },
    {
     "name": "stdout",
     "output_type": "stream",
     "text": [
      "C:/Users/nisha/MACS/Internship/Data/XL_CarPedDataset_INT_v2_train_val/val\\detection\\xl_visual_session0004_00000787.vis.png\n",
      "C:/Users/nisha/MACS/Internship/Data/XL_CarPedDataset_INT_v2_train_val/val\\detection\\xl_visual_session0004_00000794.vis.png\n",
      "C:/Users/nisha/MACS/Internship/Data/XL_CarPedDataset_INT_v2_train_val/val\\detection\\xl_visual_session0004_00000800.vis.png\n",
      "C:/Users/nisha/MACS/Internship/Data/XL_CarPedDataset_INT_v2_train_val/val\\detection\\xl_visual_session0004_00000809.vis.png\n"
     ]
    },
    {
     "name": "stderr",
     "output_type": "stream",
     "text": [
      " 53%|█████████████████████████████████████████▋                                     | 746/1412 [00:29<00:28, 23.64it/s]"
     ]
    },
    {
     "name": "stdout",
     "output_type": "stream",
     "text": [
      "C:/Users/nisha/MACS/Internship/Data/XL_CarPedDataset_INT_v2_train_val/val\\detection\\xl_visual_session0004_00000811.vis.png\n",
      "C:/Users/nisha/MACS/Internship/Data/XL_CarPedDataset_INT_v2_train_val/val\\detection\\xl_visual_session0004_00000812.vis.png\n",
      "C:/Users/nisha/MACS/Internship/Data/XL_CarPedDataset_INT_v2_train_val/val\\detection\\xl_visual_session0004_00000825.vis.png\n",
      "C:/Users/nisha/MACS/Internship/Data/XL_CarPedDataset_INT_v2_train_val/val\\detection\\xl_visual_session0004_00000832.vis.png\n",
      "C:/Users/nisha/MACS/Internship/Data/XL_CarPedDataset_INT_v2_train_val/val\\detection\\xl_visual_session0004_00000836.vis.png\n",
      "C:/Users/nisha/MACS/Internship/Data/XL_CarPedDataset_INT_v2_train_val/val\\detection\\xl_visual_session0004_00000843.vis.png\n"
     ]
    },
    {
     "name": "stderr",
     "output_type": "stream",
     "text": [
      "\r",
      " 53%|█████████████████████████████████████████▉                                     | 749/1412 [00:29<00:29, 22.46it/s]"
     ]
    },
    {
     "name": "stdout",
     "output_type": "stream",
     "text": [
      "C:/Users/nisha/MACS/Internship/Data/XL_CarPedDataset_INT_v2_train_val/val\\detection\\xl_visual_session0004_00000986.vis.png\n",
      "C:/Users/nisha/MACS/Internship/Data/XL_CarPedDataset_INT_v2_train_val/val\\detection\\xl_visual_session0004_00001002.vis.png\n",
      "C:/Users/nisha/MACS/Internship/Data/XL_CarPedDataset_INT_v2_train_val/val\\detection\\xl_visual_session0004_00001003.vis.png\n",
      "C:/Users/nisha/MACS/Internship/Data/XL_CarPedDataset_INT_v2_train_val/val\\detection\\xl_visual_session0004_00001006.vis.png\n",
      "C:/Users/nisha/MACS/Internship/Data/XL_CarPedDataset_INT_v2_train_val/val\\detection\\xl_visual_session0004_00001007.vis.png\n"
     ]
    },
    {
     "name": "stderr",
     "output_type": "stream",
     "text": [
      " 53%|██████████████████████████████████████████▏                                    | 755/1412 [00:30<00:29, 22.09it/s]"
     ]
    },
    {
     "name": "stdout",
     "output_type": "stream",
     "text": [
      "C:/Users/nisha/MACS/Internship/Data/XL_CarPedDataset_INT_v2_train_val/val\\detection\\xl_visual_session0004_00001009.vis.png\n",
      "C:/Users/nisha/MACS/Internship/Data/XL_CarPedDataset_INT_v2_train_val/val\\detection\\xl_visual_session0004_00001014.vis.png\n",
      "C:/Users/nisha/MACS/Internship/Data/XL_CarPedDataset_INT_v2_train_val/val\\detection\\xl_visual_session0004_00001024.vis.png\n",
      "C:/Users/nisha/MACS/Internship/Data/XL_CarPedDataset_INT_v2_train_val/val\\detection\\xl_visual_session0004_00001029.vis.png\n",
      "C:/Users/nisha/MACS/Internship/Data/XL_CarPedDataset_INT_v2_train_val/val\\detection\\xl_visual_session0004_00001036.vis.png\n",
      "C:/Users/nisha/MACS/Internship/Data/XL_CarPedDataset_INT_v2_train_val/val\\detection\\xl_visual_session0004_00001040.vis.png\n"
     ]
    },
    {
     "name": "stderr",
     "output_type": "stream",
     "text": [
      " 54%|██████████████████████████████████████████▊                                    | 765/1412 [00:30<00:22, 29.30it/s]"
     ]
    },
    {
     "name": "stdout",
     "output_type": "stream",
     "text": [
      "C:/Users/nisha/MACS/Internship/Data/XL_CarPedDataset_INT_v2_train_val/val\\detection\\xl_visual_session0004_00001042.vis.png\n",
      "C:/Users/nisha/MACS/Internship/Data/XL_CarPedDataset_INT_v2_train_val/val\\detection\\xl_visual_session0004_00001043.vis.png\n",
      "C:/Users/nisha/MACS/Internship/Data/XL_CarPedDataset_INT_v2_train_val/val\\detection\\xl_visual_session0004_00001332.vis.png\n",
      "C:/Users/nisha/MACS/Internship/Data/XL_CarPedDataset_INT_v2_train_val/val\\detection\\xl_visual_session0004_00001337.vis.png\n",
      "C:/Users/nisha/MACS/Internship/Data/XL_CarPedDataset_INT_v2_train_val/val\\detection\\xl_visual_session0004_00001340.vis.png\n",
      "C:/Users/nisha/MACS/Internship/Data/XL_CarPedDataset_INT_v2_train_val/val\\detection\\xl_visual_session0004_00001346.vis.png\n",
      "C:/Users/nisha/MACS/Internship/Data/XL_CarPedDataset_INT_v2_train_val/val\\detection\\xl_visual_session0004_00001347.vis.png\n",
      "C:/Users/nisha/MACS/Internship/Data/XL_CarPedDataset_INT_v2_train_val/val\\detection\\xl_visual_session0004_00001350.vis.png\n",
      "C:/Users/nisha/MACS/Internship/Data/XL_CarPedDataset_INT_v2_train_val/val\\detection\\xl_visual_session0004_00001353.vis.png"
     ]
    },
    {
     "name": "stderr",
     "output_type": "stream",
     "text": [
      "\r",
      " 54%|███████████████████████████████████████████                                    | 769/1412 [00:30<00:20, 31.62it/s]"
     ]
    },
    {
     "name": "stdout",
     "output_type": "stream",
     "text": [
      "\n",
      "C:/Users/nisha/MACS/Internship/Data/XL_CarPedDataset_INT_v2_train_val/val\\detection\\xl_visual_session0004_00001360.vis.png\n",
      "C:/Users/nisha/MACS/Internship/Data/XL_CarPedDataset_INT_v2_train_val/val\\detection\\xl_visual_session0004_00001366.vis.png\n",
      "C:/Users/nisha/MACS/Internship/Data/XL_CarPedDataset_INT_v2_train_val/val\\detection\\xl_visual_session0004_00001386.vis.png\n",
      "C:/Users/nisha/MACS/Internship/Data/XL_CarPedDataset_INT_v2_train_val/val\\detection\\xl_visual_session0004_00001391.vis.png\n",
      "C:/Users/nisha/MACS/Internship/Data/XL_CarPedDataset_INT_v2_train_val/val\\detection\\xl_visual_session0004_00001392.vis.png\n",
      "C:/Users/nisha/MACS/Internship/Data/XL_CarPedDataset_INT_v2_train_val/val\\detection\\xl_visual_session0004_00001397.vis.png\n",
      "C:/Users/nisha/MACS/Internship/Data/XL_CarPedDataset_INT_v2_train_val/val\\detection\\xl_visual_session0004_00001399.vis.png\n",
      "C:/Users/nisha/MACS/Internship/Data/XL_CarPedDataset_INT_v2_train_val/val\\detection\\xl_visual_session0004_00001402.vis.png"
     ]
    },
    {
     "name": "stderr",
     "output_type": "stream",
     "text": [
      " 55%|███████████████████████████████████████████▌                                   | 778/1412 [00:30<00:18, 34.15it/s]"
     ]
    },
    {
     "name": "stdout",
     "output_type": "stream",
     "text": [
      "\n",
      "C:/Users/nisha/MACS/Internship/Data/XL_CarPedDataset_INT_v2_train_val/val\\detection\\xl_visual_session0004_00001403.vis.png\n",
      "C:/Users/nisha/MACS/Internship/Data/XL_CarPedDataset_INT_v2_train_val/val\\detection\\xl_visual_session0004_00001407.vis.png\n",
      "C:/Users/nisha/MACS/Internship/Data/XL_CarPedDataset_INT_v2_train_val/val\\detection\\xl_visual_session0004_00001421.vis.png\n",
      "C:/Users/nisha/MACS/Internship/Data/XL_CarPedDataset_INT_v2_train_val/val\\detection\\xl_visual_session0004_00001425.vis.png\n",
      "C:/Users/nisha/MACS/Internship/Data/XL_CarPedDataset_INT_v2_train_val/val\\detection\\xl_visual_session0004_00001426.vis.png\n",
      "C:/Users/nisha/MACS/Internship/Data/XL_CarPedDataset_INT_v2_train_val/val\\detection\\xl_visual_session0004_00001427.vis.png\n"
     ]
    },
    {
     "name": "stderr",
     "output_type": "stream",
     "text": [
      "\r",
      " 55%|███████████████████████████████████████████▊                                   | 782/1412 [00:30<00:20, 31.37it/s]"
     ]
    },
    {
     "name": "stdout",
     "output_type": "stream",
     "text": [
      "C:/Users/nisha/MACS/Internship/Data/XL_CarPedDataset_INT_v2_train_val/val\\detection\\xl_visual_session0004_00001511.vis.png\n",
      "C:/Users/nisha/MACS/Internship/Data/XL_CarPedDataset_INT_v2_train_val/val\\detection\\xl_visual_session0004_00001524.vis.png\n",
      "C:/Users/nisha/MACS/Internship/Data/XL_CarPedDataset_INT_v2_train_val/val\\detection\\xl_visual_session0004_00001525.vis.png\n",
      "C:/Users/nisha/MACS/Internship/Data/XL_CarPedDataset_INT_v2_train_val/val\\detection\\xl_visual_session0004_00001536.vis.png\n",
      "C:/Users/nisha/MACS/Internship/Data/XL_CarPedDataset_INT_v2_train_val/val\\detection\\xl_visual_session0004_00001544.vis.png\n"
     ]
    },
    {
     "name": "stderr",
     "output_type": "stream",
     "text": [
      " 56%|████████████████████████████████████████████▏                                  | 789/1412 [00:31<00:24, 25.17it/s]"
     ]
    },
    {
     "name": "stdout",
     "output_type": "stream",
     "text": [
      "C:/Users/nisha/MACS/Internship/Data/XL_CarPedDataset_INT_v2_train_val/val\\detection\\xl_visual_session0004_00001553.vis.png\n",
      "C:/Users/nisha/MACS/Internship/Data/XL_CarPedDataset_INT_v2_train_val/val\\detection\\xl_visual_session0004_00001560.vis.png\n",
      "C:/Users/nisha/MACS/Internship/Data/XL_CarPedDataset_INT_v2_train_val/val\\detection\\xl_visual_session0004_00001563.vis.png\n",
      "C:/Users/nisha/MACS/Internship/Data/XL_CarPedDataset_INT_v2_train_val/val\\detection\\xl_visual_session0004_00001568.vis.png\n"
     ]
    },
    {
     "name": "stderr",
     "output_type": "stream",
     "text": [
      "\r",
      " 56%|████████████████████████████████████████████▎                                  | 792/1412 [00:31<00:26, 22.97it/s]"
     ]
    },
    {
     "name": "stdout",
     "output_type": "stream",
     "text": [
      "C:/Users/nisha/MACS/Internship/Data/XL_CarPedDataset_INT_v2_train_val/val\\detection\\xl_visual_session0004_00001569.vis.png\n",
      "C:/Users/nisha/MACS/Internship/Data/XL_CarPedDataset_INT_v2_train_val/val\\detection\\xl_visual_session0004_00001949.vis.png\n",
      "C:/Users/nisha/MACS/Internship/Data/XL_CarPedDataset_INT_v2_train_val/val\\detection\\xl_visual_session0004_00001957.vis.png\n",
      "C:/Users/nisha/MACS/Internship/Data/XL_CarPedDataset_INT_v2_train_val/val\\detection\\xl_visual_session0004_00001959.vis.png\n"
     ]
    },
    {
     "name": "stderr",
     "output_type": "stream",
     "text": [
      "\r",
      " 56%|████████████████████████████████████████████▍                                  | 795/1412 [00:31<00:28, 21.96it/s]"
     ]
    },
    {
     "name": "stdout",
     "output_type": "stream",
     "text": [
      "C:/Users/nisha/MACS/Internship/Data/XL_CarPedDataset_INT_v2_train_val/val\\detection\\xl_visual_session0004_00001965.vis.png\n",
      "C:/Users/nisha/MACS/Internship/Data/XL_CarPedDataset_INT_v2_train_val/val\\detection\\xl_visual_session0004_00001968.vis.png\n",
      "C:/Users/nisha/MACS/Internship/Data/XL_CarPedDataset_INT_v2_train_val/val\\detection\\xl_visual_session0004_00001985.vis.png\n",
      "C:/Users/nisha/MACS/Internship/Data/XL_CarPedDataset_INT_v2_train_val/val\\detection\\xl_visual_session0004_00001990.vis.png\n"
     ]
    },
    {
     "name": "stderr",
     "output_type": "stream",
     "text": [
      " 57%|████████████████████████████████████████████▊                                  | 801/1412 [00:31<00:26, 22.91it/s]"
     ]
    },
    {
     "name": "stdout",
     "output_type": "stream",
     "text": [
      "C:/Users/nisha/MACS/Internship/Data/XL_CarPedDataset_INT_v2_train_val/val\\detection\\xl_visual_session0004_00001994.vis.png\n",
      "C:/Users/nisha/MACS/Internship/Data/XL_CarPedDataset_INT_v2_train_val/val\\detection\\xl_visual_session0004_00001995.vis.png\n",
      "C:/Users/nisha/MACS/Internship/Data/XL_CarPedDataset_INT_v2_train_val/val\\detection\\xl_visual_session0004_00001999.vis.png\n",
      "C:/Users/nisha/MACS/Internship/Data/XL_CarPedDataset_INT_v2_train_val/val\\detection\\xl_visual_session0004_00002001.vis.png\n",
      "C:/Users/nisha/MACS/Internship/Data/XL_CarPedDataset_INT_v2_train_val/val\\detection\\xl_visual_session0004_00002004.vis.png\n"
     ]
    },
    {
     "name": "stderr",
     "output_type": "stream",
     "text": [
      "\r",
      " 57%|████████████████████████████████████████████▉                                  | 804/1412 [00:31<00:27, 22.45it/s]"
     ]
    },
    {
     "name": "stdout",
     "output_type": "stream",
     "text": [
      "C:/Users/nisha/MACS/Internship/Data/XL_CarPedDataset_INT_v2_train_val/val\\detection\\xl_visual_session0004_00002006.vis.png\n",
      "C:/Users/nisha/MACS/Internship/Data/XL_CarPedDataset_INT_v2_train_val/val\\detection\\xl_visual_session0004_00002010.vis.png\n",
      "C:/Users/nisha/MACS/Internship/Data/XL_CarPedDataset_INT_v2_train_val/val\\detection\\xl_visual_session0004_00002014.vis.png\n",
      "C:/Users/nisha/MACS/Internship/Data/XL_CarPedDataset_INT_v2_train_val/val\\detection\\xl_visual_session0004_00002027.vis.png\n",
      "C:/Users/nisha/MACS/Internship/Data/XL_CarPedDataset_INT_v2_train_val/val\\detection\\xl_visual_session0004_00002030.vis.png\n"
     ]
    },
    {
     "name": "stderr",
     "output_type": "stream",
     "text": [
      " 58%|█████████████████████████████████████████████▌                                 | 815/1412 [00:32<00:20, 28.47it/s]"
     ]
    },
    {
     "name": "stdout",
     "output_type": "stream",
     "text": [
      "C:/Users/nisha/MACS/Internship/Data/XL_CarPedDataset_INT_v2_train_val/val\\detection\\xl_visual_session0004_00002034.vis.png\n",
      "C:/Users/nisha/MACS/Internship/Data/XL_CarPedDataset_INT_v2_train_val/val\\detection\\xl_visual_session0004_00002037.vis.png\n",
      "C:/Users/nisha/MACS/Internship/Data/XL_CarPedDataset_INT_v2_train_val/val\\detection\\xl_visual_session0004_00002041.vis.png\n",
      "C:/Users/nisha/MACS/Internship/Data/XL_CarPedDataset_INT_v2_train_val/val\\detection\\xl_visual_session0004_00002044.vis.png\n",
      "C:/Users/nisha/MACS/Internship/Data/XL_CarPedDataset_INT_v2_train_val/val\\detection\\xl_visual_session0004_00002045.vis.png\n",
      "C:/Users/nisha/MACS/Internship/Data/XL_CarPedDataset_INT_v2_train_val/val\\detection\\xl_visual_session0004_00002049.vis.png\n",
      "C:/Users/nisha/MACS/Internship/Data/XL_CarPedDataset_INT_v2_train_val/val\\detection\\xl_visual_session0004_00002052.vis.png\n",
      "C:/Users/nisha/MACS/Internship/Data/XL_CarPedDataset_INT_v2_train_val/val\\detection\\xl_visual_session0004_00002054.vis.png\n"
     ]
    },
    {
     "name": "stderr",
     "output_type": "stream",
     "text": [
      "\r",
      " 58%|█████████████████████████████████████████████▊                                 | 819/1412 [00:32<00:21, 27.62it/s]"
     ]
    },
    {
     "name": "stdout",
     "output_type": "stream",
     "text": [
      "C:/Users/nisha/MACS/Internship/Data/XL_CarPedDataset_INT_v2_train_val/val\\detection\\xl_visual_session0004_00002056.vis.png\n",
      "C:/Users/nisha/MACS/Internship/Data/XL_CarPedDataset_INT_v2_train_val/val\\detection\\xl_visual_session0004_00002057.vis.png\n",
      "C:/Users/nisha/MACS/Internship/Data/XL_CarPedDataset_INT_v2_train_val/val\\detection\\xl_visual_session0004_00002059.vis.png\n",
      "C:/Users/nisha/MACS/Internship/Data/XL_CarPedDataset_INT_v2_train_val/val\\detection\\xl_visual_session0004_00002063.vis.png\n",
      "C:/Users/nisha/MACS/Internship/Data/XL_CarPedDataset_INT_v2_train_val/val\\detection\\xl_visual_session0004_00002068.vis.png\n",
      "C:/Users/nisha/MACS/Internship/Data/XL_CarPedDataset_INT_v2_train_val/val\\detection\\xl_visual_session0004_00002074.vis.png\n",
      "C:/Users/nisha/MACS/Internship/Data/XL_CarPedDataset_INT_v2_train_val/val\\detection\\xl_visual_session0004_00002087.vis.png"
     ]
    },
    {
     "name": "stderr",
     "output_type": "stream",
     "text": [
      "\r",
      " 58%|██████████████████████████████████████████████                                 | 824/1412 [00:32<00:19, 30.84it/s]"
     ]
    },
    {
     "name": "stdout",
     "output_type": "stream",
     "text": [
      "\n",
      "C:/Users/nisha/MACS/Internship/Data/XL_CarPedDataset_INT_v2_train_val/val\\detection\\xl_visual_session0004_00002101.vis.png\n",
      "C:/Users/nisha/MACS/Internship/Data/XL_CarPedDataset_INT_v2_train_val/val\\detection\\xl_visual_session0004_00002103.vis.png\n",
      "C:/Users/nisha/MACS/Internship/Data/XL_CarPedDataset_INT_v2_train_val/val\\detection\\xl_visual_session0004_00002107.vis.png\n",
      "C:/Users/nisha/MACS/Internship/Data/XL_CarPedDataset_INT_v2_train_val/val\\detection\\xl_visual_session0004_00003295.vis.png\n",
      "C:/Users/nisha/MACS/Internship/Data/XL_CarPedDataset_INT_v2_train_val/val\\detection\\xl_visual_session0004_00003299.vis.png\n",
      "C:/Users/nisha/MACS/Internship/Data/XL_CarPedDataset_INT_v2_train_val/val\\detection\\xl_visual_session0004_00003304.vis.png\n"
     ]
    },
    {
     "name": "stderr",
     "output_type": "stream",
     "text": [
      " 59%|██████████████████████████████████████████████▌                                | 832/1412 [00:32<00:21, 27.48it/s]"
     ]
    },
    {
     "name": "stdout",
     "output_type": "stream",
     "text": [
      "C:/Users/nisha/MACS/Internship/Data/XL_CarPedDataset_INT_v2_train_val/val\\detection\\xl_visual_session0004_00003305.vis.png\n",
      "C:/Users/nisha/MACS/Internship/Data/XL_CarPedDataset_INT_v2_train_val/val\\detection\\xl_visual_session0004_00003306.vis.png\n",
      "C:/Users/nisha/MACS/Internship/Data/XL_CarPedDataset_INT_v2_train_val/val\\detection\\xl_visual_session0004_00003309.vis.png\n",
      "C:/Users/nisha/MACS/Internship/Data/XL_CarPedDataset_INT_v2_train_val/val\\detection\\xl_visual_session0004_00003313.vis.png\n",
      "C:/Users/nisha/MACS/Internship/Data/XL_CarPedDataset_INT_v2_train_val/val\\detection\\xl_visual_session0004_00003314.vis.png\n",
      "C:/Users/nisha/MACS/Internship/Data/XL_CarPedDataset_INT_v2_train_val/val\\detection\\xl_visual_session0004_00003315.vis.png\n"
     ]
    },
    {
     "name": "stderr",
     "output_type": "stream",
     "text": [
      " 59%|██████████████████████████████████████████████▉                                | 838/1412 [00:32<00:22, 25.63it/s]"
     ]
    },
    {
     "name": "stdout",
     "output_type": "stream",
     "text": [
      "C:/Users/nisha/MACS/Internship/Data/XL_CarPedDataset_INT_v2_train_val/val\\detection\\xl_visual_session0004_00003317.vis.png\n",
      "C:/Users/nisha/MACS/Internship/Data/XL_CarPedDataset_INT_v2_train_val/val\\detection\\xl_visual_session0004_00003325.vis.png\n",
      "C:/Users/nisha/MACS/Internship/Data/XL_CarPedDataset_INT_v2_train_val/val\\detection\\xl_visual_session0004_00003329.vis.png\n",
      "C:/Users/nisha/MACS/Internship/Data/XL_CarPedDataset_INT_v2_train_val/val\\detection\\xl_visual_session0004_00003334.vis.png\n",
      "C:/Users/nisha/MACS/Internship/Data/XL_CarPedDataset_INT_v2_train_val/val\\detection\\xl_visual_session0004_00003337.vis.png\n"
     ]
    },
    {
     "name": "stderr",
     "output_type": "stream",
     "text": [
      " 60%|███████████████████████████████████████████████▏                               | 844/1412 [00:33<00:22, 25.46it/s]"
     ]
    },
    {
     "name": "stdout",
     "output_type": "stream",
     "text": [
      "C:/Users/nisha/MACS/Internship/Data/XL_CarPedDataset_INT_v2_train_val/val\\detection\\xl_visual_session0004_00003344.vis.png\n",
      "C:/Users/nisha/MACS/Internship/Data/XL_CarPedDataset_INT_v2_train_val/val\\detection\\xl_visual_session0004_00003348.vis.png\n",
      "C:/Users/nisha/MACS/Internship/Data/XL_CarPedDataset_INT_v2_train_val/val\\detection\\xl_visual_session0004_00003350.vis.png\n",
      "C:/Users/nisha/MACS/Internship/Data/XL_CarPedDataset_INT_v2_train_val/val\\detection\\xl_visual_session0004_00003351.vis.png\n",
      "C:/Users/nisha/MACS/Internship/Data/XL_CarPedDataset_INT_v2_train_val/val\\detection\\xl_visual_session0004_00003358.vis.png\n"
     ]
    },
    {
     "name": "stderr",
     "output_type": "stream",
     "text": [
      "\r",
      " 60%|███████████████████████████████████████████████▍                               | 847/1412 [00:33<00:25, 22.18it/s]"
     ]
    },
    {
     "name": "stdout",
     "output_type": "stream",
     "text": [
      "C:/Users/nisha/MACS/Internship/Data/XL_CarPedDataset_INT_v2_train_val/val\\detection\\xl_visual_session0004_00003373.vis.png\n",
      "C:/Users/nisha/MACS/Internship/Data/XL_CarPedDataset_INT_v2_train_val/val\\detection\\xl_visual_session0004_00003376.vis.png\n",
      "C:/Users/nisha/MACS/Internship/Data/XL_CarPedDataset_INT_v2_train_val/val\\detection\\xl_visual_session0004_00003379.vis.png\n",
      "C:/Users/nisha/MACS/Internship/Data/XL_CarPedDataset_INT_v2_train_val/val\\detection\\xl_visual_session0005_00000131.vis.png\n"
     ]
    },
    {
     "name": "stderr",
     "output_type": "stream",
     "text": [
      " 60%|███████████████████████████████████████████████▋                               | 853/1412 [00:33<00:25, 22.19it/s]"
     ]
    },
    {
     "name": "stdout",
     "output_type": "stream",
     "text": [
      "C:/Users/nisha/MACS/Internship/Data/XL_CarPedDataset_INT_v2_train_val/val\\detection\\xl_visual_session0005_00000133.vis.png\n",
      "C:/Users/nisha/MACS/Internship/Data/XL_CarPedDataset_INT_v2_train_val/val\\detection\\xl_visual_session0005_00000148.vis.png\n",
      "C:/Users/nisha/MACS/Internship/Data/XL_CarPedDataset_INT_v2_train_val/val\\detection\\xl_visual_session0005_00000150.vis.png\n",
      "C:/Users/nisha/MACS/Internship/Data/XL_CarPedDataset_INT_v2_train_val/val\\detection\\xl_visual_session0005_00000152.vis.png\n",
      "C:/Users/nisha/MACS/Internship/Data/XL_CarPedDataset_INT_v2_train_val/val\\detection\\xl_visual_session0005_00000160.vis.png\n",
      "C:/Users/nisha/MACS/Internship/Data/XL_CarPedDataset_INT_v2_train_val/val\\detection\\xl_visual_session0005_00000162.vis.png\n"
     ]
    },
    {
     "name": "stderr",
     "output_type": "stream",
     "text": [
      "\r",
      " 61%|███████████████████████████████████████████████▉                               | 856/1412 [00:33<00:23, 23.55it/s]"
     ]
    },
    {
     "name": "stdout",
     "output_type": "stream",
     "text": [
      "C:/Users/nisha/MACS/Internship/Data/XL_CarPedDataset_INT_v2_train_val/val\\detection\\xl_visual_session0005_00000168.vis.png\n",
      "C:/Users/nisha/MACS/Internship/Data/XL_CarPedDataset_INT_v2_train_val/val\\detection\\xl_visual_session0005_00000175.vis.png\n",
      "C:/Users/nisha/MACS/Internship/Data/XL_CarPedDataset_INT_v2_train_val/val\\detection\\xl_visual_session0005_00000193.vis.png\n",
      "C:/Users/nisha/MACS/Internship/Data/XL_CarPedDataset_INT_v2_train_val/val\\detection\\xl_visual_session0005_00000195.vis.png\n",
      "C:/Users/nisha/MACS/Internship/Data/XL_CarPedDataset_INT_v2_train_val/val\\detection\\xl_visual_session0005_00000201.vis.png"
     ]
    },
    {
     "name": "stderr",
     "output_type": "stream",
     "text": [
      " 61%|████████████████████████████████████████████████▏                              | 862/1412 [00:34<00:23, 23.78it/s]"
     ]
    },
    {
     "name": "stdout",
     "output_type": "stream",
     "text": [
      "\n",
      "C:/Users/nisha/MACS/Internship/Data/XL_CarPedDataset_INT_v2_train_val/val\\detection\\xl_visual_session0005_00000250.vis.png\n",
      "C:/Users/nisha/MACS/Internship/Data/XL_CarPedDataset_INT_v2_train_val/val\\detection\\xl_visual_session0005_00000256.vis.png\n",
      "C:/Users/nisha/MACS/Internship/Data/XL_CarPedDataset_INT_v2_train_val/val\\detection\\xl_visual_session0005_00000264.vis.png\n",
      "C:/Users/nisha/MACS/Internship/Data/XL_CarPedDataset_INT_v2_train_val/val\\detection\\xl_visual_session0005_00000291.vis.png\n",
      "C:/Users/nisha/MACS/Internship/Data/XL_CarPedDataset_INT_v2_train_val/val\\detection\\xl_visual_session0005_00000297.vis.png\n"
     ]
    },
    {
     "name": "stderr",
     "output_type": "stream",
     "text": [
      " 61%|████████████████████████████████████████████████▌                              | 868/1412 [00:34<00:20, 26.15it/s]"
     ]
    },
    {
     "name": "stdout",
     "output_type": "stream",
     "text": [
      "C:/Users/nisha/MACS/Internship/Data/XL_CarPedDataset_INT_v2_train_val/val\\detection\\xl_visual_session0005_00000317.vis.png\n",
      "C:/Users/nisha/MACS/Internship/Data/XL_CarPedDataset_INT_v2_train_val/val\\detection\\xl_visual_session0005_00000321.vis.png\n",
      "C:/Users/nisha/MACS/Internship/Data/XL_CarPedDataset_INT_v2_train_val/val\\detection\\xl_visual_session0005_00000327.vis.png\n",
      "C:/Users/nisha/MACS/Internship/Data/XL_CarPedDataset_INT_v2_train_val/val\\detection\\xl_visual_session0005_00000346.vis.png\n",
      "C:/Users/nisha/MACS/Internship/Data/XL_CarPedDataset_INT_v2_train_val/val\\detection\\xl_visual_session0005_00000354.vis.png\n",
      "C:/Users/nisha/MACS/Internship/Data/XL_CarPedDataset_INT_v2_train_val/val\\detection\\xl_visual_session0005_00000362.vis.png\n"
     ]
    },
    {
     "name": "stderr",
     "output_type": "stream",
     "text": [
      " 62%|████████████████████████████████████████████████▉                              | 874/1412 [00:34<00:23, 22.95it/s]"
     ]
    },
    {
     "name": "stdout",
     "output_type": "stream",
     "text": [
      "C:/Users/nisha/MACS/Internship/Data/XL_CarPedDataset_INT_v2_train_val/val\\detection\\xl_visual_session0005_00000379.vis.png\n",
      "C:/Users/nisha/MACS/Internship/Data/XL_CarPedDataset_INT_v2_train_val/val\\detection\\xl_visual_session0005_00000381.vis.png\n",
      "C:/Users/nisha/MACS/Internship/Data/XL_CarPedDataset_INT_v2_train_val/val\\detection\\xl_visual_session0005_00000397.vis.png\n",
      "C:/Users/nisha/MACS/Internship/Data/XL_CarPedDataset_INT_v2_train_val/val\\detection\\xl_visual_session0005_00000411.vis.png\n"
     ]
    },
    {
     "name": "stderr",
     "output_type": "stream",
     "text": [
      "\r",
      " 62%|█████████████████████████████████████████████████                              | 877/1412 [00:34<00:24, 22.13it/s]"
     ]
    },
    {
     "name": "stdout",
     "output_type": "stream",
     "text": [
      "C:/Users/nisha/MACS/Internship/Data/XL_CarPedDataset_INT_v2_train_val/val\\detection\\xl_visual_session0005_00000425.vis.png\n",
      "C:/Users/nisha/MACS/Internship/Data/XL_CarPedDataset_INT_v2_train_val/val\\detection\\xl_visual_session0005_00000449.vis.png\n",
      "C:/Users/nisha/MACS/Internship/Data/XL_CarPedDataset_INT_v2_train_val/val\\detection\\xl_visual_session0005_00000451.vis.png\n",
      "C:/Users/nisha/MACS/Internship/Data/XL_CarPedDataset_INT_v2_train_val/val\\detection\\xl_visual_session0005_00000453.vis.png\n",
      "C:/Users/nisha/MACS/Internship/Data/XL_CarPedDataset_INT_v2_train_val/val\\detection\\xl_visual_session0005_00000457.vis.png\n"
     ]
    },
    {
     "name": "stderr",
     "output_type": "stream",
     "text": [
      " 63%|█████████████████████████████████████████████████▍                             | 883/1412 [00:34<00:23, 22.11it/s]"
     ]
    },
    {
     "name": "stdout",
     "output_type": "stream",
     "text": [
      "C:/Users/nisha/MACS/Internship/Data/XL_CarPedDataset_INT_v2_train_val/val\\detection\\xl_visual_session0005_00000469.vis.png\n",
      "C:/Users/nisha/MACS/Internship/Data/XL_CarPedDataset_INT_v2_train_val/val\\detection\\xl_visual_session0005_00000477.vis.png\n",
      "C:/Users/nisha/MACS/Internship/Data/XL_CarPedDataset_INT_v2_train_val/val\\detection\\xl_visual_session0005_00000489.vis.png\n",
      "C:/Users/nisha/MACS/Internship/Data/XL_CarPedDataset_INT_v2_train_val/val\\detection\\xl_visual_session0005_00000493.vis.png\n"
     ]
    },
    {
     "name": "stderr",
     "output_type": "stream",
     "text": [
      "\r",
      " 63%|█████████████████████████████████████████████████▌                             | 886/1412 [00:35<00:24, 21.24it/s]"
     ]
    },
    {
     "name": "stdout",
     "output_type": "stream",
     "text": [
      "C:/Users/nisha/MACS/Internship/Data/XL_CarPedDataset_INT_v2_train_val/val\\detection\\xl_visual_session0005_00000505.vis.png\n",
      "C:/Users/nisha/MACS/Internship/Data/XL_CarPedDataset_INT_v2_train_val/val\\detection\\xl_visual_session0005_00000630.vis.png\n",
      "C:/Users/nisha/MACS/Internship/Data/XL_CarPedDataset_INT_v2_train_val/val\\detection\\xl_visual_session0005_00000647.vis.png\n",
      "C:/Users/nisha/MACS/Internship/Data/XL_CarPedDataset_INT_v2_train_val/val\\detection\\xl_visual_session0005_00000649.vis.png\n"
     ]
    },
    {
     "name": "stderr",
     "output_type": "stream",
     "text": [
      "\r",
      " 63%|█████████████████████████████████████████████████▋                             | 889/1412 [00:35<00:23, 22.36it/s]"
     ]
    },
    {
     "name": "stdout",
     "output_type": "stream",
     "text": [
      "C:/Users/nisha/MACS/Internship/Data/XL_CarPedDataset_INT_v2_train_val/val\\detection\\xl_visual_session0005_00000655.vis.png\n",
      "C:/Users/nisha/MACS/Internship/Data/XL_CarPedDataset_INT_v2_train_val/val\\detection\\xl_visual_session0005_00000688.vis.png\n",
      "C:/Users/nisha/MACS/Internship/Data/XL_CarPedDataset_INT_v2_train_val/val\\detection\\xl_visual_session0005_00000690.vis.png\n",
      "C:/Users/nisha/MACS/Internship/Data/XL_CarPedDataset_INT_v2_train_val/val\\detection\\xl_visual_session0005_00000692.vis.png\n",
      "C:/Users/nisha/MACS/Internship/Data/XL_CarPedDataset_INT_v2_train_val/val\\detection\\xl_visual_session0005_00000694.vis.png\n",
      "C:/Users/nisha/MACS/Internship/Data/XL_CarPedDataset_INT_v2_train_val/val\\detection\\xl_visual_session0005_00000698.vis.png\n"
     ]
    },
    {
     "name": "stderr",
     "output_type": "stream",
     "text": [
      " 63%|██████████████████████████████████████████████████▏                            | 896/1412 [00:35<00:21, 23.70it/s]"
     ]
    },
    {
     "name": "stdout",
     "output_type": "stream",
     "text": [
      "C:/Users/nisha/MACS/Internship/Data/XL_CarPedDataset_INT_v2_train_val/val\\detection\\xl_visual_session0005_00000717.vis.png\n",
      "C:/Users/nisha/MACS/Internship/Data/XL_CarPedDataset_INT_v2_train_val/val\\detection\\xl_visual_session0005_00000766.vis.png\n",
      "C:/Users/nisha/MACS/Internship/Data/XL_CarPedDataset_INT_v2_train_val/val\\detection\\xl_visual_session0005_00000774.vis.png\n",
      "C:/Users/nisha/MACS/Internship/Data/XL_CarPedDataset_INT_v2_train_val/val\\detection\\xl_visual_session0005_00000780.vis.png\n"
     ]
    },
    {
     "name": "stderr",
     "output_type": "stream",
     "text": [
      "\r",
      " 64%|██████████████████████████████████████████████████▎                            | 899/1412 [00:35<00:24, 21.31it/s]"
     ]
    },
    {
     "name": "stdout",
     "output_type": "stream",
     "text": [
      "C:/Users/nisha/MACS/Internship/Data/XL_CarPedDataset_INT_v2_train_val/val\\detection\\xl_visual_session0005_00000800.vis.png\n",
      "C:/Users/nisha/MACS/Internship/Data/XL_CarPedDataset_INT_v2_train_val/val\\detection\\xl_visual_session0005_00000820.vis.png\n",
      "C:/Users/nisha/MACS/Internship/Data/XL_CarPedDataset_INT_v2_train_val/val\\detection\\xl_visual_session0005_00000824.vis.png\n",
      "C:/Users/nisha/MACS/Internship/Data/XL_CarPedDataset_INT_v2_train_val/val\\detection\\xl_visual_session0005_00000838.vis.png\n",
      "C:/Users/nisha/MACS/Internship/Data/XL_CarPedDataset_INT_v2_train_val/val\\detection\\xl_visual_session0005_00000845.vis.png\n"
     ]
    },
    {
     "name": "stderr",
     "output_type": "stream",
     "text": [
      " 64%|██████████████████████████████████████████████████▋                            | 905/1412 [00:35<00:22, 22.79it/s]"
     ]
    },
    {
     "name": "stdout",
     "output_type": "stream",
     "text": [
      "C:/Users/nisha/MACS/Internship/Data/XL_CarPedDataset_INT_v2_train_val/val\\detection\\xl_visual_session0005_00000857.vis.png\n",
      "C:/Users/nisha/MACS/Internship/Data/XL_CarPedDataset_INT_v2_train_val/val\\detection\\xl_visual_session0005_00000863.vis.png\n",
      "C:/Users/nisha/MACS/Internship/Data/XL_CarPedDataset_INT_v2_train_val/val\\detection\\xl_visual_session0005_00000869.vis.png\n",
      "C:/Users/nisha/MACS/Internship/Data/XL_CarPedDataset_INT_v2_train_val/val\\detection\\xl_visual_session0005_00000884.vis.png\n",
      "C:/Users/nisha/MACS/Internship/Data/XL_CarPedDataset_INT_v2_train_val/val\\detection\\xl_visual_session0005_00000886.vis.png\n"
     ]
    },
    {
     "name": "stderr",
     "output_type": "stream",
     "text": [
      " 65%|███████████████████████████████████████████████████                            | 912/1412 [00:36<00:20, 24.06it/s]"
     ]
    },
    {
     "name": "stdout",
     "output_type": "stream",
     "text": [
      "C:/Users/nisha/MACS/Internship/Data/XL_CarPedDataset_INT_v2_train_val/val\\detection\\xl_visual_session0005_00000888.vis.png\n",
      "C:/Users/nisha/MACS/Internship/Data/XL_CarPedDataset_INT_v2_train_val/val\\detection\\xl_visual_session0005_00000894.vis.png\n",
      "C:/Users/nisha/MACS/Internship/Data/XL_CarPedDataset_INT_v2_train_val/val\\detection\\xl_visual_session0005_00000900.vis.png\n",
      "C:/Users/nisha/MACS/Internship/Data/XL_CarPedDataset_INT_v2_train_val/val\\detection\\xl_visual_session0005_00000904.vis.png\n",
      "C:/Users/nisha/MACS/Internship/Data/XL_CarPedDataset_INT_v2_train_val/val\\detection\\xl_visual_session0005_00000920.vis.png\n",
      "C:/Users/nisha/MACS/Internship/Data/XL_CarPedDataset_INT_v2_train_val/val\\detection\\xl_visual_session0005_00000928.vis.png\n"
     ]
    },
    {
     "name": "stderr",
     "output_type": "stream",
     "text": [
      "\r",
      " 65%|███████████████████████████████████████████████████▏                           | 915/1412 [00:36<00:21, 23.15it/s]"
     ]
    },
    {
     "name": "stdout",
     "output_type": "stream",
     "text": [
      "C:/Users/nisha/MACS/Internship/Data/XL_CarPedDataset_INT_v2_train_val/val\\detection\\xl_visual_session0005_00000934.vis.png\n",
      "C:/Users/nisha/MACS/Internship/Data/XL_CarPedDataset_INT_v2_train_val/val\\detection\\xl_visual_session0005_00000957.vis.png\n",
      "C:/Users/nisha/MACS/Internship/Data/XL_CarPedDataset_INT_v2_train_val/val\\detection\\xl_visual_session0005_00000965.vis.png\n",
      "C:/Users/nisha/MACS/Internship/Data/XL_CarPedDataset_INT_v2_train_val/val\\detection\\xl_visual_session0005_00000969.vis.png\n",
      "C:/Users/nisha/MACS/Internship/Data/XL_CarPedDataset_INT_v2_train_val/val\\detection\\xl_visual_session0005_00000977.vis.png\n"
     ]
    },
    {
     "name": "stderr",
     "output_type": "stream",
     "text": [
      " 65%|███████████████████████████████████████████████████▌                           | 921/1412 [00:36<00:22, 22.30it/s]"
     ]
    },
    {
     "name": "stdout",
     "output_type": "stream",
     "text": [
      "C:/Users/nisha/MACS/Internship/Data/XL_CarPedDataset_INT_v2_train_val/val\\detection\\xl_visual_session0005_00001013.vis.png\n",
      "C:/Users/nisha/MACS/Internship/Data/XL_CarPedDataset_INT_v2_train_val/val\\detection\\xl_visual_session0005_00001029.vis.png\n",
      "C:/Users/nisha/MACS/Internship/Data/XL_CarPedDataset_INT_v2_train_val/val\\detection\\xl_visual_session0005_00001033.vis.png\n",
      "C:/Users/nisha/MACS/Internship/Data/XL_CarPedDataset_INT_v2_train_val/val\\detection\\xl_visual_session0005_00001045.vis.png\n",
      "C:/Users/nisha/MACS/Internship/Data/XL_CarPedDataset_INT_v2_train_val/val\\detection\\xl_visual_session0005_00001049.vis.png\n",
      "C:/Users/nisha/MACS/Internship/Data/XL_CarPedDataset_INT_v2_train_val/val\\detection\\xl_visual_session0005_00001055.vis.png\n"
     ]
    },
    {
     "name": "stderr",
     "output_type": "stream",
     "text": [
      " 66%|███████████████████████████████████████████████████▊                           | 927/1412 [00:36<00:19, 24.50it/s]"
     ]
    },
    {
     "name": "stdout",
     "output_type": "stream",
     "text": [
      "C:/Users/nisha/MACS/Internship/Data/XL_CarPedDataset_INT_v2_train_val/val\\detection\\xl_visual_session0005_00001057.vis.png\n",
      "C:/Users/nisha/MACS/Internship/Data/XL_CarPedDataset_INT_v2_train_val/val\\detection\\xl_visual_session0005_00001061.vis.png\n",
      "C:/Users/nisha/MACS/Internship/Data/XL_CarPedDataset_INT_v2_train_val/val\\detection\\xl_visual_session0005_00001063.vis.png\n",
      "C:/Users/nisha/MACS/Internship/Data/XL_CarPedDataset_INT_v2_train_val/val\\detection\\xl_visual_session0005_00001069.vis.png\n",
      "C:/Users/nisha/MACS/Internship/Data/XL_CarPedDataset_INT_v2_train_val/val\\detection\\xl_visual_session0005_00001081.vis.png\n",
      "C:/Users/nisha/MACS/Internship/Data/XL_CarPedDataset_INT_v2_train_val/val\\detection\\xl_visual_session0005_00001280.vis.png\n"
     ]
    },
    {
     "name": "stderr",
     "output_type": "stream",
     "text": [
      " 66%|████████████████████████████████████████████████████▏                          | 933/1412 [00:37<00:19, 24.87it/s]"
     ]
    },
    {
     "name": "stdout",
     "output_type": "stream",
     "text": [
      "C:/Users/nisha/MACS/Internship/Data/XL_CarPedDataset_INT_v2_train_val/val\\detection\\xl_visual_session0005_00001290.vis.png\n",
      "C:/Users/nisha/MACS/Internship/Data/XL_CarPedDataset_INT_v2_train_val/val\\detection\\xl_visual_session0005_00001294.vis.png\n",
      "C:/Users/nisha/MACS/Internship/Data/XL_CarPedDataset_INT_v2_train_val/val\\detection\\xl_visual_session0005_00001298.vis.png\n",
      "C:/Users/nisha/MACS/Internship/Data/XL_CarPedDataset_INT_v2_train_val/val\\detection\\xl_visual_session0005_00001322.vis.png\n",
      "C:/Users/nisha/MACS/Internship/Data/XL_CarPedDataset_INT_v2_train_val/val\\detection\\xl_visual_session0005_00001328.vis.png\n",
      "C:/Users/nisha/MACS/Internship/Data/XL_CarPedDataset_INT_v2_train_val/val\\detection\\xl_visual_session0005_00001336.vis.png\n"
     ]
    },
    {
     "name": "stderr",
     "output_type": "stream",
     "text": [
      " 67%|████████████████████████████████████████████████████▌                          | 940/1412 [00:37<00:19, 23.74it/s]"
     ]
    },
    {
     "name": "stdout",
     "output_type": "stream",
     "text": [
      "C:/Users/nisha/MACS/Internship/Data/XL_CarPedDataset_INT_v2_train_val/val\\detection\\xl_visual_session0005_00001338.vis.png\n",
      "C:/Users/nisha/MACS/Internship/Data/XL_CarPedDataset_INT_v2_train_val/val\\detection\\xl_visual_session0005_00001350.vis.png\n",
      "C:/Users/nisha/MACS/Internship/Data/XL_CarPedDataset_INT_v2_train_val/val\\detection\\xl_visual_session0005_00001354.vis.png\n",
      "C:/Users/nisha/MACS/Internship/Data/XL_CarPedDataset_INT_v2_train_val/val\\detection\\xl_visual_session0005_00001358.vis.png\n"
     ]
    },
    {
     "name": "stderr",
     "output_type": "stream",
     "text": [
      "\r",
      " 67%|████████████████████████████████████████████████████▊                          | 944/1412 [00:37<00:18, 24.65it/s]"
     ]
    },
    {
     "name": "stdout",
     "output_type": "stream",
     "text": [
      "C:/Users/nisha/MACS/Internship/Data/XL_CarPedDataset_INT_v2_train_val/val\\detection\\xl_visual_session0005_00001374.vis.png\n",
      "C:/Users/nisha/MACS/Internship/Data/XL_CarPedDataset_INT_v2_train_val/val\\detection\\xl_visual_session0005_00001384.vis.png\n",
      "C:/Users/nisha/MACS/Internship/Data/XL_CarPedDataset_INT_v2_train_val/val\\detection\\xl_visual_session0005_00001392.vis.png\n",
      "C:/Users/nisha/MACS/Internship/Data/XL_CarPedDataset_INT_v2_train_val/val\\detection\\xl_visual_session0005_00001398.vis.png\n",
      "C:/Users/nisha/MACS/Internship/Data/XL_CarPedDataset_INT_v2_train_val/val\\detection\\xl_visual_session0005_00001400.vis.png\n"
     ]
    },
    {
     "name": "stderr",
     "output_type": "stream",
     "text": [
      " 67%|█████████████████████████████████████████████████████▏                         | 950/1412 [00:37<00:18, 25.00it/s]"
     ]
    },
    {
     "name": "stdout",
     "output_type": "stream",
     "text": [
      "C:/Users/nisha/MACS/Internship/Data/XL_CarPedDataset_INT_v2_train_val/val\\detection\\xl_visual_session0005_00002644.vis.png\n",
      "C:/Users/nisha/MACS/Internship/Data/XL_CarPedDataset_INT_v2_train_val/val\\detection\\xl_visual_session0005_00002646.vis.png\n",
      "C:/Users/nisha/MACS/Internship/Data/XL_CarPedDataset_INT_v2_train_val/val\\detection\\xl_visual_session0005_00002652.vis.png\n",
      "C:/Users/nisha/MACS/Internship/Data/XL_CarPedDataset_INT_v2_train_val/val\\detection\\xl_visual_session0005_00002658.vis.png\n",
      "C:/Users/nisha/MACS/Internship/Data/XL_CarPedDataset_INT_v2_train_val/val\\detection\\xl_visual_session0005_00002674.vis.png\n"
     ]
    },
    {
     "name": "stderr",
     "output_type": "stream",
     "text": [
      "\r",
      " 67%|█████████████████████████████████████████████████████▎                         | 953/1412 [00:37<00:17, 25.97it/s]"
     ]
    },
    {
     "name": "stdout",
     "output_type": "stream",
     "text": [
      "C:/Users/nisha/MACS/Internship/Data/XL_CarPedDataset_INT_v2_train_val/val\\detection\\xl_visual_session0005_00002678.vis.png\n",
      "C:/Users/nisha/MACS/Internship/Data/XL_CarPedDataset_INT_v2_train_val/val\\detection\\xl_visual_session0005_00002680.vis.png\n",
      "C:/Users/nisha/MACS/Internship/Data/XL_CarPedDataset_INT_v2_train_val/val\\detection\\xl_visual_session0005_00002682.vis.png\n",
      "C:/Users/nisha/MACS/Internship/Data/XL_CarPedDataset_INT_v2_train_val/val\\detection\\xl_visual_session0005_00002684.vis.png\n",
      "C:/Users/nisha/MACS/Internship/Data/XL_CarPedDataset_INT_v2_train_val/val\\detection\\xl_visual_session0005_00002690.vis.png\n"
     ]
    },
    {
     "name": "stderr",
     "output_type": "stream",
     "text": [
      " 68%|█████████████████████████████████████████████████████▋                         | 959/1412 [00:38<00:18, 24.22it/s]"
     ]
    },
    {
     "name": "stdout",
     "output_type": "stream",
     "text": [
      "C:/Users/nisha/MACS/Internship/Data/XL_CarPedDataset_INT_v2_train_val/val\\detection\\xl_visual_session0005_00002698.vis.png\n",
      "C:/Users/nisha/MACS/Internship/Data/XL_CarPedDataset_INT_v2_train_val/val\\detection\\xl_visual_session0005_00002710.vis.png\n",
      "C:/Users/nisha/MACS/Internship/Data/XL_CarPedDataset_INT_v2_train_val/val\\detection\\xl_visual_session0005_00002712.vis.png\n",
      "C:/Users/nisha/MACS/Internship/Data/XL_CarPedDataset_INT_v2_train_val/val\\detection\\xl_visual_session0005_00002714.vis.png\n",
      "C:/Users/nisha/MACS/Internship/Data/XL_CarPedDataset_INT_v2_train_val/val\\detection\\xl_visual_session0005_00002733.vis.png\n"
     ]
    },
    {
     "name": "stderr",
     "output_type": "stream",
     "text": [
      "\r",
      " 68%|█████████████████████████████████████████████████████▊                         | 962/1412 [00:38<00:18, 24.94it/s]"
     ]
    },
    {
     "name": "stdout",
     "output_type": "stream",
     "text": [
      "C:/Users/nisha/MACS/Internship/Data/XL_CarPedDataset_INT_v2_train_val/val\\detection\\xl_visual_session0005_00002735.vis.png\n",
      "C:/Users/nisha/MACS/Internship/Data/XL_CarPedDataset_INT_v2_train_val/val\\detection\\xl_visual_session0005_00002737.vis.png\n",
      "C:/Users/nisha/MACS/Internship/Data/XL_CarPedDataset_INT_v2_train_val/val\\detection\\xl_visual_session0005_00002745.vis.png\n",
      "C:/Users/nisha/MACS/Internship/Data/XL_CarPedDataset_INT_v2_train_val/val\\detection\\xl_visual_session0005_00002765.vis.png\n",
      "C:/Users/nisha/MACS/Internship/Data/XL_CarPedDataset_INT_v2_train_val/val\\detection\\xl_visual_session0005_00002772.vis.png"
     ]
    },
    {
     "name": "stderr",
     "output_type": "stream",
     "text": [
      " 69%|██████████████████████████████████████████████████████▏                        | 968/1412 [00:38<00:20, 21.82it/s]"
     ]
    },
    {
     "name": "stdout",
     "output_type": "stream",
     "text": [
      "\n",
      "C:/Users/nisha/MACS/Internship/Data/XL_CarPedDataset_INT_v2_train_val/val\\detection\\xl_visual_session0005_00002774.vis.png\n",
      "C:/Users/nisha/MACS/Internship/Data/XL_CarPedDataset_INT_v2_train_val/val\\detection\\xl_visual_session0005_00002800.vis.png\n",
      "C:/Users/nisha/MACS/Internship/Data/XL_CarPedDataset_INT_v2_train_val/val\\detection\\xl_visual_session0005_00002813.vis.png\n"
     ]
    },
    {
     "name": "stderr",
     "output_type": "stream",
     "text": [
      "\r",
      " 69%|██████████████████████████████████████████████████████▎                        | 971/1412 [00:38<00:20, 22.02it/s]"
     ]
    },
    {
     "name": "stdout",
     "output_type": "stream",
     "text": [
      "C:/Users/nisha/MACS/Internship/Data/XL_CarPedDataset_INT_v2_train_val/val\\detection\\xl_visual_session0005_00002815.vis.png\n",
      "C:/Users/nisha/MACS/Internship/Data/XL_CarPedDataset_INT_v2_train_val/val\\detection\\xl_visual_session0005_00002819.vis.png\n",
      "C:/Users/nisha/MACS/Internship/Data/XL_CarPedDataset_INT_v2_train_val/val\\detection\\xl_visual_session0005_00002821.vis.png\n",
      "C:/Users/nisha/MACS/Internship/Data/XL_CarPedDataset_INT_v2_train_val/val\\detection\\xl_visual_session0005_00003322.vis.png\n",
      "C:/Users/nisha/MACS/Internship/Data/XL_CarPedDataset_INT_v2_train_val/val\\detection\\xl_visual_session0005_00003365.vis.png\n"
     ]
    },
    {
     "name": "stderr",
     "output_type": "stream",
     "text": [
      " 69%|██████████████████████████████████████████████████████▋                        | 977/1412 [00:38<00:17, 24.31it/s]"
     ]
    },
    {
     "name": "stdout",
     "output_type": "stream",
     "text": [
      "C:/Users/nisha/MACS/Internship/Data/XL_CarPedDataset_INT_v2_train_val/val\\detection\\xl_visual_session0005_00003380.vis.png\n",
      "C:/Users/nisha/MACS/Internship/Data/XL_CarPedDataset_INT_v2_train_val/val\\detection\\xl_visual_session0005_00003382.vis.png\n",
      "C:/Users/nisha/MACS/Internship/Data/XL_CarPedDataset_INT_v2_train_val/val\\detection\\xl_visual_session0005_00003384.vis.png\n",
      "C:/Users/nisha/MACS/Internship/Data/XL_CarPedDataset_INT_v2_train_val/val\\detection\\xl_visual_session0005_00003386.vis.png\n",
      "C:/Users/nisha/MACS/Internship/Data/XL_CarPedDataset_INT_v2_train_val/val\\detection\\xl_visual_session0005_00003391.vis.png\n"
     ]
    },
    {
     "name": "stderr",
     "output_type": "stream",
     "text": [
      "\r",
      " 69%|██████████████████████████████████████████████████████▊                        | 980/1412 [00:39<00:18, 23.07it/s]"
     ]
    },
    {
     "name": "stdout",
     "output_type": "stream",
     "text": [
      "C:/Users/nisha/MACS/Internship/Data/XL_CarPedDataset_INT_v2_train_val/val\\detection\\xl_visual_session0005_00003409.vis.png\n",
      "C:/Users/nisha/MACS/Internship/Data/XL_CarPedDataset_INT_v2_train_val/val\\detection\\xl_visual_session0005_00003413.vis.png\n",
      "C:/Users/nisha/MACS/Internship/Data/XL_CarPedDataset_INT_v2_train_val/val\\detection\\xl_visual_session0005_00003427.vis.png\n",
      "C:/Users/nisha/MACS/Internship/Data/XL_CarPedDataset_INT_v2_train_val/val\\detection\\xl_visual_session0005_00003443.vis.png\n",
      "C:/Users/nisha/MACS/Internship/Data/XL_CarPedDataset_INT_v2_train_val/val\\detection\\xl_visual_session0005_00003454.vis.png\n"
     ]
    },
    {
     "name": "stderr",
     "output_type": "stream",
     "text": [
      " 70%|███████████████████████████████████████████████████████▏                       | 986/1412 [00:39<00:17, 24.06it/s]"
     ]
    },
    {
     "name": "stdout",
     "output_type": "stream",
     "text": [
      "C:/Users/nisha/MACS/Internship/Data/XL_CarPedDataset_INT_v2_train_val/val\\detection\\xl_visual_session0005_00003456.vis.png\n",
      "C:/Users/nisha/MACS/Internship/Data/XL_CarPedDataset_INT_v2_train_val/val\\detection\\xl_visual_session0005_00003458.vis.png\n",
      "C:/Users/nisha/MACS/Internship/Data/XL_CarPedDataset_INT_v2_train_val/val\\detection\\xl_visual_session0005_00003494.vis.png\n",
      "C:/Users/nisha/MACS/Internship/Data/XL_CarPedDataset_INT_v2_train_val/val\\detection\\xl_visual_session0005_00003506.vis.png\n",
      "C:/Users/nisha/MACS/Internship/Data/XL_CarPedDataset_INT_v2_train_val/val\\detection\\xl_visual_session0005_00003518.vis.png\n"
     ]
    },
    {
     "name": "stderr",
     "output_type": "stream",
     "text": [
      " 70%|███████████████████████████████████████████████████████▌                       | 993/1412 [00:39<00:16, 25.27it/s]"
     ]
    },
    {
     "name": "stdout",
     "output_type": "stream",
     "text": [
      "C:/Users/nisha/MACS/Internship/Data/XL_CarPedDataset_INT_v2_train_val/val\\detection\\xl_visual_session0005_00003535.vis.png\n",
      "C:/Users/nisha/MACS/Internship/Data/XL_CarPedDataset_INT_v2_train_val/val\\detection\\xl_visual_session0005_00003545.vis.png\n",
      "C:/Users/nisha/MACS/Internship/Data/XL_CarPedDataset_INT_v2_train_val/val\\detection\\xl_visual_session0005_00003557.vis.png\n",
      "C:/Users/nisha/MACS/Internship/Data/XL_CarPedDataset_INT_v2_train_val/val\\detection\\xl_visual_session0005_00003563.vis.png\n",
      "C:/Users/nisha/MACS/Internship/Data/XL_CarPedDataset_INT_v2_train_val/val\\detection\\xl_visual_session0005_00003569.vis.png\n",
      "C:/Users/nisha/MACS/Internship/Data/XL_CarPedDataset_INT_v2_train_val/val\\detection\\xl_visual_session0005_00003578.vis.png\n"
     ]
    },
    {
     "name": "stderr",
     "output_type": "stream",
     "text": [
      " 71%|███████████████████████████████████████████████████████▉                       | 999/1412 [00:39<00:17, 23.83it/s]"
     ]
    },
    {
     "name": "stdout",
     "output_type": "stream",
     "text": [
      "C:/Users/nisha/MACS/Internship/Data/XL_CarPedDataset_INT_v2_train_val/val\\detection\\xl_visual_session0005_00003619.vis.png\n",
      "C:/Users/nisha/MACS/Internship/Data/XL_CarPedDataset_INT_v2_train_val/val\\detection\\xl_visual_session0005_00003621.vis.png\n",
      "C:/Users/nisha/MACS/Internship/Data/XL_CarPedDataset_INT_v2_train_val/val\\detection\\xl_visual_session0005_00003631.vis.png\n",
      "C:/Users/nisha/MACS/Internship/Data/XL_CarPedDataset_INT_v2_train_val/val\\detection\\xl_visual_session0005_00003658.vis.png\n",
      "C:/Users/nisha/MACS/Internship/Data/XL_CarPedDataset_INT_v2_train_val/val\\detection\\xl_visual_session0005_00003667.vis.png\n"
     ]
    },
    {
     "name": "stderr",
     "output_type": "stream",
     "text": [
      " 71%|███████████████████████████████████████████████████████▌                      | 1005/1412 [00:40<00:16, 25.35it/s]"
     ]
    },
    {
     "name": "stdout",
     "output_type": "stream",
     "text": [
      "C:/Users/nisha/MACS/Internship/Data/XL_CarPedDataset_INT_v2_train_val/val\\detection\\xl_visual_session0005_00003674.vis.png\n",
      "C:/Users/nisha/MACS/Internship/Data/XL_CarPedDataset_INT_v2_train_val/val\\detection\\xl_visual_session0005_00003680.vis.png\n",
      "C:/Users/nisha/MACS/Internship/Data/XL_CarPedDataset_INT_v2_train_val/val\\detection\\xl_visual_session0005_00003686.vis.png\n",
      "C:/Users/nisha/MACS/Internship/Data/XL_CarPedDataset_INT_v2_train_val/val\\detection\\xl_visual_session0005_00003690.vis.png\n",
      "C:/Users/nisha/MACS/Internship/Data/XL_CarPedDataset_INT_v2_train_val/val\\detection\\xl_visual_session0005_00003692.vis.png\n",
      "C:/Users/nisha/MACS/Internship/Data/XL_CarPedDataset_INT_v2_train_val/val\\detection\\xl_visual_session0005_00003745.vis.png\n"
     ]
    },
    {
     "name": "stderr",
     "output_type": "stream",
     "text": [
      "\r",
      " 71%|███████████████████████████████████████████████████████▋                      | 1008/1412 [00:40<00:16, 24.14it/s]"
     ]
    },
    {
     "name": "stdout",
     "output_type": "stream",
     "text": [
      "C:/Users/nisha/MACS/Internship/Data/XL_CarPedDataset_INT_v2_train_val/val\\detection\\xl_visual_session0005_00003751.vis.png\n",
      "C:/Users/nisha/MACS/Internship/Data/XL_CarPedDataset_INT_v2_train_val/val\\detection\\xl_visual_session0005_00003753.vis.png\n",
      "C:/Users/nisha/MACS/Internship/Data/XL_CarPedDataset_INT_v2_train_val/val\\detection\\xl_visual_session0005_00003757.vis.png\n",
      "C:/Users/nisha/MACS/Internship/Data/XL_CarPedDataset_INT_v2_train_val/val\\detection\\xl_visual_session0005_00003774.vis.png\n",
      "C:/Users/nisha/MACS/Internship/Data/XL_CarPedDataset_INT_v2_train_val/val\\detection\\xl_visual_session0005_00003786.vis.png\n"
     ]
    },
    {
     "name": "stderr",
     "output_type": "stream",
     "text": [
      " 72%|████████████████████████████████████████████████████████                      | 1015/1412 [00:40<00:15, 25.89it/s]"
     ]
    },
    {
     "name": "stdout",
     "output_type": "stream",
     "text": [
      "C:/Users/nisha/MACS/Internship/Data/XL_CarPedDataset_INT_v2_train_val/val\\detection\\xl_visual_session0005_00003798.vis.png\n",
      "C:/Users/nisha/MACS/Internship/Data/XL_CarPedDataset_INT_v2_train_val/val\\detection\\xl_visual_session0005_00003816.vis.png\n",
      "C:/Users/nisha/MACS/Internship/Data/XL_CarPedDataset_INT_v2_train_val/val\\detection\\xl_visual_session0005_00003820.vis.png\n",
      "C:/Users/nisha/MACS/Internship/Data/XL_CarPedDataset_INT_v2_train_val/val\\detection\\xl_visual_session0005_00003826.vis.png\n",
      "C:/Users/nisha/MACS/Internship/Data/XL_CarPedDataset_INT_v2_train_val/val\\detection\\xl_visual_session0005_00003830.vis.png\n",
      "C:/Users/nisha/MACS/Internship/Data/XL_CarPedDataset_INT_v2_train_val/val\\detection\\xl_visual_session0005_00003833.vis.png\n"
     ]
    },
    {
     "name": "stderr",
     "output_type": "stream",
     "text": [
      "\r",
      " 72%|████████████████████████████████████████████████████████▏                     | 1018/1412 [00:40<00:16, 23.34it/s]"
     ]
    },
    {
     "name": "stdout",
     "output_type": "stream",
     "text": [
      "C:/Users/nisha/MACS/Internship/Data/XL_CarPedDataset_INT_v2_train_val/val\\detection\\xl_visual_session0005_00003837.vis.png\n",
      "C:/Users/nisha/MACS/Internship/Data/XL_CarPedDataset_INT_v2_train_val/val\\detection\\xl_visual_session0005_00003877.vis.png\n",
      "C:/Users/nisha/MACS/Internship/Data/XL_CarPedDataset_INT_v2_train_val/val\\detection\\xl_visual_session0005_00003885.vis.png\n",
      "C:/Users/nisha/MACS/Internship/Data/XL_CarPedDataset_INT_v2_train_val/val\\detection\\xl_visual_session0005_00003905.vis.png\n",
      "C:/Users/nisha/MACS/Internship/Data/XL_CarPedDataset_INT_v2_train_val/val\\detection\\xl_visual_session0005_00003940.vis.png\n"
     ]
    },
    {
     "name": "stderr",
     "output_type": "stream",
     "text": [
      " 73%|████████████████████████████████████████████████████████▌                     | 1024/1412 [00:40<00:17, 21.67it/s]"
     ]
    },
    {
     "name": "stdout",
     "output_type": "stream",
     "text": [
      "C:/Users/nisha/MACS/Internship/Data/XL_CarPedDataset_INT_v2_train_val/val\\detection\\xl_visual_session0005_00003946.vis.png\n",
      "C:/Users/nisha/MACS/Internship/Data/XL_CarPedDataset_INT_v2_train_val/val\\detection\\xl_visual_session0005_00003969.vis.png\n",
      "C:/Users/nisha/MACS/Internship/Data/XL_CarPedDataset_INT_v2_train_val/val\\detection\\xl_visual_session0005_00003973.vis.png\n",
      "C:/Users/nisha/MACS/Internship/Data/XL_CarPedDataset_INT_v2_train_val/val\\detection\\xl_visual_session0005_00003979.vis.png\n"
     ]
    },
    {
     "name": "stderr",
     "output_type": "stream",
     "text": [
      "\r",
      " 73%|████████████████████████████████████████████████████████▋                     | 1027/1412 [00:41<00:18, 21.01it/s]"
     ]
    },
    {
     "name": "stdout",
     "output_type": "stream",
     "text": [
      "C:/Users/nisha/MACS/Internship/Data/XL_CarPedDataset_INT_v2_train_val/val\\detection\\xl_visual_session0005_00003981.vis.png\n",
      "C:/Users/nisha/MACS/Internship/Data/XL_CarPedDataset_INT_v2_train_val/val\\detection\\xl_visual_session0005_00003983.vis.png\n",
      "C:/Users/nisha/MACS/Internship/Data/XL_CarPedDataset_INT_v2_train_val/val\\detection\\xl_visual_session0005_00004006.vis.png\n",
      "C:/Users/nisha/MACS/Internship/Data/XL_CarPedDataset_INT_v2_train_val/val\\detection\\xl_visual_session0005_00004016.vis.png\n",
      "C:/Users/nisha/MACS/Internship/Data/XL_CarPedDataset_INT_v2_train_val/val\\detection\\xl_visual_session0005_00004020.vis.png\n"
     ]
    },
    {
     "name": "stderr",
     "output_type": "stream",
     "text": [
      " 73%|█████████████████████████████████████████████████████████                     | 1033/1412 [00:41<00:19, 19.87it/s]"
     ]
    },
    {
     "name": "stdout",
     "output_type": "stream",
     "text": [
      "C:/Users/nisha/MACS/Internship/Data/XL_CarPedDataset_INT_v2_train_val/val\\detection\\xl_visual_session0005_00004030.vis.png\n",
      "C:/Users/nisha/MACS/Internship/Data/XL_CarPedDataset_INT_v2_train_val/val\\detection\\xl_visual_session0005_00004039.vis.png\n",
      "C:/Users/nisha/MACS/Internship/Data/XL_CarPedDataset_INT_v2_train_val/val\\detection\\xl_visual_session0005_00004049.vis.png\n",
      "C:/Users/nisha/MACS/Internship/Data/XL_CarPedDataset_INT_v2_train_val/val\\detection\\xl_visual_session0005_00004079.vis.png\n"
     ]
    },
    {
     "name": "stderr",
     "output_type": "stream",
     "text": [
      "\r",
      " 73%|█████████████████████████████████████████████████████████▏                    | 1036/1412 [00:41<00:17, 21.09it/s]"
     ]
    },
    {
     "name": "stdout",
     "output_type": "stream",
     "text": [
      "C:/Users/nisha/MACS/Internship/Data/XL_CarPedDataset_INT_v2_train_val/val\\detection\\xl_visual_session0005_00004081.vis.png\n",
      "C:/Users/nisha/MACS/Internship/Data/XL_CarPedDataset_INT_v2_train_val/val\\detection\\xl_visual_session0005_00004104.vis.png\n",
      "C:/Users/nisha/MACS/Internship/Data/XL_CarPedDataset_INT_v2_train_val/val\\detection\\xl_visual_session0005_00004118.vis.png\n",
      "C:/Users/nisha/MACS/Internship/Data/XL_CarPedDataset_INT_v2_train_val/val\\detection\\xl_visual_session0005_00004126.vis.png\n",
      "C:/Users/nisha/MACS/Internship/Data/XL_CarPedDataset_INT_v2_train_val/val\\detection\\xl_visual_session0005_00004134.vis.png\n"
     ]
    },
    {
     "name": "stderr",
     "output_type": "stream",
     "text": [
      " 74%|█████████████████████████████████████████████████████████▌                    | 1042/1412 [00:41<00:16, 22.45it/s]"
     ]
    },
    {
     "name": "stdout",
     "output_type": "stream",
     "text": [
      "C:/Users/nisha/MACS/Internship/Data/XL_CarPedDataset_INT_v2_train_val/val\\detection\\xl_visual_session0005_00004136.vis.png\n",
      "C:/Users/nisha/MACS/Internship/Data/XL_CarPedDataset_INT_v2_train_val/val\\detection\\xl_visual_session0005_00004138.vis.png\n",
      "C:/Users/nisha/MACS/Internship/Data/XL_CarPedDataset_INT_v2_train_val/val\\detection\\xl_visual_session0005_00004149.vis.png\n",
      "C:/Users/nisha/MACS/Internship/Data/XL_CarPedDataset_INT_v2_train_val/val\\detection\\xl_visual_session0005_00004151.vis.png\n",
      "C:/Users/nisha/MACS/Internship/Data/XL_CarPedDataset_INT_v2_train_val/val\\detection\\xl_visual_session0005_00004163.vis.png\n",
      "C:/Users/nisha/MACS/Internship/Data/XL_CarPedDataset_INT_v2_train_val/val\\detection\\xl_visual_session0005_00004184.vis.png"
     ]
    },
    {
     "name": "stderr",
     "output_type": "stream",
     "text": [
      " 74%|█████████████████████████████████████████████████████████▉                    | 1048/1412 [00:41<00:14, 24.48it/s]"
     ]
    },
    {
     "name": "stdout",
     "output_type": "stream",
     "text": [
      "\n",
      "C:/Users/nisha/MACS/Internship/Data/XL_CarPedDataset_INT_v2_train_val/val\\detection\\xl_visual_session0005_00004186.vis.png\n",
      "C:/Users/nisha/MACS/Internship/Data/XL_CarPedDataset_INT_v2_train_val/val\\detection\\xl_visual_session0005_00004199.vis.png\n",
      "C:/Users/nisha/MACS/Internship/Data/XL_CarPedDataset_INT_v2_train_val/val\\detection\\xl_visual_session0005_00004201.vis.png\n",
      "C:/Users/nisha/MACS/Internship/Data/XL_CarPedDataset_INT_v2_train_val/val\\detection\\xl_visual_session0005_00004204.vis.png\n",
      "C:/Users/nisha/MACS/Internship/Data/XL_CarPedDataset_INT_v2_train_val/val\\detection\\xl_visual_session0005_00004220.vis.png"
     ]
    },
    {
     "name": "stderr",
     "output_type": "stream",
     "text": [
      "\r",
      " 74%|██████████████████████████████████████████████████████████                    | 1051/1412 [00:42<00:14, 25.77it/s]"
     ]
    },
    {
     "name": "stdout",
     "output_type": "stream",
     "text": [
      "\n",
      "C:/Users/nisha/MACS/Internship/Data/XL_CarPedDataset_INT_v2_train_val/val\\detection\\xl_visual_session0005_00004228.vis.png\n",
      "C:/Users/nisha/MACS/Internship/Data/XL_CarPedDataset_INT_v2_train_val/val\\detection\\xl_visual_session0005_00004232.vis.png\n",
      "C:/Users/nisha/MACS/Internship/Data/XL_CarPedDataset_INT_v2_train_val/val\\detection\\xl_visual_session0005_00004239.vis.png\n",
      "C:/Users/nisha/MACS/Internship/Data/XL_CarPedDataset_INT_v2_train_val/val\\detection\\xl_visual_session0005_00004241.vis.png\n"
     ]
    },
    {
     "name": "stderr",
     "output_type": "stream",
     "text": [
      " 75%|██████████████████████████████████████████████████████████▍                   | 1057/1412 [00:42<00:13, 25.45it/s]"
     ]
    },
    {
     "name": "stdout",
     "output_type": "stream",
     "text": [
      "C:/Users/nisha/MACS/Internship/Data/XL_CarPedDataset_INT_v2_train_val/val\\detection\\xl_visual_session0005_00004245.vis.png\n",
      "C:/Users/nisha/MACS/Internship/Data/XL_CarPedDataset_INT_v2_train_val/val\\detection\\xl_visual_session0005_00004249.vis.png\n",
      "C:/Users/nisha/MACS/Internship/Data/XL_CarPedDataset_INT_v2_train_val/val\\detection\\xl_visual_session0005_00004259.vis.png\n",
      "C:/Users/nisha/MACS/Internship/Data/XL_CarPedDataset_INT_v2_train_val/val\\detection\\xl_visual_session0005_00004265.vis.png\n",
      "C:/Users/nisha/MACS/Internship/Data/XL_CarPedDataset_INT_v2_train_val/val\\detection\\xl_visual_session0005_00004272.vis.png\n"
     ]
    },
    {
     "name": "stderr",
     "output_type": "stream",
     "text": [
      " 75%|██████████████████████████████████████████████████████████▊                   | 1064/1412 [00:42<00:13, 25.16it/s]"
     ]
    },
    {
     "name": "stdout",
     "output_type": "stream",
     "text": [
      "C:/Users/nisha/MACS/Internship/Data/XL_CarPedDataset_INT_v2_train_val/val\\detection\\xl_visual_session0005_00004275.vis.png\n",
      "C:/Users/nisha/MACS/Internship/Data/XL_CarPedDataset_INT_v2_train_val/val\\detection\\xl_visual_session0005_00004293.vis.png\n",
      "C:/Users/nisha/MACS/Internship/Data/XL_CarPedDataset_INT_v2_train_val/val\\detection\\xl_visual_session0005_00004301.vis.png\n",
      "C:/Users/nisha/MACS/Internship/Data/XL_CarPedDataset_INT_v2_train_val/val\\detection\\xl_visual_session0005_00004327.vis.png\n",
      "C:/Users/nisha/MACS/Internship/Data/XL_CarPedDataset_INT_v2_train_val/val\\detection\\xl_visual_session0005_00004333.vis.png\n",
      "C:/Users/nisha/MACS/Internship/Data/XL_CarPedDataset_INT_v2_train_val/val\\detection\\xl_visual_session0005_00004343.vis.png\n"
     ]
    },
    {
     "name": "stderr",
     "output_type": "stream",
     "text": [
      "\r",
      " 76%|██████████████████████████████████████████████████████████▉                   | 1067/1412 [00:42<00:15, 22.87it/s]"
     ]
    },
    {
     "name": "stdout",
     "output_type": "stream",
     "text": [
      "C:/Users/nisha/MACS/Internship/Data/XL_CarPedDataset_INT_v2_train_val/val\\detection\\xl_visual_session0005_00005287.vis.png\n",
      "C:/Users/nisha/MACS/Internship/Data/XL_CarPedDataset_INT_v2_train_val/val\\detection\\xl_visual_session0005_00005295.vis.png\n",
      "C:/Users/nisha/MACS/Internship/Data/XL_CarPedDataset_INT_v2_train_val/val\\detection\\xl_visual_session0005_00005301.vis.png\n",
      "C:/Users/nisha/MACS/Internship/Data/XL_CarPedDataset_INT_v2_train_val/val\\detection\\xl_visual_session0005_00005309.vis.png\n",
      "C:/Users/nisha/MACS/Internship/Data/XL_CarPedDataset_INT_v2_train_val/val\\detection\\xl_visual_session0005_00005325.vis.png\n"
     ]
    },
    {
     "name": "stderr",
     "output_type": "stream",
     "text": [
      " 76%|███████████████████████████████████████████████████████████▎                  | 1073/1412 [00:43<00:16, 20.75it/s]"
     ]
    },
    {
     "name": "stdout",
     "output_type": "stream",
     "text": [
      "C:/Users/nisha/MACS/Internship/Data/XL_CarPedDataset_INT_v2_train_val/val\\detection\\xl_visual_session0005_00005329.vis.png\n",
      "C:/Users/nisha/MACS/Internship/Data/XL_CarPedDataset_INT_v2_train_val/val\\detection\\xl_visual_session0005_00005343.vis.png\n",
      "C:/Users/nisha/MACS/Internship/Data/XL_CarPedDataset_INT_v2_train_val/val\\detection\\xl_visual_session0005_00005345.vis.png\n",
      "C:/Users/nisha/MACS/Internship/Data/XL_CarPedDataset_INT_v2_train_val/val\\detection\\xl_visual_session0005_00005366.vis.png\n"
     ]
    },
    {
     "name": "stderr",
     "output_type": "stream",
     "text": [
      "\r",
      " 76%|███████████████████████████████████████████████████████████▍                  | 1076/1412 [00:43<00:16, 20.08it/s]"
     ]
    },
    {
     "name": "stdout",
     "output_type": "stream",
     "text": [
      "C:/Users/nisha/MACS/Internship/Data/XL_CarPedDataset_INT_v2_train_val/val\\detection\\xl_visual_session0005_00005372.vis.png\n",
      "C:/Users/nisha/MACS/Internship/Data/XL_CarPedDataset_INT_v2_train_val/val\\detection\\xl_visual_session0005_00005381.vis.png\n",
      "C:/Users/nisha/MACS/Internship/Data/XL_CarPedDataset_INT_v2_train_val/val\\detection\\xl_visual_session0005_00005392.vis.png\n",
      "C:/Users/nisha/MACS/Internship/Data/XL_CarPedDataset_INT_v2_train_val/val\\detection\\xl_visual_session0005_00005394.vis.png\n",
      "C:/Users/nisha/MACS/Internship/Data/XL_CarPedDataset_INT_v2_train_val/val\\detection\\xl_visual_session0005_00005398.vis.png\n"
     ]
    },
    {
     "name": "stderr",
     "output_type": "stream",
     "text": [
      " 77%|███████████████████████████████████████████████████████████▊                  | 1083/1412 [00:43<00:13, 23.53it/s]"
     ]
    },
    {
     "name": "stdout",
     "output_type": "stream",
     "text": [
      "C:/Users/nisha/MACS/Internship/Data/XL_CarPedDataset_INT_v2_train_val/val\\detection\\xl_visual_session0005_00005416.vis.png\n",
      "C:/Users/nisha/MACS/Internship/Data/XL_CarPedDataset_INT_v2_train_val/val\\detection\\xl_visual_session0005_00005430.vis.png\n",
      "C:/Users/nisha/MACS/Internship/Data/XL_CarPedDataset_INT_v2_train_val/val\\detection\\xl_visual_session0005_00005442.vis.png\n",
      "C:/Users/nisha/MACS/Internship/Data/XL_CarPedDataset_INT_v2_train_val/val\\detection\\xl_visual_session0005_00005449.vis.png\n",
      "C:/Users/nisha/MACS/Internship/Data/XL_CarPedDataset_INT_v2_train_val/val\\detection\\xl_visual_session0005_00005454.vis.png\n",
      "C:/Users/nisha/MACS/Internship/Data/XL_CarPedDataset_INT_v2_train_val/val\\detection\\xl_visual_session0005_00005473.vis.png\n",
      "C:/Users/nisha/MACS/Internship/Data/XL_CarPedDataset_INT_v2_train_val/val\\detection\\xl_visual_session0005_00005477.vis.png\n"
     ]
    },
    {
     "name": "stderr",
     "output_type": "stream",
     "text": [
      " 77%|████████████████████████████████████████████████████████████▏                 | 1089/1412 [00:43<00:13, 24.06it/s]"
     ]
    },
    {
     "name": "stdout",
     "output_type": "stream",
     "text": [
      "C:/Users/nisha/MACS/Internship/Data/XL_CarPedDataset_INT_v2_train_val/val\\detection\\xl_visual_session0005_00005492.vis.png\n",
      "C:/Users/nisha/MACS/Internship/Data/XL_CarPedDataset_INT_v2_train_val/val\\detection\\xl_visual_session0005_00005496.vis.png\n",
      "C:/Users/nisha/MACS/Internship/Data/XL_CarPedDataset_INT_v2_train_val/val\\detection\\xl_visual_session0005_00005523.vis.png\n",
      "C:/Users/nisha/MACS/Internship/Data/XL_CarPedDataset_INT_v2_train_val/val\\detection\\xl_visual_session0005_00005531.vis.png\n",
      "C:/Users/nisha/MACS/Internship/Data/XL_CarPedDataset_INT_v2_train_val/val\\detection\\xl_visual_session0005_00005541.vis.png\n"
     ]
    },
    {
     "name": "stderr",
     "output_type": "stream",
     "text": [
      " 78%|████████████████████████████████████████████████████████████▍                 | 1095/1412 [00:43<00:13, 23.44it/s]"
     ]
    },
    {
     "name": "stdout",
     "output_type": "stream",
     "text": [
      "C:/Users/nisha/MACS/Internship/Data/XL_CarPedDataset_INT_v2_train_val/val\\detection\\xl_visual_session0005_00005546.vis.png\n",
      "C:/Users/nisha/MACS/Internship/Data/XL_CarPedDataset_INT_v2_train_val/val\\detection\\xl_visual_session0005_00005550.vis.png\n",
      "C:/Users/nisha/MACS/Internship/Data/XL_CarPedDataset_INT_v2_train_val/val\\detection\\xl_visual_session0005_00005554.vis.png\n",
      "C:/Users/nisha/MACS/Internship/Data/XL_CarPedDataset_INT_v2_train_val/val\\detection\\xl_visual_session0005_00005562.vis.png\n",
      "C:/Users/nisha/MACS/Internship/Data/XL_CarPedDataset_INT_v2_train_val/val\\detection\\xl_visual_session0005_00005566.vis.png\n",
      "C:/Users/nisha/MACS/Internship/Data/XL_CarPedDataset_INT_v2_train_val/val\\detection\\xl_visual_session0005_00005570.vis.png"
     ]
    },
    {
     "name": "stderr",
     "output_type": "stream",
     "text": [
      "\r",
      " 78%|████████████████████████████████████████████████████████████▋                 | 1099/1412 [00:44<00:12, 24.65it/s]"
     ]
    },
    {
     "name": "stdout",
     "output_type": "stream",
     "text": [
      "\n",
      "C:/Users/nisha/MACS/Internship/Data/XL_CarPedDataset_INT_v2_train_val/val\\detection\\xl_visual_session0005_00005572.vis.png\n",
      "C:/Users/nisha/MACS/Internship/Data/XL_CarPedDataset_INT_v2_train_val/val\\detection\\xl_visual_session0005_00005580.vis.png\n",
      "C:/Users/nisha/MACS/Internship/Data/XL_CarPedDataset_INT_v2_train_val/val\\detection\\xl_visual_session0005_00005594.vis.png\n",
      "C:/Users/nisha/MACS/Internship/Data/XL_CarPedDataset_INT_v2_train_val/val\\detection\\xl_visual_session0005_00005596.vis.png\n"
     ]
    },
    {
     "name": "stderr",
     "output_type": "stream",
     "text": [
      "\r",
      " 78%|████████████████████████████████████████████████████████████▉                 | 1102/1412 [00:44<00:14, 22.12it/s]"
     ]
    },
    {
     "name": "stdout",
     "output_type": "stream",
     "text": [
      "C:/Users/nisha/MACS/Internship/Data/XL_CarPedDataset_INT_v2_train_val/val\\detection\\xl_visual_session0005_00005636.vis.png\n",
      "C:/Users/nisha/MACS/Internship/Data/XL_CarPedDataset_INT_v2_train_val/val\\detection\\xl_visual_session0005_00005651.vis.png\n",
      "C:/Users/nisha/MACS/Internship/Data/XL_CarPedDataset_INT_v2_train_val/val\\detection\\xl_visual_session0005_00005667.vis.png\n",
      "C:/Users/nisha/MACS/Internship/Data/XL_CarPedDataset_INT_v2_train_val/val\\detection\\xl_visual_session0005_00005685.vis.png\n"
     ]
    },
    {
     "name": "stderr",
     "output_type": "stream",
     "text": [
      " 78%|█████████████████████████████████████████████████████████████▏                | 1108/1412 [00:44<00:13, 23.06it/s]"
     ]
    },
    {
     "name": "stdout",
     "output_type": "stream",
     "text": [
      "C:/Users/nisha/MACS/Internship/Data/XL_CarPedDataset_INT_v2_train_val/val\\detection\\xl_visual_session0005_00005692.vis.png\n",
      "C:/Users/nisha/MACS/Internship/Data/XL_CarPedDataset_INT_v2_train_val/val\\detection\\xl_visual_session0005_00005710.vis.png\n",
      "C:/Users/nisha/MACS/Internship/Data/XL_CarPedDataset_INT_v2_train_val/val\\detection\\xl_visual_session0005_00005712.vis.png\n",
      "C:/Users/nisha/MACS/Internship/Data/XL_CarPedDataset_INT_v2_train_val/val\\detection\\xl_visual_session0005_00005729.vis.png\n",
      "C:/Users/nisha/MACS/Internship/Data/XL_CarPedDataset_INT_v2_train_val/val\\detection\\xl_visual_session0005_00005738.vis.png\n",
      "C:/Users/nisha/MACS/Internship/Data/XL_CarPedDataset_INT_v2_train_val/val\\detection\\xl_visual_session0005_00005754.vis.png\n"
     ]
    },
    {
     "name": "stderr",
     "output_type": "stream",
     "text": [
      " 79%|█████████████████████████████████████████████████████████████▌                | 1114/1412 [00:44<00:12, 22.95it/s]"
     ]
    },
    {
     "name": "stdout",
     "output_type": "stream",
     "text": [
      "C:/Users/nisha/MACS/Internship/Data/XL_CarPedDataset_INT_v2_train_val/val\\detection\\xl_visual_session0005_00005756.vis.png\n",
      "C:/Users/nisha/MACS/Internship/Data/XL_CarPedDataset_INT_v2_train_val/val\\detection\\xl_visual_session0005_00005768.vis.png\n",
      "C:/Users/nisha/MACS/Internship/Data/XL_CarPedDataset_INT_v2_train_val/val\\detection\\xl_visual_session0005_00005816.vis.png\n",
      "C:/Users/nisha/MACS/Internship/Data/XL_CarPedDataset_INT_v2_train_val/val\\detection\\xl_visual_session0005_00005823.vis.png\n"
     ]
    },
    {
     "name": "stderr",
     "output_type": "stream",
     "text": [
      " 79%|█████████████████████████████████████████████████████████████▊                | 1120/1412 [00:45<00:12, 24.24it/s]"
     ]
    },
    {
     "name": "stdout",
     "output_type": "stream",
     "text": [
      "C:/Users/nisha/MACS/Internship/Data/XL_CarPedDataset_INT_v2_train_val/val\\detection\\xl_visual_session0005_00005860.vis.png\n",
      "C:/Users/nisha/MACS/Internship/Data/XL_CarPedDataset_INT_v2_train_val/val\\detection\\xl_visual_session0005_00005864.vis.png\n",
      "C:/Users/nisha/MACS/Internship/Data/XL_CarPedDataset_INT_v2_train_val/val\\detection\\xl_visual_session0005_00005866.vis.png\n",
      "C:/Users/nisha/MACS/Internship/Data/XL_CarPedDataset_INT_v2_train_val/val\\detection\\xl_visual_session0005_00005882.vis.png\n",
      "C:/Users/nisha/MACS/Internship/Data/XL_CarPedDataset_INT_v2_train_val/val\\detection\\xl_visual_session0005_00005896.vis.png\n",
      "C:/Users/nisha/MACS/Internship/Data/XL_CarPedDataset_INT_v2_train_val/val\\detection\\xl_visual_session0005_00005926.vis.png\n"
     ]
    },
    {
     "name": "stderr",
     "output_type": "stream",
     "text": [
      " 80%|██████████████████████████████████████████████████████████████▏               | 1126/1412 [00:45<00:12, 23.56it/s]"
     ]
    },
    {
     "name": "stdout",
     "output_type": "stream",
     "text": [
      "C:/Users/nisha/MACS/Internship/Data/XL_CarPedDataset_INT_v2_train_val/val\\detection\\xl_visual_session0005_00005928.vis.png\n",
      "C:/Users/nisha/MACS/Internship/Data/XL_CarPedDataset_INT_v2_train_val/val\\detection\\xl_visual_session0005_00005936.vis.png\n",
      "C:/Users/nisha/MACS/Internship/Data/XL_CarPedDataset_INT_v2_train_val/val\\detection\\xl_visual_session0005_00005942.vis.png\n",
      "C:/Users/nisha/MACS/Internship/Data/XL_CarPedDataset_INT_v2_train_val/val\\detection\\xl_visual_session0005_00005948.vis.png\n",
      "C:/Users/nisha/MACS/Internship/Data/XL_CarPedDataset_INT_v2_train_val/val\\detection\\xl_visual_session0005_00005971.vis.png\n"
     ]
    },
    {
     "name": "stderr",
     "output_type": "stream",
     "text": [
      "\r",
      " 80%|██████████████████████████████████████████████████████████████▎               | 1129/1412 [00:45<00:11, 24.54it/s]"
     ]
    },
    {
     "name": "stdout",
     "output_type": "stream",
     "text": [
      "C:/Users/nisha/MACS/Internship/Data/XL_CarPedDataset_INT_v2_train_val/val\\detection\\xl_visual_session0005_00005981.vis.png\n",
      "C:/Users/nisha/MACS/Internship/Data/XL_CarPedDataset_INT_v2_train_val/val\\detection\\xl_visual_session0005_00005988.vis.png\n",
      "C:/Users/nisha/MACS/Internship/Data/XL_CarPedDataset_INT_v2_train_val/val\\detection\\xl_visual_session0005_00005992.vis.png\n",
      "C:/Users/nisha/MACS/Internship/Data/XL_CarPedDataset_INT_v2_train_val/val\\detection\\xl_visual_session0005_00005996.vis.png\n",
      "C:/Users/nisha/MACS/Internship/Data/XL_CarPedDataset_INT_v2_train_val/val\\detection\\xl_visual_session0005_00006000.vis.png\n",
      "C:/Users/nisha/MACS/Internship/Data/XL_CarPedDataset_INT_v2_train_val/val\\detection\\xl_visual_session0005_00006139.vis.png\n"
     ]
    },
    {
     "name": "stderr",
     "output_type": "stream",
     "text": [
      " 80%|██████████████████████████████████████████████████████████████▋               | 1135/1412 [00:45<00:11, 23.70it/s]"
     ]
    },
    {
     "name": "stdout",
     "output_type": "stream",
     "text": [
      "C:/Users/nisha/MACS/Internship/Data/XL_CarPedDataset_INT_v2_train_val/val\\detection\\xl_visual_session0005_00006141.vis.png\n",
      "C:/Users/nisha/MACS/Internship/Data/XL_CarPedDataset_INT_v2_train_val/val\\detection\\xl_visual_session0005_00006149.vis.png\n",
      "C:/Users/nisha/MACS/Internship/Data/XL_CarPedDataset_INT_v2_train_val/val\\detection\\xl_visual_session0005_00006166.vis.png\n",
      "C:/Users/nisha/MACS/Internship/Data/XL_CarPedDataset_INT_v2_train_val/val\\detection\\xl_visual_session0005_00006182.vis.png\n"
     ]
    },
    {
     "name": "stderr",
     "output_type": "stream",
     "text": [
      " 81%|███████████████████████████████████████████████████████████████               | 1141/1412 [00:45<00:11, 22.75it/s]"
     ]
    },
    {
     "name": "stdout",
     "output_type": "stream",
     "text": [
      "C:/Users/nisha/MACS/Internship/Data/XL_CarPedDataset_INT_v2_train_val/val\\detection\\xl_visual_session0005_00006184.vis.png\n",
      "C:/Users/nisha/MACS/Internship/Data/XL_CarPedDataset_INT_v2_train_val/val\\detection\\xl_visual_session0005_00006190.vis.png\n",
      "C:/Users/nisha/MACS/Internship/Data/XL_CarPedDataset_INT_v2_train_val/val\\detection\\xl_visual_session0005_00006206.vis.png\n",
      "C:/Users/nisha/MACS/Internship/Data/XL_CarPedDataset_INT_v2_train_val/val\\detection\\xl_visual_session0005_00006226.vis.png\n",
      "C:/Users/nisha/MACS/Internship/Data/XL_CarPedDataset_INT_v2_train_val/val\\detection\\xl_visual_session0005_00006240.vis.png\n"
     ]
    },
    {
     "name": "stderr",
     "output_type": "stream",
     "text": [
      "\r",
      " 81%|███████████████████████████████████████████████████████████████▏              | 1144/1412 [00:46<00:12, 22.06it/s]"
     ]
    },
    {
     "name": "stdout",
     "output_type": "stream",
     "text": [
      "C:/Users/nisha/MACS/Internship/Data/XL_CarPedDataset_INT_v2_train_val/val\\detection\\xl_visual_session0005_00006250.vis.png\n",
      "C:/Users/nisha/MACS/Internship/Data/XL_CarPedDataset_INT_v2_train_val/val\\detection\\xl_visual_session0005_00006263.vis.png\n",
      "C:/Users/nisha/MACS/Internship/Data/XL_CarPedDataset_INT_v2_train_val/val\\detection\\xl_visual_session0005_00006267.vis.png\n",
      "C:/Users/nisha/MACS/Internship/Data/XL_CarPedDataset_INT_v2_train_val/val\\detection\\xl_visual_session0005_00006279.vis.png\n"
     ]
    },
    {
     "name": "stderr",
     "output_type": "stream",
     "text": [
      "\r",
      " 81%|███████████████████████████████████████████████████████████████▎              | 1147/1412 [00:46<00:11, 22.95it/s]"
     ]
    },
    {
     "name": "stdout",
     "output_type": "stream",
     "text": [
      "C:/Users/nisha/MACS/Internship/Data/XL_CarPedDataset_INT_v2_train_val/val\\detection\\xl_visual_session0005_00006289.vis.png\n",
      "C:/Users/nisha/MACS/Internship/Data/XL_CarPedDataset_INT_v2_train_val/val\\detection\\xl_visual_session0005_00006305.vis.png\n",
      "C:/Users/nisha/MACS/Internship/Data/XL_CarPedDataset_INT_v2_train_val/val\\detection\\xl_visual_session0005_00006307.vis.png\n",
      "C:/Users/nisha/MACS/Internship/Data/XL_CarPedDataset_INT_v2_train_val/val\\detection\\xl_visual_session0005_00006376.vis.png\n",
      "C:/Users/nisha/MACS/Internship/Data/XL_CarPedDataset_INT_v2_train_val/val\\detection\\xl_visual_session0005_00006393.vis.png\n"
     ]
    },
    {
     "name": "stderr",
     "output_type": "stream",
     "text": [
      " 82%|███████████████████████████████████████████████████████████████▋              | 1153/1412 [00:46<00:11, 22.09it/s]"
     ]
    },
    {
     "name": "stdout",
     "output_type": "stream",
     "text": [
      "C:/Users/nisha/MACS/Internship/Data/XL_CarPedDataset_INT_v2_train_val/val\\detection\\xl_visual_session0005_00006397.vis.png\n",
      "C:/Users/nisha/MACS/Internship/Data/XL_CarPedDataset_INT_v2_train_val/val\\detection\\xl_visual_session0005_00006405.vis.png\n",
      "C:/Users/nisha/MACS/Internship/Data/XL_CarPedDataset_INT_v2_train_val/val\\detection\\xl_visual_session0005_00006411.vis.png\n",
      "C:/Users/nisha/MACS/Internship/Data/XL_CarPedDataset_INT_v2_train_val/val\\detection\\xl_visual_session0005_00006413.vis.png\n"
     ]
    },
    {
     "name": "stderr",
     "output_type": "stream",
     "text": [
      "\r",
      " 82%|███████████████████████████████████████████████████████████████▊              | 1156/1412 [00:46<00:11, 22.17it/s]"
     ]
    },
    {
     "name": "stdout",
     "output_type": "stream",
     "text": [
      "C:/Users/nisha/MACS/Internship/Data/XL_CarPedDataset_INT_v2_train_val/val\\detection\\xl_visual_session0005_00006415.vis.png\n",
      "C:/Users/nisha/MACS/Internship/Data/XL_CarPedDataset_INT_v2_train_val/val\\detection\\xl_visual_session0005_00006421.vis.png\n",
      "C:/Users/nisha/MACS/Internship/Data/XL_CarPedDataset_INT_v2_train_val/val\\detection\\xl_visual_session0005_00006429.vis.png\n",
      "C:/Users/nisha/MACS/Internship/Data/XL_CarPedDataset_INT_v2_train_val/val\\detection\\xl_visual_session0005_00006433.vis.png\n"
     ]
    },
    {
     "name": "stderr",
     "output_type": "stream",
     "text": [
      "\r",
      " 82%|████████████████████████████████████████████████████████████████              | 1159/1412 [00:46<00:12, 19.62it/s]"
     ]
    },
    {
     "name": "stdout",
     "output_type": "stream",
     "text": [
      "C:/Users/nisha/MACS/Internship/Data/XL_CarPedDataset_INT_v2_train_val/val\\detection\\xl_visual_session0005_00007148.vis.png\n",
      "C:/Users/nisha/MACS/Internship/Data/XL_CarPedDataset_INT_v2_train_val/val\\detection\\xl_visual_session0005_00007162.vis.png\n",
      "C:/Users/nisha/MACS/Internship/Data/XL_CarPedDataset_INT_v2_train_val/val\\detection\\xl_visual_session0005_00007188.vis.png\n",
      "C:/Users/nisha/MACS/Internship/Data/XL_CarPedDataset_INT_v2_train_val/val\\detection\\xl_visual_session0005_00007192.vis.png\n"
     ]
    },
    {
     "name": "stderr",
     "output_type": "stream",
     "text": [
      " 83%|████████████████████████████████████████████████████████████████▎             | 1165/1412 [00:47<00:11, 21.27it/s]"
     ]
    },
    {
     "name": "stdout",
     "output_type": "stream",
     "text": [
      "C:/Users/nisha/MACS/Internship/Data/XL_CarPedDataset_INT_v2_train_val/val\\detection\\xl_visual_session0005_00007199.vis.png\n",
      "C:/Users/nisha/MACS/Internship/Data/XL_CarPedDataset_INT_v2_train_val/val\\detection\\xl_visual_session0005_00007201.vis.png\n",
      "C:/Users/nisha/MACS/Internship/Data/XL_CarPedDataset_INT_v2_train_val/val\\detection\\xl_visual_session0005_00007203.vis.png\n",
      "C:/Users/nisha/MACS/Internship/Data/XL_CarPedDataset_INT_v2_train_val/val\\detection\\xl_visual_session0005_00007221.vis.png\n",
      "C:/Users/nisha/MACS/Internship/Data/XL_CarPedDataset_INT_v2_train_val/val\\detection\\xl_visual_session0005_00007223.vis.png"
     ]
    },
    {
     "name": "stderr",
     "output_type": "stream",
     "text": [
      "\r",
      " 83%|████████████████████████████████████████████████████████████████▌             | 1168/1412 [00:47<00:12, 19.93it/s]"
     ]
    },
    {
     "name": "stdout",
     "output_type": "stream",
     "text": [
      "\n",
      "C:/Users/nisha/MACS/Internship/Data/XL_CarPedDataset_INT_v2_train_val/val\\detection\\xl_visual_session0005_00007232.vis.png\n",
      "C:/Users/nisha/MACS/Internship/Data/XL_CarPedDataset_INT_v2_train_val/val\\detection\\xl_visual_session0005_00007234.vis.png\n",
      "C:/Users/nisha/MACS/Internship/Data/XL_CarPedDataset_INT_v2_train_val/val\\detection\\xl_visual_session0005_00007242.vis.png\n",
      "C:/Users/nisha/MACS/Internship/Data/XL_CarPedDataset_INT_v2_train_val/val\\detection\\xl_visual_session0005_00007252.vis.png\n"
     ]
    },
    {
     "name": "stderr",
     "output_type": "stream",
     "text": [
      " 83%|████████████████████████████████████████████████████████████████▊             | 1174/1412 [00:47<00:10, 22.29it/s]"
     ]
    },
    {
     "name": "stdout",
     "output_type": "stream",
     "text": [
      "C:/Users/nisha/MACS/Internship/Data/XL_CarPedDataset_INT_v2_train_val/val\\detection\\xl_visual_session0005_00007258.vis.png\n",
      "C:/Users/nisha/MACS/Internship/Data/XL_CarPedDataset_INT_v2_train_val/val\\detection\\xl_visual_session0005_00007277.vis.png\n",
      "C:/Users/nisha/MACS/Internship/Data/XL_CarPedDataset_INT_v2_train_val/val\\detection\\xl_visual_session0005_00007279.vis.png\n",
      "C:/Users/nisha/MACS/Internship/Data/XL_CarPedDataset_INT_v2_train_val/val\\detection\\xl_visual_session0005_00007289.vis.png\n"
     ]
    },
    {
     "name": "stderr",
     "output_type": "stream",
     "text": [
      "\r",
      " 83%|█████████████████████████████████████████████████████████████████             | 1177/1412 [00:47<00:10, 23.21it/s]"
     ]
    },
    {
     "name": "stdout",
     "output_type": "stream",
     "text": [
      "C:/Users/nisha/MACS/Internship/Data/XL_CarPedDataset_INT_v2_train_val/val\\detection\\xl_visual_session0005_00007298.vis.png\n",
      "C:/Users/nisha/MACS/Internship/Data/XL_CarPedDataset_INT_v2_train_val/val\\detection\\xl_visual_session0005_00007308.vis.png\n",
      "C:/Users/nisha/MACS/Internship/Data/XL_CarPedDataset_INT_v2_train_val/val\\detection\\xl_visual_session0005_00007314.vis.png\n",
      "C:/Users/nisha/MACS/Internship/Data/XL_CarPedDataset_INT_v2_train_val/val\\detection\\xl_visual_session0005_00008444.vis.png\n",
      "C:/Users/nisha/MACS/Internship/Data/XL_CarPedDataset_INT_v2_train_val/val\\detection\\xl_visual_session0005_00008446.vis.png\n"
     ]
    },
    {
     "name": "stderr",
     "output_type": "stream",
     "text": [
      " 84%|█████████████████████████████████████████████████████████████████▎            | 1183/1412 [00:47<00:11, 20.70it/s]"
     ]
    },
    {
     "name": "stdout",
     "output_type": "stream",
     "text": [
      "C:/Users/nisha/MACS/Internship/Data/XL_CarPedDataset_INT_v2_train_val/val\\detection\\xl_visual_session0005_00008450.vis.png\n",
      "C:/Users/nisha/MACS/Internship/Data/XL_CarPedDataset_INT_v2_train_val/val\\detection\\xl_visual_session0005_00008454.vis.png\n",
      "C:/Users/nisha/MACS/Internship/Data/XL_CarPedDataset_INT_v2_train_val/val\\detection\\xl_visual_session0005_00008456.vis.png\n",
      "C:/Users/nisha/MACS/Internship/Data/XL_CarPedDataset_INT_v2_train_val/val\\detection\\xl_visual_session0005_00008464.vis.png\n",
      "C:/Users/nisha/MACS/Internship/Data/XL_CarPedDataset_INT_v2_train_val/val\\detection\\xl_visual_session0005_00008466.vis.png\n"
     ]
    },
    {
     "name": "stderr",
     "output_type": "stream",
     "text": [
      " 84%|█████████████████████████████████████████████████████████████████▋            | 1189/1412 [00:48<00:10, 22.03it/s]"
     ]
    },
    {
     "name": "stdout",
     "output_type": "stream",
     "text": [
      "C:/Users/nisha/MACS/Internship/Data/XL_CarPedDataset_INT_v2_train_val/val\\detection\\xl_visual_session0005_00008527.vis.png\n",
      "C:/Users/nisha/MACS/Internship/Data/XL_CarPedDataset_INT_v2_train_val/val\\detection\\xl_visual_session0005_00008529.vis.png\n",
      "C:/Users/nisha/MACS/Internship/Data/XL_CarPedDataset_INT_v2_train_val/val\\detection\\xl_visual_session0005_00008533.vis.png\n",
      "C:/Users/nisha/MACS/Internship/Data/XL_CarPedDataset_INT_v2_train_val/val\\detection\\xl_visual_session0005_00008537.vis.png\n",
      "C:/Users/nisha/MACS/Internship/Data/XL_CarPedDataset_INT_v2_train_val/val\\detection\\xl_visual_session0005_00008553.vis.png\n"
     ]
    },
    {
     "name": "stderr",
     "output_type": "stream",
     "text": [
      "\r",
      " 84%|█████████████████████████████████████████████████████████████████▊            | 1192/1412 [00:48<00:09, 22.44it/s]"
     ]
    },
    {
     "name": "stdout",
     "output_type": "stream",
     "text": [
      "C:/Users/nisha/MACS/Internship/Data/XL_CarPedDataset_INT_v2_train_val/val\\detection\\xl_visual_session0005_00008567.vis.png\n",
      "C:/Users/nisha/MACS/Internship/Data/XL_CarPedDataset_INT_v2_train_val/val\\detection\\xl_visual_session0005_00008571.vis.png\n",
      "C:/Users/nisha/MACS/Internship/Data/XL_CarPedDataset_INT_v2_train_val/val\\detection\\xl_visual_session0005_00008580.vis.png\n",
      "C:/Users/nisha/MACS/Internship/Data/XL_CarPedDataset_INT_v2_train_val/val\\detection\\xl_visual_session0005_00008584.vis.png\n",
      "C:/Users/nisha/MACS/Internship/Data/XL_CarPedDataset_INT_v2_train_val/val\\detection\\xl_visual_session0005_00008616.vis.png\n"
     ]
    },
    {
     "name": "stderr",
     "output_type": "stream",
     "text": [
      " 85%|██████████████████████████████████████████████████████████████████▏           | 1198/1412 [00:48<00:09, 22.72it/s]"
     ]
    },
    {
     "name": "stdout",
     "output_type": "stream",
     "text": [
      "C:/Users/nisha/MACS/Internship/Data/XL_CarPedDataset_INT_v2_train_val/val\\detection\\xl_visual_session0005_00008622.vis.png\n",
      "C:/Users/nisha/MACS/Internship/Data/XL_CarPedDataset_INT_v2_train_val/val\\detection\\xl_visual_session0005_00008634.vis.png\n",
      "C:/Users/nisha/MACS/Internship/Data/XL_CarPedDataset_INT_v2_train_val/val\\detection\\xl_visual_session0005_00008652.vis.png\n",
      "C:/Users/nisha/MACS/Internship/Data/XL_CarPedDataset_INT_v2_train_val/val\\detection\\xl_visual_session0005_00008656.vis.png\n",
      "C:/Users/nisha/MACS/Internship/Data/XL_CarPedDataset_INT_v2_train_val/val\\detection\\xl_visual_session0005_00008670.vis.png\n"
     ]
    },
    {
     "name": "stderr",
     "output_type": "stream",
     "text": [
      " 85%|██████████████████████████████████████████████████████████████████▌           | 1204/1412 [00:48<00:08, 23.34it/s]"
     ]
    },
    {
     "name": "stdout",
     "output_type": "stream",
     "text": [
      "C:/Users/nisha/MACS/Internship/Data/XL_CarPedDataset_INT_v2_train_val/val\\detection\\xl_visual_session0005_00008698.vis.png\n",
      "C:/Users/nisha/MACS/Internship/Data/XL_CarPedDataset_INT_v2_train_val/val\\detection\\xl_visual_session0005_00008700.vis.png\n",
      "C:/Users/nisha/MACS/Internship/Data/XL_CarPedDataset_INT_v2_train_val/val\\detection\\xl_visual_session0005_00008718.vis.png\n",
      "C:/Users/nisha/MACS/Internship/Data/XL_CarPedDataset_INT_v2_train_val/val\\detection\\xl_visual_session0005_00008740.vis.png\n",
      "C:/Users/nisha/MACS/Internship/Data/XL_CarPedDataset_INT_v2_train_val/val\\detection\\xl_visual_session0005_00008840.vis.png\n"
     ]
    },
    {
     "name": "stderr",
     "output_type": "stream",
     "text": [
      "\r",
      " 85%|██████████████████████████████████████████████████████████████████▋           | 1207/1412 [00:48<00:09, 21.75it/s]"
     ]
    },
    {
     "name": "stdout",
     "output_type": "stream",
     "text": [
      "C:/Users/nisha/MACS/Internship/Data/XL_CarPedDataset_INT_v2_train_val/val\\detection\\xl_visual_session0005_00008843.vis.png\n",
      "C:/Users/nisha/MACS/Internship/Data/XL_CarPedDataset_INT_v2_train_val/val\\detection\\xl_visual_session0005_00008851.vis.png\n",
      "C:/Users/nisha/MACS/Internship/Data/XL_CarPedDataset_INT_v2_train_val/val\\detection\\xl_visual_session0005_00008861.vis.png\n",
      "C:/Users/nisha/MACS/Internship/Data/XL_CarPedDataset_INT_v2_train_val/val\\detection\\xl_visual_session0005_00008873.vis.png\n"
     ]
    },
    {
     "name": "stderr",
     "output_type": "stream",
     "text": [
      " 86%|███████████████████████████████████████████████████████████████████           | 1213/1412 [00:49<00:08, 22.46it/s]"
     ]
    },
    {
     "name": "stdout",
     "output_type": "stream",
     "text": [
      "C:/Users/nisha/MACS/Internship/Data/XL_CarPedDataset_INT_v2_train_val/val\\detection\\xl_visual_session0005_00008875.vis.png\n",
      "C:/Users/nisha/MACS/Internship/Data/XL_CarPedDataset_INT_v2_train_val/val\\detection\\xl_visual_session0005_00008881.vis.png\n",
      "C:/Users/nisha/MACS/Internship/Data/XL_CarPedDataset_INT_v2_train_val/val\\detection\\xl_visual_session0005_00008922.vis.png\n",
      "C:/Users/nisha/MACS/Internship/Data/XL_CarPedDataset_INT_v2_train_val/val\\detection\\xl_visual_session0005_00008925.vis.png\n",
      "C:/Users/nisha/MACS/Internship/Data/XL_CarPedDataset_INT_v2_train_val/val\\detection\\xl_visual_session0005_00008940.vis.png\n"
     ]
    },
    {
     "name": "stderr",
     "output_type": "stream",
     "text": [
      "\r",
      " 86%|███████████████████████████████████████████████████████████████████▏          | 1216/1412 [00:49<00:08, 22.88it/s]"
     ]
    },
    {
     "name": "stdout",
     "output_type": "stream",
     "text": [
      "C:/Users/nisha/MACS/Internship/Data/XL_CarPedDataset_INT_v2_train_val/val\\detection\\xl_visual_session0005_00008948.vis.png\n",
      "C:/Users/nisha/MACS/Internship/Data/XL_CarPedDataset_INT_v2_train_val/val\\detection\\xl_visual_session0005_00008958.vis.png\n",
      "C:/Users/nisha/MACS/Internship/Data/XL_CarPedDataset_INT_v2_train_val/val\\detection\\xl_visual_session0005_00008962.vis.png\n",
      "C:/Users/nisha/MACS/Internship/Data/XL_CarPedDataset_INT_v2_train_val/val\\detection\\xl_visual_session0005_00008979.vis.png\n",
      "C:/Users/nisha/MACS/Internship/Data/XL_CarPedDataset_INT_v2_train_val/val\\detection\\xl_visual_session0005_00008983.vis.png\n"
     ]
    },
    {
     "name": "stderr",
     "output_type": "stream",
     "text": [
      " 87%|███████████████████████████████████████████████████████████████████▌          | 1222/1412 [00:49<00:07, 23.80it/s]"
     ]
    },
    {
     "name": "stdout",
     "output_type": "stream",
     "text": [
      "C:/Users/nisha/MACS/Internship/Data/XL_CarPedDataset_INT_v2_train_val/val\\detection\\xl_visual_session0005_00009007.vis.png\n",
      "C:/Users/nisha/MACS/Internship/Data/XL_CarPedDataset_INT_v2_train_val/val\\detection\\xl_visual_session0005_00009024.vis.png\n",
      "C:/Users/nisha/MACS/Internship/Data/XL_CarPedDataset_INT_v2_train_val/val\\detection\\xl_visual_session0005_00009038.vis.png\n",
      "C:/Users/nisha/MACS/Internship/Data/XL_CarPedDataset_INT_v2_train_val/val\\detection\\xl_visual_session0005_00009058.vis.png\n",
      "C:/Users/nisha/MACS/Internship/Data/XL_CarPedDataset_INT_v2_train_val/val\\detection\\xl_visual_session0005_00009060.vis.png\n",
      "C:/Users/nisha/MACS/Internship/Data/XL_CarPedDataset_INT_v2_train_val/val\\detection\\xl_visual_session0005_00009064.vis.png\n"
     ]
    },
    {
     "name": "stderr",
     "output_type": "stream",
     "text": [
      " 87%|███████████████████████████████████████████████████████████████████▊          | 1228/1412 [00:49<00:07, 24.96it/s]"
     ]
    },
    {
     "name": "stdout",
     "output_type": "stream",
     "text": [
      "C:/Users/nisha/MACS/Internship/Data/XL_CarPedDataset_INT_v2_train_val/val\\detection\\xl_visual_session0005_00009074.vis.png\n",
      "C:/Users/nisha/MACS/Internship/Data/XL_CarPedDataset_INT_v2_train_val/val\\detection\\xl_visual_session0005_00009093.vis.png\n",
      "C:/Users/nisha/MACS/Internship/Data/XL_CarPedDataset_INT_v2_train_val/val\\detection\\xl_visual_session0005_00009097.vis.png\n",
      "C:/Users/nisha/MACS/Internship/Data/XL_CarPedDataset_INT_v2_train_val/val\\detection\\xl_visual_session0005_00009109.vis.png\n",
      "C:/Users/nisha/MACS/Internship/Data/XL_CarPedDataset_INT_v2_train_val/val\\detection\\xl_visual_session0005_00009111.vis.png\n"
     ]
    },
    {
     "name": "stderr",
     "output_type": "stream",
     "text": [
      " 87%|████████████████████████████████████████████████████████████████████▏         | 1235/1412 [00:50<00:07, 24.33it/s]"
     ]
    },
    {
     "name": "stdout",
     "output_type": "stream",
     "text": [
      "C:/Users/nisha/MACS/Internship/Data/XL_CarPedDataset_INT_v2_train_val/val\\detection\\xl_visual_session0005_00009118.vis.png\n",
      "C:/Users/nisha/MACS/Internship/Data/XL_CarPedDataset_INT_v2_train_val/val\\detection\\xl_visual_session0005_00009120.vis.png\n",
      "C:/Users/nisha/MACS/Internship/Data/XL_CarPedDataset_INT_v2_train_val/val\\detection\\xl_visual_session0005_00009122.vis.png\n",
      "C:/Users/nisha/MACS/Internship/Data/XL_CarPedDataset_INT_v2_train_val/val\\detection\\xl_visual_session0005_00009126.vis.png\n",
      "C:/Users/nisha/MACS/Internship/Data/XL_CarPedDataset_INT_v2_train_val/val\\detection\\xl_visual_session0005_00009132.vis.png\n"
     ]
    },
    {
     "name": "stderr",
     "output_type": "stream",
     "text": [
      "\r",
      " 88%|████████████████████████████████████████████████████████████████████▍         | 1238/1412 [00:50<00:07, 23.35it/s]"
     ]
    },
    {
     "name": "stdout",
     "output_type": "stream",
     "text": [
      "C:/Users/nisha/MACS/Internship/Data/XL_CarPedDataset_INT_v2_train_val/val\\detection\\xl_visual_session0005_00009138.vis.png\n",
      "C:/Users/nisha/MACS/Internship/Data/XL_CarPedDataset_INT_v2_train_val/val\\detection\\xl_visual_session0005_00009144.vis.png\n",
      "C:/Users/nisha/MACS/Internship/Data/XL_CarPedDataset_INT_v2_train_val/val\\detection\\xl_visual_session0005_00009146.vis.png\n",
      "C:/Users/nisha/MACS/Internship/Data/XL_CarPedDataset_INT_v2_train_val/val\\detection\\xl_visual_session0005_00009151.vis.png\n",
      "C:/Users/nisha/MACS/Internship/Data/XL_CarPedDataset_INT_v2_train_val/val\\detection\\xl_visual_session0005_00009165.vis.png\n"
     ]
    },
    {
     "name": "stderr",
     "output_type": "stream",
     "text": [
      " 88%|████████████████████████████████████████████████████████████████████▋         | 1244/1412 [00:50<00:07, 22.06it/s]"
     ]
    },
    {
     "name": "stdout",
     "output_type": "stream",
     "text": [
      "C:/Users/nisha/MACS/Internship/Data/XL_CarPedDataset_INT_v2_train_val/val\\detection\\xl_visual_session0005_00009175.vis.png\n",
      "C:/Users/nisha/MACS/Internship/Data/XL_CarPedDataset_INT_v2_train_val/val\\detection\\xl_visual_session0005_00009184.vis.png\n",
      "C:/Users/nisha/MACS/Internship/Data/XL_CarPedDataset_INT_v2_train_val/val\\detection\\xl_visual_session0005_00009192.vis.png\n",
      "C:/Users/nisha/MACS/Internship/Data/XL_CarPedDataset_INT_v2_train_val/val\\detection\\xl_visual_session0005_00009202.vis.png\n"
     ]
    },
    {
     "name": "stderr",
     "output_type": "stream",
     "text": [
      "\r",
      " 88%|████████████████████████████████████████████████████████████████████▉         | 1248/1412 [00:50<00:07, 23.10it/s]"
     ]
    },
    {
     "name": "stdout",
     "output_type": "stream",
     "text": [
      "C:/Users/nisha/MACS/Internship/Data/XL_CarPedDataset_INT_v2_train_val/val\\detection\\xl_visual_session0005_00009216.vis.png\n",
      "C:/Users/nisha/MACS/Internship/Data/XL_CarPedDataset_INT_v2_train_val/val\\detection\\xl_visual_session0005_00009218.vis.png\n",
      "C:/Users/nisha/MACS/Internship/Data/XL_CarPedDataset_INT_v2_train_val/val\\detection\\xl_visual_session0005_00009220.vis.png\n",
      "C:/Users/nisha/MACS/Internship/Data/XL_CarPedDataset_INT_v2_train_val/val\\detection\\xl_visual_session0005_00009232.vis.png\n",
      "C:/Users/nisha/MACS/Internship/Data/XL_CarPedDataset_INT_v2_train_val/val\\detection\\xl_visual_session0005_00009236.vis.png\n",
      "C:/Users/nisha/MACS/Internship/Data/XL_CarPedDataset_INT_v2_train_val/val\\detection\\xl_visual_session0005_00009242.vis.png\n"
     ]
    },
    {
     "name": "stderr",
     "output_type": "stream",
     "text": [
      " 89%|█████████████████████████████████████████████████████████████████████▎        | 1254/1412 [00:50<00:06, 25.43it/s]"
     ]
    },
    {
     "name": "stdout",
     "output_type": "stream",
     "text": [
      "C:/Users/nisha/MACS/Internship/Data/XL_CarPedDataset_INT_v2_train_val/val\\detection\\xl_visual_session0005_00009254.vis.png\n",
      "C:/Users/nisha/MACS/Internship/Data/XL_CarPedDataset_INT_v2_train_val/val\\detection\\xl_visual_session0005_00009270.vis.png\n",
      "C:/Users/nisha/MACS/Internship/Data/XL_CarPedDataset_INT_v2_train_val/val\\detection\\xl_visual_session0005_00009272.vis.png\n",
      "C:/Users/nisha/MACS/Internship/Data/XL_CarPedDataset_INT_v2_train_val/val\\detection\\xl_visual_session0005_00009276.vis.png\n",
      "C:/Users/nisha/MACS/Internship/Data/XL_CarPedDataset_INT_v2_train_val/val\\detection\\xl_visual_session0005_00009286.vis.png\n",
      "C:/Users/nisha/MACS/Internship/Data/XL_CarPedDataset_INT_v2_train_val/val\\detection\\xl_visual_session0005_00009296.vis.png"
     ]
    },
    {
     "name": "stderr",
     "output_type": "stream",
     "text": [
      "\r",
      " 89%|█████████████████████████████████████████████████████████████████████▍        | 1258/1412 [00:51<00:05, 26.60it/s]"
     ]
    },
    {
     "name": "stdout",
     "output_type": "stream",
     "text": [
      "\n",
      "C:/Users/nisha/MACS/Internship/Data/XL_CarPedDataset_INT_v2_train_val/val\\detection\\xl_visual_session0005_00009304.vis.png\n",
      "C:/Users/nisha/MACS/Internship/Data/XL_CarPedDataset_INT_v2_train_val/val\\detection\\xl_visual_session0005_00009313.vis.png\n",
      "C:/Users/nisha/MACS/Internship/Data/XL_CarPedDataset_INT_v2_train_val/val\\detection\\xl_visual_session0005_00009327.vis.png\n",
      "C:/Users/nisha/MACS/Internship/Data/XL_CarPedDataset_INT_v2_train_val/val\\detection\\xl_visual_session0005_00009331.vis.png\n",
      "C:/Users/nisha/MACS/Internship/Data/XL_CarPedDataset_INT_v2_train_val/val\\detection\\xl_visual_session0005_00009349.vis.png"
     ]
    },
    {
     "name": "stderr",
     "output_type": "stream",
     "text": [
      " 90%|█████████████████████████████████████████████████████████████████████▊        | 1264/1412 [00:51<00:05, 26.98it/s]"
     ]
    },
    {
     "name": "stdout",
     "output_type": "stream",
     "text": [
      "\n",
      "C:/Users/nisha/MACS/Internship/Data/XL_CarPedDataset_INT_v2_train_val/val\\detection\\xl_visual_session0005_00009351.vis.png\n",
      "C:/Users/nisha/MACS/Internship/Data/XL_CarPedDataset_INT_v2_train_val/val\\detection\\xl_visual_session0005_00009353.vis.png\n",
      "C:/Users/nisha/MACS/Internship/Data/XL_CarPedDataset_INT_v2_train_val/val\\detection\\xl_visual_session0005_00009371.vis.png\n",
      "C:/Users/nisha/MACS/Internship/Data/XL_CarPedDataset_INT_v2_train_val/val\\detection\\xl_visual_session0005_00009380.vis.png\n",
      "C:/Users/nisha/MACS/Internship/Data/XL_CarPedDataset_INT_v2_train_val/val\\detection\\xl_visual_session0005_00009385.vis.png\n"
     ]
    },
    {
     "name": "stderr",
     "output_type": "stream",
     "text": [
      " 90%|██████████████████████████████████████████████████████████████████████▏       | 1270/1412 [00:51<00:05, 25.02it/s]"
     ]
    },
    {
     "name": "stdout",
     "output_type": "stream",
     "text": [
      "C:/Users/nisha/MACS/Internship/Data/XL_CarPedDataset_INT_v2_train_val/val\\detection\\xl_visual_session0005_00009401.vis.png\n",
      "C:/Users/nisha/MACS/Internship/Data/XL_CarPedDataset_INT_v2_train_val/val\\detection\\xl_visual_session0005_00009403.vis.png\n",
      "C:/Users/nisha/MACS/Internship/Data/XL_CarPedDataset_INT_v2_train_val/val\\detection\\xl_visual_session0005_00009405.vis.png\n",
      "C:/Users/nisha/MACS/Internship/Data/XL_CarPedDataset_INT_v2_train_val/val\\detection\\xl_visual_session0005_00009416.vis.png\n",
      "C:/Users/nisha/MACS/Internship/Data/XL_CarPedDataset_INT_v2_train_val/val\\detection\\xl_visual_session0005_00009428.vis.png\n"
     ]
    },
    {
     "name": "stderr",
     "output_type": "stream",
     "text": [
      "\r",
      " 90%|██████████████████████████████████████████████████████████████████████▎       | 1273/1412 [00:51<00:05, 23.31it/s]"
     ]
    },
    {
     "name": "stdout",
     "output_type": "stream",
     "text": [
      "C:/Users/nisha/MACS/Internship/Data/XL_CarPedDataset_INT_v2_train_val/val\\detection\\xl_visual_session0005_00009438.vis.png\n",
      "C:/Users/nisha/MACS/Internship/Data/XL_CarPedDataset_INT_v2_train_val/val\\detection\\xl_visual_session0005_00009461.vis.png\n",
      "C:/Users/nisha/MACS/Internship/Data/XL_CarPedDataset_INT_v2_train_val/val\\detection\\xl_visual_session0005_00009469.vis.png\n",
      "C:/Users/nisha/MACS/Internship/Data/XL_CarPedDataset_INT_v2_train_val/val\\detection\\xl_visual_session0005_00009481.vis.png\n",
      "C:/Users/nisha/MACS/Internship/Data/XL_CarPedDataset_INT_v2_train_val/val\\detection\\xl_visual_session0005_00009489.vis.png"
     ]
    },
    {
     "name": "stderr",
     "output_type": "stream",
     "text": [
      " 91%|██████████████████████████████████████████████████████████████████████▋       | 1279/1412 [00:51<00:05, 23.83it/s]"
     ]
    },
    {
     "name": "stdout",
     "output_type": "stream",
     "text": [
      "\n",
      "C:/Users/nisha/MACS/Internship/Data/XL_CarPedDataset_INT_v2_train_val/val\\detection\\xl_visual_session0005_00009497.vis.png\n",
      "C:/Users/nisha/MACS/Internship/Data/XL_CarPedDataset_INT_v2_train_val/val\\detection\\xl_visual_session0005_00009533.vis.png\n",
      "C:/Users/nisha/MACS/Internship/Data/XL_CarPedDataset_INT_v2_train_val/val\\detection\\xl_visual_session0005_00009563.vis.png\n",
      "C:/Users/nisha/MACS/Internship/Data/XL_CarPedDataset_INT_v2_train_val/val\\detection\\xl_visual_session0005_00009587.vis.png\n",
      "C:/Users/nisha/MACS/Internship/Data/XL_CarPedDataset_INT_v2_train_val/val\\detection\\xl_visual_session0005_00009595.vis.png\n"
     ]
    },
    {
     "name": "stderr",
     "output_type": "stream",
     "text": [
      "\r",
      " 91%|██████████████████████████████████████████████████████████████████████▊       | 1283/1412 [00:52<00:04, 26.06it/s]"
     ]
    },
    {
     "name": "stdout",
     "output_type": "stream",
     "text": [
      "C:/Users/nisha/MACS/Internship/Data/XL_CarPedDataset_INT_v2_train_val/val\\detection\\xl_visual_session0005_00009605.vis.png\n",
      "C:/Users/nisha/MACS/Internship/Data/XL_CarPedDataset_INT_v2_train_val/val\\detection\\xl_visual_session0005_00009609.vis.png\n",
      "C:/Users/nisha/MACS/Internship/Data/XL_CarPedDataset_INT_v2_train_val/val\\detection\\xl_visual_session0005_00009628.vis.png\n",
      "C:/Users/nisha/MACS/Internship/Data/XL_CarPedDataset_INT_v2_train_val/val\\detection\\xl_visual_session0005_00009636.vis.png\n",
      "C:/Users/nisha/MACS/Internship/Data/XL_CarPedDataset_INT_v2_train_val/val\\detection\\xl_visual_session0005_00009656.vis.png\n"
     ]
    },
    {
     "name": "stderr",
     "output_type": "stream",
     "text": [
      " 91%|███████████████████████████████████████████████████████████████████████▏      | 1289/1412 [00:52<00:05, 24.31it/s]"
     ]
    },
    {
     "name": "stdout",
     "output_type": "stream",
     "text": [
      "C:/Users/nisha/MACS/Internship/Data/XL_CarPedDataset_INT_v2_train_val/val\\detection\\xl_visual_session0005_00009662.vis.png\n",
      "C:/Users/nisha/MACS/Internship/Data/XL_CarPedDataset_INT_v2_train_val/val\\detection\\xl_visual_session0005_00009843.vis.png\n",
      "C:/Users/nisha/MACS/Internship/Data/XL_CarPedDataset_INT_v2_train_val/val\\detection\\xl_visual_session0005_00009861.vis.png\n",
      "C:/Users/nisha/MACS/Internship/Data/XL_CarPedDataset_INT_v2_train_val/val\\detection\\xl_visual_session0005_00009867.vis.png\n",
      "C:/Users/nisha/MACS/Internship/Data/XL_CarPedDataset_INT_v2_train_val/val\\detection\\xl_visual_session0005_00009879.vis.png\n"
     ]
    },
    {
     "name": "stderr",
     "output_type": "stream",
     "text": [
      " 92%|███████████████████████████████████████████████████████████████████████▌      | 1295/1412 [00:52<00:04, 25.06it/s]"
     ]
    },
    {
     "name": "stdout",
     "output_type": "stream",
     "text": [
      "C:/Users/nisha/MACS/Internship/Data/XL_CarPedDataset_INT_v2_train_val/val\\detection\\xl_visual_session0005_00009889.vis.png\n",
      "C:/Users/nisha/MACS/Internship/Data/XL_CarPedDataset_INT_v2_train_val/val\\detection\\xl_visual_session0005_00009892.vis.png\n",
      "C:/Users/nisha/MACS/Internship/Data/XL_CarPedDataset_INT_v2_train_val/val\\detection\\xl_visual_session0005_00009900.vis.png\n",
      "C:/Users/nisha/MACS/Internship/Data/XL_CarPedDataset_INT_v2_train_val/val\\detection\\xl_visual_session0005_00009912.vis.png\n",
      "C:/Users/nisha/MACS/Internship/Data/XL_CarPedDataset_INT_v2_train_val/val\\detection\\xl_visual_session0005_00009919.vis.png\n"
     ]
    },
    {
     "name": "stderr",
     "output_type": "stream",
     "text": [
      "\r",
      " 92%|███████████████████████████████████████████████████████████████████████▋      | 1298/1412 [00:52<00:04, 23.25it/s]"
     ]
    },
    {
     "name": "stdout",
     "output_type": "stream",
     "text": [
      "C:/Users/nisha/MACS/Internship/Data/XL_CarPedDataset_INT_v2_train_val/val\\detection\\xl_visual_session0005_00009927.vis.png\n",
      "C:/Users/nisha/MACS/Internship/Data/XL_CarPedDataset_INT_v2_train_val/val\\detection\\xl_visual_session0005_00009939.vis.png\n",
      "C:/Users/nisha/MACS/Internship/Data/XL_CarPedDataset_INT_v2_train_val/val\\detection\\xl_visual_session0005_00009945.vis.png\n",
      "C:/Users/nisha/MACS/Internship/Data/XL_CarPedDataset_INT_v2_train_val/val\\detection\\xl_visual_session0005_00009957.vis.png\n",
      "C:/Users/nisha/MACS/Internship/Data/XL_CarPedDataset_INT_v2_train_val/val\\detection\\xl_visual_session0005_00009963.vis.png\n"
     ]
    },
    {
     "name": "stderr",
     "output_type": "stream",
     "text": [
      " 92%|████████████████████████████████████████████████████████████████████████      | 1304/1412 [00:52<00:04, 24.91it/s]"
     ]
    },
    {
     "name": "stdout",
     "output_type": "stream",
     "text": [
      "C:/Users/nisha/MACS/Internship/Data/XL_CarPedDataset_INT_v2_train_val/val\\detection\\xl_visual_session0005_00009965.vis.png\n",
      "C:/Users/nisha/MACS/Internship/Data/XL_CarPedDataset_INT_v2_train_val/val\\detection\\xl_visual_session0005_00009975.vis.png\n",
      "C:/Users/nisha/MACS/Internship/Data/XL_CarPedDataset_INT_v2_train_val/val\\detection\\xl_visual_session0005_00009988.vis.png\n",
      "C:/Users/nisha/MACS/Internship/Data/XL_CarPedDataset_INT_v2_train_val/val\\detection\\xl_visual_session0005_00010006.vis.png\n",
      "C:/Users/nisha/MACS/Internship/Data/XL_CarPedDataset_INT_v2_train_val/val\\detection\\xl_visual_session0005_00010038.vis.png\n"
     ]
    },
    {
     "name": "stderr",
     "output_type": "stream",
     "text": [
      " 93%|████████████████████████████████████████████████████████████████████████▎     | 1310/1412 [00:53<00:04, 25.21it/s]"
     ]
    },
    {
     "name": "stdout",
     "output_type": "stream",
     "text": [
      "C:/Users/nisha/MACS/Internship/Data/XL_CarPedDataset_INT_v2_train_val/val\\detection\\xl_visual_session0005_00010076.vis.png\n",
      "C:/Users/nisha/MACS/Internship/Data/XL_CarPedDataset_INT_v2_train_val/val\\detection\\xl_visual_session0005_00010084.vis.png\n",
      "C:/Users/nisha/MACS/Internship/Data/XL_CarPedDataset_INT_v2_train_val/val\\detection\\xl_visual_session0005_00010281.vis.png\n",
      "C:/Users/nisha/MACS/Internship/Data/XL_CarPedDataset_INT_v2_train_val/val\\detection\\xl_visual_session0005_00010288.vis.png\n",
      "C:/Users/nisha/MACS/Internship/Data/XL_CarPedDataset_INT_v2_train_val/val\\detection\\xl_visual_session0005_00010293.vis.png\n",
      "C:/Users/nisha/MACS/Internship/Data/XL_CarPedDataset_INT_v2_train_val/val\\detection\\xl_visual_session0005_00010303.vis.png\n"
     ]
    },
    {
     "name": "stderr",
     "output_type": "stream",
     "text": [
      " 93%|████████████████████████████████████████████████████████████████████████▋     | 1316/1412 [00:53<00:04, 23.38it/s]"
     ]
    },
    {
     "name": "stdout",
     "output_type": "stream",
     "text": [
      "C:/Users/nisha/MACS/Internship/Data/XL_CarPedDataset_INT_v2_train_val/val\\detection\\xl_visual_session0005_00010307.vis.png\n",
      "C:/Users/nisha/MACS/Internship/Data/XL_CarPedDataset_INT_v2_train_val/val\\detection\\xl_visual_session0005_00010309.vis.png\n",
      "C:/Users/nisha/MACS/Internship/Data/XL_CarPedDataset_INT_v2_train_val/val\\detection\\xl_visual_session0005_00010330.vis.png\n",
      "C:/Users/nisha/MACS/Internship/Data/XL_CarPedDataset_INT_v2_train_val/val\\detection\\xl_visual_session0005_00010352.vis.png\n",
      "C:/Users/nisha/MACS/Internship/Data/XL_CarPedDataset_INT_v2_train_val/val\\detection\\xl_visual_session0005_00010357.vis.png\n"
     ]
    },
    {
     "name": "stderr",
     "output_type": "stream",
     "text": [
      " 94%|█████████████████████████████████████████████████████████████████████████     | 1322/1412 [00:53<00:03, 24.82it/s]"
     ]
    },
    {
     "name": "stdout",
     "output_type": "stream",
     "text": [
      "C:/Users/nisha/MACS/Internship/Data/XL_CarPedDataset_INT_v2_train_val/val\\detection\\xl_visual_session0005_00010370.vis.png\n",
      "C:/Users/nisha/MACS/Internship/Data/XL_CarPedDataset_INT_v2_train_val/val\\detection\\xl_visual_session0005_00010374.vis.png\n",
      "C:/Users/nisha/MACS/Internship/Data/XL_CarPedDataset_INT_v2_train_val/val\\detection\\xl_visual_session0005_00010376.vis.png\n",
      "C:/Users/nisha/MACS/Internship/Data/XL_CarPedDataset_INT_v2_train_val/val\\detection\\xl_visual_session0005_00010394.vis.png\n",
      "C:/Users/nisha/MACS/Internship/Data/XL_CarPedDataset_INT_v2_train_val/val\\detection\\xl_visual_session0005_00010408.vis.png\n",
      "C:/Users/nisha/MACS/Internship/Data/XL_CarPedDataset_INT_v2_train_val/val\\detection\\xl_visual_session0005_00010430.vis.png\n"
     ]
    },
    {
     "name": "stderr",
     "output_type": "stream",
     "text": [
      "\r",
      " 94%|█████████████████████████████████████████████████████████████████████████▏    | 1325/1412 [00:53<00:03, 23.12it/s]"
     ]
    },
    {
     "name": "stdout",
     "output_type": "stream",
     "text": [
      "C:/Users/nisha/MACS/Internship/Data/XL_CarPedDataset_INT_v2_train_val/val\\detection\\xl_visual_session0005_00010436.vis.png\n",
      "C:/Users/nisha/MACS/Internship/Data/XL_CarPedDataset_INT_v2_train_val/val\\detection\\xl_visual_session0005_00010442.vis.png\n",
      "C:/Users/nisha/MACS/Internship/Data/XL_CarPedDataset_INT_v2_train_val/val\\detection\\xl_visual_session0005_00010444.vis.png\n",
      "C:/Users/nisha/MACS/Internship/Data/XL_CarPedDataset_INT_v2_train_val/val\\detection\\xl_visual_session0005_00010446.vis.png\n",
      "C:/Users/nisha/MACS/Internship/Data/XL_CarPedDataset_INT_v2_train_val/val\\detection\\xl_visual_session0005_00010448.vis.png\n"
     ]
    },
    {
     "name": "stderr",
     "output_type": "stream",
     "text": [
      " 94%|█████████████████████████████████████████████████████████████████████████▌    | 1332/1412 [00:54<00:03, 24.77it/s]"
     ]
    },
    {
     "name": "stdout",
     "output_type": "stream",
     "text": [
      "C:/Users/nisha/MACS/Internship/Data/XL_CarPedDataset_INT_v2_train_val/val\\detection\\xl_visual_session0005_00010450.vis.png\n",
      "C:/Users/nisha/MACS/Internship/Data/XL_CarPedDataset_INT_v2_train_val/val\\detection\\xl_visual_session0005_00010452.vis.png\n",
      "C:/Users/nisha/MACS/Internship/Data/XL_CarPedDataset_INT_v2_train_val/val\\detection\\xl_visual_session0005_00010456.vis.png\n",
      "C:/Users/nisha/MACS/Internship/Data/XL_CarPedDataset_INT_v2_train_val/val\\detection\\xl_visual_session0005_00010480.vis.png\n",
      "C:/Users/nisha/MACS/Internship/Data/XL_CarPedDataset_INT_v2_train_val/val\\detection\\xl_visual_session0005_00010486.vis.png\n",
      "C:/Users/nisha/MACS/Internship/Data/XL_CarPedDataset_INT_v2_train_val/val\\detection\\xl_visual_session0005_00010488.vis.png\n"
     ]
    },
    {
     "name": "stderr",
     "output_type": "stream",
     "text": [
      " 95%|█████████████████████████████████████████████████████████████████████████▉    | 1338/1412 [00:54<00:03, 23.06it/s]"
     ]
    },
    {
     "name": "stdout",
     "output_type": "stream",
     "text": [
      "C:/Users/nisha/MACS/Internship/Data/XL_CarPedDataset_INT_v2_train_val/val\\detection\\xl_visual_session0005_00010500.vis.png\n",
      "C:/Users/nisha/MACS/Internship/Data/XL_CarPedDataset_INT_v2_train_val/val\\detection\\xl_visual_session0005_00010508.vis.png\n",
      "C:/Users/nisha/MACS/Internship/Data/XL_CarPedDataset_INT_v2_train_val/val\\detection\\xl_visual_session0005_00010526.vis.png\n",
      "C:/Users/nisha/MACS/Internship/Data/XL_CarPedDataset_INT_v2_train_val/val\\detection\\xl_visual_session0005_00010532.vis.png\n"
     ]
    },
    {
     "name": "stderr",
     "output_type": "stream",
     "text": [
      "\r",
      " 95%|██████████████████████████████████████████████████████████████████████████    | 1341/1412 [00:54<00:03, 23.36it/s]"
     ]
    },
    {
     "name": "stdout",
     "output_type": "stream",
     "text": [
      "C:/Users/nisha/MACS/Internship/Data/XL_CarPedDataset_INT_v2_train_val/val\\detection\\xl_visual_session0005_00010538.vis.png\n",
      "C:/Users/nisha/MACS/Internship/Data/XL_CarPedDataset_INT_v2_train_val/val\\detection\\xl_visual_session0005_00010544.vis.png\n",
      "C:/Users/nisha/MACS/Internship/Data/XL_CarPedDataset_INT_v2_train_val/val\\detection\\xl_visual_session0005_00010550.vis.png\n",
      "C:/Users/nisha/MACS/Internship/Data/XL_CarPedDataset_INT_v2_train_val/val\\detection\\xl_visual_session0005_00010563.vis.png\n",
      "C:/Users/nisha/MACS/Internship/Data/XL_CarPedDataset_INT_v2_train_val/val\\detection\\xl_visual_session0005_00010575.vis.png\n"
     ]
    },
    {
     "name": "stderr",
     "output_type": "stream",
     "text": [
      " 95%|██████████████████████████████████████████████████████████████████████████▍   | 1347/1412 [00:54<00:02, 23.43it/s]"
     ]
    },
    {
     "name": "stdout",
     "output_type": "stream",
     "text": [
      "C:/Users/nisha/MACS/Internship/Data/XL_CarPedDataset_INT_v2_train_val/val\\detection\\xl_visual_session0005_00010801.vis.png\n",
      "C:/Users/nisha/MACS/Internship/Data/XL_CarPedDataset_INT_v2_train_val/val\\detection\\xl_visual_session0005_00010807.vis.png\n",
      "C:/Users/nisha/MACS/Internship/Data/XL_CarPedDataset_INT_v2_train_val/val\\detection\\xl_visual_session0005_00010815.vis.png\n",
      "C:/Users/nisha/MACS/Internship/Data/XL_CarPedDataset_INT_v2_train_val/val\\detection\\xl_visual_session0005_00010823.vis.png\n",
      "C:/Users/nisha/MACS/Internship/Data/XL_CarPedDataset_INT_v2_train_val/val\\detection\\xl_visual_session0005_00010835.vis.png\n"
     ]
    },
    {
     "name": "stderr",
     "output_type": "stream",
     "text": [
      "\r",
      " 96%|██████████████████████████████████████████████████████████████████████████▌   | 1350/1412 [00:54<00:02, 24.72it/s]"
     ]
    },
    {
     "name": "stdout",
     "output_type": "stream",
     "text": [
      "C:/Users/nisha/MACS/Internship/Data/XL_CarPedDataset_INT_v2_train_val/val\\detection\\xl_visual_session0005_00010844.vis.png\n",
      "C:/Users/nisha/MACS/Internship/Data/XL_CarPedDataset_INT_v2_train_val/val\\detection\\xl_visual_session0005_00010848.vis.png\n",
      "C:/Users/nisha/MACS/Internship/Data/XL_CarPedDataset_INT_v2_train_val/val\\detection\\xl_visual_session0005_00010859.vis.png\n",
      "C:/Users/nisha/MACS/Internship/Data/XL_CarPedDataset_INT_v2_train_val/val\\detection\\xl_visual_session0005_00010871.vis.png\n"
     ]
    },
    {
     "name": "stderr",
     "output_type": "stream",
     "text": [
      " 96%|██████████████████████████████████████████████████████████████████████████▉   | 1356/1412 [00:55<00:02, 23.35it/s]"
     ]
    },
    {
     "name": "stdout",
     "output_type": "stream",
     "text": [
      "C:/Users/nisha/MACS/Internship/Data/XL_CarPedDataset_INT_v2_train_val/val\\detection\\xl_visual_session0005_00010873.vis.png\n",
      "C:/Users/nisha/MACS/Internship/Data/XL_CarPedDataset_INT_v2_train_val/val\\detection\\xl_visual_session0005_00010875.vis.png\n",
      "C:/Users/nisha/MACS/Internship/Data/XL_CarPedDataset_INT_v2_train_val/val\\detection\\xl_visual_session0005_00011512.vis.png\n",
      "C:/Users/nisha/MACS/Internship/Data/XL_CarPedDataset_INT_v2_train_val/val\\detection\\xl_visual_session0005_00011514.vis.png\n",
      "C:/Users/nisha/MACS/Internship/Data/XL_CarPedDataset_INT_v2_train_val/val\\detection\\xl_visual_session0005_00011526.vis.png\n"
     ]
    },
    {
     "name": "stderr",
     "output_type": "stream",
     "text": [
      " 96%|███████████████████████████████████████████████████████████████████████████▏  | 1362/1412 [00:55<00:02, 23.35it/s]"
     ]
    },
    {
     "name": "stdout",
     "output_type": "stream",
     "text": [
      "C:/Users/nisha/MACS/Internship/Data/XL_CarPedDataset_INT_v2_train_val/val\\detection\\xl_visual_session0005_00011538.vis.png\n",
      "C:/Users/nisha/MACS/Internship/Data/XL_CarPedDataset_INT_v2_train_val/val\\detection\\xl_visual_session0005_00011543.vis.png\n",
      "C:/Users/nisha/MACS/Internship/Data/XL_CarPedDataset_INT_v2_train_val/val\\detection\\xl_visual_session0005_00011557.vis.png\n",
      "C:/Users/nisha/MACS/Internship/Data/XL_CarPedDataset_INT_v2_train_val/val\\detection\\xl_visual_session0005_00011564.vis.png\n",
      "C:/Users/nisha/MACS/Internship/Data/XL_CarPedDataset_INT_v2_train_val/val\\detection\\xl_visual_session0005_00011579.vis.png\n"
     ]
    },
    {
     "name": "stderr",
     "output_type": "stream",
     "text": [
      "\r",
      " 97%|███████████████████████████████████████████████████████████████████████████▍  | 1365/1412 [00:55<00:02, 22.37it/s]"
     ]
    },
    {
     "name": "stdout",
     "output_type": "stream",
     "text": [
      "C:/Users/nisha/MACS/Internship/Data/XL_CarPedDataset_INT_v2_train_val/val\\detection\\xl_visual_session0005_00011586.vis.png\n",
      "C:/Users/nisha/MACS/Internship/Data/XL_CarPedDataset_INT_v2_train_val/val\\detection\\xl_visual_session0005_00011609.vis.png\n",
      "C:/Users/nisha/MACS/Internship/Data/XL_CarPedDataset_INT_v2_train_val/val\\detection\\xl_visual_session0005_00011625.vis.png\n",
      "C:/Users/nisha/MACS/Internship/Data/XL_CarPedDataset_INT_v2_train_val/val\\detection\\xl_visual_session0005_00011636.vis.png\n"
     ]
    },
    {
     "name": "stderr",
     "output_type": "stream",
     "text": [
      " 97%|███████████████████████████████████████████████████████████████████████████▋  | 1371/1412 [00:55<00:01, 23.44it/s]"
     ]
    },
    {
     "name": "stdout",
     "output_type": "stream",
     "text": [
      "C:/Users/nisha/MACS/Internship/Data/XL_CarPedDataset_INT_v2_train_val/val\\detection\\xl_visual_session0005_00011638.vis.png\n",
      "C:/Users/nisha/MACS/Internship/Data/XL_CarPedDataset_INT_v2_train_val/val\\detection\\xl_visual_session0005_00011640.vis.png\n",
      "C:/Users/nisha/MACS/Internship/Data/XL_CarPedDataset_INT_v2_train_val/val\\detection\\xl_visual_session0005_00011647.vis.png\n",
      "C:/Users/nisha/MACS/Internship/Data/XL_CarPedDataset_INT_v2_train_val/val\\detection\\xl_visual_session0005_00011651.vis.png\n",
      "C:/Users/nisha/MACS/Internship/Data/XL_CarPedDataset_INT_v2_train_val/val\\detection\\xl_visual_session0005_00011655.vis.png\n",
      "C:/Users/nisha/MACS/Internship/Data/XL_CarPedDataset_INT_v2_train_val/val\\detection\\xl_visual_session0005_00011662.vis.png\n"
     ]
    },
    {
     "name": "stderr",
     "output_type": "stream",
     "text": [
      " 98%|████████████████████████████████████████████████████████████████████████████  | 1377/1412 [00:56<00:01, 23.03it/s]"
     ]
    },
    {
     "name": "stdout",
     "output_type": "stream",
     "text": [
      "C:/Users/nisha/MACS/Internship/Data/XL_CarPedDataset_INT_v2_train_val/val\\detection\\xl_visual_session0005_00011674.vis.png\n",
      "C:/Users/nisha/MACS/Internship/Data/XL_CarPedDataset_INT_v2_train_val/val\\detection\\xl_visual_session0005_00011677.vis.png\n",
      "C:/Users/nisha/MACS/Internship/Data/XL_CarPedDataset_INT_v2_train_val/val\\detection\\xl_visual_session0005_00011679.vis.png\n",
      "C:/Users/nisha/MACS/Internship/Data/XL_CarPedDataset_INT_v2_train_val/val\\detection\\xl_visual_session0005_00011688.vis.png\n",
      "C:/Users/nisha/MACS/Internship/Data/XL_CarPedDataset_INT_v2_train_val/val\\detection\\xl_visual_session0005_00011692.vis.png\n"
     ]
    },
    {
     "name": "stderr",
     "output_type": "stream",
     "text": [
      "\r",
      " 98%|████████████████████████████████████████████████████████████████████████████▏ | 1380/1412 [00:56<00:01, 21.85it/s]"
     ]
    },
    {
     "name": "stdout",
     "output_type": "stream",
     "text": [
      "C:/Users/nisha/MACS/Internship/Data/XL_CarPedDataset_INT_v2_train_val/val\\detection\\xl_visual_session0005_00011697.vis.png\n",
      "C:/Users/nisha/MACS/Internship/Data/XL_CarPedDataset_INT_v2_train_val/val\\detection\\xl_visual_session0005_00012956.vis.png\n",
      "C:/Users/nisha/MACS/Internship/Data/XL_CarPedDataset_INT_v2_train_val/val\\detection\\xl_visual_session0005_00012975.vis.png\n",
      "C:/Users/nisha/MACS/Internship/Data/XL_CarPedDataset_INT_v2_train_val/val\\detection\\xl_visual_session0005_00012983.vis.png\n"
     ]
    },
    {
     "name": "stderr",
     "output_type": "stream",
     "text": [
      "\r",
      " 98%|████████████████████████████████████████████████████████████████████████████▍ | 1383/1412 [00:56<00:01, 22.34it/s]"
     ]
    },
    {
     "name": "stdout",
     "output_type": "stream",
     "text": [
      "C:/Users/nisha/MACS/Internship/Data/XL_CarPedDataset_INT_v2_train_val/val\\detection\\xl_visual_session0005_00013007.vis.png\n",
      "C:/Users/nisha/MACS/Internship/Data/XL_CarPedDataset_INT_v2_train_val/val\\detection\\xl_visual_session0005_00013017.vis.png\n",
      "C:/Users/nisha/MACS/Internship/Data/XL_CarPedDataset_INT_v2_train_val/val\\detection\\xl_visual_session0005_00013034.vis.png\n",
      "C:/Users/nisha/MACS/Internship/Data/XL_CarPedDataset_INT_v2_train_val/val\\detection\\xl_visual_session0005_00013049.vis.png\n",
      "C:/Users/nisha/MACS/Internship/Data/XL_CarPedDataset_INT_v2_train_val/val\\detection\\xl_visual_session0005_00013062.vis.png\n"
     ]
    },
    {
     "name": "stderr",
     "output_type": "stream",
     "text": [
      " 98%|████████████████████████████████████████████████████████████████████████████▋ | 1389/1412 [00:56<00:01, 21.57it/s]"
     ]
    },
    {
     "name": "stdout",
     "output_type": "stream",
     "text": [
      "C:/Users/nisha/MACS/Internship/Data/XL_CarPedDataset_INT_v2_train_val/val\\detection\\xl_visual_session0005_00013075.vis.png\n",
      "C:/Users/nisha/MACS/Internship/Data/XL_CarPedDataset_INT_v2_train_val/val\\detection\\xl_visual_session0005_00013084.vis.png\n",
      "C:/Users/nisha/MACS/Internship/Data/XL_CarPedDataset_INT_v2_train_val/val\\detection\\xl_visual_session0005_00013130.vis.png\n",
      "C:/Users/nisha/MACS/Internship/Data/XL_CarPedDataset_INT_v2_train_val/val\\detection\\xl_visual_session0005_00013144.vis.png\n"
     ]
    },
    {
     "name": "stderr",
     "output_type": "stream",
     "text": [
      "\r",
      " 99%|████████████████████████████████████████████████████████████████████████████▉ | 1392/1412 [00:56<00:00, 22.73it/s]"
     ]
    },
    {
     "name": "stdout",
     "output_type": "stream",
     "text": [
      "C:/Users/nisha/MACS/Internship/Data/XL_CarPedDataset_INT_v2_train_val/val\\detection\\xl_visual_session0005_00013152.vis.png\n",
      "C:/Users/nisha/MACS/Internship/Data/XL_CarPedDataset_INT_v2_train_val/val\\detection\\xl_visual_session0005_00013157.vis.png\n",
      "C:/Users/nisha/MACS/Internship/Data/XL_CarPedDataset_INT_v2_train_val/val\\detection\\xl_visual_session0005_00013165.vis.png\n",
      "C:/Users/nisha/MACS/Internship/Data/XL_CarPedDataset_INT_v2_train_val/val\\detection\\xl_visual_session0005_00013177.vis.png\n",
      "C:/Users/nisha/MACS/Internship/Data/XL_CarPedDataset_INT_v2_train_val/val\\detection\\xl_visual_session0005_00013191.vis.png\n"
     ]
    },
    {
     "name": "stderr",
     "output_type": "stream",
     "text": [
      " 99%|█████████████████████████████████████████████████████████████████████████████▎| 1399/1412 [00:56<00:00, 24.87it/s]"
     ]
    },
    {
     "name": "stdout",
     "output_type": "stream",
     "text": [
      "C:/Users/nisha/MACS/Internship/Data/XL_CarPedDataset_INT_v2_train_val/val\\detection\\xl_visual_session0005_00013198.vis.png\n",
      "C:/Users/nisha/MACS/Internship/Data/XL_CarPedDataset_INT_v2_train_val/val\\detection\\xl_visual_session0005_00013236.vis.png\n",
      "C:/Users/nisha/MACS/Internship/Data/XL_CarPedDataset_INT_v2_train_val/val\\detection\\xl_visual_session0005_00013238.vis.png\n",
      "C:/Users/nisha/MACS/Internship/Data/XL_CarPedDataset_INT_v2_train_val/val\\detection\\xl_visual_session0005_00013249.vis.png\n",
      "C:/Users/nisha/MACS/Internship/Data/XL_CarPedDataset_INT_v2_train_val/val\\detection\\xl_visual_session0005_00013270.vis.png\n"
     ]
    },
    {
     "name": "stderr",
     "output_type": "stream",
     "text": [
      "\r",
      " 99%|█████████████████████████████████████████████████████████████████████████████▍| 1402/1412 [00:57<00:00, 22.05it/s]"
     ]
    },
    {
     "name": "stdout",
     "output_type": "stream",
     "text": [
      "C:/Users/nisha/MACS/Internship/Data/XL_CarPedDataset_INT_v2_train_val/val\\detection\\xl_visual_session0005_00013283.vis.png\n",
      "C:/Users/nisha/MACS/Internship/Data/XL_CarPedDataset_INT_v2_train_val/val\\detection\\xl_visual_session0005_00013286.vis.png\n",
      "C:/Users/nisha/MACS/Internship/Data/XL_CarPedDataset_INT_v2_train_val/val\\detection\\xl_visual_session0005_00013309.vis.png\n",
      "C:/Users/nisha/MACS/Internship/Data/XL_CarPedDataset_INT_v2_train_val/val\\detection\\xl_visual_session0005_00013343.vis.png\n",
      "C:/Users/nisha/MACS/Internship/Data/XL_CarPedDataset_INT_v2_train_val/val\\detection\\xl_visual_session0005_00013353.vis.png\n"
     ]
    },
    {
     "name": "stderr",
     "output_type": "stream",
     "text": [
      "100%|█████████████████████████████████████████████████████████████████████████████▊| 1408/1412 [00:57<00:00, 22.46it/s]"
     ]
    },
    {
     "name": "stdout",
     "output_type": "stream",
     "text": [
      "C:/Users/nisha/MACS/Internship/Data/XL_CarPedDataset_INT_v2_train_val/val\\detection\\xl_visual_session0005_00013356.vis.png\n",
      "C:/Users/nisha/MACS/Internship/Data/XL_CarPedDataset_INT_v2_train_val/val\\detection\\xl_visual_session0005_00013375.vis.png\n",
      "C:/Users/nisha/MACS/Internship/Data/XL_CarPedDataset_INT_v2_train_val/val\\detection\\xl_visual_session0005_00013401.vis.png\n",
      "C:/Users/nisha/MACS/Internship/Data/XL_CarPedDataset_INT_v2_train_val/val\\detection\\xl_visual_session0005_00013413.vis.png\n",
      "C:/Users/nisha/MACS/Internship/Data/XL_CarPedDataset_INT_v2_train_val/val\\detection\\xl_visual_session0005_00013449.vis.png\n"
     ]
    },
    {
     "name": "stderr",
     "output_type": "stream",
     "text": [
      "100%|██████████████████████████████████████████████████████████████████████████████| 1412/1412 [00:57<00:00, 24.50it/s]"
     ]
    },
    {
     "name": "stdout",
     "output_type": "stream",
     "text": [
      "C:/Users/nisha/MACS/Internship/Data/XL_CarPedDataset_INT_v2_train_val/val\\detection\\xl_visual_session0005_00013457.vis.png\n",
      "C:/Users/nisha/MACS/Internship/Data/XL_CarPedDataset_INT_v2_train_val/val\\detection\\xl_visual_session0005_00013483.vis.png\n"
     ]
    },
    {
     "name": "stderr",
     "output_type": "stream",
     "text": [
      "\n"
     ]
    }
   ],
   "source": [
    "import glob as glob\n",
    "import numpy as np\n",
    "import cv2\n",
    "from tqdm import tqdm\n",
    "import sys\n",
    "\n",
    "# root_dir = r'C:/Users/nisha/MACS/Internship/Data/XL_CarPedDataset_INT_v2_train_val/train'\n",
    "# labels_path = r'C:/Users/nisha/MACS/Internship/Data/XL_CarPedDataset_INT_v2_train_val/train/label_FasterRCNN'\n",
    "# visual_path = r'C:/Users/nisha/MACS/Internship/Data/XL_CarPedDataset_INT_v2_train_val/train/VisualImages'\n",
    "\n",
    "\n",
    "root_dir = r'C:/Users/nisha/MACS/Internship/Data/XL_CarPedDataset_INT_v2_train_val/val'\n",
    "labels_path = os.path.join(root_dir, 'detection_txt')\n",
    "visual_path = os.path.join(root_dir, 'detection')\n",
    "\n",
    "category_list = ['__background__','person','bicycle','motorcycle','car','train','truck','bus']\n",
    "\n",
    "# search all XL annotation files (.txt files) in the folder labels_path\n",
    "annotation_files = sorted(glob.glob(os.path.join(labels_path, 'xl_visual*.txt')))\n",
    "\n",
    "nr_annotation_files = len(annotation_files)\n",
    "\n",
    "print('Found {} annotation files'.format(nr_annotation_files))\n",
    "\n",
    "for annotation_file in tqdm(annotation_files):\n",
    "    # get the basename of the input\n",
    "    basename = os.path.basename(annotation_file)\n",
    "    basename = basename.replace('xl_visual','')\n",
    "    basename = basename.replace('.txt','')\n",
    "    \n",
    "    # read the object list\n",
    "    object_list = np.loadtxt(annotation_file, dtype=np.float, comments='#', delimiter=',')\n",
    "\n",
    "    # read the visual image\n",
    "    # FIXME: we should remove .vis from all the filenames\n",
    "    visual_image          = None\n",
    "    visual_image_filename = ''\n",
    "    image_path            = ''\n",
    "    with_vis              = ''\n",
    "\n",
    "    visual_image_filename = 'xl_visual' + basename + '.png'\n",
    "    image_path = os.path.join(visual_path,'xl_visual' + basename + '.vis.png')\n",
    "#     print(image_path)\n",
    "    visual_image = cv2.imread(image_path)    \n",
    "#     with_vis = ''\n",
    "    \n",
    "    \n",
    "    image_shape = None\n",
    "    if visual_image is not None:\n",
    "        image_shape = [visual_image.shape[0], visual_image.shape[1], 1] # height, width, channel        \n",
    "    else:                \n",
    "        continue\n",
    "\n",
    "    \n",
    "    # if there are objects in the object list\n",
    "    if object_list.size:        \n",
    "        # create a pascal voc dataset writer\n",
    "        writer = pascal_voc_io.PascalVocWriter(visual_path, visual_image_filename, image_shape, databaseSrc='XL_Dataset_INT_v2', localImgPath=image_path)\n",
    "\n",
    "        # deal with the special case\n",
    "        # when there is only one object in the list\n",
    "        # the object list shape is (5,) instead of (N,5) where N is the number of objects\n",
    "        # @Nishant, you should make sure that the shape of object list is always (N,5)\n",
    "        if len(object_list.shape) == 1:\n",
    "            x_min      = object_list[0]\n",
    "            y_min      = object_list[1]\n",
    "            x_max      = object_list[2]\n",
    "            y_max      = object_list[3]\n",
    "            class_id   = int(object_list[4])\n",
    "            class_name = category_list[class_id]\n",
    "\n",
    "            writer.addBndBox(x_min, y_min, x_max, y_max, class_name, 0)\n",
    "\n",
    "        else:\n",
    "            nr_objects = object_list.shape[0]\n",
    "\n",
    "            for i in range(nr_objects):\n",
    "                x_min      = object_list[i][0]\n",
    "                y_min      = object_list[i][1]\n",
    "                x_max      = object_list[i][2]\n",
    "                y_max      = object_list[i][3]\n",
    "                class_id   = int(object_list[i][4])\n",
    "                class_name = category_list[class_id]\n",
    "\n",
    "                writer.addBndBox(x_min, y_min, x_max, y_max, class_name, 0)\n",
    "\n",
    "        # output the xml file\n",
    "        # the xml file should have exactly the same name compared to the visual image file (including .vis part)\n",
    "        writer.save(targetFile= visual_path + '/' + 'xl_visual' + basename + with_vis + '.vis.xml')\n"
   ]
  },
  {
   "cell_type": "markdown",
   "metadata": {},
   "source": [
    "## Precision and Recall"
   ]
  },
  {
   "cell_type": "code",
   "execution_count": 1,
   "metadata": {},
   "outputs": [],
   "source": [
    "import os\n",
    "os.chdir('C:/Users/nisha/MACS/Internship/Data/Object-Detection-Metrics-master/lib/')\n",
    "# import lib\n",
    "import glob\n",
    "from BoundingBoxes import BoundingBox\n",
    "from BoundingBoxes import BoundingBoxes\n",
    "from Evaluator import *"
   ]
  },
  {
   "cell_type": "code",
   "execution_count": 7,
   "metadata": {},
   "outputs": [],
   "source": [
    "def getBoundingBoxes(directory,\n",
    "                     isGT,\n",
    "                     bbFormat,\n",
    "                     coordType,\n",
    "                     allBoundingBoxes=None,\n",
    "                     allClasses=None,\n",
    "                     imgSize=(0, 0)):\n",
    "    \"\"\"Read txt files containing bounding boxes (ground truth and detections).\"\"\"\n",
    "    if allBoundingBoxes is None:\n",
    "        allBoundingBoxes = BoundingBoxes()\n",
    "    if allClasses is None:\n",
    "        allClasses = []\n",
    "    # Read ground truths\n",
    "    os.chdir(directory)\n",
    "    files = glob.glob(\"*.txt\")\n",
    "    files.sort()\n",
    "    # Read GT detections from txt file\n",
    "    # Each line of the files in the groundtruths folder represents a ground truth bounding box\n",
    "    # (bounding boxes that a detector should detect)\n",
    "    # Each value of each line is  \"class_id, x, y, width, height\" respectively\n",
    "    # Class_id represents the class of the bounding box\n",
    "    # x, y represents the most top-left coordinates of the bounding box\n",
    "    # x2, y2 represents the most bottom-right coordinates of the bounding box\n",
    "    for f in files:\n",
    "        nameOfImage = f.replace(\".txt\", \"\")\n",
    "        fh1 = open(f, \"r\")\n",
    "        for line in fh1:\n",
    "            line = line.replace(\"\\n\", \"\")\n",
    "            if line.replace(' ', '') == '':\n",
    "                continue\n",
    "            splitLine = line.split(\",\")            \n",
    "            if isGT:\n",
    "                # idClass = int(splitLine[0]) #class\n",
    "                idClass = (splitLine[4])  # class\n",
    "                x = float(splitLine[0])\n",
    "                y = float(splitLine[1])\n",
    "                w = float(splitLine[2])\n",
    "                h = float(splitLine[3])\n",
    "                bb = BoundingBox(\n",
    "                    nameOfImage,\n",
    "                    idClass,\n",
    "                    x,\n",
    "                    y,\n",
    "                    w,\n",
    "                    h,\n",
    "                    coordType,\n",
    "                    imgSize,\n",
    "                    BBType.GroundTruth,\n",
    "                    format=bbFormat)\n",
    "            else:                \n",
    "                idClass = (splitLine[4])  # class\n",
    "                confidence = 90\n",
    "                x = float(splitLine[0])\n",
    "                y = float(splitLine[1])\n",
    "                w = float(splitLine[2])\n",
    "                h = float(splitLine[3])\n",
    "                bb = BoundingBox(\n",
    "                    nameOfImage,\n",
    "                    idClass,\n",
    "                    x,\n",
    "                    y,\n",
    "                    w,\n",
    "                    h,\n",
    "                    coordType,\n",
    "                    imgSize,\n",
    "                    BBType.Detected,\n",
    "                    classConfidence=confidence,\n",
    "                    format=bbFormat)                        \n",
    "            allBoundingBoxes.addBoundingBox(bb)            \n",
    "            if idClass not in allClasses:\n",
    "                allClasses.append(idClass)\n",
    "        fh1.close()\n",
    "    return allBoundingBoxes, allClasses\n"
   ]
  },
  {
   "cell_type": "code",
   "execution_count": 3,
   "metadata": {},
   "outputs": [],
   "source": [
    "#Intersection over Union\n",
    "\n",
    "def _boxesIntersect(boxA, boxB):\n",
    "    if boxA[0] > boxB[2]:\n",
    "        return False  # boxA is right of boxB\n",
    "    if boxB[0] > boxA[2]:\n",
    "        return False  # boxA is left of boxB\n",
    "    if boxA[3] < boxB[1]:\n",
    "        return False  # boxA is above boxB\n",
    "    if boxA[1] > boxB[3]:\n",
    "        return False  # boxA is below boxB\n",
    "    return True\n",
    "\n",
    "def _getIntersectionArea(boxA, boxB):\n",
    "    xA = max(boxA[0], boxB[0])\n",
    "    yA = max(boxA[1], boxB[1])\n",
    "    xB = min(boxA[2], boxB[2])\n",
    "    yB = min(boxA[3], boxB[3])\n",
    "    # intersection area\n",
    "    return max(0,xB - xA + 1) * max(0,yB - yA + 1)\n",
    "    \n",
    "def _getUnionAreas(boxA, boxB, interArea=None):\n",
    "    area_A = _getArea(boxA)\n",
    "    area_B = _getArea(boxB)\n",
    "    if interArea is None:\n",
    "        interArea = _getIntersectionArea(boxA, boxB)\n",
    "    return float(area_A + area_B - interArea)\n",
    "\n",
    "def _getArea(box):\n",
    "    return (box[2] - box[0] + 1) * (box[3] - box[1] + 1)\n",
    "\n",
    "def IoU(boxA, boxB):\n",
    "    # if boxes dont intersect\n",
    "#     if _boxesIntersect(boxA, boxB) is False:\n",
    "#         return 0\n",
    "    interArea = _getIntersectionArea(boxA, boxB)\n",
    "    union = _getUnionAreas(boxA, boxB, interArea=interArea)\n",
    "    \n",
    "    \n",
    "    # intersection over union\n",
    "    _iou = interArea / union\n",
    "    print('intersection %f'%interArea)\n",
    "    print('union %f'%union)\n",
    "    print('IOU-%f'%_iou)\n",
    "#     print('Intersection %f - union %f - iou %f'%(interArea,union,_iou))\n",
    "#     assert iou >= 0\n",
    "    return abs(_iou)\n"
   ]
  },
  {
   "cell_type": "code",
   "execution_count": 10,
   "metadata": {},
   "outputs": [
    {
     "data": {
      "image/png": "[encoded data removed]",
      "text/plain": [
       "<Figure size 432x288 with 1 Axes>"
      ]
     },
     "metadata": {
      "needs_background": "light"
     },
     "output_type": "display_data"
    },
    {
     "data": {
      "image/png": "[encoded data removed]",
      "text/plain": [
       "<Figure size 432x288 with 1 Axes>"
      ]
     },
     "metadata": {
      "needs_background": "light"
     },
     "output_type": "display_data"
    },
    {
     "data": {
      "image/png": "[encoded data removed]",
      "text/plain": [
       "<Figure size 432x288 with 1 Axes>"
      ]
     },
     "metadata": {
      "needs_background": "light"
     },
     "output_type": "display_data"
    },
    {
     "data": {
      "image/png": "[encoded data removed]",
      "text/plain": [
       "<Figure size 432x288 with 1 Axes>"
      ]
     },
     "metadata": {
      "needs_background": "light"
     },
     "output_type": "display_data"
    },
    {
     "data": {
      "image/png": "[encoded data removed]",
      "text/plain": [
       "<Figure size 432x288 with 1 Axes>"
      ]
     },
     "metadata": {
      "needs_background": "light"
     },
     "output_type": "display_data"
    },
    {
     "data": {
      "image/png": "[encoded data removed]",
      "text/plain": [
       "<Figure size 432x288 with 1 Axes>"
      ]
     },
     "metadata": {
      "needs_background": "light"
     },
     "output_type": "display_data"
    },
    {
     "name": "stdout",
     "output_type": "stream",
     "text": [
      "AP: 73.33% (1)\n",
      "AP: 47.12% (2)\n",
      "AP: 77.08% (3)\n",
      "AP: 73.92% (4)\n",
      "AP: 60.47% (6)\n",
      "AP: 65.48% (7)\n",
      "mAP: 66.23%\n",
      "Total false positive 25\n"
     ]
    }
   ],
   "source": [
    "gtfolder = 'C:/Users/nisha/MACS/Internship/Data/XL_CarPedDataset_INT_v2_train_val/val/groundtruth_txt/'\n",
    "# detectionfolder = 'C:/Users/nisha/MACS/Internship/Data/XL_CarPedDataset_INT_v2_train_val/val/detection_txt_confidence/New/'\n",
    "detectionfolder = 'C:/Users/nisha/MACS/Internship/Data/XL_CarPedDataset_INT_v2_train_val/val/Final prediction/'\n",
    "savePath = 'C:/Users/nisha/MACS/Internship/Data/XL_CarPedDataset_INT_v2_train_val/val/Final Result/'\n",
    "\n",
    "# Get groundtruth boxes\n",
    "allBoundingBoxes, allClasses = getBoundingBoxes(gtfolder,True,BBFormat.XYX2Y2,CoordinatesType.Absolute)\n",
    "\n",
    "# Get detected boxes\n",
    "allBoundingBoxes, allClasses = getBoundingBoxes(\n",
    "    detectionfolder, False, BBFormat.XYX2Y2, CoordinatesType.Absolute, allBoundingBoxes, allClasses)\n",
    "allClasses.sort()\n",
    "\n",
    "iouThreshold = 0.5\n",
    "evaluator = Evaluator()\n",
    "acc_AP = 0\n",
    "validClasses = 0\n",
    "\n",
    "# Plot Precision x Recall curve\n",
    "detections = evaluator.PlotPrecisionRecallCurve(\n",
    "    allBoundingBoxes,  # Object containing all bounding boxes (ground truths and detections)\n",
    "    IOUThreshold=iouThreshold,  # IOU threshold\n",
    "    method=MethodAveragePrecision.EveryPointInterpolation,\n",
    "    showAP=True,  # Show Average Precision in the title of the plot\n",
    "    showInterpolatedPrecision=False,  # Don't plot the interpolated precision curve\n",
    "    savePath=savePath,\n",
    "    showGraphic=True)\n",
    "\n",
    "f = open(os.path.join(savePath, 'C:/Users/nisha/MACS/Internship/Data/XL_CarPedDataset_INT_v2_train_val/val/Final Result/results.txt'), 'w')\n",
    "# f = open(savePath,\"w+\")\n",
    "f.write('Object Detection Metrics\\n')\n",
    "f.write('Average Precision (AP), Precision and Recall per class:')\n",
    "\n",
    "# each detection is a class\n",
    "for metricsPerClass in detections:    \n",
    "    # Get metric values per each class\n",
    "    cl = metricsPerClass['class']\n",
    "    ap = metricsPerClass['AP']\n",
    "    precision = metricsPerClass['precision']\n",
    "    recall = metricsPerClass['recall']\n",
    "    totalPositives = metricsPerClass['total positives']\n",
    "    total_TP = metricsPerClass['total TP']\n",
    "    total_FP = metricsPerClass['total FP']\n",
    "\n",
    "    if totalPositives > 0:\n",
    "        validClasses = validClasses + 1\n",
    "        acc_AP = acc_AP + ap\n",
    "        prec = ['%.2f' % p for p in precision]\n",
    "        rec = ['%.2f' % r for r in recall]\n",
    "        ap_str = \"{0:.2f}%\".format(ap * 100)\n",
    "        # ap_str = \"{0:.4f}%\".format(ap * 100)\n",
    "        print('AP: %s (%s)' % (ap_str, cl))\n",
    "        f.write('\\n\\nClass: %s' % cl)\n",
    "        f.write('\\nAP: %s' % ap_str)\n",
    "        f.write('\\nPrecision: %s' % prec)\n",
    "        f.write('\\nRecall: %s' % rec)\n",
    "\n",
    "mAP = acc_AP / validClasses\n",
    "mAP_str = \"{0:.2f}%\".format(mAP * 100)\n",
    "print('mAP: %s' % mAP_str)\n",
    "f.write('\\n\\n\\nmAP: %s' % mAP_str)\n",
    "print('Total false positive %d'%total_FP)"
   ]
  },
  {
   "cell_type": "markdown",
   "metadata": {},
   "source": [
    "### Another approach\n",
    "##### 11-point interpolated average precision to calculate mean Average Precision(mAP)"
   ]
  },
  {
   "cell_type": "code",
   "execution_count": 1,
   "metadata": {},
   "outputs": [],
   "source": [
    "# Just to fill the ground truth boxes and prediction boxes in variables\n",
    "import os\n",
    "from os import listdir\n",
    "import glob\n",
    "    \n",
    "gtfolder = 'C:/Users/nisha/MACS/Internship/Data/XL_CarPedDataset_INT_v2_train_val/val/groundtruth_txt/'\n",
    "# detectionfolder = 'C:/Users/nisha/MACS/Internship/Data/XL_CarPedDataset_INT_v2_train_val/val/detection_txt_confidence/New/'\n",
    "detectionfolder = 'C:/Users/nisha/MACS/Internship/Data/XL_CarPedDataset_INT_v2_train_val/val/Final prediction/'\n",
    "gt_boxes = {}\n",
    "pred_boxes = {}\n",
    "\n",
    "# Read ground truths\n",
    "os.chdir(gtfolder)\n",
    "files = glob.glob(\"*.txt\")\n",
    "files.sort()\n",
    "\n",
    "for f in files:\n",
    "    box_score = {\"boxes\":[],\"category\":[]}\n",
    "    nameOfImage = f.replace(\".txt\", \"\")\n",
    "    fh1 = open(f, \"r\")\n",
    "    for line in fh1:\n",
    "        line = line.replace(\"\\n\", \"\")\n",
    "        if line.replace(' ', '') == '':\n",
    "            continue\n",
    "        splitLine = line.split(\",\")            \n",
    "\n",
    "        x = float(splitLine[0])\n",
    "        y = float(splitLine[1])\n",
    "        w = float(splitLine[2])\n",
    "        h = float(splitLine[3])\n",
    "        catg=float(splitLine[4])\n",
    "        \n",
    "#         arr = [x,y,w,h]\n",
    "        \n",
    "#         if nameOfImage in gt_boxes:            \n",
    "#             gt_boxes[nameOfImage].append(arr)\n",
    "#         else:            \n",
    "#             gt_boxes[nameOfImage] = [arr]  \n",
    "\n",
    "        box_score[\"boxes\"].append([x,y,w,h])\n",
    "        box_score[\"category\"].append(catg)            \n",
    "                            \n",
    "    gt_boxes[nameOfImage] = box_score        \n",
    "\n",
    "# Read detection files\n",
    "os.chdir(detectionfolder)\n",
    "files = glob.glob(\"*.txt\")\n",
    "files.sort()\n",
    "\n",
    "for f in files:\n",
    "    box_score={\"boxes\":[],\"scores\":[],\"category\":[]}\n",
    "    nameOfImage = f.replace(\".txt\", \"\")\n",
    "    fh1 = open(f, \"r\")        \n",
    "    for line in fh1:\n",
    "        line = line.replace(\"\\n\", \"\")\n",
    "        if line.replace(' ', '') == '':\n",
    "            continue\n",
    "        splitLine = line.split(\",\")            \n",
    "                \n",
    "        x = float(splitLine[0])\n",
    "        y = float(splitLine[1])\n",
    "        w = float(splitLine[2])\n",
    "        h = float(splitLine[3])\n",
    "        catg=float(splitLine[4])\n",
    "        scr = float(splitLine[5])                                                 \n",
    "                        \n",
    "        box_score[\"boxes\"].append([x,y,w,h])\n",
    "#         box_score[\"scores\"].append(scr)\n",
    "        box_score[\"category\"].append(catg)                        \n",
    "    \n",
    "    pred_boxes[nameOfImage] = box_score\n"
   ]
  },
  {
   "cell_type": "code",
   "execution_count": 29,
   "metadata": {},
   "outputs": [],
   "source": [
    "def get_model_scores(pred_boxes):\n",
    "    \"\"\"Creates a dictionary of from model_scores to image ids.\n",
    "    Args:\n",
    "        pred_boxes (dict): dict of dicts of 'boxes' and 'scores'\n",
    "    Returns:\n",
    "        dict: keys are model_scores and values are image ids (usually filenames)\n",
    "    \"\"\"\n",
    "    model_score={}\n",
    "    for img_id, val in pred_boxes.items():\n",
    "        for score in val['scores']:\n",
    "            if score not in model_score.keys():\n",
    "                model_score[score]=[img_id]\n",
    "            else:\n",
    "                model_score[score].append(img_id)\n",
    "    return model_score"
   ]
  },
  {
   "cell_type": "code",
   "execution_count": 30,
   "metadata": {},
   "outputs": [],
   "source": [
    "import numpy as np\n",
    "def calc_iou( gt_bbox, pred_bbox):\n",
    "    '''\n",
    "    This function takes the predicted bounding box and ground truth bounding box and \n",
    "    return the IoU ratio\n",
    "    '''\n",
    "    x_topleft_gt, y_topleft_gt, x_bottomright_gt, y_bottomright_gt= gt_bbox\n",
    "    x_topleft_p, y_topleft_p, x_bottomright_p, y_bottomright_p= pred_bbox\n",
    "    \n",
    "    if (x_topleft_gt > x_bottomright_gt) or (y_topleft_gt> y_bottomright_gt):\n",
    "        raise AssertionError(\"Ground Truth Bounding Box is not correct\")\n",
    "    if (x_topleft_p > x_bottomright_p) or (y_topleft_p> y_bottomright_p):\n",
    "        raise AssertionError(\"Predicted Bounding Box is not correct\",x_topleft_p, x_bottomright_p,y_topleft_p,y_bottomright_gt)\n",
    "        \n",
    "         \n",
    "    #if the GT bbox and predcited BBox do not overlap then iou=0\n",
    "    if(x_bottomright_gt< x_topleft_p):\n",
    "        # If bottom right of x-coordinate  GT  bbox is less than or above the top left of x coordinate of  the predicted BBox\n",
    "        \n",
    "        return 0.0\n",
    "    if(y_bottomright_gt< y_topleft_p):  # If bottom right of y-coordinate  GT  bbox is less than or above the top left of y coordinate of  the predicted BBox\n",
    "        \n",
    "        return 0.0\n",
    "    if(x_topleft_gt> x_bottomright_p): # If bottom right of x-coordinate  GT  bbox is greater than or below the bottom right  of x coordinate of  the predcited BBox\n",
    "        \n",
    "        return 0.0\n",
    "    if(y_topleft_gt> y_bottomright_p): # If bottom right of y-coordinate  GT  bbox is greater than or below the bottom right  of y coordinate of  the predcited BBox\n",
    "        \n",
    "        return 0.0\n",
    "    \n",
    "    \n",
    "    GT_bbox_area = (x_bottomright_gt -  x_topleft_gt + 1) * (  y_bottomright_gt -y_topleft_gt + 1)\n",
    "    Pred_bbox_area =(x_bottomright_p - x_topleft_p + 1 ) * ( y_bottomright_p -y_topleft_p + 1)\n",
    "    \n",
    "    x_top_left =np.max([x_topleft_gt, x_topleft_p])\n",
    "    y_top_left = np.max([y_topleft_gt, y_topleft_p])\n",
    "    x_bottom_right = np.min([x_bottomright_gt, x_bottomright_p])\n",
    "    y_bottom_right = np.min([y_bottomright_gt, y_bottomright_p])\n",
    "    \n",
    "    intersection_area = (x_bottom_right- x_top_left + 1) * (y_bottom_right-y_top_left  + 1)\n",
    "    \n",
    "    union_area = (GT_bbox_area + Pred_bbox_area - intersection_area)\n",
    "   \n",
    "    return intersection_area/union_area"
   ]
  },
  {
   "cell_type": "code",
   "execution_count": 31,
   "metadata": {},
   "outputs": [],
   "source": [
    "def calc_precision_recall(image_results):\n",
    "    \"\"\"Calculates precision and recall from the set of images\n",
    "    Args:\n",
    "        img_results (dict): dictionary formatted like:\n",
    "            {\n",
    "                'img_id1': {'true_pos': int, 'false_pos': int, 'false_neg': int},\n",
    "                'img_id2': ...\n",
    "                ...\n",
    "            }\n",
    "    Returns:\n",
    "        tuple: of floats of (precision, recall)\n",
    "    \"\"\"\n",
    "    true_positive=0\n",
    "    false_positive=0\n",
    "    false_negative=0\n",
    "    for img_id, res in image_results.items():\n",
    "        true_positive +=res['true_positive']\n",
    "        false_positive += res['false_positive']\n",
    "        false_negative += res['false_negative']\n",
    "        try:\n",
    "            precision = true_positive/(true_positive+ false_positive)\n",
    "        except ZeroDivisionError:\n",
    "            precision=0.0\n",
    "        try:\n",
    "            recall = true_positive/(true_positive + false_negative)\n",
    "        except ZeroDivisionError:\n",
    "            recall=0.0\n",
    "    return (precision, recall)\n"
   ]
  },
  {
   "cell_type": "code",
   "execution_count": 32,
   "metadata": {},
   "outputs": [],
   "source": [
    "def get_single_image_results(gt_boxes, pred_boxes, iou_thr):\n",
    "    \"\"\"Calculates number of true_pos, false_pos, false_neg from single batch of boxes.\n",
    "    Args:\n",
    "        gt_boxes (list of list of floats): list of locations of ground truth\n",
    "            objects as [xmin, ymin, xmax, ymax]\n",
    "        pred_boxes (dict): dict of dicts of 'boxes' (formatted like `gt_boxes`)\n",
    "            and 'scores'\n",
    "        iou_thr (float): value of IoU to consider as threshold for a\n",
    "            true prediction.\n",
    "    Returns:\n",
    "        dict: true positives (int), false positives (int), false negatives (int)\n",
    "    \"\"\"    \n",
    "    gt_catg = gt_boxes['category']\n",
    "    pred_catg = pred_boxes['category']\n",
    "    \n",
    "    gt_boxes_ = gt_boxes['boxes']\n",
    "    pred_boxes_ = pred_boxes['boxes']\n",
    "    \n",
    "    all_pred_indices= range(len(pred_boxes_))\n",
    "    all_gt_indices=range(len(gt_boxes_))\n",
    "    if len(all_pred_indices)==0:\n",
    "        tp=0\n",
    "        fp=0\n",
    "        fn=0\n",
    "        return {'true_positive':tp, 'false_positive':fp, 'false_negative':fn}\n",
    "    if len(all_gt_indices)==0:\n",
    "        tp=0\n",
    "        fp=0\n",
    "        fn=0\n",
    "        return {'true_positive':tp, 'false_positive':fp, 'false_negative':fn}\n",
    "    \n",
    "    gt_idx_thr=[]\n",
    "    pred_idx_thr=[]\n",
    "    ious=[]\n",
    "    for ipb, pred_box in enumerate(pred_boxes_):\n",
    "        for igb, gt_box in enumerate(gt_boxes_):            \n",
    "            iou= calc_iou(gt_box, pred_box)\n",
    "            \n",
    "            if iou >iou_thr:\n",
    "#                 if gt_catg[igb] == pred_catg[ipb]:\n",
    "                gt_idx_thr.append(igb)\n",
    "                pred_idx_thr.append(ipb)\n",
    "                ious.append(iou)\n",
    "\n",
    "    iou_sort = np.argsort(ious)[::1]\n",
    "    if len(iou_sort)==0:\n",
    "        tp=0\n",
    "        fp=0\n",
    "        fn=0\n",
    "        return {'true_positive':tp, 'false_positive':fp, 'false_negative':fn}\n",
    "    else:\n",
    "        gt_match_idx=[]\n",
    "        pred_match_idx=[]\n",
    "        for idx in iou_sort:\n",
    "            gt_idx=gt_idx_thr[idx]\n",
    "            pr_idx= pred_idx_thr[idx]\n",
    "            # If the boxes are unmatched, add them to matches\n",
    "            if(gt_idx not in gt_match_idx) and (pr_idx not in pred_match_idx):\n",
    "                gt_match_idx.append(gt_idx)\n",
    "                pred_match_idx.append(pr_idx)\n",
    "        tp = len(gt_match_idx)\n",
    "        fp = len(pred_boxes_) - len(pred_match_idx)\n",
    "        fn = len(gt_boxes_) - len(gt_match_idx)        \n",
    "    return {'true_positive': tp, 'false_positive': fp, 'false_negative': fn}"
   ]
  },
  {
   "cell_type": "code",
   "execution_count": 33,
   "metadata": {},
   "outputs": [],
   "source": [
    "from copy import deepcopy\n",
    "def  get_avg_precision_at_iou(gt_boxes, pred_bb, iou_thr=0.5):\n",
    "    \n",
    "    model_scores = get_model_scores(pred_bb)\n",
    "    sorted_model_scores= sorted(model_scores.keys())\n",
    "    # Sort the predicted boxes in descending order (lowest scoring boxes first):\n",
    "    for img_id in pred_bb.keys():\n",
    "        \n",
    "        arg_sort = np.argsort(pred_bb[img_id]['scores'])\n",
    "#         pred_bb[img_id]['scores'] = np.array(pred_bb[img_id]['scores'])[arg_sort].tolist()\n",
    "        pred_bb[img_id]['boxes'] = np.array(pred_bb[img_id]['boxes'])[arg_sort].tolist()\n",
    "\n",
    "    pred_boxes_pruned = deepcopy(pred_bb)\n",
    "    \n",
    "    precisions = []\n",
    "    recalls = []\n",
    "    model_thrs = []\n",
    "    img_results = {}\n",
    "    # Loop over model score thresholds and calculate precision, recall\n",
    "    for ithr, model_score_thr in enumerate(sorted_model_scores[:-1]):\n",
    "        # On first iteration, define img_results for the first time:\n",
    "        print(\"Mode score : \", model_score_thr)\n",
    "        img_ids = gt_boxes.keys() if ithr == 0 else model_scores[model_score_thr]\n",
    "        for img_id in img_ids:               \n",
    "            gt_boxes_img = gt_boxes[img_id]\n",
    "#             box_scores = pred_boxes_pruned[img_id]['scores']\n",
    "            start_idx = 0\n",
    "            for score in box_scores:\n",
    "                if score <= model_score_thr:\n",
    "                    pred_boxes_pruned[img_id]\n",
    "                    start_idx += 1\n",
    "                else:\n",
    "                    break \n",
    "            # Remove boxes, scores of lower than threshold scores:\n",
    "            pred_boxes_pruned[img_id]['scores']= pred_boxes_pruned[img_id]['scores'][start_idx:]\n",
    "            pred_boxes_pruned[img_id]['boxes']= pred_boxes_pruned[img_id]['boxes'][start_idx:]\n",
    "    # Recalculate image results for this image\n",
    "            img_results[img_id] = get_single_image_results(gt_boxes_img, pred_boxes_pruned[img_id], iou_thr)\n",
    "    # calculate precision and recall\n",
    "        prec, rec = calc_precision_recall(img_results)\n",
    "        precisions.append(prec)\n",
    "        recalls.append(rec)\n",
    "        model_thrs.append(model_score_thr)\n",
    "    precisions = np.array(precisions)\n",
    "    recalls = np.array(recalls)\n",
    "    prec_at_rec = []\n",
    "    for recall_level in np.linspace(0.0, 1.0, 11):\n",
    "        try:\n",
    "            args= np.argwhere(recalls>recall_level).flatten()\n",
    "            prec= max(precisions[args])\n",
    "            print(recalls,\"Recall\")\n",
    "            print(recall_level,\"Recall Level\")\n",
    "            print(args, \"Args\")\n",
    "            print(prec, \"precision\")\n",
    "        except ValueError:\n",
    "            prec=0.0\n",
    "        prec_at_rec.append(prec)\n",
    "    avg_prec = np.mean(prec_at_rec) \n",
    "    return {\n",
    "        'avg_prec': avg_prec,\n",
    "        'precisions': precisions,\n",
    "        'recalls': recalls,\n",
    "        'model_thrs': model_thrs}"
   ]
  },
  {
   "cell_type": "code",
   "execution_count": null,
   "metadata": {},
   "outputs": [],
   "source": [
    "get_avg_precision_at_iou(gt_boxes,pred_boxes,iou_thr=0.5)"
   ]
  },
  {
   "cell_type": "code",
   "execution_count": 41,
   "metadata": {},
   "outputs": [
    {
     "name": "stdout",
     "output_type": "stream",
     "text": [
      "5\n"
     ]
    }
   ],
   "source": [
    "a=get_single_image_results(gt_boxes[\"xl_visual_session0002_00003110\"],pred_boxes[\"xl_visual_session0002_00003110\"],iou_thr=0.8)\n",
    "print(a['false_positive'])"
   ]
  },
  {
   "cell_type": "code",
   "execution_count": 4,
   "metadata": {},
   "outputs": [
    {
     "data": {
      "text/plain": [
       "{'boxes': [[29.0, 96.0, 281.0, 263.0],\n",
       "  [333.0, 87.0, 631.0, 303.0],\n",
       "  [889.0, 67.0, 984.0, 148.0],\n",
       "  [210.0, 79.0, 302.0, 157.0],\n",
       "  [626.0, 70.0, 675.0, 101.0],\n",
       "  [844.0, 52.0, 916.0, 127.0],\n",
       "  [10.0, 74.0, 63.0, 216.0],\n",
       "  [329.0, 81.0, 380.0, 137.0],\n",
       "  [718.0, 75.0, 750.0, 97.0],\n",
       "  [342.0, 68.0, 457.0, 139.0],\n",
       "  [1295.0, 27.0, 1349.0, 217.0],\n",
       "  [781.0, 51.0, 851.0, 117.0]],\n",
       " 'category': [4.0, 4.0, 4.0, 4.0, 4.0, 4.0, 1.0, 4.0, 4.0, 4.0, 1.0, 4.0]}"
      ]
     },
     "execution_count": 4,
     "metadata": {},
     "output_type": "execute_result"
    }
   ],
   "source": [
    "gt_boxes[\"xl_visual_session0002_00003110\"]"
   ]
  },
  {
   "cell_type": "code",
   "execution_count": 13,
   "metadata": {},
   "outputs": [
    {
     "name": "stdout",
     "output_type": "stream",
     "text": [
      "Recall 0.912155\n",
      "Precision 0.932221\n"
     ]
    }
   ],
   "source": [
    "# Temporary funciton for average score\n",
    "#  Recall - TP/TP+FN\n",
    "# Prec - TP/TP+FP\n",
    "    \n",
    "recall_scores = []\n",
    "prec_scores = []\n",
    "tp=0\n",
    "fp=0\n",
    "fn=0\n",
    "recall = 0\n",
    "precision =0\n",
    "count=0\n",
    "for i in gt_boxes:\n",
    "    val = get_single_image_results(gt_boxes[i],pred_boxes[i],iou_thr=0.8)\n",
    "    tp=val['true_positive']\n",
    "    fp=val['false_positive']\n",
    "    fn=val['false_negative']\n",
    "    \n",
    "    if (tp+fn) != 0:\n",
    "        recall = tp/(tp+fn)\n",
    "        recall_scores.append(recall)\n",
    "    if (tp+fp) !=0:\n",
    "        precision = tp/(tp+fp)\n",
    "        prec_scores.append(precision)        \n",
    "    \n",
    "    count+=1\n",
    "    \n",
    "    \n",
    "a = np.array(recall_scores)    \n",
    "b = np.array(prec_scores)\n",
    "print('Recall %f'%(np.mean(a)))\n",
    "print('Precision %f'%(np.mean(b)))\n",
    "            \n",
    "    "
   ]
  },
  {
   "cell_type": "markdown",
   "metadata": {},
   "source": [
    "### Distribution of object categories (Validation Data set)"
   ]
  },
  {
   "cell_type": "code",
   "execution_count": 15,
   "metadata": {},
   "outputs": [
    {
     "name": "stdout",
     "output_type": "stream",
     "text": [
      "**Ground Truth(in %)**\n",
      "Person - 4277.00 \n",
      "Bicycle - 800.00 \n",
      "Motorcycle - 199.00 \n",
      "Car - 5525.00 \n",
      "Train - 0.00 \n",
      "Truck - 432.00 \n",
      "Bus - 55.00\n",
      "112.88\n"
     ]
    }
   ],
   "source": [
    "import os\n",
    "import glob\n",
    "gtfolder = 'C:/Users/nisha/MACS/Internship/Data/XL_CarPedDataset_INT_v2_train_val/val/groundtruth_txt/'\n",
    "# Read ground truths\n",
    "person = 0\n",
    "bicycle = 0\n",
    "motorcycle = 0\n",
    "car = 0\n",
    "train = 0\n",
    "truck = 0\n",
    "bus = 0\n",
    "\n",
    "def add(data):\n",
    "    global person\n",
    "    global bicycle\n",
    "    global motorcycle\n",
    "    global car\n",
    "    global train\n",
    "    global truck\n",
    "    global bus\n",
    "    if data ==1:\n",
    "        person+=1\n",
    "    elif data ==2:\n",
    "        bicycle+=1\n",
    "    elif data ==3:\n",
    "        motorcycle+=1\n",
    "    elif data ==4:\n",
    "        car+=1\n",
    "    elif data ==5:\n",
    "        train+=1\n",
    "    elif data ==6:\n",
    "        truck+=1\n",
    "    elif data ==7:\n",
    "        bus+=1    \n",
    "\n",
    "os.chdir(gtfolder)\n",
    "files = glob.glob(\"*.txt\")    \n",
    "for f in files:    \n",
    "    fh1 = open(f, \"r\")\n",
    "    for line in fh1:\n",
    "        line = line.replace(\"\\n\", \"\")\n",
    "        if line.replace(' ', '') == '':\n",
    "            continue\n",
    "        splitLine = line.split(\",\")                    \n",
    "        idClass = int(splitLine[4])  # class\n",
    "        add(idClass)\n",
    "        \n",
    "total = (person+bicycle+motorcycle+car+train+truck+bus)/100\n",
    "\n",
    "print('**Ground Truth(in %)**')\n",
    "print('Person - %.2f \\nBicycle - %.2f \\nMotorcycle - %.2f \\nCar - %.2f \\nTrain - %.2f \\nTruck - %.2f \\nBus - %.2f' %\n",
    "#       (person/total,bicycle/total,motorcycle/total,car/total,train/total,truck/total,bus/total))\n",
    "      (person,bicycle,motorcycle,car,train,truck,bus))     \n",
    "print(total)"
   ]
  },
  {
   "cell_type": "code",
   "execution_count": 54,
   "metadata": {},
   "outputs": [],
   "source": [
    "#Get Train detection dataset\n",
    "import os\n",
    "from os import listdir\n",
    "import glob \n",
    "\n",
    "train_path = 'C:/Users/nisha/MACS/Internship/Data/XL_CarPedDataset_INT_v2_train_val/train/label_FasterRCNN/'\n",
    "train_boxes = {}\n",
    "\n",
    "# Read ground truths\n",
    "os.chdir(train_path)\n",
    "files = glob.glob(\"*.txt\")\n",
    "files.sort()\n",
    "\n",
    "for f in files:\n",
    "    box_score={\"boxes\":[],\"scores\":[],\"category\":[]}\n",
    "    nameOfImage = f.replace(\".txt\", \"\")\n",
    "    fh1 = open(f, \"r\")        \n",
    "    for line in fh1:\n",
    "        line = line.replace(\"\\n\", \"\")\n",
    "        if line.replace(' ', '') == '':\n",
    "            continue\n",
    "        splitLine = line.split(\",\")            \n",
    "                \n",
    "        x = float(splitLine[0])\n",
    "        y = float(splitLine[1])\n",
    "        w = float(splitLine[2])\n",
    "        h = float(splitLine[3])\n",
    "        catg=float(splitLine[4])\n",
    "        scr = float(splitLine[5])                                                 \n",
    "                        \n",
    "        box_score[\"boxes\"].append([x,y,w,h])\n",
    "        box_score[\"scores\"].append(scr)\n",
    "        box_score[\"category\"].append(catg)                        \n",
    "    \n",
    "    train_boxes[nameOfImage] = box_score"
   ]
  },
  {
   "cell_type": "code",
   "execution_count": 44,
   "metadata": {},
   "outputs": [
    {
     "data": {
      "text/plain": [
       "10.909625940442345"
      ]
     },
     "execution_count": 44,
     "metadata": {},
     "output_type": "execute_result"
    }
   ],
   "source": [
    "area_diff([646.5887,82.9531,684.0550,112.0373],[642.6957,79.6248,681.8069,111.0082])"
   ]
  },
  {
   "cell_type": "code",
   "execution_count": 62,
   "metadata": {},
   "outputs": [
    {
     "data": {
      "text/plain": [
       "6.097361832235543"
      ]
     },
     "execution_count": 62,
     "metadata": {},
     "output_type": "execute_result"
    }
   ],
   "source": [
    "area_diff([[579.4249,91.0431,645.8249,134.0774],[646.5887,82.9531,684.0550,112.0373]],[[575.3651,82.5481,637.3134,128.0906],[642.6957,79.6248,681.8069,111.0082]])"
   ]
  },
  {
   "cell_type": "code",
   "execution_count": 193,
   "metadata": {},
   "outputs": [],
   "source": [
    "#Make batches of the similar images based on:\n",
    "# 1. Number of detections\n",
    "# 2. IOU\n",
    "# 3. Area difference\n",
    "# Val- Validation dataset detected\n",
    "# tr - traininf dataset detected\n",
    "\n",
    "batches = {}\n",
    "\n",
    "for i in false_positives:\n",
    "#     i = false_positives[img]\n",
    "    val = gt_boxes[i]['boxes']\n",
    "    class_val = gt_boxes[i]['category']\n",
    "    for j in train_boxes:        \n",
    "        tr = train_boxes[j]['boxes']\n",
    "        class_tr = train_boxes[j]['category']\n",
    "                        \n",
    "        #1. Comparing the classes    \n",
    "        if class_val == class_tr:\n",
    "\n",
    "        #2. Average IoU\n",
    "            if avg_iou(val,tr)>0.65:                \n",
    "        #3. Area difference\n",
    "#                 if avg_area_diff(val,tr) <= 10:                    \n",
    "        # Average distance among the objects in image                       \n",
    "                if average_distance(val,tr) <10:                                        \n",
    "                    if i in batches:\n",
    "                        batches[i].append(j)                    \n",
    "                    else:\n",
    "                        batches[i] = [j]\n",
    "\n",
    "                "
   ]
  },
  {
   "cell_type": "code",
   "execution_count": 73,
   "metadata": {},
   "outputs": [],
   "source": [
    "def avg_area_diff(gt_boxes,pred_boxes,thr=16):\n",
    "    areas=[]\n",
    "    value=0\n",
    "    for ipb, pred_bbox in enumerate(pred_boxes):\n",
    "        for igb, gt_bbox in enumerate(gt_boxes):                            \n",
    "            x_topleft_gt, y_topleft_gt, x_bottomright_gt, y_bottomright_gt= gt_bbox\n",
    "            x_topleft_p, y_topleft_p, x_bottomright_p, y_bottomright_p= pred_bbox\n",
    "\n",
    "            GT_bbox_area = (x_bottomright_gt -  x_topleft_gt + 1) * (  y_bottomright_gt -y_topleft_gt + 1)\n",
    "            Pred_bbox_area =(x_bottomright_p - x_topleft_p + 1 ) * ( y_bottomright_p -y_topleft_p + 1)\n",
    "                    \n",
    "            if GT_bbox_area>Pred_bbox_area:\n",
    "                value = abs(GT_bbox_area-Pred_bbox_area)*100/GT_bbox_area\n",
    "            else:\n",
    "                value = abs(GT_bbox_area-Pred_bbox_area)*100/Pred_bbox_area\n",
    "                \n",
    "            if value<thr:\n",
    "                areas.append(value)\n",
    "    return(np.mean(areas))"
   ]
  },
  {
   "cell_type": "code",
   "execution_count": 75,
   "metadata": {},
   "outputs": [],
   "source": [
    "def avg_iou(gt_boxes,pred_boxes,iou_thr=0.4):\n",
    "    ious=[]\n",
    "    for ipb, pred_box in enumerate(pred_boxes):\n",
    "        for igb, gt_box in enumerate(gt_boxes):        \n",
    "            iou= calc_iou(gt_box, pred_box)\n",
    "\n",
    "            if iou >iou_thr:\n",
    "                ious.append(iou)\n",
    "    return(np.mean(ious))"
   ]
  },
  {
   "cell_type": "code",
   "execution_count": 191,
   "metadata": {},
   "outputs": [],
   "source": [
    "# Calculate the distance between objects in an image\n",
    "from itertools import combinations\n",
    "\n",
    "def distance_between_objects(box1,box2):\n",
    "    \n",
    "    x1, y1, x1b, y1b = box1\n",
    "    x2, y2, x2b, y2b = box2\n",
    "    \n",
    "    left = x2b < x1\n",
    "    right = x1b < x2\n",
    "    bottom = y2b < y1\n",
    "    top = y1b < y2    \n",
    "    \n",
    "    #dist is euclidean distance between two points\n",
    "    if top and left:\n",
    "        return distance.euclidean((x1, y1b), (x2b, y2))\n",
    "    elif left and bottom:\n",
    "        return distance.euclidean((x1, y1), (x2b, y2b))\n",
    "    elif bottom and right:\n",
    "        return distance.euclidean((x1b, y1), (x2, y2b))\n",
    "    elif right and top:\n",
    "        return distance.euclidean((x1b, y1b), (x2, y2))\n",
    "    elif left:\n",
    "        return x1 - x2b\n",
    "    elif right:\n",
    "        return x2 - x1b\n",
    "    elif bottom:\n",
    "        return y1 - y2b\n",
    "    elif top:\n",
    "        return y2 - y1b\n",
    "    else:             # rectangles intersect\n",
    "        return 0        \n",
    "\n",
    "def average_distance(val_boxes,train_boxes):    \n",
    "    \n",
    "    distances_val = []\n",
    "    distances_train = []\n",
    "    \n",
    "    #Indices \n",
    "    L = [index for index, element in enumerate(val_boxes)]     \n",
    "    #To get two unique boxes in an image at one time\n",
    "    for pos in combinations(L,2):\n",
    "        a,b = pos        \n",
    "        distances_val.append(distance_between_objects(val_boxes[a],val_boxes[b]))\n",
    "        distances_train.append(distance_between_objects(train_boxes[a],train_boxes[b]))\n",
    "        \n",
    "        if distances_train>distances_val:\n",
    "            total = np.mean(distances_train)\n",
    "        else:\n",
    "            total = np.mean(distances_val)\n",
    "                \n",
    "    return((abs(np.mean(distances_val)-np.mean(distances_train))*100)/total)\n",
    "    "
   ]
  },
  {
   "cell_type": "markdown",
   "metadata": {},
   "source": [
    "### Make a set of True Positive, False positive and False negative values in a data set"
   ]
  },
  {
   "cell_type": "code",
   "execution_count": 3,
   "metadata": {},
   "outputs": [],
   "source": [
    "#Make set of 500 TP for each class\n",
    "\n",
    "def find_tp_fp_fn(gt_boxes, pred_boxes, iou_thr,img):    \n",
    "    \n",
    "    box_catg_tp = {\"boxes\":[],\"category\":[],\"position\":[]}\n",
    "    box_catg_fp = {\"boxes\":[],\"category\":[],\"position\":[]}\n",
    "    box_catg_fn = {\"boxes\":[],\"category\":[],\"position\":[]}    \n",
    "    \n",
    "    gt_catg = gt_boxes['category']\n",
    "    pred_catg = pred_boxes['category']\n",
    "    \n",
    "    gt_boxes_ = gt_boxes['boxes']\n",
    "    pred_boxes_ = pred_boxes['boxes']\n",
    "    \n",
    "    for ipb, pred_box in enumerate(pred_boxes_):\n",
    "        box_found = False\n",
    "        for igb, gt_box in enumerate(gt_boxes_):            \n",
    "            \n",
    "            iou= calc_iou(gt_box, pred_box)\n",
    "            \n",
    "            if iou >iou_thr:\n",
    "                #Atleast one prediction box found in ground truth\n",
    "                box_found = True               \n",
    "                if gt_catg[igb] == pred_catg[ipb]:\n",
    "                    # Right detection and classification - true positive                    \n",
    "                    box_catg_tp[\"boxes\"].append(gt_box)\n",
    "                    box_catg_tp[\"category\"].append(gt_catg[igb])\n",
    "                    box_catg_tp[\"position\"].append(igb)\n",
    "                else:\n",
    "                    #Right detection but wrong classification - false positive\n",
    "                    box_catg_fp[\"boxes\"].append(pred_box)\n",
    "                    box_catg_fp[\"category\"].append(pred_catg[ipb])\n",
    "                    box_catg_fp[\"position\"].append(ipb)                \n",
    "\n",
    "        #Prediction not found in ground truth at all - false positive\n",
    "        if box_found == False:\n",
    "            box_catg_fp[\"boxes\"].append(pred_box)\n",
    "            box_catg_fp[\"category\"].append(pred_catg[ipb])\n",
    "            box_catg_fp[\"position\"].append(ipb)\n",
    "            \n",
    "    #No prediction box in prediciton dataset - false negative\n",
    "    for pos,val in enumerate(gt_boxes_):\n",
    "        if (val not in box_catg_tp[\"boxes\"]) and (val not in box_catg_fp[\"boxes\"]):            \n",
    "            box_catg_fn[\"boxes\"].append(val)\n",
    "            box_catg_fn[\"category\"].append(gt_catg[pos])\n",
    "            box_catg_fn[\"position\"].append(pos)\n",
    "\n",
    "    return(box_catg_tp,box_catg_fp,box_catg_fn)\n"
   ]
  },
  {
   "cell_type": "code",
   "execution_count": 4,
   "metadata": {},
   "outputs": [],
   "source": [
    "# Running for all the values \n",
    "# Calculate:\n",
    "#     true_positives\n",
    "#     false_positives\n",
    "#     false_negatives\n",
    "\n",
    "true_positives={}\n",
    "false_positives={}\n",
    "false_negatives={}\n",
    "\n",
    "for i in gt_boxes:\n",
    "    tp,fp,fn = find_tp_fp_fn(gt_boxes[i],pred_boxes[i],0.5,i)\n",
    "\n",
    "    true_positives[i] = tp\n",
    "    false_positives[i] = fp\n",
    "    false_negatives[i] = fn    \n",
    "    "
   ]
  },
  {
   "cell_type": "code",
   "execution_count": 5,
   "metadata": {},
   "outputs": [],
   "source": [
    "# Finding the 3d points for true positive, false positive and false negative\n",
    "#Reading the files from point cloud text(gt and prediction)\n",
    "\n",
    "import os\n",
    "from os import listdir\n",
    "import glob\n",
    "\n",
    "gt_cloud = \"C:/Users/nisha/MACS/Internship/Data/XL_CarPedDataset_INT_v2_train_val/val/pointcloud_txt_gt/\"\n",
    "\n",
    "true_positive_3d = {} #ground truth\n",
    "false_negative_3d = {} #ground truth\n",
    "\n",
    "\n",
    "#ground truth will cover - tp and fn\n",
    "os.chdir(gt_cloud)\n",
    "files = glob.glob(\"*.txt\")\n",
    "files.sort()\n",
    "    \n",
    "for f in files:    \n",
    "    temp=[]\n",
    "    name = f.replace(\".txt\", \"\")\n",
    "    tp_pos = true_positives[name][\"position\"]\n",
    "    fn_pos = false_negatives[name][\"position\"] \n",
    "    \n",
    "    fh1 = open(f, \"r\")    \n",
    "    \n",
    "    true_positive_3d[name]=[]\n",
    "    false_negative_3d[name]=[]\n",
    "    \n",
    "    for line in fh1:        \n",
    "                        \n",
    "        line = line.replace(\"\\n\", \"\")\n",
    "        if line.replace(' ', '') == '':\n",
    "            continue\n",
    "        splitLine = line.split(\",\")            \n",
    "\n",
    "        distance = float(splitLine[0])\n",
    "        intensity = float(splitLine[1])\n",
    "        x_min = float(splitLine[2])\n",
    "        x_max = float(splitLine[3])\n",
    "        y_min = float(splitLine[4])\n",
    "        y_max = float(splitLine[5]) \n",
    "        z_min = float(splitLine[6])\n",
    "        z_max = float(splitLine[7])\n",
    "        non_ground = splitLine[8]\n",
    "        num = splitLine[9]\n",
    "        catg = splitLine[10]\n",
    "        \n",
    "        temp.append([distance,intensity,x_min,x_max,y_min,y_max,z_min,z_max,non_ground,num,catg])\n",
    "    \n",
    "    for i in tp_pos:                        \n",
    "        true_positive_3d[name].append(temp[i])\n",
    "    \n",
    "    for j in fn_pos:        \n",
    "        false_negative_3d[name].append(temp[j])\n",
    "        \n",
    "    fh1.close()    \n",
    "    "
   ]
  },
  {
   "cell_type": "code",
   "execution_count": 6,
   "metadata": {},
   "outputs": [],
   "source": [
    "# Run to calculate false_positive_3d\n",
    "pred_cloud = \"C:/Users/nisha/MACS/Internship/Data/XL_CarPedDataset_INT_v2_train_val/val/pointcloud_txt_detection/\"\n",
    "\n",
    "false_positive_3d = {} #prediciton\n",
    "\n",
    "#ground truth will cover - tp and fn\n",
    "os.chdir(pred_cloud)\n",
    "files = glob.glob(\"*.txt\")\n",
    "files.sort()\n",
    "    \n",
    "for f in files:    \n",
    "    temp=[]\n",
    "    name = f.replace(\".txt\", \"\")\n",
    "    fp_pos = false_positives[name][\"position\"]\n",
    "    \n",
    "    if not fp_pos:\n",
    "        continue\n",
    "\n",
    "    fh1 = open(f, \"r\")\n",
    "    \n",
    "    false_positive_3d[name] = []\n",
    "    \n",
    "    for line in fh1:\n",
    "        line = line.replace(\"\\n\", \"\")\n",
    "        if line.replace(' ', '') == '':\n",
    "            continue\n",
    "        splitLine = line.split(\",\")            \n",
    "\n",
    "        distance = float(splitLine[0])\n",
    "        intensity = float(splitLine[1])\n",
    "        x_min = float(splitLine[2])\n",
    "        x_max = float(splitLine[3])\n",
    "        y_min = float(splitLine[4])\n",
    "        y_max = float(splitLine[5]) \n",
    "        z_min = float(splitLine[6])\n",
    "        z_max = float(splitLine[7])\n",
    "        non_ground = splitLine[8]\n",
    "        num = splitLine[9]\n",
    "        catg = splitLine[10]\n",
    "        \n",
    "        temp.append([distance,intensity,x_min,x_max,y_min,y_max,z_min,z_max,non_ground,num,catg])\n",
    "    \n",
    "    for i in fp_pos:                                \n",
    "        false_positive_3d[name].append(temp[i])\n",
    "        \n",
    "    fh1.close()\n",
    "    "
   ]
  },
  {
   "cell_type": "code",
   "execution_count": 7,
   "metadata": {},
   "outputs": [
    {
     "name": "stdout",
     "output_type": "stream",
     "text": [
      "2\n",
      "[0, 1, 2]\n"
     ]
    }
   ],
   "source": [
    "print(true_positives['xl_visual_session0000_00000026'][\"position\"][-1])\n",
    "print(false_positives['xl_visual_session0000_00000068'][\"position\"])\n",
    "# print(false_negatives['xl_visual_session0000_00000026'])"
   ]
  },
  {
   "cell_type": "markdown",
   "metadata": {},
   "source": [
    "### Separating False positive for each category"
   ]
  },
  {
   "cell_type": "code",
   "execution_count": 56,
   "metadata": {},
   "outputs": [],
   "source": [
    "# All false positive person, bicycle, motorcycle, car, train, bus, truck\n",
    "\n",
    "person_3dcloud_fp = [] #1\n",
    "bicycle_3dcloud_fp = [] #2\n",
    "motorcycle_3dcloud_fp = [] #3\n",
    "cars_3dcloud_fp = [] #4\n",
    "truck_3dcloud_fp = [] #6\n",
    "bus_3dcloud_fp = [] #7\n",
    "count_car=0\n",
    "for i in false_positive_3d:\n",
    "    for j in false_positive_3d[i]:        \n",
    "        if j[-1] ==1:\n",
    "            arr=[j,i]\n",
    "            count_car+=1\n",
    "            person_3dcloud_fp.append(arr)\n",
    "        elif j[-1]==2:\n",
    "            arr=[j,i]\n",
    "            bicycle_3dcloud_fp.append(arr)\n",
    "        elif j[-1]==3:\n",
    "            arr=[j,i]\n",
    "            motorcycle_3dcloud_fp.append(arr)\n",
    "        elif j[-1]==4:\n",
    "            arr=[j,i]\n",
    "            cars_3dcloud_fp.append(arr)\n",
    "        elif j[-1]==6:\n",
    "            arr=[j,i]\n",
    "            truck_3dcloud_fp.append(arr)\n",
    "        elif j[-1]==7:\n",
    "            arr=[j,i]\n",
    "            bus_3dcloud_fp.append(arr)\n",
    "   "
   ]
  },
  {
   "cell_type": "code",
   "execution_count": 57,
   "metadata": {},
   "outputs": [
    {
     "data": {
      "text/plain": [
       "209"
      ]
     },
     "execution_count": 57,
     "metadata": {},
     "output_type": "execute_result"
    }
   ],
   "source": [
    "count_car"
   ]
  },
  {
   "cell_type": "code",
   "execution_count": null,
   "metadata": {},
   "outputs": [],
   "source": [
    "# For \"car\":\n",
    "# Frame name     2D bbox              3D distance      2D box area        number of points         3D bbox                              3D height           distance_to_ground*  Label\n",
    "# xw_session..     (x1,y1,x2,y2)     x meters             x pixels                                x                             (x1,y1,z1,x2,y2,z2)                =z1-z2                                  0m                         True Positive\n",
    "# xw_session..     (x1,y1,x2,y2)     x meters             x pixels                                x                             (x1,y1,z1,x2,y2,z2)                =z1-z2                                  5m                         False Positve\n"
   ]
  },
  {
   "cell_type": "code",
   "execution_count": 7,
   "metadata": {},
   "outputs": [],
   "source": [
    "quad_box =[[1,0,767,256],\n",
    "       [767,0,1535,256],\n",
    "       [1,256,767,511],\n",
    "       [767,256,1535,511]]\n",
    "    \n",
    "def get_quadrant(gt_bbox):\n",
    "    iou_scores=[]\n",
    "    for i in quad_box:\n",
    "        iou_scores.append(calc_iou(gt_bbox,i))\n",
    "\n",
    "    index_max = max(range(len(iou_scores)), key=iou_scores.__getitem__)\n",
    "    return(index_max+1)\n",
    "    "
   ]
  },
  {
   "cell_type": "code",
   "execution_count": 8,
   "metadata": {},
   "outputs": [],
   "source": [
    "# Saving all the car's \n",
    "\n",
    "def find_tp_fp(catg):\n",
    "    obj=[]\n",
    "    for i in pred_boxes:\n",
    "        if (i in true_positive_3d.keys()) and (catg in true_positives[i]['category']):\n",
    "            for pos,val in enumerate(true_positives[i]['category']):\n",
    "                if val == catg:\n",
    "                    u1,v1,u2,v2 = true_positives[i]['boxes'][pos]                                     \n",
    "                    distance_3d = (true_positive_3d[i][pos][0])/1000\n",
    "                    box_area_2d = (u2 - u1 + 1) * (v2 - v1 + 1)\n",
    "                    quadrant = get_quadrant([u1,v1,u2,v2])\n",
    "                    \n",
    "                    #To skip the non detected point cloud boxes[-1,-1,-1,-1,-1,-1]\n",
    "                    if distance_3d <0:                        \n",
    "                        obj.append([i,(u1,v1,u2,v2),0,box_area_2d,0,0,quadrant,0,0,0,'TP'])\n",
    "                        continue\n",
    "                                        \n",
    "                    intensity = true_positive_3d[i][pos][1]\n",
    "                    non_ground_count = true_positive_3d[i][pos][-3]\n",
    "                    points_count = true_positive_3d[i][pos][-2]\n",
    "                    x1,y1,x2,y2,z1,z2 = true_positive_3d[i][pos][2:8]\n",
    "                    height_3d = z2-z1                                        \n",
    "\n",
    "                    arr = [i,(u1,v1,u2,v2),distance_3d,box_area_2d,non_ground_count,\n",
    "                           points_count,quadrant,intensity,(x1,y1,x2,y2,z1,z2),height_3d,'TP']\n",
    "                    obj.append(arr)\n",
    "\n",
    "        if (i in false_positive_3d.keys()) and (catg in false_positives[i]['category']):\n",
    "            for pos,val in enumerate(false_positives[i]['category']):\n",
    "                if val == catg:                     \n",
    "                    u1,v1,u2,v2 = false_positives[i]['boxes'][pos]\n",
    "                    box_area_2d = (u2 - u1 + 1) * (v2 - v1 + 1)\n",
    "                    distance_3d = (false_positive_3d[i][pos][0])/1000\n",
    "                    quadrant = get_quadrant([u1,v1,u2,v2])\n",
    "                    \n",
    "                    #To skip the non detected point cloud boxes\n",
    "                    if distance_3d <=0:                        \n",
    "                        obj.append([i,(u1,v1,u2,v2),0,box_area_2d,0,0,quadrant,0,0,0,'FP'])\n",
    "                        continue                    \n",
    "                    \n",
    "                    intensity = false_positive_3d[i][pos][1]\n",
    "                    non_ground_count = false_positive_3d[i][pos][-3]\n",
    "                    points_count = false_positive_3d[i][pos][-2]\n",
    "                    x1,y1,x2,y2,z1,z2 = false_positive_3d[i][pos][2:8]                    \n",
    "                    height_3d = z2-z1                    \n",
    "\n",
    "                    arr = [i,(u1,v1,u2,v2),distance_3d,box_area_2d,non_ground_count,\n",
    "                           points_count,quadrant,intensity,(x1,y1,x2,y2,z1,z2),height_3d,'FP']\n",
    "                    obj.append(arr)\n",
    "    return(obj)    \n",
    "                "
   ]
  },
  {
   "cell_type": "code",
   "execution_count": null,
   "metadata": {},
   "outputs": [],
   "source": [
    "#  {'person':1,'bicycle':2,'motorcycle':3,'car':4,'train':5,'truck':6,'bus':7}"
   ]
  },
  {
   "cell_type": "code",
   "execution_count": 27,
   "metadata": {},
   "outputs": [],
   "source": [
    "car = find_tp_fp(4)\n",
    "pedestrian = find_tp_fp(1)"
   ]
  },
  {
   "cell_type": "code",
   "execution_count": 9,
   "metadata": {},
   "outputs": [],
   "source": [
    "bicycle = find_tp_fp(2)\n",
    "motorcycle = find_tp_fp(3)\n",
    "truck = find_tp_fp(6)\n",
    "bus = find_tp_fp(7)"
   ]
  },
  {
   "cell_type": "code",
   "execution_count": 28,
   "metadata": {},
   "outputs": [],
   "source": [
    "# converting list to pandas dataframe\n",
    "import pandas as pd\n",
    "\n",
    "df_car = pd.DataFrame(car,columns=['Frame Name','2D bbox','3D distance','2D box area','Non ground points','number of points','Quadrant','Intensity','3D bbox', '3D height','Label'])\n",
    "df_car.to_csv (r'C:\\Users\\nisha\\MACS\\Internship\\Data\\XL_CarPedDataset_INT_v2_train_val\\val\\cars.csv', index = False, header=True)"
   ]
  },
  {
   "cell_type": "code",
   "execution_count": 10,
   "metadata": {},
   "outputs": [],
   "source": [
    "# converting list to pandas dataframe\n",
    "import pandas as pd\n",
    "\n",
    "df_bicycle = pd.DataFrame(bicycle,columns=['Frame Name','2D bbox','3D distance','2D box area','Non ground points','number of points','Quadrant','Intensity','3D bbox', '3D height','Label'])\n",
    "df_bicycle.to_csv (r'C:\\Users\\nisha\\MACS\\Internship\\Data\\XL_CarPedDataset_INT_v2_train_val\\val\\bicycle.csv', index = False, header=True)\n",
    "\n",
    "df_motorcycle = pd.DataFrame(motorcycle,columns=['Frame Name','2D bbox','3D distance','2D box area','Non ground points','number of points','Quadrant','Intensity','3D bbox', '3D height','Label'])\n",
    "df_motorcycle.to_csv (r'C:\\Users\\nisha\\MACS\\Internship\\Data\\XL_CarPedDataset_INT_v2_train_val\\val\\motorcycle.csv', index = False, header=True)\n",
    "\n",
    "df_truck = pd.DataFrame(truck,columns=['Frame Name','2D bbox','3D distance','2D box area','Non ground points','number of points','Quadrant','Intensity','3D bbox', '3D height','Label'])\n",
    "df_bicycle.to_csv (r'C:\\Users\\nisha\\MACS\\Internship\\Data\\XL_CarPedDataset_INT_v2_train_val\\val\\truck.csv', index = False, header=True)\n",
    "\n",
    "df_bus = pd.DataFrame(bus,columns=['Frame Name','2D bbox','3D distance','2D box area','Non ground points','number of points','Quadrant','Intensity','3D bbox', '3D height','Label'])\n",
    "df_bus.to_csv (r'C:\\Users\\nisha\\MACS\\Internship\\Data\\XL_CarPedDataset_INT_v2_train_val\\val\\bus.csv', index = False, header=True)"
   ]
  },
  {
   "cell_type": "code",
   "execution_count": 29,
   "metadata": {},
   "outputs": [],
   "source": [
    "df_pedestrian= pd.DataFrame(pedestrian,columns=['Frame Name','2D bbox','3D distance','2D box area','Non ground points','number of points','Quadrant','Intensity','3D bbox', '3D height','Label'])\n",
    "df_pedestrian.to_csv (r'C:\\Users\\nisha\\MACS\\Internship\\Data\\XL_CarPedDataset_INT_v2_train_val\\val\\pedestrian.csv', index = False, header=True)"
   ]
  },
  {
   "cell_type": "code",
   "execution_count": 24,
   "metadata": {},
   "outputs": [
    {
     "data": {
      "text/html": [
       "<div>\n",
       "<style scoped>\n",
       "    .dataframe tbody tr th:only-of-type {\n",
       "        vertical-align: middle;\n",
       "    }\n",
       "\n",
       "    .dataframe tbody tr th {\n",
       "        vertical-align: top;\n",
       "    }\n",
       "\n",
       "    .dataframe thead th {\n",
       "        text-align: right;\n",
       "    }\n",
       "</style>\n",
       "<table border=\"1\" class=\"dataframe\">\n",
       "  <thead>\n",
       "    <tr style=\"text-align: right;\">\n",
       "      <th></th>\n",
       "      <th>Frame Name</th>\n",
       "      <th>2D bbox</th>\n",
       "      <th>3D distance</th>\n",
       "      <th>2D box area</th>\n",
       "      <th>Non ground points</th>\n",
       "      <th>number of points</th>\n",
       "      <th>Quadrant</th>\n",
       "      <th>Intensity</th>\n",
       "      <th>3D bbox</th>\n",
       "      <th>3D height</th>\n",
       "      <th>Label</th>\n",
       "    </tr>\n",
       "  </thead>\n",
       "  <tbody>\n",
       "    <tr>\n",
       "      <th>0</th>\n",
       "      <td>xl_visual_session0000_00001950</td>\n",
       "      <td>(907.0, 11.0, 932.0, 60.0)</td>\n",
       "      <td>89.66057</td>\n",
       "      <td>1300.0</td>\n",
       "      <td>11</td>\n",
       "      <td>11</td>\n",
       "      <td>2</td>\n",
       "      <td>4365811.0</td>\n",
       "      <td>(53789.62, 118844.39, 3936.31, 9151.02, -2014....</td>\n",
       "      <td>1694.29</td>\n",
       "      <td>TP</td>\n",
       "    </tr>\n",
       "    <tr>\n",
       "      <th>1</th>\n",
       "      <td>xl_visual_session0000_00001955</td>\n",
       "      <td>(918.0, 14.0, 941.0, 63.0)</td>\n",
       "      <td>87.13472</td>\n",
       "      <td>1200.0</td>\n",
       "      <td>11</td>\n",
       "      <td>11</td>\n",
       "      <td>2</td>\n",
       "      <td>4521460.0</td>\n",
       "      <td>(70326.21, 112020.54, 5399.84, 8840.14, -1877....</td>\n",
       "      <td>1671.25</td>\n",
       "      <td>TP</td>\n",
       "    </tr>\n",
       "    <tr>\n",
       "      <th>2</th>\n",
       "      <td>xl_visual_session0000_00001973</td>\n",
       "      <td>(970.0, 15.0, 1000.0, 76.0)</td>\n",
       "      <td>62.83258</td>\n",
       "      <td>1922.0</td>\n",
       "      <td>16</td>\n",
       "      <td>16</td>\n",
       "      <td>2</td>\n",
       "      <td>3781047.0</td>\n",
       "      <td>(52050.92, 89631.82, 4884.81, 8252.13, -1789.0...</td>\n",
       "      <td>1438.18</td>\n",
       "      <td>TP</td>\n",
       "    </tr>\n",
       "    <tr>\n",
       "      <th>3</th>\n",
       "      <td>xl_visual_session0000_00001985</td>\n",
       "      <td>(1021.0, 35.0, 1060.0, 102.0)</td>\n",
       "      <td>52.79721</td>\n",
       "      <td>2720.0</td>\n",
       "      <td>22</td>\n",
       "      <td>22</td>\n",
       "      <td>2</td>\n",
       "      <td>3675654.5</td>\n",
       "      <td>(41213.71, 75234.09, 4849.61, 8630.47, -1207.2...</td>\n",
       "      <td>1449.38</td>\n",
       "      <td>TP</td>\n",
       "    </tr>\n",
       "    <tr>\n",
       "      <th>4</th>\n",
       "      <td>xl_visual_session0000_00001988</td>\n",
       "      <td>(1038.0, 33.0, 1078.0, 109.0)</td>\n",
       "      <td>47.69475</td>\n",
       "      <td>3157.0</td>\n",
       "      <td>27</td>\n",
       "      <td>27</td>\n",
       "      <td>2</td>\n",
       "      <td>3435614.0</td>\n",
       "      <td>(28581.75, 76944.55, 3528.0, 8987.42, -1256.79...</td>\n",
       "      <td>1397.98</td>\n",
       "      <td>TP</td>\n",
       "    </tr>\n",
       "  </tbody>\n",
       "</table>\n",
       "</div>"
      ],
      "text/plain": [
       "                       Frame Name                        2D bbox  3D distance  \\\n",
       "0  xl_visual_session0000_00001950     (907.0, 11.0, 932.0, 60.0)     89.66057   \n",
       "1  xl_visual_session0000_00001955     (918.0, 14.0, 941.0, 63.0)     87.13472   \n",
       "2  xl_visual_session0000_00001973    (970.0, 15.0, 1000.0, 76.0)     62.83258   \n",
       "3  xl_visual_session0000_00001985  (1021.0, 35.0, 1060.0, 102.0)     52.79721   \n",
       "4  xl_visual_session0000_00001988  (1038.0, 33.0, 1078.0, 109.0)     47.69475   \n",
       "\n",
       "   2D box area Non ground points number of points  Quadrant  Intensity  \\\n",
       "0       1300.0                11               11         2  4365811.0   \n",
       "1       1200.0                11               11         2  4521460.0   \n",
       "2       1922.0                16               16         2  3781047.0   \n",
       "3       2720.0                22               22         2  3675654.5   \n",
       "4       3157.0                27               27         2  3435614.0   \n",
       "\n",
       "                                             3D bbox  3D height Label  \n",
       "0  (53789.62, 118844.39, 3936.31, 9151.02, -2014....    1694.29    TP  \n",
       "1  (70326.21, 112020.54, 5399.84, 8840.14, -1877....    1671.25    TP  \n",
       "2  (52050.92, 89631.82, 4884.81, 8252.13, -1789.0...    1438.18    TP  \n",
       "3  (41213.71, 75234.09, 4849.61, 8630.47, -1207.2...    1449.38    TP  \n",
       "4  (28581.75, 76944.55, 3528.0, 8987.42, -1256.79...    1397.98    TP  "
      ]
     },
     "execution_count": 24,
     "metadata": {},
     "output_type": "execute_result"
    }
   ],
   "source": [
    "df_pedestrian.head()"
   ]
  },
  {
   "cell_type": "code",
   "execution_count": 25,
   "metadata": {},
   "outputs": [
    {
     "data": {
      "text/html": [
       "<div>\n",
       "<style scoped>\n",
       "    .dataframe tbody tr th:only-of-type {\n",
       "        vertical-align: middle;\n",
       "    }\n",
       "\n",
       "    .dataframe tbody tr th {\n",
       "        vertical-align: top;\n",
       "    }\n",
       "\n",
       "    .dataframe thead th {\n",
       "        text-align: right;\n",
       "    }\n",
       "</style>\n",
       "<table border=\"1\" class=\"dataframe\">\n",
       "  <thead>\n",
       "    <tr style=\"text-align: right;\">\n",
       "      <th></th>\n",
       "      <th>Frame Name</th>\n",
       "      <th>2D bbox</th>\n",
       "      <th>3D distance</th>\n",
       "      <th>2D box area</th>\n",
       "      <th>Non ground points</th>\n",
       "      <th>number of points</th>\n",
       "      <th>Quadrant</th>\n",
       "      <th>Intensity</th>\n",
       "      <th>3D bbox</th>\n",
       "      <th>3D height</th>\n",
       "      <th>Label</th>\n",
       "    </tr>\n",
       "  </thead>\n",
       "  <tbody>\n",
       "    <tr>\n",
       "      <th>0</th>\n",
       "      <td>xl_visual_session0000_00000026</td>\n",
       "      <td>(677.0, 99.0, 776.0, 173.0)</td>\n",
       "      <td>66.83051</td>\n",
       "      <td>7500.0</td>\n",
       "      <td>36</td>\n",
       "      <td>39</td>\n",
       "      <td>1</td>\n",
       "      <td>10127321.0</td>\n",
       "      <td>(15282.41, 161917.77, -2250.72, 2676.59, -891....</td>\n",
       "      <td>3805.38</td>\n",
       "      <td>TP</td>\n",
       "    </tr>\n",
       "    <tr>\n",
       "      <th>1</th>\n",
       "      <td>xl_visual_session0000_00000026</td>\n",
       "      <td>(596.0, 91.0, 645.0, 129.0)</td>\n",
       "      <td>104.66215</td>\n",
       "      <td>1950.0</td>\n",
       "      <td>2</td>\n",
       "      <td>3</td>\n",
       "      <td>1</td>\n",
       "      <td>164345536.0</td>\n",
       "      <td>(92712.36, 109656.31, -4685.4, -3184.3, 1610.9...</td>\n",
       "      <td>943.48</td>\n",
       "      <td>TP</td>\n",
       "    </tr>\n",
       "    <tr>\n",
       "      <th>2</th>\n",
       "      <td>xl_visual_session0000_00000026</td>\n",
       "      <td>(646.0, 82.0, 684.0, 112.0)</td>\n",
       "      <td>112.88428</td>\n",
       "      <td>1209.0</td>\n",
       "      <td>4</td>\n",
       "      <td>4</td>\n",
       "      <td>1</td>\n",
       "      <td>4725112.0</td>\n",
       "      <td>(19388.46, 161917.77, -3242.25, -373.99, -1039...</td>\n",
       "      <td>3953.12</td>\n",
       "      <td>TP</td>\n",
       "    </tr>\n",
       "    <tr>\n",
       "      <th>3</th>\n",
       "      <td>xl_visual_session0000_00000051</td>\n",
       "      <td>(686.0, 64.0, 787.0, 143.0)</td>\n",
       "      <td>65.42944</td>\n",
       "      <td>8160.0</td>\n",
       "      <td>42</td>\n",
       "      <td>46</td>\n",
       "      <td>1</td>\n",
       "      <td>6588425.5</td>\n",
       "      <td>(18893.33, 140377.39, -889.42, 3052.09, -804.8...</td>\n",
       "      <td>2355.96</td>\n",
       "      <td>TP</td>\n",
       "    </tr>\n",
       "    <tr>\n",
       "      <th>4</th>\n",
       "      <td>xl_visual_session0000_00000051</td>\n",
       "      <td>(628.0, 48.0, 671.0, 82.0)</td>\n",
       "      <td>104.73234</td>\n",
       "      <td>1540.0</td>\n",
       "      <td>3</td>\n",
       "      <td>3</td>\n",
       "      <td>1</td>\n",
       "      <td>60468912.0</td>\n",
       "      <td>(19571.54, 165631.45, -3664.81, -535.76, -1203...</td>\n",
       "      <td>2159.05</td>\n",
       "      <td>TP</td>\n",
       "    </tr>\n",
       "  </tbody>\n",
       "</table>\n",
       "</div>"
      ],
      "text/plain": [
       "                       Frame Name                      2D bbox  3D distance  \\\n",
       "0  xl_visual_session0000_00000026  (677.0, 99.0, 776.0, 173.0)     66.83051   \n",
       "1  xl_visual_session0000_00000026  (596.0, 91.0, 645.0, 129.0)    104.66215   \n",
       "2  xl_visual_session0000_00000026  (646.0, 82.0, 684.0, 112.0)    112.88428   \n",
       "3  xl_visual_session0000_00000051  (686.0, 64.0, 787.0, 143.0)     65.42944   \n",
       "4  xl_visual_session0000_00000051   (628.0, 48.0, 671.0, 82.0)    104.73234   \n",
       "\n",
       "   2D box area Non ground points number of points  Quadrant    Intensity  \\\n",
       "0       7500.0                36               39         1   10127321.0   \n",
       "1       1950.0                 2                3         1  164345536.0   \n",
       "2       1209.0                 4                4         1    4725112.0   \n",
       "3       8160.0                42               46         1    6588425.5   \n",
       "4       1540.0                 3                3         1   60468912.0   \n",
       "\n",
       "                                             3D bbox  3D height Label  \n",
       "0  (15282.41, 161917.77, -2250.72, 2676.59, -891....    3805.38    TP  \n",
       "1  (92712.36, 109656.31, -4685.4, -3184.3, 1610.9...     943.48    TP  \n",
       "2  (19388.46, 161917.77, -3242.25, -373.99, -1039...    3953.12    TP  \n",
       "3  (18893.33, 140377.39, -889.42, 3052.09, -804.8...    2355.96    TP  \n",
       "4  (19571.54, 165631.45, -3664.81, -535.76, -1203...    2159.05    TP  "
      ]
     },
     "execution_count": 25,
     "metadata": {},
     "output_type": "execute_result"
    }
   ],
   "source": [
    "df_car.head()"
   ]
  },
  {
   "cell_type": "code",
   "execution_count": 45,
   "metadata": {},
   "outputs": [],
   "source": [
    "import pandas as pd\n",
    "df_cars = pd.read_csv(r'C:\\Users\\nisha\\MACS\\Internship\\Data\\XL_CarPedDataset_INT_v2_train_val\\val\\cars.csv')\n",
    "df_pedestrian = pd.read_csv(r'C:\\Users\\nisha\\MACS\\Internship\\Data\\XL_CarPedDataset_INT_v2_train_val\\val\\pedestrian.csv')"
   ]
  },
  {
   "cell_type": "code",
   "execution_count": 21,
   "metadata": {},
   "outputs": [
    {
     "name": "stdout",
     "output_type": "stream",
     "text": [
      "Total number of rows in dataset = 5336\n",
      "Total number of columns in dataset = 9\n"
     ]
    }
   ],
   "source": [
    "print (\"Total number of rows in dataset = {}\".format(df_cars.shape[0]))\n",
    "print (\"Total number of columns in dataset = {}\".format(df_cars.shape[1]))"
   ]
  },
  {
   "cell_type": "markdown",
   "metadata": {},
   "source": [
    "## To create dataframes for Train dataset"
   ]
  },
  {
   "cell_type": "code",
   "execution_count": 11,
   "metadata": {},
   "outputs": [],
   "source": [
    "import os\n",
    "from os import listdir\n",
    "import glob\n",
    "import numpy as np\n",
    "\n",
    "def get_lines_train(folder,is2D):\n",
    "    os.chdir(folder)\n",
    "    files = glob.glob(\"*.txt\")\n",
    "    files.sort()    \n",
    "    temp = {}\n",
    "\n",
    "    for f in files:        \n",
    "        nameOfImage = f.replace(\".txt\", \"\")\n",
    "        temp[nameOfImage] = []\n",
    "        fh1 = open(f, \"r\")\n",
    "        for line in fh1:\n",
    "            line = line.replace(\"\\n\", \"\")\n",
    "            if line.replace(' ', '') == '':\n",
    "                continue\n",
    "            splitLine = line.split(\",\")            \n",
    "\n",
    "            if is2D:\n",
    "                x = float(splitLine[0])\n",
    "                y = float(splitLine[1])\n",
    "                w = float(splitLine[2])\n",
    "                h = float(splitLine[3])\n",
    "                catg=float(splitLine[4])\n",
    "                temp[nameOfImage].append([x,y,w,h])\n",
    "                \n",
    "            else:\n",
    "                distance = float(splitLine[0])\n",
    "                intensity = float(splitLine[1])\n",
    "                x_min = float(splitLine[2])\n",
    "                x_max = float(splitLine[3])\n",
    "                y_min = float(splitLine[4])\n",
    "                y_max = float(splitLine[5]) \n",
    "                z_min = float(splitLine[6])\n",
    "                z_max = float(splitLine[7])\n",
    "                non_ground = splitLine[8]\n",
    "                num = splitLine[9]\n",
    "                catg = float(splitLine[10])\n",
    "                temp[nameOfImage].append([distance,intensity,x_min,x_max,y_min,y_max,z_min,z_max,non_ground,num,catg])\n",
    "    \n",
    "    return(temp)\n",
    "            "
   ]
  },
  {
   "cell_type": "code",
   "execution_count": 12,
   "metadata": {},
   "outputs": [],
   "source": [
    "train_path = \"C:/Users/nisha/MACS/Internship/Data/XL_CarPedDataset_INT_v2_train_val/train/label_FasterRCNN/\"\n",
    "pt_cloud = \"C:/Users/nisha/MACS/Internship/Data/XL_CarPedDataset_INT_v2_train_val/train/pointcloud_txt_detection/\"\n",
    "\n",
    "train_2d = get_lines_train(train_path,True)\n",
    "train_3d = get_lines_train(pt_cloud,False)"
   ]
  },
  {
   "cell_type": "code",
   "execution_count": 13,
   "metadata": {},
   "outputs": [],
   "source": [
    "# get traindataset category wise\n",
    "def get_train(catg):\n",
    "    obj=[]\n",
    "    for i in train_3d:\n",
    "        for pos,val in enumerate(train_3d[i]):\n",
    "            if val[-1]==catg:\n",
    "                \n",
    "                u1,v1,u2,v2 = train_2d[i][pos]\n",
    "                box_area_2d = (u2 - u1 + 1) * (v2 - v1 + 1)\n",
    "                distance_3d = val[0]/1000\n",
    "                quadrant = get_quadrant([u1,v1,u2,v2])\n",
    "                \n",
    "                #To skip the non detected point cloud boxes\n",
    "                if distance_3d <=0:                    \n",
    "                    obj.append([i,(u1,v1,u2,v2),0,box_area_2d,0,0,quadrant,0,0,0,''])\n",
    "                    continue                \n",
    "                \n",
    "                if np.isnan(val[1]):\n",
    "                    intensity=0\n",
    "                else:\n",
    "                    intensity = val[1]\n",
    "                x1,y1,x2,y2,z1,z2 = val[2:8]\n",
    "                non_ground_count = val[-3]\n",
    "                points_count = val[-2]\n",
    "                height_3d = z2-z1                \n",
    "                obj.append([i,(u1,v1,u2,v2),distance_3d,box_area_2d,non_ground_count,\n",
    "                            points_count,quadrant,intensity,(x1,y1,x2,y2,z1,z2),height_3d,''])\n",
    "    return(obj)\n",
    "    \n"
   ]
  },
  {
   "cell_type": "code",
   "execution_count": 33,
   "metadata": {},
   "outputs": [],
   "source": [
    "cars_train = get_train(4)\n",
    "pedestrian_train = get_train(1)"
   ]
  },
  {
   "cell_type": "code",
   "execution_count": 14,
   "metadata": {},
   "outputs": [],
   "source": [
    "bicycle_train = get_train(2)\n",
    "motorcycle_train = get_train(3)\n",
    "truck_train = get_train(6)\n",
    "bus_train = get_train(7)"
   ]
  },
  {
   "cell_type": "code",
   "execution_count": 34,
   "metadata": {},
   "outputs": [],
   "source": [
    "# converting list to pandas dataframe\n",
    "import pandas as pd\n",
    "\n",
    "df_cars_train = pd.DataFrame(cars_train,columns=['Frame Name','2D bbox','3D distance','2D box area','Non ground points','number of points','Quadrant','Intensity','3D bbox', '3D height','Label'])\n",
    "df_pedestrian_train= pd.DataFrame(pedestrian_train,columns=['Frame Name','2D bbox','3D distance','2D box area','Non ground points','number of points','Quadrant','Intensity','3D bbox', '3D height','Label'])"
   ]
  },
  {
   "cell_type": "code",
   "execution_count": 16,
   "metadata": {},
   "outputs": [],
   "source": [
    "# converting list to pandas dataframe\n",
    "import pandas as pd\n",
    "\n",
    "df_bicycle_train = pd.DataFrame(bicycle_train,columns=['Frame Name','2D bbox','3D distance','2D box area','Non ground points','number of points','Quadrant','Intensity','3D bbox', '3D height','Label'])\n",
    "df_motorcycle_train= pd.DataFrame(motorcycle_train,columns=['Frame Name','2D bbox','3D distance','2D box area','Non ground points','number of points','Quadrant','Intensity','3D bbox', '3D height','Label'])\n",
    "df_truck_train = pd.DataFrame(truck_train,columns=['Frame Name','2D bbox','3D distance','2D box area','Non ground points','number of points','Quadrant','Intensity','3D bbox', '3D height','Label'])\n",
    "df_bus_train= pd.DataFrame(bus_train,columns=['Frame Name','2D bbox','3D distance','2D box area','Non ground points','number of points','Quadrant','Intensity','3D bbox', '3D height','Label'])\n"
   ]
  },
  {
   "cell_type": "code",
   "execution_count": 17,
   "metadata": {},
   "outputs": [],
   "source": [
    "df_bicycle_train.to_csv (r'C:\\Users\\nisha\\MACS\\Internship\\Data\\XL_CarPedDataset_INT_v2_train_val\\train\\bicycle.csv', index = False, header=True)\n",
    "df_motorcycle_train.to_csv (r'C:\\Users\\nisha\\MACS\\Internship\\Data\\XL_CarPedDataset_INT_v2_train_val\\train\\motorcycle.csv', index = False, header=True)\n",
    "df_truck_train.to_csv (r'C:\\Users\\nisha\\MACS\\Internship\\Data\\XL_CarPedDataset_INT_v2_train_val\\train\\truck.csv', index = False, header=True)\n",
    "df_bus_train.to_csv (r'C:\\Users\\nisha\\MACS\\Internship\\Data\\XL_CarPedDataset_INT_v2_train_val\\train\\bus.csv', index = False, header=True)"
   ]
  },
  {
   "cell_type": "code",
   "execution_count": 35,
   "metadata": {},
   "outputs": [],
   "source": [
    "df_cars_train.to_csv (r'C:\\Users\\nisha\\MACS\\Internship\\Data\\XL_CarPedDataset_INT_v2_train_val\\train\\cars.csv', index = False, header=True)\n",
    "df_pedestrian_train.to_csv (r'C:\\Users\\nisha\\MACS\\Internship\\Data\\XL_CarPedDataset_INT_v2_train_val\\train\\pedestrian.csv', index = False, header=True)"
   ]
  },
  {
   "cell_type": "markdown",
   "metadata": {},
   "source": [
    "## Removing the FP and merging cars and pedestrian in an .xlsx"
   ]
  },
  {
   "cell_type": "code",
   "execution_count": 18,
   "metadata": {},
   "outputs": [],
   "source": [
    "import pandas as pd\n",
    "df_final_train = pd.read_csv(r'C:/Users/nisha/MACS/Internship/Data/XL_CarPedDataset_INT_v2_train_val/train/final train dataset for annotation.csv')\n",
    "list_frame = df_final_train.values.tolist()"
   ]
  },
  {
   "cell_type": "code",
   "execution_count": 19,
   "metadata": {},
   "outputs": [],
   "source": [
    "dict_train={}\n",
    "for val in list_frame:    \n",
    "    if val[0] in dict_train:\n",
    "        dict_train[val[0]].append(val[1:6])\n",
    "    else:\n",
    "        dict_train[val[0]] = [val[1:6]]"
   ]
  },
  {
   "cell_type": "code",
   "execution_count": 20,
   "metadata": {},
   "outputs": [],
   "source": [
    "path = \"C:/Users/nisha/MACS/Internship/Data/XL_CarPedDataset_INT_v2_train_val/train/Labels after FP removal/\"\n",
    "\n",
    "\n",
    "for i in dict_train:\n",
    "    labels_path=path+i+'.txt'\n",
    "    f= open(labels_path,\"w+\")\n",
    "    for val in dict_train[i]:        \n",
    "        if not np.isnan(val[4]):\n",
    "            f.write(\"%.4f,%.4f,%.4f,%.4f,%d\\r\" % (val[0],val[1],val[2],val[3],val[4]))\n",
    "\n",
    "    f.close()     \n"
   ]
  },
  {
   "cell_type": "markdown",
   "metadata": {},
   "source": [
    "## Compare the model prediction for each class"
   ]
  },
  {
   "cell_type": "markdown",
   "metadata": {},
   "source": [
    "# 16 bit Raw prediction"
   ]
  },
  {
   "cell_type": "code",
   "execution_count": null,
   "metadata": {},
   "outputs": [],
   "source": [
    "import os\n",
    "# os.chdir('C:/Users/nisha/MACS/Internship/Data/XL_CarPedDataset_INT_v2/')\n",
    "os.chdir('C:/Users/nisha/MACS/Internship/Data/16 bit Raw/Faster_RCNN_XL_Raw_Visual/')\n",
    "import torch\n",
    "import torchvision\n",
    "from torchvision import transforms\n",
    "from torchvision.ops import boxes as box_ops\n",
    "import matplotlib.pyplot as plt\n",
    "import glob as glob\n",
    "import cv2\n",
    "import numpy as np\n",
    "import onnxruntime\n",
    "import XenoWareFormat as xw\n",
    "import time\n",
    "\n",
    "from model import get_faster_rcnn_model\n",
    "from drawing_tools import plot_one_box, color_list\n",
    "\n",
    "def read_matrix(file_name, nr_rows, nr_cols):\n",
    "    return np.fromfile(file_name, dtype='<d').reshape((nr_rows,nr_cols))  # little-endian double precision float\n",
    "\n",
    "def normalize_image(image):\n",
    "    intensity_max = 65535.0 # 2^16\n",
    "    out = image\n",
    "    out[np.isnan(out)] = 0.0\n",
    "    out[out < 0.0]     = 0.0\n",
    "    out[out > intensity_max] = intensity_max\n",
    "    out = out/intensity_max\n",
    "    return out\n",
    "\n",
    "def scale_image(image):\n",
    "    ceil  = np.percentile(image,99) # 5% of pixels will be white\n",
    "    floor = np.percentile(image,1)  # 5% of pixels will be black\n",
    "\n",
    "    return scale_image_base(image, ceil, floor)\n",
    "\n",
    "def scale_image_base(image, ceil, floor):\n",
    "\n",
    "    a = 255/(ceil-floor)\n",
    "    b = floor*255/(floor-ceil)\n",
    "    out = np.maximum(0,np.minimum(255,image*a+b)).astype(np.uint8)\n",
    "\n",
    "    return out\n",
    "\n",
    "pred_boxes = {}\n",
    "\n",
    "if __name__ == '__main__':\n",
    "\n",
    "    category_list = ['__background__','person','bicycle','motorcycle','car','train','truck','bus']\n",
    "    confidence_threshold = 0.7\n",
    "\n",
    "    # input image path\n",
    "    #visual_image_dir = 'E:/data/XenomatiX/test/VisualImages'\n",
    "    visual_image_dir = 'C:/Users/nisha/MACS/Internship/Data/16 bit Raw/RawVisualImages'\n",
    "\n",
    "    # .bin format or .xim format\n",
    "    is_bin = False\n",
    "\n",
    "    # image size\n",
    "    nr_rows = 512\n",
    "    nr_cols = 1536\n",
    "\n",
    "    num_classes = len(category_list)\n",
    "\n",
    "    # get the model using our helper function\n",
    "    model = get_faster_rcnn_model(num_classes)\n",
    "\n",
    "    # model.load_state_dict(torch.load(\"weights/faster_rcnn_resnet101_fpn_OPT_SGD_LR_0.005_BS_4_NC_8_InputSize_512_20200827_135820_epoch020.pt\"))\n",
    "\n",
    "\n",
    "    # use CUDA if it is available\n",
    "    device = torch.device('cuda') if torch.cuda.is_available() else torch.device('cpu')\n",
    "\n",
    "    model.load_state_dict(torch.load(\"faster_rcnn_resnet101_fpn_OPT_SGD_LR_0.005_BS_4_NC_8_InputSize_512_20200827_135820_epoch020.pt\"))\n",
    "\n",
    "    # move model to the right device\n",
    "    model.to(device)\n",
    "\n",
    "    # put the model in evaluation mode\n",
    "    model.eval()\n",
    "\n",
    "    visual_image_filenames = glob.glob(os.path.join(visual_image_dir,'xl_visual*'))\n",
    "\n",
    "    nr_frames = len(visual_image_filenames)\n",
    "\n",
    "#     print('Found {} visual images'.format(nr_frames))\n",
    "\n",
    "    # check file format\n",
    "    if nr_frames > 0:\n",
    "        extension = visual_image_filenames[0][-3:]\n",
    "        if extension == 'bin':\n",
    "            is_bin = True\n",
    "    \n",
    "    \n",
    "    for i in range (len(visual_image_filenames)):\n",
    "        visual_image_filename = visual_image_filenames[i]\n",
    "        name = visual_image_filename[63:93]\n",
    "        box_score = {\"boxes\":[],\"category\":[]}\n",
    "\n",
    "        if is_bin:\n",
    "            visual_image = read_matrix(visual_image_filename, nr_rows=nr_rows, nr_cols=nr_cols)\n",
    "        else:\n",
    "            (c,_) = xw.XW_ReadFile(visual_image_filename)\n",
    "            visual_image = c['data']\n",
    "\n",
    "        visual_image_norm = normalize_image(visual_image)\n",
    "        input_tensor = torch.from_numpy(visual_image_norm).float().to(device)\n",
    "        input_tensor = input_tensor.unsqueeze(0)\n",
    "\n",
    "#         print(input_tensor.shape)\n",
    "\n",
    "        visual_image_scaled = scale_image(visual_image)\n",
    "\n",
    "        with torch.no_grad():\n",
    "            prediction = model([input_tensor])            \n",
    "\n",
    "#         for i in range(len(prediction[0]['boxes'])):\n",
    "#             print(prediction[0]['boxes'][i])\n",
    "#             print(prediction[0]['labels'][i])\n",
    "                      \n",
    "            boxes = (prediction[0]['boxes']).tolist()\n",
    "            catg = (prediction[0]['labels']).tolist()\n",
    "#             print(prediction[0]['boxes'])\n",
    "            box_score[\"boxes\"] = boxes\n",
    "            box_score[\"category\"] = catg\n",
    "        \n",
    "            pred_boxes[name] = box_score\n"
   ]
  },
  {
   "cell_type": "code",
   "execution_count": 9,
   "metadata": {},
   "outputs": [],
   "source": [
    "import os\n",
    "import glob\n",
    "import XenoWareFormat as xw\n",
    "\n",
    "\n",
    "os.chdir('C:/Users/nisha/MACS/Internship/Data/16 bit Raw/Faster_RCNN_XL_Raw_Visual/')\n",
    "visual_image_dir = 'C:/Users/nisha/MACS/Internship/Data/16 bit Raw/RawVisualImages'\n",
    "\n",
    "visual_image_filename = glob.glob(os.path.join(visual_image_dir,'xl_visual_session0003_00003383.vis'))\n",
    "\n",
    "(c,_) = xw.XW_ReadFile(visual_image_filename[0])\n",
    "\n",
    "visual_image = c['data']\n",
    "\n"
   ]
  },
  {
   "cell_type": "code",
   "execution_count": 15,
   "metadata": {},
   "outputs": [
    {
     "name": "stderr",
     "output_type": "stream",
     "text": [
      "<ipython-input-15-c64007bdf5d5>:4: MatplotlibDeprecationWarning: savefig() got unexpected keyword argument \"frameon\" which is no longer supported as of 3.3 and will become an error two minor releases later\n",
      "  plt.savefig('C:/Users/nisha/MACS/Internship/Data/16bit.png', dpi=200, frameon=False, padinches=0)\n",
      "<ipython-input-15-c64007bdf5d5>:4: MatplotlibDeprecationWarning: savefig() got unexpected keyword argument \"padinches\" which is no longer supported as of 3.3 and will become an error two minor releases later\n",
      "  plt.savefig('C:/Users/nisha/MACS/Internship/Data/16bit.png', dpi=200, frameon=False, padinches=0)\n"
     ]
    },
    {
     "data": {
      "image/png": "[encoded data removed]",
      "text/plain": [
       "<Figure size 432x288 with 1 Axes>"
      ]
     },
     "metadata": {
      "needs_background": "light"
     },
     "output_type": "display_data"
    }
   ],
   "source": [
    "import matplotlib.pyplot as plt\n",
    "plt.imshow(visual_image) \n",
    "\n",
    "plt.savefig('C:/Users/nisha/MACS/Internship/Data/16bit.png', dpi=200, frameon=False, padinches=0)"
   ]
  },
  {
   "cell_type": "code",
   "execution_count": 22,
   "metadata": {},
   "outputs": [],
   "source": [
    "# Just to fill the ground truth boxes and prediction boxes in variables\n",
    "import os\n",
    "from os import listdir\n",
    "import glob\n",
    "    \n",
    "gtfolder = 'C:/Users/nisha/MACS/Internship/Data/XL_CarPedDataset_INT_v2_train_val/val/groundtruth_txt/'\n",
    "# detectionfolder = 'C:/Users/nisha/MACS/Internship/Data/XL_CarPedDataset_INT_v2_train_val/val/detection_txt_confidence/New/'\n",
    "gt_boxes = {}\n",
    "# pred_boxes = {}\n",
    "\n",
    "# Read ground truths\n",
    "os.chdir(gtfolder)\n",
    "files = glob.glob(\"*.txt\")\n",
    "files.sort()\n",
    "\n",
    "for f in files:\n",
    "    box_score = {\"boxes\":[],\"category\":[]}\n",
    "    nameOfImage = f.replace(\".txt\", \"\")\n",
    "    fh1 = open(f, \"r\")\n",
    "    for line in fh1:\n",
    "        line = line.replace(\"\\n\", \"\")\n",
    "        if line.replace(' ', '') == '':\n",
    "            continue\n",
    "        splitLine = line.split(\",\")            \n",
    "\n",
    "        x = float(splitLine[0])\n",
    "        y = float(splitLine[1])\n",
    "        w = float(splitLine[2])\n",
    "        h = float(splitLine[3])\n",
    "        catg=float(splitLine[4])\n",
    "        \n",
    "        arr = [x,y,w,h]        \n",
    "\n",
    "        box_score[\"boxes\"].append([x,y,w,h])\n",
    "        box_score[\"category\"].append(catg)            \n",
    "                            \n",
    "    gt_boxes[nameOfImage] = box_score        \n"
   ]
  },
  {
   "cell_type": "code",
   "execution_count": 58,
   "metadata": {},
   "outputs": [],
   "source": [
    "def get_single_image_results(gt_boxes, pred_boxes, iou_thr):\n",
    "    \"\"\"Calculates number of true_pos, false_pos, false_neg from single batch of boxes.\n",
    "    Args:\n",
    "        gt_boxes (list of list of floats): list of locations of ground truth\n",
    "            objects as [xmin, ymin, xmax, ymax]\n",
    "        pred_boxes (dict): dict of dicts of 'boxes' (formatted like `gt_boxes`)\n",
    "            and 'scores'\n",
    "        iou_thr (float): value of IoU to consider as threshold for a\n",
    "            true prediction.\n",
    "    Returns:\n",
    "        dict: true positives (int), false positives (int), false negatives (int)\n",
    "    \"\"\"    \n",
    "    gt_catg = gt_boxes['category']\n",
    "    pred_catg = pred_boxes['category']\n",
    "    \n",
    "    gt_boxes_ = gt_boxes['boxes']\n",
    "    pred_boxes_ = pred_boxes['boxes']\n",
    "    \n",
    "    all_pred_indices = range(len(pred_boxes_))\n",
    "    all_gt_indices = range(len(gt_boxes_))\n",
    "    if len(all_pred_indices)==0:\n",
    "        tp=0\n",
    "        fp=0\n",
    "        fn=0\n",
    "        return {'true_positive':tp, 'false_positive':fp, 'false_negative':fn}\n",
    "    if len(all_gt_indices)==0:\n",
    "        tp=0\n",
    "        fp=0\n",
    "        fn=0\n",
    "        return {'true_positive':tp, 'false_positive':fp, 'false_negative':fn}\n",
    "    \n",
    "    gt_idx_thr=[]\n",
    "    pred_idx_thr=[]\n",
    "    ious=[]\n",
    "    for ipb, pred_box in enumerate(pred_boxes_):\n",
    "        for igb, gt_box in enumerate(gt_boxes_):            \n",
    "            iou= calc_iou(gt_box, pred_box)\n",
    "            \n",
    "            if iou >iou_thr:\n",
    "                if gt_catg[igb] == pred_catg[ipb]:\n",
    "                    gt_idx_thr.append(igb)\n",
    "                    pred_idx_thr.append(ipb)\n",
    "                    ious.append(iou)\n",
    "\n",
    "    iou_sort = np.argsort(ious)[::1]\n",
    "    if len(iou_sort)==0:\n",
    "        tp=0\n",
    "        fp=0\n",
    "        fn=0\n",
    "        return {'true_positive':tp, 'false_positive':fp, 'false_negative':fn}\n",
    "    else:\n",
    "        gt_match_idx=[]\n",
    "        pred_match_idx=[]\n",
    "        for idx in iou_sort:\n",
    "            gt_idx=gt_idx_thr[idx]\n",
    "            pr_idx= pred_idx_thr[idx]\n",
    "            # If the boxes are unmatched, add them to matches\n",
    "            if(gt_idx not in gt_match_idx) and (pr_idx not in pred_match_idx):\n",
    "                gt_match_idx.append(gt_idx)\n",
    "                pred_match_idx.append(pr_idx)\n",
    "        tp = len(gt_match_idx)\n",
    "        fp = len(pred_boxes_) - len(pred_match_idx)\n",
    "        fn = len(gt_boxes_) - len(gt_match_idx)        \n",
    "    return {'true_positive': tp, 'false_positive': fp, 'false_negative': fn}"
   ]
  },
  {
   "cell_type": "markdown",
   "metadata": {},
   "source": [
    "## Getting TP/FP"
   ]
  },
  {
   "cell_type": "code",
   "execution_count": 61,
   "metadata": {},
   "outputs": [
    {
     "name": "stdout",
     "output_type": "stream",
     "text": [
      "xl_visual_session0000_00000026 {'true_positive': 3, 'false_positive': 1, 'false_negative': 0}\n",
      "xl_visual_session0000_00000051 {'true_positive': 4, 'false_positive': 0, 'false_negative': 0}\n",
      "xl_visual_session0000_00000064 {'true_positive': 2, 'false_positive': 2, 'false_negative': 2}\n",
      "xl_visual_session0000_00000068 {'true_positive': 3, 'false_positive': 1, 'false_negative': 1}\n",
      "xl_visual_session0000_00000080 {'true_positive': 3, 'false_positive': 2, 'false_negative': 1}\n",
      "xl_visual_session0000_00000088 {'true_positive': 3, 'false_positive': 1, 'false_negative': 1}\n",
      "xl_visual_session0000_00000100 {'true_positive': 3, 'false_positive': 1, 'false_negative': 1}\n",
      "xl_visual_session0000_00000104 {'true_positive': 4, 'false_positive': 0, 'false_negative': 0}\n",
      "xl_visual_session0000_00000108 {'true_positive': 3, 'false_positive': 1, 'false_negative': 1}\n",
      "xl_visual_session0000_00000120 {'true_positive': 3, 'false_positive': 1, 'false_negative': 1}\n",
      "xl_visual_session0000_00000144 {'true_positive': 4, 'false_positive': 1, 'false_negative': 0}\n",
      "xl_visual_session0000_00000152 {'true_positive': 3, 'false_positive': 1, 'false_negative': 0}\n",
      "xl_visual_session0000_00000160 {'true_positive': 3, 'false_positive': 0, 'false_negative': 0}\n",
      "xl_visual_session0000_00000180 {'true_positive': 3, 'false_positive': 0, 'false_negative': 0}\n",
      "xl_visual_session0000_00000261 {'true_positive': 4, 'false_positive': 0, 'false_negative': 0}\n",
      "xl_visual_session0000_00000321 {'true_positive': 5, 'false_positive': 0, 'false_negative': 0}\n",
      "xl_visual_session0000_00000326 {'true_positive': 3, 'false_positive': 2, 'false_negative': 2}\n",
      "xl_visual_session0000_00000335 {'true_positive': 4, 'false_positive': 0, 'false_negative': 0}\n",
      "xl_visual_session0000_00000353 {'true_positive': 4, 'false_positive': 1, 'false_negative': 0}\n",
      "xl_visual_session0000_00000357 {'true_positive': 3, 'false_positive': 1, 'false_negative': 1}\n",
      "xl_visual_session0000_00000403 {'true_positive': 4, 'false_positive': 0, 'false_negative': 0}\n",
      "xl_visual_session0000_00000408 {'true_positive': 4, 'false_positive': 0, 'false_negative': 0}\n",
      "xl_visual_session0000_00000410 {'true_positive': 4, 'false_positive': 0, 'false_negative': 0}\n",
      "xl_visual_session0000_00000437 {'true_positive': 4, 'false_positive': 0, 'false_negative': 0}\n",
      "xl_visual_session0000_00000461 {'true_positive': 3, 'false_positive': 1, 'false_negative': 0}\n",
      "xl_visual_session0000_00000499 {'true_positive': 4, 'false_positive': 0, 'false_negative': 0}\n",
      "xl_visual_session0000_00000507 {'true_positive': 3, 'false_positive': 1, 'false_negative': 1}\n",
      "xl_visual_session0000_00000510 {'true_positive': 3, 'false_positive': 1, 'false_negative': 1}\n",
      "xl_visual_session0000_00000525 {'true_positive': 5, 'false_positive': 0, 'false_negative': 0}\n",
      "xl_visual_session0000_00000563 {'true_positive': 3, 'false_positive': 1, 'false_negative': 0}\n",
      "xl_visual_session0000_00000566 {'true_positive': 2, 'false_positive': 2, 'false_negative': 2}\n",
      "xl_visual_session0000_00000572 {'true_positive': 3, 'false_positive': 1, 'false_negative': 0}\n",
      "xl_visual_session0000_00000580 {'true_positive': 3, 'false_positive': 1, 'false_negative': 0}\n",
      "xl_visual_session0000_00000587 {'true_positive': 3, 'false_positive': 2, 'false_negative': 1}\n",
      "xl_visual_session0000_00000590 {'true_positive': 3, 'false_positive': 1, 'false_negative': 1}\n",
      "xl_visual_session0000_00000615 {'true_positive': 2, 'false_positive': 0, 'false_negative': 0}\n",
      "xl_visual_session0000_00000619 {'true_positive': 2, 'false_positive': 1, 'false_negative': 0}\n",
      "xl_visual_session0000_00000696 {'true_positive': 2, 'false_positive': 3, 'false_negative': 0}\n",
      "xl_visual_session0000_00000699 {'true_positive': 4, 'false_positive': 2, 'false_negative': 0}\n",
      "xl_visual_session0000_00000722 {'true_positive': 5, 'false_positive': 0, 'false_negative': 0}\n",
      "xl_visual_session0000_00000733 {'true_positive': 5, 'false_positive': 0, 'false_negative': 0}\n",
      "xl_visual_session0000_00000743 {'true_positive': 4, 'false_positive': 2, 'false_negative': 1}\n",
      "xl_visual_session0000_00000749 {'true_positive': 5, 'false_positive': 0, 'false_negative': 0}\n",
      "xl_visual_session0000_00000760 {'true_positive': 5, 'false_positive': 0, 'false_negative': 0}\n",
      "xl_visual_session0000_00000792 {'true_positive': 2, 'false_positive': 2, 'false_negative': 2}\n",
      "xl_visual_session0000_00000809 {'true_positive': 2, 'false_positive': 3, 'false_negative': 1}\n",
      "xl_visual_session0000_00000817 {'true_positive': 2, 'false_positive': 2, 'false_negative': 0}\n",
      "xl_visual_session0000_00000842 {'true_positive': 1, 'false_positive': 3, 'false_negative': 1}\n",
      "xl_visual_session0000_00000865 {'true_positive': 1, 'false_positive': 0, 'false_negative': 0}\n",
      "xl_visual_session0000_00000873 {'true_positive': 1, 'false_positive': 1, 'false_negative': 0}\n",
      "xl_visual_session0000_00000912 {'true_positive': 3, 'false_positive': 1, 'false_negative': 1}\n",
      "xl_visual_session0000_00000968 {'true_positive': 4, 'false_positive': 0, 'false_negative': 0}\n",
      "xl_visual_session0000_00000976 {'true_positive': 4, 'false_positive': 0, 'false_negative': 0}\n",
      "xl_visual_session0000_00000983 {'true_positive': 4, 'false_positive': 0, 'false_negative': 0}\n",
      "xl_visual_session0000_00000992 {'true_positive': 4, 'false_positive': 0, 'false_negative': 0}\n",
      "xl_visual_session0000_00001001 {'true_positive': 4, 'false_positive': 0, 'false_negative': 0}\n",
      "xl_visual_session0000_00001018 {'true_positive': 3, 'false_positive': 1, 'false_negative': 0}\n",
      "xl_visual_session0000_00001026 {'true_positive': 3, 'false_positive': 0, 'false_negative': 0}\n",
      "xl_visual_session0000_00001070 {'true_positive': 3, 'false_positive': 0, 'false_negative': 0}\n",
      "xl_visual_session0000_00001174 {'true_positive': 3, 'false_positive': 0, 'false_negative': 0}\n",
      "xl_visual_session0000_00001220 {'true_positive': 3, 'false_positive': 0, 'false_negative': 0}\n",
      "xl_visual_session0000_00001236 {'true_positive': 3, 'false_positive': 0, 'false_negative': 0}\n",
      "xl_visual_session0000_00001249 {'true_positive': 3, 'false_positive': 2, 'false_negative': 0}\n",
      "xl_visual_session0000_00001258 {'true_positive': 4, 'false_positive': 0, 'false_negative': 0}\n",
      "xl_visual_session0000_00001286 {'true_positive': 3, 'false_positive': 0, 'false_negative': 0}\n",
      "xl_visual_session0000_00001292 {'true_positive': 3, 'false_positive': 0, 'false_negative': 0}\n",
      "xl_visual_session0000_00001302 {'true_positive': 3, 'false_positive': 0, 'false_negative': 0}\n",
      "xl_visual_session0000_00001309 {'true_positive': 3, 'false_positive': 0, 'false_negative': 0}\n",
      "xl_visual_session0000_00001347 {'true_positive': 3, 'false_positive': 2, 'false_negative': 0}\n",
      "xl_visual_session0000_00001388 {'true_positive': 4, 'false_positive': 0, 'false_negative': 0}\n",
      "xl_visual_session0000_00001409 {'true_positive': 4, 'false_positive': 1, 'false_negative': 0}\n",
      "xl_visual_session0000_00001421 {'true_positive': 4, 'false_positive': 1, 'false_negative': 0}\n",
      "xl_visual_session0000_00001438 {'true_positive': 3, 'false_positive': 1, 'false_negative': 1}\n",
      "xl_visual_session0000_00001487 {'true_positive': 3, 'false_positive': 1, 'false_negative': 0}\n",
      "xl_visual_session0000_00001544 {'true_positive': 4, 'false_positive': 0, 'false_negative': 0}\n",
      "xl_visual_session0000_00001589 {'true_positive': 3, 'false_positive': 1, 'false_negative': 0}\n",
      "xl_visual_session0000_00001598 {'true_positive': 4, 'false_positive': 1, 'false_negative': 0}\n",
      "xl_visual_session0000_00001603 {'true_positive': 4, 'false_positive': 0, 'false_negative': 0}\n",
      "xl_visual_session0000_00001612 {'true_positive': 3, 'false_positive': 4, 'false_negative': 0}\n",
      "xl_visual_session0000_00001625 {'true_positive': 3, 'false_positive': 2, 'false_negative': 2}\n",
      "xl_visual_session0000_00001707 {'true_positive': 3, 'false_positive': 3, 'false_negative': 2}\n",
      "xl_visual_session0000_00001713 {'true_positive': 4, 'false_positive': 0, 'false_negative': 0}\n",
      "xl_visual_session0000_00001743 {'true_positive': 3, 'false_positive': 1, 'false_negative': 0}\n",
      "xl_visual_session0000_00001802 {'true_positive': 3, 'false_positive': 0, 'false_negative': 0}\n",
      "xl_visual_session0000_00001806 {'true_positive': 3, 'false_positive': 0, 'false_negative': 0}\n",
      "xl_visual_session0000_00001810 {'true_positive': 3, 'false_positive': 0, 'false_negative': 0}\n",
      "xl_visual_session0000_00001815 {'true_positive': 3, 'false_positive': 0, 'false_negative': 0}\n",
      "xl_visual_session0000_00001851 {'true_positive': 3, 'false_positive': 0, 'false_negative': 0}\n",
      "xl_visual_session0000_00001856 {'true_positive': 3, 'false_positive': 0, 'false_negative': 0}\n",
      "xl_visual_session0000_00001864 {'true_positive': 3, 'false_positive': 0, 'false_negative': 0}\n",
      "xl_visual_session0000_00001884 {'true_positive': 3, 'false_positive': 0, 'false_negative': 0}\n",
      "xl_visual_session0000_00001950 {'true_positive': 3, 'false_positive': 1, 'false_negative': 2}\n",
      "xl_visual_session0000_00001955 {'true_positive': 3, 'false_positive': 4, 'false_negative': 2}\n",
      "xl_visual_session0000_00001973 {'true_positive': 4, 'false_positive': 2, 'false_negative': 1}\n",
      "xl_visual_session0000_00001985 {'true_positive': 4, 'false_positive': 3, 'false_negative': 1}\n",
      "xl_visual_session0000_00001988 {'true_positive': 4, 'false_positive': 3, 'false_negative': 1}\n",
      "xl_visual_session0000_00001992 {'true_positive': 5, 'false_positive': 2, 'false_negative': 1}\n",
      "xl_visual_session0000_00001996 {'true_positive': 6, 'false_positive': 2, 'false_negative': 0}\n",
      "xl_visual_session0000_00002005 {'true_positive': 5, 'false_positive': 4, 'false_negative': 1}\n",
      "xl_visual_session0000_00002025 {'true_positive': 4, 'false_positive': 0, 'false_negative': 0}\n",
      "xl_visual_session0000_00002029 {'true_positive': 4, 'false_positive': 0, 'false_negative': 0}\n",
      "xl_visual_session0000_00002033 {'true_positive': 4, 'false_positive': 1, 'false_negative': 0}\n",
      "xl_visual_session0000_00002037 {'true_positive': 3, 'false_positive': 1, 'false_negative': 1}\n",
      "xl_visual_session0000_00002057 {'true_positive': 4, 'false_positive': 0, 'false_negative': 0}\n",
      "xl_visual_session0000_00002092 {'true_positive': 4, 'false_positive': 0, 'false_negative': 0}\n",
      "xl_visual_session0000_00002105 {'true_positive': 4, 'false_positive': 0, 'false_negative': 0}\n",
      "xl_visual_session0000_00002123 {'true_positive': 4, 'false_positive': 0, 'false_negative': 0}\n",
      "xl_visual_session0000_00002132 {'true_positive': 3, 'false_positive': 1, 'false_negative': 1}\n",
      "xl_visual_session0000_00002162 {'true_positive': 3, 'false_positive': 1, 'false_negative': 1}\n",
      "xl_visual_session0000_00002184 {'true_positive': 2, 'false_positive': 1, 'false_negative': 0}\n",
      "xl_visual_session0000_00002215 {'true_positive': 2, 'false_positive': 2, 'false_negative': 1}\n",
      "xl_visual_session0000_00002251 {'true_positive': 4, 'false_positive': 1, 'false_negative': 0}\n",
      "xl_visual_session0000_00002272 {'true_positive': 4, 'false_positive': 0, 'false_negative': 0}\n",
      "xl_visual_session0000_00002286 {'true_positive': 3, 'false_positive': 1, 'false_negative': 1}\n",
      "xl_visual_session0000_00002295 {'true_positive': 3, 'false_positive': 2, 'false_negative': 1}\n",
      "xl_visual_session0000_00002304 {'true_positive': 3, 'false_positive': 0, 'false_negative': 0}\n",
      "xl_visual_session0000_00002348 {'true_positive': 3, 'false_positive': 0, 'false_negative': 0}\n",
      "xl_visual_session0000_00002352 {'true_positive': 3, 'false_positive': 0, 'false_negative': 0}\n",
      "xl_visual_session0000_00002375 {'true_positive': 3, 'false_positive': 0, 'false_negative': 0}\n",
      "xl_visual_session0000_00002379 {'true_positive': 3, 'false_positive': 0, 'false_negative': 0}\n",
      "xl_visual_session0000_00002393 {'true_positive': 3, 'false_positive': 0, 'false_negative': 0}\n",
      "xl_visual_session0000_00002406 {'true_positive': 3, 'false_positive': 1, 'false_negative': 0}\n",
      "xl_visual_session0000_00002429 {'true_positive': 3, 'false_positive': 1, 'false_negative': 1}\n",
      "xl_visual_session0000_00002433 {'true_positive': 4, 'false_positive': 1, 'false_negative': 0}\n",
      "xl_visual_session0000_00002469 {'true_positive': 2, 'false_positive': 4, 'false_negative': 2}\n",
      "xl_visual_session0000_00002474 {'true_positive': 4, 'false_positive': 2, 'false_negative': 0}\n",
      "xl_visual_session0000_00002505 {'true_positive': 4, 'false_positive': 2, 'false_negative': 0}\n",
      "xl_visual_session0000_00002514 {'true_positive': 3, 'false_positive': 2, 'false_negative': 1}\n",
      "xl_visual_session0000_00002519 {'true_positive': 4, 'false_positive': 1, 'false_negative': 0}\n",
      "xl_visual_session0000_00002564 {'true_positive': 4, 'false_positive': 2, 'false_negative': 1}\n",
      "xl_visual_session0000_00002617 {'true_positive': 7, 'false_positive': 1, 'false_negative': 0}\n",
      "xl_visual_session0000_00002626 {'true_positive': 3, 'false_positive': 4, 'false_negative': 2}\n",
      "xl_visual_session0000_00002639 {'true_positive': 4, 'false_positive': 3, 'false_negative': 0}\n",
      "xl_visual_session0000_00002644 {'true_positive': 4, 'false_positive': 4, 'false_negative': 0}\n",
      "xl_visual_session0000_00002671 {'true_positive': 4, 'false_positive': 3, 'false_negative': 0}\n",
      "xl_visual_session0000_00002680 {'true_positive': 4, 'false_positive': 4, 'false_negative': 1}\n",
      "xl_visual_session0000_00002711 {'true_positive': 3, 'false_positive': 3, 'false_negative': 0}\n",
      "xl_visual_session0000_00002756 {'true_positive': 3, 'false_positive': 0, 'false_negative': 0}\n",
      "xl_visual_session0000_00002828 {'true_positive': 4, 'false_positive': 1, 'false_negative': 0}\n",
      "xl_visual_session0000_00002846 {'true_positive': 4, 'false_positive': 0, 'false_negative': 0}\n",
      "xl_visual_session0000_00002967 {'true_positive': 4, 'false_positive': 2, 'false_negative': 1}\n",
      "xl_visual_session0000_00002981 {'true_positive': 4, 'false_positive': 2, 'false_negative': 0}\n",
      "xl_visual_session0000_00003003 {'true_positive': 4, 'false_positive': 3, 'false_negative': 1}\n",
      "xl_visual_session0000_00003009 {'true_positive': 4, 'false_positive': 2, 'false_negative': 1}\n",
      "xl_visual_session0000_00003063 {'true_positive': 4, 'false_positive': 1, 'false_negative': 1}\n",
      "xl_visual_session0000_00003069 {'true_positive': 4, 'false_positive': 1, 'false_negative': 0}\n",
      "xl_visual_session0000_00003075 {'true_positive': 4, 'false_positive': 1, 'false_negative': 0}\n",
      "xl_visual_session0000_00003085 {'true_positive': 3, 'false_positive': 2, 'false_negative': 1}\n",
      "xl_visual_session0000_00003196 {'true_positive': 2, 'false_positive': 1, 'false_negative': 0}\n",
      "xl_visual_session0001_00000010 {'true_positive': 1, 'false_positive': 0, 'false_negative': 0}\n",
      "xl_visual_session0001_00000039 {'true_positive': 1, 'false_positive': 0, 'false_negative': 0}\n",
      "xl_visual_session0001_00000051 {'true_positive': 1, 'false_positive': 0, 'false_negative': 0}\n",
      "xl_visual_session0001_00000089 {'true_positive': 1, 'false_positive': 0, 'false_negative': 0}\n",
      "xl_visual_session0001_00000092 {'true_positive': 1, 'false_positive': 0, 'false_negative': 0}\n",
      "xl_visual_session0001_00000112 {'true_positive': 1, 'false_positive': 0, 'false_negative': 0}\n",
      "xl_visual_session0001_00000129 {'true_positive': 1, 'false_positive': 0, 'false_negative': 0}\n",
      "xl_visual_session0001_00000145 {'true_positive': 1, 'false_positive': 0, 'false_negative': 0}\n",
      "xl_visual_session0001_00000180 {'true_positive': 1, 'false_positive': 0, 'false_negative': 0}\n",
      "xl_visual_session0001_00000280 {'true_positive': 1, 'false_positive': 1, 'false_negative': 0}\n",
      "xl_visual_session0001_00000284 {'true_positive': 1, 'false_positive': 0, 'false_negative': 0}\n",
      "xl_visual_session0001_00000305 {'true_positive': 1, 'false_positive': 0, 'false_negative': 0}\n",
      "xl_visual_session0001_00000308 {'true_positive': 1, 'false_positive': 0, 'false_negative': 0}\n",
      "xl_visual_session0001_00000319 {'true_positive': 1, 'false_positive': 0, 'false_negative': 0}\n",
      "xl_visual_session0001_00000333 {'true_positive': 1, 'false_positive': 0, 'false_negative': 0}\n",
      "xl_visual_session0001_00000340 {'true_positive': 1, 'false_positive': 0, 'false_negative': 0}\n",
      "xl_visual_session0001_00000354 {'true_positive': 1, 'false_positive': 0, 'false_negative': 0}\n",
      "xl_visual_session0001_00000357 {'true_positive': 1, 'false_positive': 0, 'false_negative': 0}\n",
      "xl_visual_session0001_00000389 {'true_positive': 1, 'false_positive': 0, 'false_negative': 0}\n",
      "xl_visual_session0001_00000403 {'true_positive': 1, 'false_positive': 0, 'false_negative': 0}\n",
      "xl_visual_session0001_00000455 {'true_positive': 1, 'false_positive': 1, 'false_negative': 1}\n",
      "xl_visual_session0001_00000473 {'true_positive': 2, 'false_positive': 0, 'false_negative': 0}\n",
      "xl_visual_session0001_00000501 {'true_positive': 2, 'false_positive': 0, 'false_negative': 0}\n",
      "xl_visual_session0001_00000511 {'true_positive': 1, 'false_positive': 1, 'false_negative': 1}\n",
      "xl_visual_session0001_00000522 {'true_positive': 2, 'false_positive': 1, 'false_negative': 1}\n",
      "xl_visual_session0001_00000532 {'true_positive': 1, 'false_positive': 2, 'false_negative': 1}\n",
      "xl_visual_session0001_00000565 {'true_positive': 3, 'false_positive': 1, 'false_negative': 0}\n",
      "xl_visual_session0001_00000598 {'true_positive': 1, 'false_positive': 4, 'false_negative': 1}\n",
      "xl_visual_session0001_00000678 {'true_positive': 5, 'false_positive': 2, 'false_negative': 1}\n",
      "xl_visual_session0001_00000735 {'true_positive': 7, 'false_positive': 1, 'false_negative': 0}\n",
      "xl_visual_session0001_00000753 {'true_positive': 7, 'false_positive': 2, 'false_negative': 0}\n",
      "xl_visual_session0001_00000757 {'true_positive': 6, 'false_positive': 4, 'false_negative': 1}\n",
      "xl_visual_session0001_00000761 {'true_positive': 6, 'false_positive': 0, 'false_negative': 0}\n",
      "xl_visual_session0001_00000797 {'true_positive': 7, 'false_positive': 2, 'false_negative': 0}\n",
      "xl_visual_session0001_00000815 {'true_positive': 6, 'false_positive': 0, 'false_negative': 0}\n",
      "xl_visual_session0001_00000827 {'true_positive': 6, 'false_positive': 2, 'false_negative': 0}\n",
      "xl_visual_session0001_00000834 {'true_positive': 6, 'false_positive': 2, 'false_negative': 0}\n",
      "xl_visual_session0001_00000844 {'true_positive': 6, 'false_positive': 1, 'false_negative': 1}\n",
      "xl_visual_session0001_00000851 {'true_positive': 6, 'false_positive': 2, 'false_negative': 1}\n",
      "xl_visual_session0001_00000865 {'true_positive': 5, 'false_positive': 1, 'false_negative': 0}\n",
      "xl_visual_session0001_00000940 {'true_positive': 4, 'false_positive': 1, 'false_negative': 0}\n",
      "xl_visual_session0001_00000951 {'true_positive': 4, 'false_positive': 0, 'false_negative': 0}\n",
      "xl_visual_session0001_00000954 {'true_positive': 4, 'false_positive': 1, 'false_negative': 0}\n",
      "xl_visual_session0001_00000957 {'true_positive': 3, 'false_positive': 1, 'false_negative': 0}\n",
      "xl_visual_session0001_00000963 {'true_positive': 5, 'false_positive': 0, 'false_negative': 0}\n",
      "xl_visual_session0001_00000990 {'true_positive': 4, 'false_positive': 1, 'false_negative': 0}\n",
      "xl_visual_session0001_00001011 {'true_positive': 6, 'false_positive': 0, 'false_negative': 0}\n",
      "xl_visual_session0001_00001023 {'true_positive': 6, 'false_positive': 0, 'false_negative': 0}\n",
      "xl_visual_session0001_00001032 {'true_positive': 5, 'false_positive': 0, 'false_negative': 0}\n",
      "xl_visual_session0001_00001038 {'true_positive': 3, 'false_positive': 1, 'false_negative': 1}\n",
      "xl_visual_session0001_00001062 {'true_positive': 4, 'false_positive': 1, 'false_negative': 0}\n",
      "xl_visual_session0002_00000006 {'true_positive': 8, 'false_positive': 4, 'false_negative': 1}\n",
      "xl_visual_session0002_00000014 {'true_positive': 9, 'false_positive': 2, 'false_negative': 0}\n",
      "xl_visual_session0002_00000034 {'true_positive': 6, 'false_positive': 2, 'false_negative': 0}\n",
      "xl_visual_session0002_00000038 {'true_positive': 6, 'false_positive': 3, 'false_negative': 0}\n",
      "xl_visual_session0002_00000042 {'true_positive': 9, 'false_positive': 4, 'false_negative': 0}\n",
      "xl_visual_session0002_00000046 {'true_positive': 8, 'false_positive': 3, 'false_negative': 1}\n",
      "xl_visual_session0002_00000075 {'true_positive': 9, 'false_positive': 1, 'false_negative': 0}\n",
      "xl_visual_session0002_00000161 {'true_positive': 7, 'false_positive': 1, 'false_negative': 0}\n",
      "xl_visual_session0002_00000229 {'true_positive': 8, 'false_positive': 5, 'false_negative': 1}\n",
      "xl_visual_session0002_00000248 {'true_positive': 9, 'false_positive': 3, 'false_negative': 0}\n",
      "xl_visual_session0002_00000320 {'true_positive': 9, 'false_positive': 3, 'false_negative': 0}\n",
      "xl_visual_session0002_00000324 {'true_positive': 10, 'false_positive': 2, 'false_negative': 0}\n",
      "xl_visual_session0002_00000341 {'true_positive': 9, 'false_positive': 5, 'false_negative': 1}\n",
      "xl_visual_session0002_00000368 {'true_positive': 9, 'false_positive': 5, 'false_negative': 0}\n",
      "xl_visual_session0002_00000377 {'true_positive': 10, 'false_positive': 5, 'false_negative': 1}\n",
      "xl_visual_session0002_00000387 {'true_positive': 10, 'false_positive': 9, 'false_negative': 2}\n",
      "xl_visual_session0002_00000406 {'true_positive': 11, 'false_positive': 8, 'false_negative': 1}\n",
      "xl_visual_session0002_00000442 {'true_positive': 15, 'false_positive': 6, 'false_negative': 1}\n",
      "xl_visual_session0002_00000447 {'true_positive': 12, 'false_positive': 11, 'false_negative': 3}\n",
      "xl_visual_session0002_00000456 {'true_positive': 10, 'false_positive': 12, 'false_negative': 5}\n",
      "xl_visual_session0002_00000475 {'true_positive': 15, 'false_positive': 2, 'false_negative': 2}\n",
      "xl_visual_session0002_00000513 {'true_positive': 13, 'false_positive': 9, 'false_negative': 2}\n",
      "xl_visual_session0002_00000517 {'true_positive': 12, 'false_positive': 8, 'false_negative': 3}\n",
      "xl_visual_session0002_00000535 {'true_positive': 14, 'false_positive': 4, 'false_negative': 3}\n",
      "xl_visual_session0002_00000558 {'true_positive': 11, 'false_positive': 8, 'false_negative': 1}\n",
      "xl_visual_session0002_00000582 {'true_positive': 12, 'false_positive': 8, 'false_negative': 2}\n",
      "xl_visual_session0002_00000604 {'true_positive': 12, 'false_positive': 8, 'false_negative': 1}\n",
      "xl_visual_session0002_00000627 {'true_positive': 11, 'false_positive': 9, 'false_negative': 1}\n",
      "xl_visual_session0002_00000662 {'true_positive': 12, 'false_positive': 7, 'false_negative': 1}\n",
      "xl_visual_session0002_00000680 {'true_positive': 14, 'false_positive': 8, 'false_negative': 1}\n",
      "xl_visual_session0002_00000702 {'true_positive': 15, 'false_positive': 7, 'false_negative': 1}\n",
      "xl_visual_session0002_00000708 {'true_positive': 16, 'false_positive': 5, 'false_negative': 0}\n",
      "xl_visual_session0002_00000720 {'true_positive': 14, 'false_positive': 16, 'false_negative': 5}\n",
      "xl_visual_session0002_00000731 {'true_positive': 14, 'false_positive': 11, 'false_negative': 3}\n",
      "xl_visual_session0002_00000737 {'true_positive': 14, 'false_positive': 7, 'false_negative': 1}\n",
      "xl_visual_session0002_00000773 {'true_positive': 14, 'false_positive': 10, 'false_negative': 2}\n",
      "xl_visual_session0002_00000782 {'true_positive': 12, 'false_positive': 14, 'false_negative': 4}\n",
      "xl_visual_session0002_00000814 {'true_positive': 15, 'false_positive': 8, 'false_negative': 4}\n",
      "xl_visual_session0002_00000864 {'true_positive': 16, 'false_positive': 21, 'false_negative': 3}\n",
      "xl_visual_session0002_00000874 {'true_positive': 15, 'false_positive': 11, 'false_negative': 0}\n",
      "xl_visual_session0002_00000893 {'true_positive': 17, 'false_positive': 9, 'false_negative': 2}\n",
      "xl_visual_session0002_00000897 {'true_positive': 16, 'false_positive': 10, 'false_negative': 2}\n",
      "xl_visual_session0002_00000920 {'true_positive': 15, 'false_positive': 12, 'false_negative': 3}\n"
     ]
    },
    {
     "name": "stdout",
     "output_type": "stream",
     "text": [
      "xl_visual_session0002_00000930 {'true_positive': 14, 'false_positive': 14, 'false_negative': 5}\n",
      "xl_visual_session0002_00000934 {'true_positive': 14, 'false_positive': 15, 'false_negative': 6}\n",
      "xl_visual_session0002_00000948 {'true_positive': 20, 'false_positive': 9, 'false_negative': 0}\n",
      "xl_visual_session0002_00000952 {'true_positive': 14, 'false_positive': 17, 'false_negative': 3}\n",
      "xl_visual_session0002_00000966 {'true_positive': 18, 'false_positive': 9, 'false_negative': 0}\n",
      "xl_visual_session0002_00000988 {'true_positive': 11, 'false_positive': 12, 'false_negative': 2}\n",
      "xl_visual_session0002_00001011 {'true_positive': 14, 'false_positive': 9, 'false_negative': 0}\n",
      "xl_visual_session0002_00001020 {'true_positive': 12, 'false_positive': 10, 'false_negative': 2}\n",
      "xl_visual_session0002_00001033 {'true_positive': 13, 'false_positive': 16, 'false_negative': 2}\n",
      "xl_visual_session0002_00001096 {'true_positive': 14, 'false_positive': 7, 'false_negative': 0}\n",
      "xl_visual_session0002_00001101 {'true_positive': 13, 'false_positive': 13, 'false_negative': 3}\n",
      "xl_visual_session0002_00001119 {'true_positive': 15, 'false_positive': 7, 'false_negative': 1}\n",
      "xl_visual_session0002_00001137 {'true_positive': 16, 'false_positive': 5, 'false_negative': 2}\n",
      "xl_visual_session0002_00001141 {'true_positive': 15, 'false_positive': 6, 'false_negative': 1}\n",
      "xl_visual_session0002_00001159 {'true_positive': 17, 'false_positive': 9, 'false_negative': 3}\n",
      "xl_visual_session0002_00001182 {'true_positive': 14, 'false_positive': 6, 'false_negative': 2}\n",
      "xl_visual_session0002_00001209 {'true_positive': 13, 'false_positive': 11, 'false_negative': 3}\n",
      "xl_visual_session0002_00001263 {'true_positive': 13, 'false_positive': 4, 'false_negative': 2}\n",
      "xl_visual_session0002_00001267 {'true_positive': 14, 'false_positive': 8, 'false_negative': 0}\n",
      "xl_visual_session0002_00001276 {'true_positive': 13, 'false_positive': 11, 'false_negative': 3}\n",
      "xl_visual_session0002_00001290 {'true_positive': 13, 'false_positive': 16, 'false_negative': 3}\n",
      "xl_visual_session0002_00001303 {'true_positive': 12, 'false_positive': 11, 'false_negative': 3}\n",
      "xl_visual_session0002_00001348 {'true_positive': 12, 'false_positive': 10, 'false_negative': 3}\n",
      "xl_visual_session0002_00001353 {'true_positive': 11, 'false_positive': 12, 'false_negative': 6}\n",
      "xl_visual_session0002_00001366 {'true_positive': 13, 'false_positive': 12, 'false_negative': 3}\n",
      "xl_visual_session0002_00001407 {'true_positive': 12, 'false_positive': 9, 'false_negative': 2}\n",
      "xl_visual_session0002_00001452 {'true_positive': 11, 'false_positive': 4, 'false_negative': 0}\n",
      "xl_visual_session0002_00001479 {'true_positive': 9, 'false_positive': 5, 'false_negative': 2}\n",
      "xl_visual_session0002_00001497 {'true_positive': 11, 'false_positive': 7, 'false_negative': 2}\n",
      "xl_visual_session0002_00001535 {'true_positive': 10, 'false_positive': 9, 'false_negative': 1}\n",
      "xl_visual_session0002_00001558 {'true_positive': 15, 'false_positive': 8, 'false_negative': 0}\n",
      "xl_visual_session0002_00001563 {'true_positive': 13, 'false_positive': 5, 'false_negative': 0}\n",
      "xl_visual_session0002_00001585 {'true_positive': 13, 'false_positive': 15, 'false_negative': 2}\n",
      "xl_visual_session0002_00001599 {'true_positive': 11, 'false_positive': 14, 'false_negative': 8}\n",
      "xl_visual_session0002_00001608 {'true_positive': 15, 'false_positive': 14, 'false_negative': 3}\n",
      "xl_visual_session0002_00001612 {'true_positive': 14, 'false_positive': 12, 'false_negative': 2}\n",
      "xl_visual_session0002_00001630 {'true_positive': 16, 'false_positive': 10, 'false_negative': 1}\n",
      "xl_visual_session0002_00001635 {'true_positive': 13, 'false_positive': 11, 'false_negative': 3}\n",
      "xl_visual_session0002_00001648 {'true_positive': 16, 'false_positive': 7, 'false_negative': 0}\n",
      "xl_visual_session0002_00001662 {'true_positive': 15, 'false_positive': 12, 'false_negative': 3}\n",
      "xl_visual_session0002_00001689 {'true_positive': 17, 'false_positive': 6, 'false_negative': 0}\n",
      "xl_visual_session0002_00001702 {'true_positive': 18, 'false_positive': 14, 'false_negative': 2}\n",
      "xl_visual_session0002_00001716 {'true_positive': 17, 'false_positive': 12, 'false_negative': 0}\n",
      "xl_visual_session0002_00001725 {'true_positive': 11, 'false_positive': 16, 'false_negative': 4}\n",
      "xl_visual_session0002_00001780 {'true_positive': 14, 'false_positive': 17, 'false_negative': 5}\n",
      "xl_visual_session0002_00001784 {'true_positive': 11, 'false_positive': 21, 'false_negative': 4}\n",
      "xl_visual_session0002_00001793 {'true_positive': 10, 'false_positive': 21, 'false_negative': 7}\n",
      "xl_visual_session0002_00001861 {'true_positive': 10, 'false_positive': 17, 'false_negative': 3}\n",
      "xl_visual_session0002_00001870 {'true_positive': 13, 'false_positive': 17, 'false_negative': 3}\n",
      "xl_visual_session0002_00001874 {'true_positive': 14, 'false_positive': 17, 'false_negative': 3}\n",
      "xl_visual_session0002_00001893 {'true_positive': 13, 'false_positive': 12, 'false_negative': 1}\n",
      "xl_visual_session0002_00001921 {'true_positive': 17, 'false_positive': 19, 'false_negative': 8}\n",
      "xl_visual_session0002_00001930 {'true_positive': 14, 'false_positive': 13, 'false_negative': 3}\n",
      "xl_visual_session0002_00001935 {'true_positive': 16, 'false_positive': 18, 'false_negative': 5}\n",
      "xl_visual_session0002_00001939 {'true_positive': 14, 'false_positive': 13, 'false_negative': 1}\n",
      "xl_visual_session0002_00001944 {'true_positive': 14, 'false_positive': 17, 'false_negative': 2}\n",
      "xl_visual_session0002_00001969 {'true_positive': 15, 'false_positive': 10, 'false_negative': 2}\n",
      "xl_visual_session0002_00002001 {'true_positive': 17, 'false_positive': 17, 'false_negative': 5}\n",
      "xl_visual_session0002_00002023 {'true_positive': 13, 'false_positive': 18, 'false_negative': 6}\n",
      "xl_visual_session0002_00002055 {'true_positive': 15, 'false_positive': 10, 'false_negative': 1}\n",
      "xl_visual_session0002_00002059 {'true_positive': 15, 'false_positive': 5, 'false_negative': 1}\n",
      "xl_visual_session0002_00002095 {'true_positive': 9, 'false_positive': 9, 'false_negative': 1}\n",
      "xl_visual_session0002_00002117 {'true_positive': 10, 'false_positive': 9, 'false_negative': 0}\n",
      "xl_visual_session0002_00002128 {'true_positive': 10, 'false_positive': 6, 'false_negative': 0}\n",
      "xl_visual_session0002_00002155 {'true_positive': 8, 'false_positive': 8, 'false_negative': 0}\n",
      "xl_visual_session0002_00002165 {'true_positive': 11, 'false_positive': 8, 'false_negative': 0}\n",
      "xl_visual_session0002_00002179 {'true_positive': 7, 'false_positive': 8, 'false_negative': 1}\n",
      "xl_visual_session0002_00002207 {'true_positive': 10, 'false_positive': 8, 'false_negative': 1}\n",
      "xl_visual_session0002_00002225 {'true_positive': 8, 'false_positive': 8, 'false_negative': 1}\n",
      "xl_visual_session0002_00002251 {'true_positive': 8, 'false_positive': 10, 'false_negative': 4}\n",
      "xl_visual_session0002_00002295 {'true_positive': 15, 'false_positive': 11, 'false_negative': 1}\n",
      "xl_visual_session0002_00002363 {'true_positive': 9, 'false_positive': 11, 'false_negative': 2}\n",
      "xl_visual_session0002_00002366 {'true_positive': 13, 'false_positive': 5, 'false_negative': 0}\n",
      "xl_visual_session0002_00002389 {'true_positive': 10, 'false_positive': 9, 'false_negative': 4}\n",
      "xl_visual_session0002_00002399 {'true_positive': 11, 'false_positive': 5, 'false_negative': 0}\n",
      "xl_visual_session0002_00002424 {'true_positive': 9, 'false_positive': 7, 'false_negative': 0}\n",
      "xl_visual_session0002_00002427 {'true_positive': 9, 'false_positive': 6, 'false_negative': 0}\n",
      "xl_visual_session0002_00002441 {'true_positive': 8, 'false_positive': 5, 'false_negative': 1}\n",
      "xl_visual_session0002_00002459 {'true_positive': 10, 'false_positive': 7, 'false_negative': 0}\n",
      "xl_visual_session0002_00002468 {'true_positive': 10, 'false_positive': 5, 'false_negative': 1}\n",
      "xl_visual_session0002_00002562 {'true_positive': 10, 'false_positive': 14, 'false_negative': 0}\n",
      "xl_visual_session0002_00002593 {'true_positive': 12, 'false_positive': 17, 'false_negative': 2}\n",
      "xl_visual_session0002_00002607 {'true_positive': 14, 'false_positive': 9, 'false_negative': 1}\n",
      "xl_visual_session0002_00002620 {'true_positive': 10, 'false_positive': 13, 'false_negative': 4}\n",
      "xl_visual_session0002_00002665 {'true_positive': 15, 'false_positive': 7, 'false_negative': 2}\n",
      "xl_visual_session0002_00002704 {'true_positive': 12, 'false_positive': 13, 'false_negative': 6}\n",
      "xl_visual_session0002_00002740 {'true_positive': 15, 'false_positive': 11, 'false_negative': 4}\n",
      "xl_visual_session0002_00002824 {'true_positive': 16, 'false_positive': 7, 'false_negative': 2}\n",
      "xl_visual_session0002_00002874 {'true_positive': 16, 'false_positive': 11, 'false_negative': 3}\n",
      "xl_visual_session0002_00002887 {'true_positive': 14, 'false_positive': 16, 'false_negative': 1}\n",
      "xl_visual_session0002_00002896 {'true_positive': 15, 'false_positive': 12, 'false_negative': 1}\n",
      "xl_visual_session0002_00002905 {'true_positive': 14, 'false_positive': 11, 'false_negative': 1}\n",
      "xl_visual_session0002_00002950 {'true_positive': 16, 'false_positive': 8, 'false_negative': 2}\n",
      "xl_visual_session0002_00002956 {'true_positive': 17, 'false_positive': 8, 'false_negative': 1}\n",
      "xl_visual_session0002_00002960 {'true_positive': 16, 'false_positive': 6, 'false_negative': 2}\n",
      "xl_visual_session0002_00002978 {'true_positive': 16, 'false_positive': 11, 'false_negative': 2}\n",
      "xl_visual_session0002_00002983 {'true_positive': 14, 'false_positive': 13, 'false_negative': 3}\n",
      "xl_visual_session0002_00002988 {'true_positive': 15, 'false_positive': 17, 'false_negative': 2}\n",
      "xl_visual_session0002_00003006 {'true_positive': 18, 'false_positive': 11, 'false_negative': 2}\n",
      "xl_visual_session0002_00003015 {'true_positive': 15, 'false_positive': 11, 'false_negative': 5}\n",
      "xl_visual_session0002_00003042 {'true_positive': 17, 'false_positive': 3, 'false_negative': 0}\n"
     ]
    },
    {
     "name": "stdout",
     "output_type": "stream",
     "text": [
      "xl_visual_session0002_00003060 {'true_positive': 14, 'false_positive': 4, 'false_negative': 1}\n",
      "xl_visual_session0002_00003065 {'true_positive': 13, 'false_positive': 5, 'false_negative': 1}\n",
      "xl_visual_session0002_00003069 {'true_positive': 15, 'false_positive': 9, 'false_negative': 0}\n",
      "xl_visual_session0002_00003078 {'true_positive': 9, 'false_positive': 9, 'false_negative': 4}\n",
      "xl_visual_session0002_00003087 {'true_positive': 10, 'false_positive': 7, 'false_negative': 0}\n",
      "xl_visual_session0002_00003105 {'true_positive': 10, 'false_positive': 7, 'false_negative': 0}\n",
      "xl_visual_session0002_00003110 {'true_positive': 11, 'false_positive': 5, 'false_negative': 1}\n",
      "xl_visual_session0002_00003137 {'true_positive': 13, 'false_positive': 7, 'false_negative': 1}\n",
      "xl_visual_session0002_00003164 {'true_positive': 11, 'false_positive': 12, 'false_negative': 4}\n",
      "xl_visual_session0002_00003191 {'true_positive': 12, 'false_positive': 10, 'false_negative': 1}\n",
      "xl_visual_session0002_00003195 {'true_positive': 16, 'false_positive': 12, 'false_negative': 2}\n",
      "xl_visual_session0002_00003200 {'true_positive': 15, 'false_positive': 12, 'false_negative': 2}\n",
      "xl_visual_session0002_00003213 {'true_positive': 13, 'false_positive': 6, 'false_negative': 1}\n",
      "xl_visual_session0002_00003222 {'true_positive': 12, 'false_positive': 6, 'false_negative': 3}\n",
      "xl_visual_session0002_00003231 {'true_positive': 13, 'false_positive': 5, 'false_negative': 0}\n",
      "xl_visual_session0002_00003254 {'true_positive': 11, 'false_positive': 12, 'false_negative': 0}\n",
      "xl_visual_session0002_00003281 {'true_positive': 10, 'false_positive': 13, 'false_negative': 3}\n",
      "xl_visual_session0002_00003313 {'true_positive': 10, 'false_positive': 7, 'false_negative': 0}\n",
      "xl_visual_session0002_00003385 {'true_positive': 10, 'false_positive': 9, 'false_negative': 0}\n",
      "xl_visual_session0002_00003439 {'true_positive': 13, 'false_positive': 6, 'false_negative': 0}\n",
      "xl_visual_session0002_00003444 {'true_positive': 10, 'false_positive': 7, 'false_negative': 0}\n",
      "xl_visual_session0002_00003453 {'true_positive': 10, 'false_positive': 6, 'false_negative': 0}\n",
      "xl_visual_session0002_00003463 {'true_positive': 7, 'false_positive': 6, 'false_negative': 1}\n",
      "xl_visual_session0002_00003465 {'true_positive': 8, 'false_positive': 9, 'false_negative': 0}\n",
      "xl_visual_session0002_00003516 {'true_positive': 6, 'false_positive': 5, 'false_negative': 0}\n",
      "xl_visual_session0002_00003528 {'true_positive': 5, 'false_positive': 8, 'false_negative': 0}\n",
      "xl_visual_session0002_00003537 {'true_positive': 5, 'false_positive': 7, 'false_negative': 0}\n",
      "xl_visual_session0002_00003546 {'true_positive': 5, 'false_positive': 2, 'false_negative': 0}\n",
      "xl_visual_session0002_00003569 {'true_positive': 7, 'false_positive': 6, 'false_negative': 1}\n",
      "xl_visual_session0002_00003572 {'true_positive': 7, 'false_positive': 5, 'false_negative': 0}\n",
      "xl_visual_session0002_00003581 {'true_positive': 7, 'false_positive': 4, 'false_negative': 0}\n",
      "xl_visual_session0002_00003589 {'true_positive': 9, 'false_positive': 3, 'false_negative': 0}\n",
      "xl_visual_session0002_00003592 {'true_positive': 7, 'false_positive': 5, 'false_negative': 0}\n",
      "xl_visual_session0002_00003621 {'true_positive': 7, 'false_positive': 6, 'false_negative': 0}\n",
      "xl_visual_session0002_00003656 {'true_positive': 7, 'false_positive': 4, 'false_negative': 0}\n",
      "xl_visual_session0002_00003665 {'true_positive': 8, 'false_positive': 3, 'false_negative': 0}\n",
      "xl_visual_session0002_00003686 {'true_positive': 8, 'false_positive': 4, 'false_negative': 0}\n",
      "xl_visual_session0002_00003715 {'true_positive': 7, 'false_positive': 8, 'false_negative': 0}\n",
      "xl_visual_session0002_00003721 {'true_positive': 5, 'false_positive': 17, 'false_negative': 3}\n",
      "xl_visual_session0002_00003727 {'true_positive': 5, 'false_positive': 5, 'false_negative': 0}\n",
      "xl_visual_session0002_00003732 {'true_positive': 4, 'false_positive': 7, 'false_negative': 0}\n",
      "xl_visual_session0002_00003756 {'true_positive': 6, 'false_positive': 6, 'false_negative': 1}\n",
      "xl_visual_session0002_00003759 {'true_positive': 5, 'false_positive': 6, 'false_negative': 0}\n",
      "xl_visual_session0002_00003786 {'true_positive': 4, 'false_positive': 6, 'false_negative': 0}\n",
      "xl_visual_session0002_00003789 {'true_positive': 5, 'false_positive': 6, 'false_negative': 0}\n",
      "xl_visual_session0002_00003792 {'true_positive': 4, 'false_positive': 7, 'false_negative': 0}\n",
      "xl_visual_session0002_00003811 {'true_positive': 4, 'false_positive': 7, 'false_negative': 1}\n",
      "xl_visual_session0002_00003821 {'true_positive': 7, 'false_positive': 5, 'false_negative': 0}\n",
      "xl_visual_session0002_00003830 {'true_positive': 5, 'false_positive': 7, 'false_negative': 0}\n",
      "xl_visual_session0002_00003833 {'true_positive': 6, 'false_positive': 4, 'false_negative': 1}\n",
      "xl_visual_session0003_00000006 {'true_positive': 7, 'false_positive': 13, 'false_negative': 4}\n",
      "xl_visual_session0003_00000026 {'true_positive': 8, 'false_positive': 12, 'false_negative': 4}\n",
      "xl_visual_session0003_00000030 {'true_positive': 8, 'false_positive': 11, 'false_negative': 3}\n",
      "xl_visual_session0003_00000088 {'true_positive': 9, 'false_positive': 9, 'false_negative': 2}\n",
      "xl_visual_session0003_00000102 {'true_positive': 10, 'false_positive': 5, 'false_negative': 0}\n",
      "xl_visual_session0003_00000107 {'true_positive': 8, 'false_positive': 8, 'false_negative': 2}\n",
      "xl_visual_session0003_00000117 {'true_positive': 9, 'false_positive': 8, 'false_negative': 0}\n",
      "xl_visual_session0003_00000173 {'true_positive': 9, 'false_positive': 8, 'false_negative': 4}\n",
      "xl_visual_session0003_00000208 {'true_positive': 8, 'false_positive': 7, 'false_negative': 3}\n",
      "xl_visual_session0003_00000213 {'true_positive': 8, 'false_positive': 4, 'false_negative': 0}\n",
      "xl_visual_session0003_00000228 {'true_positive': 8, 'false_positive': 8, 'false_negative': 2}\n",
      "xl_visual_session0003_00000238 {'true_positive': 6, 'false_positive': 11, 'false_negative': 2}\n",
      "xl_visual_session0003_00000248 {'true_positive': 7, 'false_positive': 9, 'false_negative': 0}\n",
      "xl_visual_session0003_00000258 {'true_positive': 8, 'false_positive': 9, 'false_negative': 0}\n",
      "xl_visual_session0003_00000268 {'true_positive': 6, 'false_positive': 11, 'false_negative': 2}\n",
      "xl_visual_session0003_00000331 {'true_positive': 6, 'false_positive': 7, 'false_negative': 2}\n",
      "xl_visual_session0003_00000335 {'true_positive': 7, 'false_positive': 4, 'false_negative': 1}\n",
      "xl_visual_session0003_00000359 {'true_positive': 6, 'false_positive': 2, 'false_negative': 0}\n",
      "xl_visual_session0003_00000373 {'true_positive': 5, 'false_positive': 0, 'false_negative': 0}\n",
      "xl_visual_session0003_00000387 {'true_positive': 5, 'false_positive': 1, 'false_negative': 0}\n",
      "xl_visual_session0003_00000400 {'true_positive': 4, 'false_positive': 2, 'false_negative': 0}\n",
      "xl_visual_session0003_00000417 {'true_positive': 2, 'false_positive': 6, 'false_negative': 1}\n",
      "xl_visual_session0003_00000431 {'true_positive': 1, 'false_positive': 7, 'false_negative': 3}\n",
      "xl_visual_session0003_00000434 {'true_positive': 3, 'false_positive': 5, 'false_negative': 1}\n",
      "xl_visual_session0003_00000458 {'true_positive': 6, 'false_positive': 4, 'false_negative': 1}\n",
      "xl_visual_session0003_00000467 {'true_positive': 4, 'false_positive': 5, 'false_negative': 1}\n",
      "xl_visual_session0003_00000479 {'true_positive': 5, 'false_positive': 9, 'false_negative': 1}\n",
      "xl_visual_session0003_00000512 {'true_positive': 3, 'false_positive': 0, 'false_negative': 0}\n",
      "xl_visual_session0003_00000519 {'true_positive': 3, 'false_positive': 1, 'false_negative': 0}\n",
      "xl_visual_session0003_00000526 {'true_positive': 3, 'false_positive': 0, 'false_negative': 0}\n",
      "xl_visual_session0003_00000568 {'true_positive': 7, 'false_positive': 6, 'false_negative': 0}\n",
      "xl_visual_session0003_00000575 {'true_positive': 5, 'false_positive': 1, 'false_negative': 0}\n",
      "xl_visual_session0003_00000622 {'true_positive': 8, 'false_positive': 4, 'false_negative': 0}\n",
      "xl_visual_session0003_00000628 {'true_positive': 8, 'false_positive': 4, 'false_negative': 1}\n",
      "xl_visual_session0003_00000635 {'true_positive': 7, 'false_positive': 5, 'false_negative': 1}\n",
      "xl_visual_session0003_00000642 {'true_positive': 6, 'false_positive': 1, 'false_negative': 1}\n",
      "xl_visual_session0003_00000663 {'true_positive': 4, 'false_positive': 1, 'false_negative': 0}\n",
      "xl_visual_session0003_00000684 {'true_positive': 1, 'false_positive': 0, 'false_negative': 0}\n",
      "xl_visual_session0003_00000764 {'true_positive': 7, 'false_positive': 5, 'false_negative': 1}\n",
      "xl_visual_session0003_00000810 {'true_positive': 11, 'false_positive': 2, 'false_negative': 0}\n",
      "xl_visual_session0003_00000828 {'true_positive': 10, 'false_positive': 4, 'false_negative': 0}\n",
      "xl_visual_session0003_00000841 {'true_positive': 12, 'false_positive': 1, 'false_negative': 0}\n",
      "xl_visual_session0003_00000886 {'true_positive': 11, 'false_positive': 2, 'false_negative': 0}\n",
      "xl_visual_session0003_00000891 {'true_positive': 10, 'false_positive': 2, 'false_negative': 0}\n",
      "xl_visual_session0003_00000902 {'true_positive': 8, 'false_positive': 8, 'false_negative': 1}\n",
      "xl_visual_session0003_00000966 {'true_positive': 9, 'false_positive': 7, 'false_negative': 1}\n",
      "xl_visual_session0003_00000976 {'true_positive': 10, 'false_positive': 5, 'false_negative': 1}\n",
      "xl_visual_session0003_00000995 {'true_positive': 11, 'false_positive': 5, 'false_negative': 0}\n",
      "xl_visual_session0003_00001014 {'true_positive': 10, 'false_positive': 1, 'false_negative': 0}\n",
      "xl_visual_session0003_00001020 {'true_positive': 10, 'false_positive': 1, 'false_negative': 0}\n",
      "xl_visual_session0003_00001078 {'true_positive': 10, 'false_positive': 1, 'false_negative': 0}\n",
      "xl_visual_session0003_00001123 {'true_positive': 5, 'false_positive': 1, 'false_negative': 1}\n",
      "xl_visual_session0003_00001127 {'true_positive': 4, 'false_positive': 2, 'false_negative': 1}\n",
      "xl_visual_session0003_00001151 {'true_positive': 5, 'false_positive': 2, 'false_negative': 0}\n",
      "xl_visual_session0003_00001213 {'true_positive': 6, 'false_positive': 10, 'false_negative': 1}\n",
      "xl_visual_session0003_00001249 {'true_positive': 4, 'false_positive': 9, 'false_negative': 2}\n",
      "xl_visual_session0003_00001258 {'true_positive': 7, 'false_positive': 10, 'false_negative': 2}\n",
      "xl_visual_session0003_00001262 {'true_positive': 6, 'false_positive': 8, 'false_negative': 4}\n",
      "xl_visual_session0003_00001330 {'true_positive': 7, 'false_positive': 8, 'false_negative': 1}\n",
      "xl_visual_session0003_00001348 {'true_positive': 6, 'false_positive': 6, 'false_negative': 2}\n",
      "xl_visual_session0003_00001358 {'true_positive': 4, 'false_positive': 9, 'false_negative': 3}\n",
      "xl_visual_session0003_00001361 {'true_positive': 5, 'false_positive': 8, 'false_negative': 2}\n",
      "xl_visual_session0003_00001371 {'true_positive': 7, 'false_positive': 5, 'false_negative': 2}\n",
      "xl_visual_session0003_00001413 {'true_positive': 10, 'false_positive': 6, 'false_negative': 0}\n",
      "xl_visual_session0003_00001436 {'true_positive': 4, 'false_positive': 11, 'false_negative': 6}\n",
      "xl_visual_session0003_00001439 {'true_positive': 7, 'false_positive': 10, 'false_negative': 3}\n",
      "xl_visual_session0003_00001449 {'true_positive': 5, 'false_positive': 18, 'false_negative': 1}\n",
      "xl_visual_session0003_00001452 {'true_positive': 7, 'false_positive': 5, 'false_negative': 0}\n",
      "xl_visual_session0003_00001458 {'true_positive': 7, 'false_positive': 8, 'false_negative': 0}\n",
      "xl_visual_session0003_00001467 {'true_positive': 6, 'false_positive': 5, 'false_negative': 2}\n",
      "xl_visual_session0003_00001472 {'true_positive': 7, 'false_positive': 9, 'false_negative': 3}\n",
      "xl_visual_session0003_00001489 {'true_positive': 6, 'false_positive': 5, 'false_negative': 0}\n",
      "xl_visual_session0003_00001491 {'true_positive': 7, 'false_positive': 4, 'false_negative': 1}\n",
      "xl_visual_session0003_00001496 {'true_positive': 4, 'false_positive': 9, 'false_negative': 2}\n",
      "xl_visual_session0003_00001498 {'true_positive': 5, 'false_positive': 4, 'false_negative': 0}\n",
      "xl_visual_session0003_00001517 {'true_positive': 5, 'false_positive': 5, 'false_negative': 1}\n",
      "xl_visual_session0003_00001533 {'true_positive': 6, 'false_positive': 3, 'false_negative': 3}\n",
      "xl_visual_session0003_00001535 {'true_positive': 5, 'false_positive': 3, 'false_negative': 2}\n",
      "xl_visual_session0003_00001552 {'true_positive': 6, 'false_positive': 6, 'false_negative': 2}\n",
      "xl_visual_session0003_00001558 {'true_positive': 4, 'false_positive': 8, 'false_negative': 3}\n",
      "xl_visual_session0003_00001615 {'true_positive': 1, 'false_positive': 8, 'false_negative': 0}\n",
      "xl_visual_session0003_00001650 {'true_positive': 4, 'false_positive': 3, 'false_negative': 2}\n",
      "xl_visual_session0003_00001678 {'true_positive': 3, 'false_positive': 0, 'false_negative': 0}\n",
      "xl_visual_session0003_00001707 {'true_positive': 7, 'false_positive': 1, 'false_negative': 0}\n",
      "xl_visual_session0003_00001727 {'true_positive': 7, 'false_positive': 2, 'false_negative': 0}\n",
      "xl_visual_session0003_00001731 {'true_positive': 7, 'false_positive': 1, 'false_negative': 1}\n",
      "xl_visual_session0003_00001760 {'true_positive': 8, 'false_positive': 7, 'false_negative': 2}\n",
      "xl_visual_session0003_00001764 {'true_positive': 9, 'false_positive': 4, 'false_negative': 0}\n",
      "xl_visual_session0003_00001774 {'true_positive': 7, 'false_positive': 9, 'false_negative': 3}\n",
      "xl_visual_session0003_00001779 {'true_positive': 8, 'false_positive': 11, 'false_negative': 3}\n",
      "xl_visual_session0003_00001788 {'true_positive': 11, 'false_positive': 9, 'false_negative': 0}\n",
      "xl_visual_session0003_00001792 {'true_positive': 7, 'false_positive': 12, 'false_negative': 1}\n",
      "xl_visual_session0003_00001811 {'true_positive': 8, 'false_positive': 10, 'false_negative': 1}\n",
      "xl_visual_session0003_00001828 {'true_positive': 9, 'false_positive': 5, 'false_negative': 0}\n",
      "xl_visual_session0003_00001846 {'true_positive': 9, 'false_positive': 6, 'false_negative': 0}\n",
      "xl_visual_session0003_00001868 {'true_positive': 3, 'false_positive': 11, 'false_negative': 4}\n",
      "xl_visual_session0003_00001890 {'true_positive': 7, 'false_positive': 8, 'false_negative': 0}\n",
      "xl_visual_session0003_00001899 {'true_positive': 9, 'false_positive': 7, 'false_negative': 0}\n",
      "xl_visual_session0003_00001904 {'true_positive': 8, 'false_positive': 6, 'false_negative': 0}\n",
      "xl_visual_session0003_00001917 {'true_positive': 10, 'false_positive': 7, 'false_negative': 1}\n",
      "xl_visual_session0003_00001944 {'true_positive': 8, 'false_positive': 8, 'false_negative': 1}\n",
      "xl_visual_session0003_00002009 {'true_positive': 10, 'false_positive': 17, 'false_negative': 3}\n",
      "xl_visual_session0003_00002037 {'true_positive': 13, 'false_positive': 13, 'false_negative': 1}\n",
      "xl_visual_session0003_00002064 {'true_positive': 12, 'false_positive': 20, 'false_negative': 4}\n",
      "xl_visual_session0003_00002079 {'true_positive': 9, 'false_positive': 23, 'false_negative': 2}\n",
      "xl_visual_session0003_00002097 {'true_positive': 8, 'false_positive': 19, 'false_negative': 3}\n",
      "xl_visual_session0003_00002121 {'true_positive': 11, 'false_positive': 19, 'false_negative': 3}\n"
     ]
    },
    {
     "name": "stdout",
     "output_type": "stream",
     "text": [
      "xl_visual_session0003_00002147 {'true_positive': 11, 'false_positive': 26, 'false_negative': 5}\n",
      "xl_visual_session0003_00002174 {'true_positive': 11, 'false_positive': 35, 'false_negative': 7}\n",
      "xl_visual_session0003_00002204 {'true_positive': 15, 'false_positive': 18, 'false_negative': 4}\n",
      "xl_visual_session0003_00002216 {'true_positive': 11, 'false_positive': 29, 'false_negative': 6}\n",
      "xl_visual_session0003_00002221 {'true_positive': 8, 'false_positive': 34, 'false_negative': 9}\n",
      "xl_visual_session0003_00002227 {'true_positive': 10, 'false_positive': 22, 'false_negative': 5}\n",
      "xl_visual_session0003_00002245 {'true_positive': 11, 'false_positive': 27, 'false_negative': 7}\n",
      "xl_visual_session0003_00002261 {'true_positive': 5, 'false_positive': 10, 'false_negative': 1}\n",
      "xl_visual_session0003_00002270 {'true_positive': 5, 'false_positive': 21, 'false_negative': 5}\n",
      "xl_visual_session0003_00002308 {'true_positive': 7, 'false_positive': 10, 'false_negative': 2}\n",
      "xl_visual_session0003_00002315 {'true_positive': 4, 'false_positive': 20, 'false_negative': 3}\n",
      "xl_visual_session0003_00002380 {'true_positive': 10, 'false_positive': 5, 'false_negative': 0}\n",
      "xl_visual_session0003_00002389 {'true_positive': 10, 'false_positive': 6, 'false_negative': 1}\n",
      "xl_visual_session0003_00002412 {'true_positive': 11, 'false_positive': 11, 'false_negative': 1}\n",
      "xl_visual_session0003_00002421 {'true_positive': 8, 'false_positive': 17, 'false_negative': 7}\n",
      "xl_visual_session0003_00002454 {'true_positive': 8, 'false_positive': 12, 'false_negative': 4}\n",
      "xl_visual_session0003_00002469 {'true_positive': 11, 'false_positive': 16, 'false_negative': 2}\n",
      "xl_visual_session0003_00002511 {'true_positive': 11, 'false_positive': 15, 'false_negative': 6}\n",
      "xl_visual_session0003_00002560 {'true_positive': 12, 'false_positive': 8, 'false_negative': 0}\n",
      "xl_visual_session0003_00002626 {'true_positive': 8, 'false_positive': 9, 'false_negative': 1}\n",
      "xl_visual_session0003_00002754 {'true_positive': 14, 'false_positive': 11, 'false_negative': 2}\n",
      "xl_visual_session0003_00002759 {'true_positive': 14, 'false_positive': 8, 'false_negative': 0}\n",
      "xl_visual_session0003_00002775 {'true_positive': 12, 'false_positive': 9, 'false_negative': 1}\n",
      "xl_visual_session0003_00002790 {'true_positive': 8, 'false_positive': 6, 'false_negative': 2}\n",
      "xl_visual_session0003_00002890 {'true_positive': 11, 'false_positive': 21, 'false_negative': 9}\n",
      "xl_visual_session0003_00002896 {'true_positive': 14, 'false_positive': 17, 'false_negative': 7}\n",
      "xl_visual_session0003_00002908 {'true_positive': 10, 'false_positive': 13, 'false_negative': 1}\n",
      "xl_visual_session0003_00002913 {'true_positive': 15, 'false_positive': 14, 'false_negative': 3}\n",
      "xl_visual_session0003_00002920 {'true_positive': 14, 'false_positive': 9, 'false_negative': 3}\n",
      "xl_visual_session0003_00002925 {'true_positive': 9, 'false_positive': 17, 'false_negative': 10}\n",
      "xl_visual_session0003_00002934 {'true_positive': 11, 'false_positive': 15, 'false_negative': 8}\n",
      "xl_visual_session0003_00002973 {'true_positive': 14, 'false_positive': 15, 'false_negative': 10}\n",
      "xl_visual_session0003_00003001 {'true_positive': 10, 'false_positive': 12, 'false_negative': 5}\n",
      "xl_visual_session0003_00003006 {'true_positive': 10, 'false_positive': 14, 'false_negative': 4}\n",
      "xl_visual_session0003_00003015 {'true_positive': 9, 'false_positive': 18, 'false_negative': 7}\n",
      "xl_visual_session0003_00003046 {'true_positive': 9, 'false_positive': 18, 'false_negative': 8}\n",
      "xl_visual_session0003_00003060 {'true_positive': 11, 'false_positive': 12, 'false_negative': 3}\n",
      "xl_visual_session0003_00003101 {'true_positive': 13, 'false_positive': 13, 'false_negative': 6}\n",
      "xl_visual_session0003_00003110 {'true_positive': 15, 'false_positive': 13, 'false_negative': 4}\n",
      "xl_visual_session0003_00003213 {'true_positive': 15, 'false_positive': 6, 'false_negative': 2}\n",
      "xl_visual_session0003_00003222 {'true_positive': 11, 'false_positive': 11, 'false_negative': 6}\n",
      "xl_visual_session0003_00003225 {'true_positive': 14, 'false_positive': 9, 'false_negative': 4}\n",
      "xl_visual_session0003_00003238 {'true_positive': 13, 'false_positive': 9, 'false_negative': 5}\n",
      "xl_visual_session0003_00003254 {'true_positive': 15, 'false_positive': 6, 'false_negative': 2}\n",
      "xl_visual_session0003_00003266 {'true_positive': 15, 'false_positive': 7, 'false_negative': 3}\n",
      "xl_visual_session0003_00003269 {'true_positive': 14, 'false_positive': 5, 'false_negative': 3}\n",
      "xl_visual_session0003_00003276 {'true_positive': 13, 'false_positive': 8, 'false_negative': 4}\n",
      "xl_visual_session0003_00003323 {'true_positive': 17, 'false_positive': 4, 'false_negative': 2}\n",
      "xl_visual_session0003_00003325 {'true_positive': 18, 'false_positive': 6, 'false_negative': 1}\n",
      "xl_visual_session0003_00003330 {'true_positive': 15, 'false_positive': 6, 'false_negative': 4}\n",
      "xl_visual_session0003_00003338 {'true_positive': 17, 'false_positive': 6, 'false_negative': 1}\n",
      "xl_visual_session0003_00003354 {'true_positive': 13, 'false_positive': 7, 'false_negative': 3}\n",
      "xl_visual_session0003_00003383 {'true_positive': 11, 'false_positive': 5, 'false_negative': 4}\n",
      "xl_visual_session0003_00003402 {'true_positive': 12, 'false_positive': 7, 'false_negative': 1}\n",
      "xl_visual_session0003_00003461 {'true_positive': 8, 'false_positive': 7, 'false_negative': 4}\n",
      "xl_visual_session0003_00003470 {'true_positive': 10, 'false_positive': 3, 'false_negative': 1}\n",
      "xl_visual_session0003_00003497 {'true_positive': 11, 'false_positive': 6, 'false_negative': 2}\n",
      "xl_visual_session0003_00003501 {'true_positive': 11, 'false_positive': 4, 'false_negative': 1}\n",
      "xl_visual_session0003_00003598 {'true_positive': 10, 'false_positive': 6, 'false_negative': 1}\n",
      "xl_visual_session0003_00003624 {'true_positive': 10, 'false_positive': 8, 'false_negative': 0}\n",
      "xl_visual_session0003_00003704 {'true_positive': 11, 'false_positive': 4, 'false_negative': 0}\n",
      "xl_visual_session0003_00003707 {'true_positive': 10, 'false_positive': 3, 'false_negative': 2}\n",
      "xl_visual_session0003_00003748 {'true_positive': 10, 'false_positive': 5, 'false_negative': 1}\n",
      "xl_visual_session0003_00003783 {'true_positive': 13, 'false_positive': 2, 'false_negative': 0}\n",
      "xl_visual_session0003_00003792 {'true_positive': 11, 'false_positive': 4, 'false_negative': 2}\n",
      "xl_visual_session0003_00003865 {'true_positive': 9, 'false_positive': 9, 'false_negative': 1}\n",
      "xl_visual_session0003_00003883 {'true_positive': 11, 'false_positive': 8, 'false_negative': 1}\n",
      "xl_visual_session0003_00003902 {'true_positive': 12, 'false_positive': 6, 'false_negative': 1}\n",
      "xl_visual_session0003_00003906 {'true_positive': 11, 'false_positive': 8, 'false_negative': 0}\n",
      "xl_visual_session0003_00003930 {'true_positive': 3, 'false_positive': 1, 'false_negative': 0}\n",
      "xl_visual_session0003_00003969 {'true_positive': 8, 'false_positive': 14, 'false_negative': 2}\n",
      "xl_visual_session0003_00004010 {'true_positive': 8, 'false_positive': 7, 'false_negative': 2}\n",
      "xl_visual_session0003_00004028 {'true_positive': 9, 'false_positive': 9, 'false_negative': 0}\n",
      "xl_visual_session0003_00004037 {'true_positive': 7, 'false_positive': 7, 'false_negative': 4}\n",
      "xl_visual_session0003_00004071 {'true_positive': 9, 'false_positive': 4, 'false_negative': 0}\n",
      "xl_visual_session0003_00004089 {'true_positive': 8, 'false_positive': 16, 'false_negative': 3}\n",
      "xl_visual_session0003_00004092 {'true_positive': 10, 'false_positive': 6, 'false_negative': 2}\n",
      "xl_visual_session0003_00004099 {'true_positive': 9, 'false_positive': 6, 'false_negative': 0}\n",
      "xl_visual_session0003_00004108 {'true_positive': 9, 'false_positive': 11, 'false_negative': 1}\n",
      "xl_visual_session0003_00004135 {'true_positive': 9, 'false_positive': 5, 'false_negative': 2}\n",
      "xl_visual_session0003_00004140 {'true_positive': 9, 'false_positive': 6, 'false_negative': 1}\n",
      "xl_visual_session0003_00004144 {'true_positive': 9, 'false_positive': 5, 'false_negative': 1}\n",
      "xl_visual_session0003_00004180 {'true_positive': 8, 'false_positive': 9, 'false_negative': 1}\n",
      "xl_visual_session0003_00004200 {'true_positive': 8, 'false_positive': 10, 'false_negative': 1}\n",
      "xl_visual_session0003_00004215 {'true_positive': 9, 'false_positive': 10, 'false_negative': 1}\n",
      "xl_visual_session0003_00004265 {'true_positive': 8, 'false_positive': 13, 'false_negative': 2}\n",
      "xl_visual_session0003_00004302 {'true_positive': 10, 'false_positive': 13, 'false_negative': 5}\n",
      "xl_visual_session0003_00004315 {'true_positive': 11, 'false_positive': 9, 'false_negative': 7}\n",
      "xl_visual_session0003_00004334 {'true_positive': 13, 'false_positive': 12, 'false_negative': 1}\n",
      "xl_visual_session0003_00004338 {'true_positive': 11, 'false_positive': 12, 'false_negative': 7}\n",
      "xl_visual_session0003_00004344 {'true_positive': 7, 'false_positive': 14, 'false_negative': 8}\n",
      "xl_visual_session0003_00004347 {'true_positive': 11, 'false_positive': 11, 'false_negative': 2}\n",
      "xl_visual_session0003_00004350 {'true_positive': 14, 'false_positive': 9, 'false_negative': 0}\n",
      "xl_visual_session0003_00004375 {'true_positive': 16, 'false_positive': 8, 'false_negative': 1}\n"
     ]
    },
    {
     "name": "stdout",
     "output_type": "stream",
     "text": [
      "xl_visual_session0003_00004387 {'true_positive': 11, 'false_positive': 11, 'false_negative': 3}\n",
      "xl_visual_session0003_00004427 {'true_positive': 10, 'false_positive': 14, 'false_negative': 2}\n",
      "xl_visual_session0003_00004498 {'true_positive': 10, 'false_positive': 3, 'false_negative': 1}\n",
      "xl_visual_session0003_00004507 {'true_positive': 11, 'false_positive': 6, 'false_negative': 1}\n",
      "xl_visual_session0003_00004542 {'true_positive': 9, 'false_positive': 11, 'false_negative': 1}\n",
      "xl_visual_session0003_00004562 {'true_positive': 9, 'false_positive': 9, 'false_negative': 3}\n",
      "xl_visual_session0003_00004599 {'true_positive': 9, 'false_positive': 4, 'false_negative': 2}\n",
      "xl_visual_session0003_00004631 {'true_positive': 9, 'false_positive': 13, 'false_negative': 2}\n",
      "xl_visual_session0003_00004640 {'true_positive': 12, 'false_positive': 10, 'false_negative': 0}\n",
      "xl_visual_session0003_00004655 {'true_positive': 9, 'false_positive': 8, 'false_negative': 1}\n",
      "xl_visual_session0003_00004669 {'true_positive': 13, 'false_positive': 9, 'false_negative': 4}\n",
      "xl_visual_session0003_00004744 {'true_positive': 7, 'false_positive': 16, 'false_negative': 3}\n",
      "xl_visual_session0003_00004763 {'true_positive': 11, 'false_positive': 8, 'false_negative': 2}\n",
      "xl_visual_session0003_00004771 {'true_positive': 8, 'false_positive': 8, 'false_negative': 2}\n",
      "xl_visual_session0003_00004784 {'true_positive': 10, 'false_positive': 5, 'false_negative': 3}\n",
      "xl_visual_session0003_00004820 {'true_positive': 10, 'false_positive': 8, 'false_negative': 3}\n",
      "xl_visual_session0003_00004827 {'true_positive': 13, 'false_positive': 7, 'false_negative': 3}\n",
      "xl_visual_session0003_00004848 {'true_positive': 11, 'false_positive': 6, 'false_negative': 2}\n",
      "xl_visual_session0003_00004852 {'true_positive': 13, 'false_positive': 2, 'false_negative': 1}\n",
      "xl_visual_session0003_00004897 {'true_positive': 10, 'false_positive': 4, 'false_negative': 2}\n",
      "xl_visual_session0003_00004901 {'true_positive': 10, 'false_positive': 5, 'false_negative': 1}\n",
      "xl_visual_session0003_00004911 {'true_positive': 11, 'false_positive': 4, 'false_negative': 0}\n",
      "xl_visual_session0003_00004922 {'true_positive': 10, 'false_positive': 5, 'false_negative': 0}\n",
      "xl_visual_session0003_00004929 {'true_positive': 8, 'false_positive': 6, 'false_negative': 1}\n",
      "xl_visual_session0003_00004936 {'true_positive': 8, 'false_positive': 12, 'false_negative': 3}\n",
      "xl_visual_session0003_00004955 {'true_positive': 10, 'false_positive': 9, 'false_negative': 2}\n",
      "xl_visual_session0003_00004967 {'true_positive': 8, 'false_positive': 4, 'false_negative': 2}\n",
      "xl_visual_session0003_00004973 {'true_positive': 10, 'false_positive': 9, 'false_negative': 0}\n",
      "xl_visual_session0003_00004981 {'true_positive': 8, 'false_positive': 6, 'false_negative': 3}\n",
      "xl_visual_session0003_00004983 {'true_positive': 8, 'false_positive': 8, 'false_negative': 3}\n",
      "xl_visual_session0003_00004986 {'true_positive': 8, 'false_positive': 8, 'false_negative': 0}\n",
      "xl_visual_session0003_00004988 {'true_positive': 9, 'false_positive': 5, 'false_negative': 0}\n",
      "xl_visual_session0003_00004995 {'true_positive': 10, 'false_positive': 7, 'false_negative': 0}\n",
      "xl_visual_session0003_00005007 {'true_positive': 8, 'false_positive': 8, 'false_negative': 2}\n",
      "xl_visual_session0003_00005016 {'true_positive': 8, 'false_positive': 13, 'false_negative': 1}\n",
      "xl_visual_session0003_00005022 {'true_positive': 8, 'false_positive': 16, 'false_negative': 3}\n",
      "xl_visual_session0003_00005049 {'true_positive': 8, 'false_positive': 9, 'false_negative': 2}\n",
      "xl_visual_session0003_00005063 {'true_positive': 9, 'false_positive': 5, 'false_negative': 1}\n",
      "xl_visual_session0003_00005084 {'true_positive': 7, 'false_positive': 9, 'false_negative': 3}\n",
      "xl_visual_session0003_00005091 {'true_positive': 10, 'false_positive': 7, 'false_negative': 1}\n",
      "xl_visual_session0003_00005098 {'true_positive': 8, 'false_positive': 10, 'false_negative': 2}\n",
      "xl_visual_session0003_00005132 {'true_positive': 7, 'false_positive': 2, 'false_negative': 0}\n",
      "xl_visual_session0003_00005148 {'true_positive': 8, 'false_positive': 4, 'false_negative': 0}\n",
      "xl_visual_session0003_00005157 {'true_positive': 7, 'false_positive': 8, 'false_negative': 1}\n",
      "xl_visual_session0003_00005164 {'true_positive': 7, 'false_positive': 8, 'false_negative': 2}\n",
      "xl_visual_session0003_00005176 {'true_positive': 7, 'false_positive': 5, 'false_negative': 0}\n",
      "xl_visual_session0003_00005193 {'true_positive': 7, 'false_positive': 7, 'false_negative': 1}\n",
      "xl_visual_session0003_00005196 {'true_positive': 8, 'false_positive': 5, 'false_negative': 0}\n",
      "xl_visual_session0003_00005216 {'true_positive': 7, 'false_positive': 7, 'false_negative': 0}\n",
      "xl_visual_session0003_00005348 {'true_positive': 11, 'false_positive': 9, 'false_negative': 0}\n",
      "xl_visual_session0003_00005353 {'true_positive': 10, 'false_positive': 8, 'false_negative': 0}\n",
      "xl_visual_session0003_00005372 {'true_positive': 10, 'false_positive': 6, 'false_negative': 1}\n",
      "xl_visual_session0003_00005391 {'true_positive': 8, 'false_positive': 6, 'false_negative': 0}\n",
      "xl_visual_session0003_00005395 {'true_positive': 7, 'false_positive': 9, 'false_negative': 1}\n",
      "xl_visual_session0003_00005427 {'true_positive': 11, 'false_positive': 11, 'false_negative': 1}\n",
      "xl_visual_session0003_00005444 {'true_positive': 12, 'false_positive': 9, 'false_negative': 3}\n",
      "xl_visual_session0003_00005468 {'true_positive': 9, 'false_positive': 6, 'false_negative': 1}\n",
      "xl_visual_session0003_00005484 {'true_positive': 8, 'false_positive': 7, 'false_negative': 0}\n",
      "xl_visual_session0003_00005501 {'true_positive': 10, 'false_positive': 6, 'false_negative': 3}\n",
      "xl_visual_session0003_00005507 {'true_positive': 10, 'false_positive': 3, 'false_negative': 0}\n",
      "xl_visual_session0003_00005517 {'true_positive': 11, 'false_positive': 5, 'false_negative': 0}\n",
      "xl_visual_session0003_00005549 {'true_positive': 10, 'false_positive': 9, 'false_negative': 1}\n",
      "xl_visual_session0003_00005553 {'true_positive': 13, 'false_positive': 10, 'false_negative': 0}\n",
      "xl_visual_session0003_00005607 {'true_positive': 10, 'false_positive': 7, 'false_negative': 1}\n",
      "xl_visual_session0003_00005618 {'true_positive': 11, 'false_positive': 6, 'false_negative': 0}\n",
      "xl_visual_session0003_00005633 {'true_positive': 11, 'false_positive': 7, 'false_negative': 2}\n",
      "xl_visual_session0003_00005683 {'true_positive': 10, 'false_positive': 6, 'false_negative': 2}\n",
      "xl_visual_session0003_00005698 {'true_positive': 11, 'false_positive': 8, 'false_negative': 1}\n",
      "xl_visual_session0003_00006518 {'true_positive': 0, 'false_positive': 0, 'false_negative': 0}\n",
      "xl_visual_session0003_00006542 {'true_positive': 1, 'false_positive': 0, 'false_negative': 0}\n",
      "xl_visual_session0003_00006570 {'true_positive': 1, 'false_positive': 0, 'false_negative': 0}\n",
      "xl_visual_session0003_00006577 {'true_positive': 1, 'false_positive': 0, 'false_negative': 0}\n",
      "xl_visual_session0003_00006612 {'true_positive': 1, 'false_positive': 0, 'false_negative': 0}\n",
      "xl_visual_session0003_00006654 {'true_positive': 1, 'false_positive': 0, 'false_negative': 0}\n",
      "xl_visual_session0003_00006665 {'true_positive': 1, 'false_positive': 0, 'false_negative': 0}\n",
      "xl_visual_session0003_00006672 {'true_positive': 1, 'false_positive': 0, 'false_negative': 0}\n",
      "xl_visual_session0003_00006700 {'true_positive': 1, 'false_positive': 0, 'false_negative': 0}\n",
      "xl_visual_session0003_00006735 {'true_positive': 1, 'false_positive': 0, 'false_negative': 0}\n",
      "xl_visual_session0003_00006738 {'true_positive': 1, 'false_positive': 0, 'false_negative': 0}\n",
      "xl_visual_session0003_00006794 {'true_positive': 1, 'false_positive': 0, 'false_negative': 0}\n",
      "xl_visual_session0003_00006819 {'true_positive': 1, 'false_positive': 0, 'false_negative': 0}\n",
      "xl_visual_session0003_00006833 {'true_positive': 1, 'false_positive': 0, 'false_negative': 0}\n",
      "xl_visual_session0003_00006850 {'true_positive': 1, 'false_positive': 0, 'false_negative': 0}\n",
      "xl_visual_session0003_00006854 {'true_positive': 1, 'false_positive': 0, 'false_negative': 0}\n",
      "xl_visual_session0003_00006861 {'true_positive': 1, 'false_positive': 0, 'false_negative': 0}\n",
      "xl_visual_session0003_00006868 {'true_positive': 1, 'false_positive': 0, 'false_negative': 0}\n",
      "xl_visual_session0003_00006885 {'true_positive': 1, 'false_positive': 0, 'false_negative': 0}\n",
      "xl_visual_session0003_00006906 {'true_positive': 1, 'false_positive': 0, 'false_negative': 0}\n",
      "xl_visual_session0003_00006932 {'true_positive': 1, 'false_positive': 0, 'false_negative': 0}\n",
      "xl_visual_session0003_00006936 {'true_positive': 1, 'false_positive': 0, 'false_negative': 0}\n",
      "xl_visual_session0003_00006943 {'true_positive': 1, 'false_positive': 0, 'false_negative': 0}\n",
      "xl_visual_session0003_00006971 {'true_positive': 1, 'false_positive': 0, 'false_negative': 0}\n",
      "xl_visual_session0003_00006982 {'true_positive': 1, 'false_positive': 0, 'false_negative': 0}\n",
      "xl_visual_session0003_00006999 {'true_positive': 1, 'false_positive': 0, 'false_negative': 0}\n",
      "xl_visual_session0003_00007009 {'true_positive': 1, 'false_positive': 0, 'false_negative': 0}\n",
      "xl_visual_session0003_00007016 {'true_positive': 1, 'false_positive': 0, 'false_negative': 0}\n",
      "xl_visual_session0003_00007027 {'true_positive': 1, 'false_positive': 0, 'false_negative': 0}\n",
      "xl_visual_session0003_00007114 {'true_positive': 1, 'false_positive': 0, 'false_negative': 0}\n",
      "xl_visual_session0003_00007117 {'true_positive': 1, 'false_positive': 0, 'false_negative': 0}\n",
      "xl_visual_session0003_00007129 {'true_positive': 2, 'false_positive': 0, 'false_negative': 0}\n",
      "xl_visual_session0003_00007160 {'true_positive': 2, 'false_positive': 0, 'false_negative': 0}\n",
      "xl_visual_session0003_00007171 {'true_positive': 2, 'false_positive': 0, 'false_negative': 0}\n",
      "xl_visual_session0003_00007178 {'true_positive': 2, 'false_positive': 0, 'false_negative': 0}\n",
      "xl_visual_session0003_00007181 {'true_positive': 2, 'false_positive': 0, 'false_negative': 0}\n",
      "xl_visual_session0003_00007204 {'true_positive': 2, 'false_positive': 0, 'false_negative': 0}\n",
      "xl_visual_session0003_00007235 {'true_positive': 2, 'false_positive': 0, 'false_negative': 0}\n",
      "xl_visual_session0003_00007239 {'true_positive': 2, 'false_positive': 0, 'false_negative': 0}\n",
      "xl_visual_session0003_00007253 {'true_positive': 2, 'false_positive': 0, 'false_negative': 0}\n",
      "xl_visual_session0003_00007257 {'true_positive': 2, 'false_positive': 0, 'false_negative': 0}\n",
      "xl_visual_session0003_00007302 {'true_positive': 1, 'false_positive': 1, 'false_negative': 0}\n",
      "xl_visual_session0003_00007317 {'true_positive': 1, 'false_positive': 1, 'false_negative': 0}\n",
      "xl_visual_session0003_00007321 {'true_positive': 1, 'false_positive': 0, 'false_negative': 0}\n",
      "xl_visual_session0003_00007330 {'true_positive': 1, 'false_positive': 0, 'false_negative': 0}\n",
      "xl_visual_session0003_00007358 {'true_positive': 1, 'false_positive': 0, 'false_negative': 0}\n",
      "xl_visual_session0003_00007419 {'true_positive': 2, 'false_positive': 1, 'false_negative': 0}\n",
      "xl_visual_session0003_00007441 {'true_positive': 2, 'false_positive': 1, 'false_negative': 0}\n",
      "xl_visual_session0003_00007450 {'true_positive': 2, 'false_positive': 0, 'false_negative': 0}\n",
      "xl_visual_session0003_00007465 {'true_positive': 2, 'false_positive': 0, 'false_negative': 0}\n",
      "xl_visual_session0003_00007469 {'true_positive': 2, 'false_positive': 0, 'false_negative': 0}\n",
      "xl_visual_session0004_00000272 {'true_positive': 2, 'false_positive': 1, 'false_negative': 0}\n",
      "xl_visual_session0004_00000274 {'true_positive': 2, 'false_positive': 1, 'false_negative': 0}\n",
      "xl_visual_session0004_00000283 {'true_positive': 2, 'false_positive': 0, 'false_negative': 0}\n",
      "xl_visual_session0004_00000288 {'true_positive': 2, 'false_positive': 0, 'false_negative': 0}\n",
      "xl_visual_session0004_00000293 {'true_positive': 2, 'false_positive': 0, 'false_negative': 0}\n",
      "xl_visual_session0004_00000296 {'true_positive': 2, 'false_positive': 0, 'false_negative': 0}\n",
      "xl_visual_session0004_00000297 {'true_positive': 2, 'false_positive': 0, 'false_negative': 0}\n",
      "xl_visual_session0004_00000300 {'true_positive': 2, 'false_positive': 0, 'false_negative': 0}\n",
      "xl_visual_session0004_00000304 {'true_positive': 2, 'false_positive': 0, 'false_negative': 0}\n",
      "xl_visual_session0004_00000306 {'true_positive': 2, 'false_positive': 0, 'false_negative': 0}\n",
      "xl_visual_session0004_00000311 {'true_positive': 2, 'false_positive': 0, 'false_negative': 0}\n",
      "xl_visual_session0004_00000316 {'true_positive': 2, 'false_positive': 0, 'false_negative': 0}\n",
      "xl_visual_session0004_00000507 {'true_positive': 2, 'false_positive': 0, 'false_negative': 0}\n",
      "xl_visual_session0004_00000512 {'true_positive': 2, 'false_positive': 0, 'false_negative': 0}\n",
      "xl_visual_session0004_00000514 {'true_positive': 2, 'false_positive': 0, 'false_negative': 0}\n",
      "xl_visual_session0004_00000517 {'true_positive': 2, 'false_positive': 0, 'false_negative': 0}\n",
      "xl_visual_session0004_00000532 {'true_positive': 1, 'false_positive': 1, 'false_negative': 1}\n",
      "xl_visual_session0004_00000535 {'true_positive': 2, 'false_positive': 0, 'false_negative': 0}\n",
      "xl_visual_session0004_00000538 {'true_positive': 2, 'false_positive': 0, 'false_negative': 0}\n",
      "xl_visual_session0004_00000546 {'true_positive': 2, 'false_positive': 1, 'false_negative': 0}\n",
      "xl_visual_session0004_00000554 {'true_positive': 2, 'false_positive': 0, 'false_negative': 0}\n",
      "xl_visual_session0004_00000776 {'true_positive': 4, 'false_positive': 1, 'false_negative': 0}\n",
      "xl_visual_session0004_00000787 {'true_positive': 4, 'false_positive': 1, 'false_negative': 0}\n",
      "xl_visual_session0004_00000794 {'true_positive': 2, 'false_positive': 3, 'false_negative': 2}\n",
      "xl_visual_session0004_00000800 {'true_positive': 3, 'false_positive': 4, 'false_negative': 1}\n",
      "xl_visual_session0004_00000809 {'true_positive': 3, 'false_positive': 3, 'false_negative': 0}\n",
      "xl_visual_session0004_00000811 {'true_positive': 3, 'false_positive': 3, 'false_negative': 0}\n",
      "xl_visual_session0004_00000812 {'true_positive': 3, 'false_positive': 1, 'false_negative': 0}\n",
      "xl_visual_session0004_00000825 {'true_positive': 5, 'false_positive': 0, 'false_negative': 0}\n",
      "xl_visual_session0004_00000832 {'true_positive': 2, 'false_positive': 2, 'false_negative': 0}\n",
      "xl_visual_session0004_00000836 {'true_positive': 4, 'false_positive': 1, 'false_negative': 0}\n",
      "xl_visual_session0004_00000843 {'true_positive': 3, 'false_positive': 1, 'false_negative': 0}\n",
      "xl_visual_session0004_00000986 {'true_positive': 1, 'false_positive': 0, 'false_negative': 0}\n",
      "xl_visual_session0004_00001002 {'true_positive': 1, 'false_positive': 0, 'false_negative': 0}\n",
      "xl_visual_session0004_00001003 {'true_positive': 1, 'false_positive': 0, 'false_negative': 0}\n",
      "xl_visual_session0004_00001006 {'true_positive': 1, 'false_positive': 0, 'false_negative': 0}\n",
      "xl_visual_session0004_00001007 {'true_positive': 1, 'false_positive': 0, 'false_negative': 0}\n",
      "xl_visual_session0004_00001009 {'true_positive': 1, 'false_positive': 1, 'false_negative': 0}\n",
      "xl_visual_session0004_00001014 {'true_positive': 1, 'false_positive': 0, 'false_negative': 0}\n",
      "xl_visual_session0004_00001024 {'true_positive': 1, 'false_positive': 0, 'false_negative': 0}\n",
      "xl_visual_session0004_00001029 {'true_positive': 1, 'false_positive': 0, 'false_negative': 0}\n",
      "xl_visual_session0004_00001036 {'true_positive': 1, 'false_positive': 0, 'false_negative': 0}\n",
      "xl_visual_session0004_00001040 {'true_positive': 1, 'false_positive': 0, 'false_negative': 0}\n",
      "xl_visual_session0004_00001042 {'true_positive': 1, 'false_positive': 0, 'false_negative': 0}\n",
      "xl_visual_session0004_00001043 {'true_positive': 1, 'false_positive': 0, 'false_negative': 0}\n",
      "xl_visual_session0004_00001332 {'true_positive': 4, 'false_positive': 2, 'false_negative': 0}\n",
      "xl_visual_session0004_00001337 {'true_positive': 5, 'false_positive': 1, 'false_negative': 0}\n",
      "xl_visual_session0004_00001340 {'true_positive': 4, 'false_positive': 1, 'false_negative': 0}\n",
      "xl_visual_session0004_00001346 {'true_positive': 5, 'false_positive': 1, 'false_negative': 0}\n",
      "xl_visual_session0004_00001347 {'true_positive': 5, 'false_positive': 3, 'false_negative': 1}\n",
      "xl_visual_session0004_00001350 {'true_positive': 5, 'false_positive': 3, 'false_negative': 0}\n",
      "xl_visual_session0004_00001353 {'true_positive': 5, 'false_positive': 1, 'false_negative': 0}\n",
      "xl_visual_session0004_00001360 {'true_positive': 4, 'false_positive': 0, 'false_negative': 0}\n",
      "xl_visual_session0004_00001366 {'true_positive': 5, 'false_positive': 3, 'false_negative': 1}\n",
      "xl_visual_session0004_00001386 {'true_positive': 3, 'false_positive': 9, 'false_negative': 2}\n",
      "xl_visual_session0004_00001391 {'true_positive': 3, 'false_positive': 5, 'false_negative': 2}\n",
      "xl_visual_session0004_00001392 {'true_positive': 5, 'false_positive': 5, 'false_negative': 0}\n",
      "xl_visual_session0004_00001397 {'true_positive': 4, 'false_positive': 5, 'false_negative': 2}\n",
      "xl_visual_session0004_00001399 {'true_positive': 6, 'false_positive': 4, 'false_negative': 0}\n",
      "xl_visual_session0004_00001402 {'true_positive': 6, 'false_positive': 2, 'false_negative': 0}\n",
      "xl_visual_session0004_00001403 {'true_positive': 7, 'false_positive': 4, 'false_negative': 1}\n",
      "xl_visual_session0004_00001407 {'true_positive': 6, 'false_positive': 4, 'false_negative': 1}\n",
      "xl_visual_session0004_00001421 {'true_positive': 5, 'false_positive': 0, 'false_negative': 0}\n",
      "xl_visual_session0004_00001425 {'true_positive': 4, 'false_positive': 4, 'false_negative': 0}\n",
      "xl_visual_session0004_00001426 {'true_positive': 4, 'false_positive': 1, 'false_negative': 0}\n",
      "xl_visual_session0004_00001427 {'true_positive': 4, 'false_positive': 1, 'false_negative': 0}\n",
      "xl_visual_session0004_00001511 {'true_positive': 3, 'false_positive': 1, 'false_negative': 0}\n",
      "xl_visual_session0004_00001524 {'true_positive': 4, 'false_positive': 1, 'false_negative': 0}\n",
      "xl_visual_session0004_00001525 {'true_positive': 4, 'false_positive': 2, 'false_negative': 0}\n",
      "xl_visual_session0004_00001536 {'true_positive': 5, 'false_positive': 1, 'false_negative': 0}\n",
      "xl_visual_session0004_00001544 {'true_positive': 5, 'false_positive': 1, 'false_negative': 0}\n",
      "xl_visual_session0004_00001553 {'true_positive': 3, 'false_positive': 4, 'false_negative': 1}\n",
      "xl_visual_session0004_00001560 {'true_positive': 2, 'false_positive': 1, 'false_negative': 0}\n",
      "xl_visual_session0004_00001563 {'true_positive': 2, 'false_positive': 0, 'false_negative': 0}\n",
      "xl_visual_session0004_00001568 {'true_positive': 1, 'false_positive': 0, 'false_negative': 0}\n",
      "xl_visual_session0004_00001569 {'true_positive': 1, 'false_positive': 0, 'false_negative': 0}\n",
      "xl_visual_session0004_00001949 {'true_positive': 2, 'false_positive': 3, 'false_negative': 0}\n",
      "xl_visual_session0004_00001957 {'true_positive': 4, 'false_positive': 1, 'false_negative': 0}\n",
      "xl_visual_session0004_00001959 {'true_positive': 4, 'false_positive': 1, 'false_negative': 0}\n",
      "xl_visual_session0004_00001965 {'true_positive': 4, 'false_positive': 0, 'false_negative': 0}\n",
      "xl_visual_session0004_00001968 {'true_positive': 4, 'false_positive': 0, 'false_negative': 0}\n",
      "xl_visual_session0004_00001985 {'true_positive': 4, 'false_positive': 2, 'false_negative': 0}\n",
      "xl_visual_session0004_00001990 {'true_positive': 3, 'false_positive': 1, 'false_negative': 0}\n",
      "xl_visual_session0004_00001994 {'true_positive': 4, 'false_positive': 1, 'false_negative': 0}\n",
      "xl_visual_session0004_00001995 {'true_positive': 4, 'false_positive': 0, 'false_negative': 0}\n",
      "xl_visual_session0004_00001999 {'true_positive': 4, 'false_positive': 4, 'false_negative': 0}\n",
      "xl_visual_session0004_00002001 {'true_positive': 4, 'false_positive': 3, 'false_negative': 0}\n",
      "xl_visual_session0004_00002004 {'true_positive': 4, 'false_positive': 2, 'false_negative': 0}\n",
      "xl_visual_session0004_00002006 {'true_positive': 4, 'false_positive': 2, 'false_negative': 0}\n",
      "xl_visual_session0004_00002010 {'true_positive': 3, 'false_positive': 2, 'false_negative': 0}\n",
      "xl_visual_session0004_00002014 {'true_positive': 3, 'false_positive': 3, 'false_negative': 0}\n",
      "xl_visual_session0004_00002027 {'true_positive': 2, 'false_positive': 0, 'false_negative': 0}\n",
      "xl_visual_session0004_00002030 {'true_positive': 2, 'false_positive': 0, 'false_negative': 0}\n",
      "xl_visual_session0004_00002034 {'true_positive': 2, 'false_positive': 1, 'false_negative': 0}\n",
      "xl_visual_session0004_00002037 {'true_positive': 2, 'false_positive': 2, 'false_negative': 0}\n",
      "xl_visual_session0004_00002041 {'true_positive': 2, 'false_positive': 0, 'false_negative': 0}\n",
      "xl_visual_session0004_00002044 {'true_positive': 2, 'false_positive': 0, 'false_negative': 0}\n",
      "xl_visual_session0004_00002045 {'true_positive': 2, 'false_positive': 0, 'false_negative': 0}\n",
      "xl_visual_session0004_00002049 {'true_positive': 3, 'false_positive': 1, 'false_negative': 0}\n",
      "xl_visual_session0004_00002052 {'true_positive': 2, 'false_positive': 0, 'false_negative': 0}\n",
      "xl_visual_session0004_00002054 {'true_positive': 2, 'false_positive': 0, 'false_negative': 0}\n",
      "xl_visual_session0004_00002056 {'true_positive': 3, 'false_positive': 0, 'false_negative': 0}\n",
      "xl_visual_session0004_00002057 {'true_positive': 2, 'false_positive': 1, 'false_negative': 0}\n",
      "xl_visual_session0004_00002059 {'true_positive': 2, 'false_positive': 0, 'false_negative': 0}\n",
      "xl_visual_session0004_00002063 {'true_positive': 1, 'false_positive': 2, 'false_negative': 1}\n",
      "xl_visual_session0004_00002068 {'true_positive': 2, 'false_positive': 1, 'false_negative': 0}\n",
      "xl_visual_session0004_00002074 {'true_positive': 2, 'false_positive': 1, 'false_negative': 0}\n",
      "xl_visual_session0004_00002087 {'true_positive': 1, 'false_positive': 2, 'false_negative': 0}\n",
      "xl_visual_session0004_00002101 {'true_positive': 1, 'false_positive': 0, 'false_negative': 0}\n",
      "xl_visual_session0004_00002103 {'true_positive': 1, 'false_positive': 0, 'false_negative': 0}\n",
      "xl_visual_session0004_00002107 {'true_positive': 1, 'false_positive': 0, 'false_negative': 0}\n",
      "xl_visual_session0004_00003295 {'true_positive': 4, 'false_positive': 5, 'false_negative': 0}\n",
      "xl_visual_session0004_00003299 {'true_positive': 5, 'false_positive': 2, 'false_negative': 0}\n",
      "xl_visual_session0004_00003304 {'true_positive': 3, 'false_positive': 0, 'false_negative': 0}\n",
      "xl_visual_session0004_00003305 {'true_positive': 3, 'false_positive': 0, 'false_negative': 0}\n",
      "xl_visual_session0004_00003306 {'true_positive': 4, 'false_positive': 0, 'false_negative': 0}\n",
      "xl_visual_session0004_00003309 {'true_positive': 4, 'false_positive': 0, 'false_negative': 0}\n",
      "xl_visual_session0004_00003313 {'true_positive': 3, 'false_positive': 2, 'false_negative': 0}\n",
      "xl_visual_session0004_00003314 {'true_positive': 2, 'false_positive': 2, 'false_negative': 1}\n",
      "xl_visual_session0004_00003315 {'true_positive': 3, 'false_positive': 0, 'false_negative': 0}\n",
      "xl_visual_session0004_00003317 {'true_positive': 2, 'false_positive': 0, 'false_negative': 0}\n",
      "xl_visual_session0004_00003325 {'true_positive': 2, 'false_positive': 0, 'false_negative': 0}\n",
      "xl_visual_session0004_00003329 {'true_positive': 3, 'false_positive': 0, 'false_negative': 0}\n",
      "xl_visual_session0004_00003334 {'true_positive': 2, 'false_positive': 1, 'false_negative': 0}\n",
      "xl_visual_session0004_00003337 {'true_positive': 2, 'false_positive': 0, 'false_negative': 0}\n",
      "xl_visual_session0004_00003344 {'true_positive': 2, 'false_positive': 0, 'false_negative': 0}\n"
     ]
    },
    {
     "name": "stdout",
     "output_type": "stream",
     "text": [
      "xl_visual_session0004_00003348 {'true_positive': 2, 'false_positive': 0, 'false_negative': 0}\n",
      "xl_visual_session0004_00003350 {'true_positive': 2, 'false_positive': 0, 'false_negative': 0}\n",
      "xl_visual_session0004_00003351 {'true_positive': 2, 'false_positive': 0, 'false_negative': 0}\n",
      "xl_visual_session0004_00003358 {'true_positive': 2, 'false_positive': 0, 'false_negative': 0}\n",
      "xl_visual_session0004_00003373 {'true_positive': 2, 'false_positive': 0, 'false_negative': 0}\n",
      "xl_visual_session0004_00003376 {'true_positive': 2, 'false_positive': 0, 'false_negative': 0}\n",
      "xl_visual_session0004_00003379 {'true_positive': 2, 'false_positive': 0, 'false_negative': 0}\n",
      "xl_visual_session0005_00000131 {'true_positive': 7, 'false_positive': 4, 'false_negative': 0}\n",
      "xl_visual_session0005_00000133 {'true_positive': 7, 'false_positive': 6, 'false_negative': 0}\n",
      "xl_visual_session0005_00000148 {'true_positive': 7, 'false_positive': 1, 'false_negative': 0}\n",
      "xl_visual_session0005_00000150 {'true_positive': 6, 'false_positive': 3, 'false_negative': 1}\n",
      "xl_visual_session0005_00000152 {'true_positive': 8, 'false_positive': 3, 'false_negative': 0}\n",
      "xl_visual_session0005_00000160 {'true_positive': 7, 'false_positive': 1, 'false_negative': 0}\n",
      "xl_visual_session0005_00000162 {'true_positive': 6, 'false_positive': 4, 'false_negative': 1}\n",
      "xl_visual_session0005_00000168 {'true_positive': 6, 'false_positive': 2, 'false_negative': 0}\n",
      "xl_visual_session0005_00000175 {'true_positive': 4, 'false_positive': 5, 'false_negative': 0}\n",
      "xl_visual_session0005_00000193 {'true_positive': 6, 'false_positive': 1, 'false_negative': 0}\n",
      "xl_visual_session0005_00000195 {'true_positive': 6, 'false_positive': 3, 'false_negative': 1}\n",
      "xl_visual_session0005_00000201 {'true_positive': 6, 'false_positive': 4, 'false_negative': 0}\n",
      "xl_visual_session0005_00000250 {'true_positive': 8, 'false_positive': 5, 'false_negative': 1}\n",
      "xl_visual_session0005_00000256 {'true_positive': 7, 'false_positive': 6, 'false_negative': 1}\n",
      "xl_visual_session0005_00000264 {'true_positive': 8, 'false_positive': 1, 'false_negative': 0}\n",
      "xl_visual_session0005_00000291 {'true_positive': 8, 'false_positive': 3, 'false_negative': 0}\n",
      "xl_visual_session0005_00000297 {'true_positive': 6, 'false_positive': 2, 'false_negative': 1}\n",
      "xl_visual_session0005_00000317 {'true_positive': 6, 'false_positive': 5, 'false_negative': 0}\n",
      "xl_visual_session0005_00000321 {'true_positive': 6, 'false_positive': 4, 'false_negative': 0}\n",
      "xl_visual_session0005_00000327 {'true_positive': 6, 'false_positive': 5, 'false_negative': 0}\n",
      "xl_visual_session0005_00000346 {'true_positive': 9, 'false_positive': 7, 'false_negative': 0}\n",
      "xl_visual_session0005_00000354 {'true_positive': 8, 'false_positive': 5, 'false_negative': 1}\n",
      "xl_visual_session0005_00000362 {'true_positive': 8, 'false_positive': 5, 'false_negative': 1}\n",
      "xl_visual_session0005_00000379 {'true_positive': 8, 'false_positive': 4, 'false_negative': 1}\n",
      "xl_visual_session0005_00000381 {'true_positive': 8, 'false_positive': 6, 'false_negative': 0}\n",
      "xl_visual_session0005_00000397 {'true_positive': 6, 'false_positive': 6, 'false_negative': 2}\n",
      "xl_visual_session0005_00000411 {'true_positive': 7, 'false_positive': 4, 'false_negative': 2}\n",
      "xl_visual_session0005_00000425 {'true_positive': 9, 'false_positive': 1, 'false_negative': 0}\n",
      "xl_visual_session0005_00000449 {'true_positive': 6, 'false_positive': 6, 'false_negative': 0}\n",
      "xl_visual_session0005_00000451 {'true_positive': 5, 'false_positive': 6, 'false_negative': 0}\n",
      "xl_visual_session0005_00000453 {'true_positive': 4, 'false_positive': 6, 'false_negative': 1}\n",
      "xl_visual_session0005_00000457 {'true_positive': 4, 'false_positive': 4, 'false_negative': 0}\n",
      "xl_visual_session0005_00000469 {'true_positive': 5, 'false_positive': 6, 'false_negative': 0}\n",
      "xl_visual_session0005_00000477 {'true_positive': 5, 'false_positive': 5, 'false_negative': 0}\n",
      "xl_visual_session0005_00000489 {'true_positive': 3, 'false_positive': 5, 'false_negative': 0}\n",
      "xl_visual_session0005_00000493 {'true_positive': 6, 'false_positive': 1, 'false_negative': 0}\n",
      "xl_visual_session0005_00000505 {'true_positive': 7, 'false_positive': 4, 'false_negative': 0}\n",
      "xl_visual_session0005_00000630 {'true_positive': 8, 'false_positive': 10, 'false_negative': 2}\n",
      "xl_visual_session0005_00000647 {'true_positive': 8, 'false_positive': 15, 'false_negative': 2}\n",
      "xl_visual_session0005_00000649 {'true_positive': 5, 'false_positive': 18, 'false_negative': 2}\n",
      "xl_visual_session0005_00000655 {'true_positive': 7, 'false_positive': 12, 'false_negative': 3}\n",
      "xl_visual_session0005_00000688 {'true_positive': 10, 'false_positive': 13, 'false_negative': 1}\n",
      "xl_visual_session0005_00000690 {'true_positive': 11, 'false_positive': 11, 'false_negative': 2}\n",
      "xl_visual_session0005_00000692 {'true_positive': 9, 'false_positive': 15, 'false_negative': 1}\n",
      "xl_visual_session0005_00000694 {'true_positive': 9, 'false_positive': 12, 'false_negative': 1}\n",
      "xl_visual_session0005_00000698 {'true_positive': 12, 'false_positive': 9, 'false_negative': 0}\n",
      "xl_visual_session0005_00000717 {'true_positive': 10, 'false_positive': 8, 'false_negative': 2}\n",
      "xl_visual_session0005_00000766 {'true_positive': 6, 'false_positive': 6, 'false_negative': 3}\n",
      "xl_visual_session0005_00000774 {'true_positive': 6, 'false_positive': 7, 'false_negative': 2}\n",
      "xl_visual_session0005_00000780 {'true_positive': 7, 'false_positive': 7, 'false_negative': 2}\n",
      "xl_visual_session0005_00000800 {'true_positive': 8, 'false_positive': 3, 'false_negative': 0}\n",
      "xl_visual_session0005_00000820 {'true_positive': 8, 'false_positive': 2, 'false_negative': 1}\n",
      "xl_visual_session0005_00000824 {'true_positive': 7, 'false_positive': 3, 'false_negative': 0}\n",
      "xl_visual_session0005_00000838 {'true_positive': 7, 'false_positive': 6, 'false_negative': 0}\n",
      "xl_visual_session0005_00000845 {'true_positive': 7, 'false_positive': 3, 'false_negative': 0}\n",
      "xl_visual_session0005_00000857 {'true_positive': 5, 'false_positive': 4, 'false_negative': 0}\n",
      "xl_visual_session0005_00000863 {'true_positive': 6, 'false_positive': 1, 'false_negative': 0}\n",
      "xl_visual_session0005_00000869 {'true_positive': 4, 'false_positive': 4, 'false_negative': 1}\n",
      "xl_visual_session0005_00000884 {'true_positive': 4, 'false_positive': 5, 'false_negative': 2}\n",
      "xl_visual_session0005_00000886 {'true_positive': 5, 'false_positive': 2, 'false_negative': 1}\n",
      "xl_visual_session0005_00000888 {'true_positive': 5, 'false_positive': 4, 'false_negative': 0}\n",
      "xl_visual_session0005_00000894 {'true_positive': 7, 'false_positive': 3, 'false_negative': 0}\n",
      "xl_visual_session0005_00000900 {'true_positive': 7, 'false_positive': 3, 'false_negative': 0}\n",
      "xl_visual_session0005_00000904 {'true_positive': 7, 'false_positive': 2, 'false_negative': 0}\n",
      "xl_visual_session0005_00000920 {'true_positive': 6, 'false_positive': 2, 'false_negative': 0}\n",
      "xl_visual_session0005_00000928 {'true_positive': 6, 'false_positive': 1, 'false_negative': 0}\n",
      "xl_visual_session0005_00000934 {'true_positive': 5, 'false_positive': 5, 'false_negative': 1}\n",
      "xl_visual_session0005_00000957 {'true_positive': 4, 'false_positive': 2, 'false_negative': 0}\n",
      "xl_visual_session0005_00000965 {'true_positive': 5, 'false_positive': 1, 'false_negative': 0}\n",
      "xl_visual_session0005_00000969 {'true_positive': 5, 'false_positive': 1, 'false_negative': 0}\n",
      "xl_visual_session0005_00000977 {'true_positive': 6, 'false_positive': 0, 'false_negative': 0}\n",
      "xl_visual_session0005_00001013 {'true_positive': 7, 'false_positive': 2, 'false_negative': 0}\n",
      "xl_visual_session0005_00001029 {'true_positive': 4, 'false_positive': 1, 'false_negative': 0}\n",
      "xl_visual_session0005_00001033 {'true_positive': 4, 'false_positive': 2, 'false_negative': 0}\n",
      "xl_visual_session0005_00001045 {'true_positive': 4, 'false_positive': 5, 'false_negative': 1}\n",
      "xl_visual_session0005_00001049 {'true_positive': 3, 'false_positive': 1, 'false_negative': 0}\n",
      "xl_visual_session0005_00001055 {'true_positive': 4, 'false_positive': 4, 'false_negative': 0}\n",
      "xl_visual_session0005_00001057 {'true_positive': 2, 'false_positive': 4, 'false_negative': 1}\n",
      "xl_visual_session0005_00001061 {'true_positive': 2, 'false_positive': 5, 'false_negative': 1}\n",
      "xl_visual_session0005_00001063 {'true_positive': 3, 'false_positive': 2, 'false_negative': 1}\n",
      "xl_visual_session0005_00001069 {'true_positive': 3, 'false_positive': 3, 'false_negative': 1}\n",
      "xl_visual_session0005_00001081 {'true_positive': 3, 'false_positive': 0, 'false_negative': 0}\n",
      "xl_visual_session0005_00001280 {'true_positive': 4, 'false_positive': 0, 'false_negative': 0}\n",
      "xl_visual_session0005_00001290 {'true_positive': 2, 'false_positive': 1, 'false_negative': 2}\n",
      "xl_visual_session0005_00001294 {'true_positive': 3, 'false_positive': 2, 'false_negative': 1}\n",
      "xl_visual_session0005_00001298 {'true_positive': 4, 'false_positive': 0, 'false_negative': 0}\n",
      "xl_visual_session0005_00001322 {'true_positive': 4, 'false_positive': 0, 'false_negative': 0}\n",
      "xl_visual_session0005_00001328 {'true_positive': 4, 'false_positive': 0, 'false_negative': 0}\n",
      "xl_visual_session0005_00001336 {'true_positive': 5, 'false_positive': 1, 'false_negative': 0}\n",
      "xl_visual_session0005_00001338 {'true_positive': 5, 'false_positive': 0, 'false_negative': 0}\n",
      "xl_visual_session0005_00001350 {'true_positive': 4, 'false_positive': 0, 'false_negative': 0}\n",
      "xl_visual_session0005_00001354 {'true_positive': 3, 'false_positive': 1, 'false_negative': 1}\n",
      "xl_visual_session0005_00001358 {'true_positive': 4, 'false_positive': 0, 'false_negative': 0}\n",
      "xl_visual_session0005_00001374 {'true_positive': 3, 'false_positive': 2, 'false_negative': 2}\n",
      "xl_visual_session0005_00001384 {'true_positive': 3, 'false_positive': 3, 'false_negative': 1}\n",
      "xl_visual_session0005_00001392 {'true_positive': 4, 'false_positive': 1, 'false_negative': 0}\n",
      "xl_visual_session0005_00001398 {'true_positive': 5, 'false_positive': 4, 'false_negative': 1}\n",
      "xl_visual_session0005_00001400 {'true_positive': 4, 'false_positive': 2, 'false_negative': 0}\n",
      "xl_visual_session0005_00002644 {'true_positive': 4, 'false_positive': 3, 'false_negative': 0}\n",
      "xl_visual_session0005_00002646 {'true_positive': 6, 'false_positive': 3, 'false_negative': 0}\n",
      "xl_visual_session0005_00002652 {'true_positive': 6, 'false_positive': 6, 'false_negative': 0}\n",
      "xl_visual_session0005_00002658 {'true_positive': 4, 'false_positive': 1, 'false_negative': 1}\n",
      "xl_visual_session0005_00002674 {'true_positive': 4, 'false_positive': 3, 'false_negative': 0}\n",
      "xl_visual_session0005_00002678 {'true_positive': 4, 'false_positive': 3, 'false_negative': 0}\n",
      "xl_visual_session0005_00002680 {'true_positive': 4, 'false_positive': 1, 'false_negative': 0}\n",
      "xl_visual_session0005_00002682 {'true_positive': 6, 'false_positive': 1, 'false_negative': 1}\n",
      "xl_visual_session0005_00002684 {'true_positive': 6, 'false_positive': 0, 'false_negative': 0}\n",
      "xl_visual_session0005_00002690 {'true_positive': 5, 'false_positive': 0, 'false_negative': 0}\n",
      "xl_visual_session0005_00002698 {'true_positive': 4, 'false_positive': 5, 'false_negative': 1}\n",
      "xl_visual_session0005_00002710 {'true_positive': 5, 'false_positive': 2, 'false_negative': 1}\n",
      "xl_visual_session0005_00002712 {'true_positive': 5, 'false_positive': 3, 'false_negative': 2}\n",
      "xl_visual_session0005_00002714 {'true_positive': 5, 'false_positive': 7, 'false_negative': 1}\n",
      "xl_visual_session0005_00002733 {'true_positive': 4, 'false_positive': 4, 'false_negative': 0}\n",
      "xl_visual_session0005_00002735 {'true_positive': 5, 'false_positive': 1, 'false_negative': 0}\n",
      "xl_visual_session0005_00002737 {'true_positive': 5, 'false_positive': 1, 'false_negative': 0}\n",
      "xl_visual_session0005_00002745 {'true_positive': 5, 'false_positive': 0, 'false_negative': 0}\n",
      "xl_visual_session0005_00002765 {'true_positive': 6, 'false_positive': 0, 'false_negative': 0}\n",
      "xl_visual_session0005_00002772 {'true_positive': 5, 'false_positive': 1, 'false_negative': 0}\n",
      "xl_visual_session0005_00002774 {'true_positive': 5, 'false_positive': 0, 'false_negative': 0}\n",
      "xl_visual_session0005_00002800 {'true_positive': 6, 'false_positive': 0, 'false_negative': 0}\n",
      "xl_visual_session0005_00002813 {'true_positive': 4, 'false_positive': 3, 'false_negative': 1}\n",
      "xl_visual_session0005_00002815 {'true_positive': 5, 'false_positive': 0, 'false_negative': 0}\n",
      "xl_visual_session0005_00002819 {'true_positive': 5, 'false_positive': 2, 'false_negative': 0}\n",
      "xl_visual_session0005_00002821 {'true_positive': 5, 'false_positive': 0, 'false_negative': 0}\n",
      "xl_visual_session0005_00003322 {'true_positive': 6, 'false_positive': 6, 'false_negative': 0}\n",
      "xl_visual_session0005_00003365 {'true_positive': 10, 'false_positive': 7, 'false_negative': 0}\n",
      "xl_visual_session0005_00003380 {'true_positive': 11, 'false_positive': 4, 'false_negative': 1}\n",
      "xl_visual_session0005_00003382 {'true_positive': 12, 'false_positive': 6, 'false_negative': 0}\n",
      "xl_visual_session0005_00003384 {'true_positive': 11, 'false_positive': 4, 'false_negative': 0}\n",
      "xl_visual_session0005_00003386 {'true_positive': 11, 'false_positive': 3, 'false_negative': 0}\n",
      "xl_visual_session0005_00003391 {'true_positive': 9, 'false_positive': 7, 'false_negative': 1}\n",
      "xl_visual_session0005_00003409 {'true_positive': 13, 'false_positive': 5, 'false_negative': 0}\n",
      "xl_visual_session0005_00003413 {'true_positive': 11, 'false_positive': 11, 'false_negative': 3}\n",
      "xl_visual_session0005_00003427 {'true_positive': 10, 'false_positive': 8, 'false_negative': 0}\n",
      "xl_visual_session0005_00003443 {'true_positive': 8, 'false_positive': 5, 'false_negative': 2}\n",
      "xl_visual_session0005_00003454 {'true_positive': 9, 'false_positive': 2, 'false_negative': 0}\n",
      "xl_visual_session0005_00003456 {'true_positive': 8, 'false_positive': 4, 'false_negative': 1}\n",
      "xl_visual_session0005_00003458 {'true_positive': 9, 'false_positive': 2, 'false_negative': 0}\n",
      "xl_visual_session0005_00003494 {'true_positive': 5, 'false_positive': 3, 'false_negative': 0}\n",
      "xl_visual_session0005_00003506 {'true_positive': 7, 'false_positive': 0, 'false_negative': 0}\n",
      "xl_visual_session0005_00003518 {'true_positive': 6, 'false_positive': 2, 'false_negative': 1}\n",
      "xl_visual_session0005_00003535 {'true_positive': 6, 'false_positive': 5, 'false_negative': 0}\n",
      "xl_visual_session0005_00003545 {'true_positive': 6, 'false_positive': 10, 'false_negative': 4}\n",
      "xl_visual_session0005_00003557 {'true_positive': 9, 'false_positive': 4, 'false_negative': 0}\n",
      "xl_visual_session0005_00003563 {'true_positive': 8, 'false_positive': 3, 'false_negative': 1}\n",
      "xl_visual_session0005_00003569 {'true_positive': 8, 'false_positive': 6, 'false_negative': 0}\n",
      "xl_visual_session0005_00003578 {'true_positive': 10, 'false_positive': 2, 'false_negative': 0}\n",
      "xl_visual_session0005_00003619 {'true_positive': 8, 'false_positive': 4, 'false_negative': 1}\n",
      "xl_visual_session0005_00003621 {'true_positive': 8, 'false_positive': 2, 'false_negative': 0}\n",
      "xl_visual_session0005_00003631 {'true_positive': 8, 'false_positive': 4, 'false_negative': 1}\n",
      "xl_visual_session0005_00003658 {'true_positive': 8, 'false_positive': 7, 'false_negative': 2}\n",
      "xl_visual_session0005_00003667 {'true_positive': 8, 'false_positive': 5, 'false_negative': 4}\n",
      "xl_visual_session0005_00003674 {'true_positive': 8, 'false_positive': 3, 'false_negative': 0}\n",
      "xl_visual_session0005_00003680 {'true_positive': 8, 'false_positive': 4, 'false_negative': 0}\n",
      "xl_visual_session0005_00003686 {'true_positive': 9, 'false_positive': 3, 'false_negative': 0}\n",
      "xl_visual_session0005_00003690 {'true_positive': 7, 'false_positive': 4, 'false_negative': 2}\n",
      "xl_visual_session0005_00003692 {'true_positive': 10, 'false_positive': 1, 'false_negative': 0}\n",
      "xl_visual_session0005_00003745 {'true_positive': 9, 'false_positive': 5, 'false_negative': 1}\n",
      "xl_visual_session0005_00003751 {'true_positive': 7, 'false_positive': 4, 'false_negative': 2}\n",
      "xl_visual_session0005_00003753 {'true_positive': 8, 'false_positive': 5, 'false_negative': 1}\n",
      "xl_visual_session0005_00003757 {'true_positive': 8, 'false_positive': 1, 'false_negative': 0}\n",
      "xl_visual_session0005_00003774 {'true_positive': 8, 'false_positive': 4, 'false_negative': 0}\n",
      "xl_visual_session0005_00003786 {'true_positive': 8, 'false_positive': 1, 'false_negative': 0}\n",
      "xl_visual_session0005_00003798 {'true_positive': 7, 'false_positive': 5, 'false_negative': 0}\n",
      "xl_visual_session0005_00003816 {'true_positive': 6, 'false_positive': 2, 'false_negative': 1}\n",
      "xl_visual_session0005_00003820 {'true_positive': 6, 'false_positive': 5, 'false_negative': 1}\n",
      "xl_visual_session0005_00003826 {'true_positive': 8, 'false_positive': 1, 'false_negative': 0}\n",
      "xl_visual_session0005_00003830 {'true_positive': 9, 'false_positive': 0, 'false_negative': 0}\n",
      "xl_visual_session0005_00003833 {'true_positive': 8, 'false_positive': 3, 'false_negative': 0}\n",
      "xl_visual_session0005_00003837 {'true_positive': 8, 'false_positive': 2, 'false_negative': 2}\n",
      "xl_visual_session0005_00003877 {'true_positive': 8, 'false_positive': 1, 'false_negative': 1}\n",
      "xl_visual_session0005_00003885 {'true_positive': 10, 'false_positive': 4, 'false_negative': 0}\n",
      "xl_visual_session0005_00003905 {'true_positive': 8, 'false_positive': 6, 'false_negative': 0}\n",
      "xl_visual_session0005_00003940 {'true_positive': 10, 'false_positive': 2, 'false_negative': 1}\n",
      "xl_visual_session0005_00003946 {'true_positive': 7, 'false_positive': 4, 'false_negative': 0}\n",
      "xl_visual_session0005_00003969 {'true_positive': 8, 'false_positive': 4, 'false_negative': 2}\n",
      "xl_visual_session0005_00003973 {'true_positive': 8, 'false_positive': 2, 'false_negative': 0}\n",
      "xl_visual_session0005_00003979 {'true_positive': 6, 'false_positive': 8, 'false_negative': 1}\n",
      "xl_visual_session0005_00003981 {'true_positive': 8, 'false_positive': 5, 'false_negative': 0}\n",
      "xl_visual_session0005_00003983 {'true_positive': 6, 'false_positive': 5, 'false_negative': 1}\n",
      "xl_visual_session0005_00004006 {'true_positive': 9, 'false_positive': 2, 'false_negative': 0}\n",
      "xl_visual_session0005_00004016 {'true_positive': 7, 'false_positive': 3, 'false_negative': 2}\n",
      "xl_visual_session0005_00004020 {'true_positive': 8, 'false_positive': 3, 'false_negative': 1}\n",
      "xl_visual_session0005_00004030 {'true_positive': 7, 'false_positive': 3, 'false_negative': 3}\n",
      "xl_visual_session0005_00004039 {'true_positive': 7, 'false_positive': 3, 'false_negative': 1}\n",
      "xl_visual_session0005_00004049 {'true_positive': 10, 'false_positive': 3, 'false_negative': 0}\n",
      "xl_visual_session0005_00004079 {'true_positive': 8, 'false_positive': 3, 'false_negative': 1}\n",
      "xl_visual_session0005_00004081 {'true_positive': 10, 'false_positive': 1, 'false_negative': 0}\n",
      "xl_visual_session0005_00004104 {'true_positive': 6, 'false_positive': 7, 'false_negative': 1}\n",
      "xl_visual_session0005_00004118 {'true_positive': 6, 'false_positive': 3, 'false_negative': 0}\n"
     ]
    },
    {
     "name": "stdout",
     "output_type": "stream",
     "text": [
      "xl_visual_session0005_00004126 {'true_positive': 7, 'false_positive': 4, 'false_negative': 0}\n",
      "xl_visual_session0005_00004134 {'true_positive': 6, 'false_positive': 5, 'false_negative': 0}\n",
      "xl_visual_session0005_00004136 {'true_positive': 5, 'false_positive': 5, 'false_negative': 1}\n",
      "xl_visual_session0005_00004138 {'true_positive': 5, 'false_positive': 5, 'false_negative': 0}\n",
      "xl_visual_session0005_00004149 {'true_positive': 4, 'false_positive': 4, 'false_negative': 0}\n",
      "xl_visual_session0005_00004151 {'true_positive': 6, 'false_positive': 2, 'false_negative': 0}\n",
      "xl_visual_session0005_00004163 {'true_positive': 8, 'false_positive': 3, 'false_negative': 0}\n",
      "xl_visual_session0005_00004184 {'true_positive': 6, 'false_positive': 6, 'false_negative': 0}\n",
      "xl_visual_session0005_00004186 {'true_positive': 7, 'false_positive': 5, 'false_negative': 0}\n",
      "xl_visual_session0005_00004199 {'true_positive': 8, 'false_positive': 8, 'false_negative': 0}\n",
      "xl_visual_session0005_00004201 {'true_positive': 8, 'false_positive': 7, 'false_negative': 0}\n",
      "xl_visual_session0005_00004204 {'true_positive': 7, 'false_positive': 8, 'false_negative': 2}\n",
      "xl_visual_session0005_00004220 {'true_positive': 9, 'false_positive': 8, 'false_negative': 1}\n",
      "xl_visual_session0005_00004228 {'true_positive': 7, 'false_positive': 10, 'false_negative': 3}\n",
      "xl_visual_session0005_00004232 {'true_positive': 10, 'false_positive': 11, 'false_negative': 0}\n",
      "xl_visual_session0005_00004239 {'true_positive': 8, 'false_positive': 7, 'false_negative': 0}\n",
      "xl_visual_session0005_00004241 {'true_positive': 8, 'false_positive': 8, 'false_negative': 1}\n",
      "xl_visual_session0005_00004245 {'true_positive': 10, 'false_positive': 11, 'false_negative': 2}\n",
      "xl_visual_session0005_00004249 {'true_positive': 10, 'false_positive': 12, 'false_negative': 5}\n",
      "xl_visual_session0005_00004259 {'true_positive': 12, 'false_positive': 7, 'false_negative': 1}\n",
      "xl_visual_session0005_00004265 {'true_positive': 9, 'false_positive': 7, 'false_negative': 1}\n",
      "xl_visual_session0005_00004272 {'true_positive': 10, 'false_positive': 5, 'false_negative': 0}\n",
      "xl_visual_session0005_00004275 {'true_positive': 9, 'false_positive': 7, 'false_negative': 2}\n",
      "xl_visual_session0005_00004293 {'true_positive': 7, 'false_positive': 2, 'false_negative': 0}\n",
      "xl_visual_session0005_00004301 {'true_positive': 7, 'false_positive': 2, 'false_negative': 0}\n",
      "xl_visual_session0005_00004327 {'true_positive': 5, 'false_positive': 5, 'false_negative': 0}\n",
      "xl_visual_session0005_00004333 {'true_positive': 6, 'false_positive': 5, 'false_negative': 0}\n",
      "xl_visual_session0005_00004343 {'true_positive': 5, 'false_positive': 2, 'false_negative': 0}\n",
      "xl_visual_session0005_00005287 {'true_positive': 4, 'false_positive': 4, 'false_negative': 0}\n",
      "xl_visual_session0005_00005295 {'true_positive': 5, 'false_positive': 1, 'false_negative': 0}\n",
      "xl_visual_session0005_00005301 {'true_positive': 6, 'false_positive': 2, 'false_negative': 1}\n",
      "xl_visual_session0005_00005309 {'true_positive': 6, 'false_positive': 2, 'false_negative': 1}\n",
      "xl_visual_session0005_00005325 {'true_positive': 6, 'false_positive': 0, 'false_negative': 0}\n",
      "xl_visual_session0005_00005329 {'true_positive': 6, 'false_positive': 1, 'false_negative': 0}\n",
      "xl_visual_session0005_00005343 {'true_positive': 6, 'false_positive': 0, 'false_negative': 0}\n",
      "xl_visual_session0005_00005345 {'true_positive': 6, 'false_positive': 0, 'false_negative': 0}\n",
      "xl_visual_session0005_00005366 {'true_positive': 5, 'false_positive': 0, 'false_negative': 0}\n",
      "xl_visual_session0005_00005372 {'true_positive': 5, 'false_positive': 0, 'false_negative': 0}\n",
      "xl_visual_session0005_00005381 {'true_positive': 3, 'false_positive': 4, 'false_negative': 0}\n",
      "xl_visual_session0005_00005392 {'true_positive': 4, 'false_positive': 0, 'false_negative': 0}\n",
      "xl_visual_session0005_00005394 {'true_positive': 3, 'false_positive': 1, 'false_negative': 1}\n",
      "xl_visual_session0005_00005398 {'true_positive': 5, 'false_positive': 0, 'false_negative': 0}\n",
      "xl_visual_session0005_00005416 {'true_positive': 4, 'false_positive': 0, 'false_negative': 0}\n",
      "xl_visual_session0005_00005430 {'true_positive': 5, 'false_positive': 0, 'false_negative': 0}\n",
      "xl_visual_session0005_00005442 {'true_positive': 5, 'false_positive': 0, 'false_negative': 0}\n",
      "xl_visual_session0005_00005449 {'true_positive': 4, 'false_positive': 1, 'false_negative': 0}\n",
      "xl_visual_session0005_00005454 {'true_positive': 5, 'false_positive': 0, 'false_negative': 0}\n",
      "xl_visual_session0005_00005473 {'true_positive': 5, 'false_positive': 0, 'false_negative': 0}\n",
      "xl_visual_session0005_00005477 {'true_positive': 5, 'false_positive': 1, 'false_negative': 0}\n",
      "xl_visual_session0005_00005492 {'true_positive': 5, 'false_positive': 1, 'false_negative': 0}\n",
      "xl_visual_session0005_00005496 {'true_positive': 4, 'false_positive': 0, 'false_negative': 0}\n",
      "xl_visual_session0005_00005523 {'true_positive': 4, 'false_positive': 0, 'false_negative': 0}\n",
      "xl_visual_session0005_00005531 {'true_positive': 4, 'false_positive': 1, 'false_negative': 0}\n",
      "xl_visual_session0005_00005541 {'true_positive': 4, 'false_positive': 2, 'false_negative': 0}\n",
      "xl_visual_session0005_00005546 {'true_positive': 4, 'false_positive': 2, 'false_negative': 1}\n",
      "xl_visual_session0005_00005550 {'true_positive': 4, 'false_positive': 0, 'false_negative': 0}\n",
      "xl_visual_session0005_00005554 {'true_positive': 5, 'false_positive': 1, 'false_negative': 0}\n",
      "xl_visual_session0005_00005562 {'true_positive': 4, 'false_positive': 0, 'false_negative': 0}\n",
      "xl_visual_session0005_00005566 {'true_positive': 4, 'false_positive': 0, 'false_negative': 0}\n",
      "xl_visual_session0005_00005570 {'true_positive': 5, 'false_positive': 0, 'false_negative': 0}\n",
      "xl_visual_session0005_00005572 {'true_positive': 5, 'false_positive': 0, 'false_negative': 0}\n",
      "xl_visual_session0005_00005580 {'true_positive': 5, 'false_positive': 0, 'false_negative': 0}\n",
      "xl_visual_session0005_00005594 {'true_positive': 6, 'false_positive': 1, 'false_negative': 1}\n",
      "xl_visual_session0005_00005596 {'true_positive': 7, 'false_positive': 0, 'false_negative': 0}\n",
      "xl_visual_session0005_00005636 {'true_positive': 6, 'false_positive': 2, 'false_negative': 1}\n",
      "xl_visual_session0005_00005651 {'true_positive': 8, 'false_positive': 6, 'false_negative': 3}\n",
      "xl_visual_session0005_00005667 {'true_positive': 9, 'false_positive': 3, 'false_negative': 0}\n",
      "xl_visual_session0005_00005685 {'true_positive': 10, 'false_positive': 1, 'false_negative': 1}\n",
      "xl_visual_session0005_00005692 {'true_positive': 9, 'false_positive': 4, 'false_negative': 0}\n",
      "xl_visual_session0005_00005710 {'true_positive': 8, 'false_positive': 5, 'false_negative': 1}\n",
      "xl_visual_session0005_00005712 {'true_positive': 8, 'false_positive': 4, 'false_negative': 2}\n",
      "xl_visual_session0005_00005729 {'true_positive': 9, 'false_positive': 4, 'false_negative': 0}\n",
      "xl_visual_session0005_00005738 {'true_positive': 7, 'false_positive': 3, 'false_negative': 0}\n",
      "xl_visual_session0005_00005754 {'true_positive': 8, 'false_positive': 5, 'false_negative': 1}\n",
      "xl_visual_session0005_00005756 {'true_positive': 9, 'false_positive': 3, 'false_negative': 0}\n",
      "xl_visual_session0005_00005768 {'true_positive': 9, 'false_positive': 1, 'false_negative': 1}\n",
      "xl_visual_session0005_00005816 {'true_positive': 7, 'false_positive': 8, 'false_negative': 0}\n",
      "xl_visual_session0005_00005823 {'true_positive': 7, 'false_positive': 5, 'false_negative': 0}\n",
      "xl_visual_session0005_00005860 {'true_positive': 6, 'false_positive': 4, 'false_negative': 0}\n",
      "xl_visual_session0005_00005864 {'true_positive': 7, 'false_positive': 3, 'false_negative': 1}\n",
      "xl_visual_session0005_00005866 {'true_positive': 7, 'false_positive': 3, 'false_negative': 0}\n",
      "xl_visual_session0005_00005882 {'true_positive': 6, 'false_positive': 4, 'false_negative': 1}\n",
      "xl_visual_session0005_00005896 {'true_positive': 6, 'false_positive': 2, 'false_negative': 0}\n",
      "xl_visual_session0005_00005926 {'true_positive': 6, 'false_positive': 3, 'false_negative': 1}\n",
      "xl_visual_session0005_00005928 {'true_positive': 6, 'false_positive': 1, 'false_negative': 1}\n",
      "xl_visual_session0005_00005936 {'true_positive': 6, 'false_positive': 1, 'false_negative': 1}\n",
      "xl_visual_session0005_00005942 {'true_positive': 7, 'false_positive': 1, 'false_negative': 0}\n",
      "xl_visual_session0005_00005948 {'true_positive': 6, 'false_positive': 2, 'false_negative': 1}\n",
      "xl_visual_session0005_00005971 {'true_positive': 6, 'false_positive': 4, 'false_negative': 1}\n",
      "xl_visual_session0005_00005981 {'true_positive': 5, 'false_positive': 1, 'false_negative': 1}\n",
      "xl_visual_session0005_00005988 {'true_positive': 5, 'false_positive': 1, 'false_negative': 0}\n",
      "xl_visual_session0005_00005992 {'true_positive': 3, 'false_positive': 2, 'false_negative': 1}\n",
      "xl_visual_session0005_00005996 {'true_positive': 3, 'false_positive': 1, 'false_negative': 1}\n",
      "xl_visual_session0005_00006000 {'true_positive': 3, 'false_positive': 1, 'false_negative': 1}\n",
      "xl_visual_session0005_00006139 {'true_positive': 5, 'false_positive': 1, 'false_negative': 0}\n",
      "xl_visual_session0005_00006141 {'true_positive': 5, 'false_positive': 1, 'false_negative': 0}\n",
      "xl_visual_session0005_00006149 {'true_positive': 4, 'false_positive': 2, 'false_negative': 1}\n",
      "xl_visual_session0005_00006166 {'true_positive': 5, 'false_positive': 2, 'false_negative': 0}\n",
      "xl_visual_session0005_00006182 {'true_positive': 5, 'false_positive': 4, 'false_negative': 0}\n",
      "xl_visual_session0005_00006184 {'true_positive': 5, 'false_positive': 4, 'false_negative': 0}\n",
      "xl_visual_session0005_00006190 {'true_positive': 6, 'false_positive': 7, 'false_negative': 0}\n",
      "xl_visual_session0005_00006206 {'true_positive': 6, 'false_positive': 5, 'false_negative': 0}\n",
      "xl_visual_session0005_00006226 {'true_positive': 5, 'false_positive': 2, 'false_negative': 0}\n",
      "xl_visual_session0005_00006240 {'true_positive': 6, 'false_positive': 3, 'false_negative': 0}\n",
      "xl_visual_session0005_00006250 {'true_positive': 6, 'false_positive': 2, 'false_negative': 1}\n",
      "xl_visual_session0005_00006263 {'true_positive': 5, 'false_positive': 1, 'false_negative': 0}\n",
      "xl_visual_session0005_00006267 {'true_positive': 5, 'false_positive': 0, 'false_negative': 0}\n",
      "xl_visual_session0005_00006279 {'true_positive': 3, 'false_positive': 1, 'false_negative': 0}\n",
      "xl_visual_session0005_00006289 {'true_positive': 6, 'false_positive': 2, 'false_negative': 0}\n",
      "xl_visual_session0005_00006305 {'true_positive': 4, 'false_positive': 2, 'false_negative': 0}\n",
      "xl_visual_session0005_00006307 {'true_positive': 4, 'false_positive': 2, 'false_negative': 0}\n",
      "xl_visual_session0005_00006376 {'true_positive': 3, 'false_positive': 2, 'false_negative': 0}\n",
      "xl_visual_session0005_00006393 {'true_positive': 3, 'false_positive': 1, 'false_negative': 0}\n",
      "xl_visual_session0005_00006397 {'true_positive': 3, 'false_positive': 1, 'false_negative': 0}\n",
      "xl_visual_session0005_00006405 {'true_positive': 3, 'false_positive': 2, 'false_negative': 0}\n",
      "xl_visual_session0005_00006411 {'true_positive': 4, 'false_positive': 2, 'false_negative': 1}\n",
      "xl_visual_session0005_00006413 {'true_positive': 3, 'false_positive': 0, 'false_negative': 0}\n",
      "xl_visual_session0005_00006415 {'true_positive': 3, 'false_positive': 2, 'false_negative': 0}\n",
      "xl_visual_session0005_00006421 {'true_positive': 4, 'false_positive': 2, 'false_negative': 0}\n",
      "xl_visual_session0005_00006429 {'true_positive': 4, 'false_positive': 2, 'false_negative': 0}\n",
      "xl_visual_session0005_00006433 {'true_positive': 4, 'false_positive': 0, 'false_negative': 0}\n",
      "xl_visual_session0005_00007148 {'true_positive': 6, 'false_positive': 1, 'false_negative': 0}\n",
      "xl_visual_session0005_00007162 {'true_positive': 3, 'false_positive': 2, 'false_negative': 1}\n",
      "xl_visual_session0005_00007188 {'true_positive': 3, 'false_positive': 1, 'false_negative': 1}\n",
      "xl_visual_session0005_00007192 {'true_positive': 3, 'false_positive': 1, 'false_negative': 0}\n",
      "xl_visual_session0005_00007199 {'true_positive': 4, 'false_positive': 0, 'false_negative': 0}\n",
      "xl_visual_session0005_00007201 {'true_positive': 3, 'false_positive': 1, 'false_negative': 0}\n",
      "xl_visual_session0005_00007203 {'true_positive': 2, 'false_positive': 2, 'false_negative': 1}\n",
      "xl_visual_session0005_00007221 {'true_positive': 3, 'false_positive': 0, 'false_negative': 0}\n",
      "xl_visual_session0005_00007223 {'true_positive': 3, 'false_positive': 1, 'false_negative': 0}\n",
      "xl_visual_session0005_00007232 {'true_positive': 2, 'false_positive': 0, 'false_negative': 0}\n",
      "xl_visual_session0005_00007234 {'true_positive': 1, 'false_positive': 0, 'false_negative': 0}\n",
      "xl_visual_session0005_00007242 {'true_positive': 1, 'false_positive': 0, 'false_negative': 0}\n",
      "xl_visual_session0005_00007252 {'true_positive': 1, 'false_positive': 0, 'false_negative': 0}\n",
      "xl_visual_session0005_00007258 {'true_positive': 1, 'false_positive': 0, 'false_negative': 0}\n",
      "xl_visual_session0005_00007277 {'true_positive': 1, 'false_positive': 0, 'false_negative': 0}\n",
      "xl_visual_session0005_00007279 {'true_positive': 2, 'false_positive': 0, 'false_negative': 0}\n",
      "xl_visual_session0005_00007289 {'true_positive': 2, 'false_positive': 0, 'false_negative': 0}\n",
      "xl_visual_session0005_00007298 {'true_positive': 2, 'false_positive': 0, 'false_negative': 0}\n",
      "xl_visual_session0005_00007308 {'true_positive': 2, 'false_positive': 0, 'false_negative': 0}\n",
      "xl_visual_session0005_00007314 {'true_positive': 2, 'false_positive': 0, 'false_negative': 0}\n",
      "xl_visual_session0005_00008444 {'true_positive': 15, 'false_positive': 1, 'false_negative': 0}\n",
      "xl_visual_session0005_00008446 {'true_positive': 15, 'false_positive': 1, 'false_negative': 0}\n",
      "xl_visual_session0005_00008450 {'true_positive': 16, 'false_positive': 0, 'false_negative': 0}\n",
      "xl_visual_session0005_00008454 {'true_positive': 14, 'false_positive': 2, 'false_negative': 2}\n",
      "xl_visual_session0005_00008456 {'true_positive': 14, 'false_positive': 3, 'false_negative': 1}\n",
      "xl_visual_session0005_00008464 {'true_positive': 12, 'false_positive': 3, 'false_negative': 1}\n",
      "xl_visual_session0005_00008466 {'true_positive': 13, 'false_positive': 3, 'false_negative': 0}\n",
      "xl_visual_session0005_00008527 {'true_positive': 14, 'false_positive': 1, 'false_negative': 0}\n",
      "xl_visual_session0005_00008529 {'true_positive': 13, 'false_positive': 2, 'false_negative': 1}\n",
      "xl_visual_session0005_00008533 {'true_positive': 14, 'false_positive': 2, 'false_negative': 0}\n",
      "xl_visual_session0005_00008537 {'true_positive': 15, 'false_positive': 3, 'false_negative': 0}\n",
      "xl_visual_session0005_00008553 {'true_positive': 14, 'false_positive': 2, 'false_negative': 0}\n",
      "xl_visual_session0005_00008567 {'true_positive': 13, 'false_positive': 2, 'false_negative': 0}\n",
      "xl_visual_session0005_00008571 {'true_positive': 15, 'false_positive': 0, 'false_negative': 0}\n",
      "xl_visual_session0005_00008580 {'true_positive': 13, 'false_positive': 2, 'false_negative': 0}\n",
      "xl_visual_session0005_00008584 {'true_positive': 13, 'false_positive': 2, 'false_negative': 1}\n",
      "xl_visual_session0005_00008616 {'true_positive': 15, 'false_positive': 0, 'false_negative': 0}\n",
      "xl_visual_session0005_00008622 {'true_positive': 15, 'false_positive': 1, 'false_negative': 0}\n",
      "xl_visual_session0005_00008634 {'true_positive': 14, 'false_positive': 0, 'false_negative': 0}\n",
      "xl_visual_session0005_00008652 {'true_positive': 13, 'false_positive': 0, 'false_negative': 0}\n",
      "xl_visual_session0005_00008656 {'true_positive': 12, 'false_positive': 1, 'false_negative': 2}\n",
      "xl_visual_session0005_00008670 {'true_positive': 13, 'false_positive': 1, 'false_negative': 1}\n",
      "xl_visual_session0005_00008698 {'true_positive': 12, 'false_positive': 0, 'false_negative': 0}\n",
      "xl_visual_session0005_00008700 {'true_positive': 12, 'false_positive': 3, 'false_negative': 0}\n",
      "xl_visual_session0005_00008718 {'true_positive': 9, 'false_positive': 3, 'false_negative': 0}\n",
      "xl_visual_session0005_00008740 {'true_positive': 9, 'false_positive': 1, 'false_negative': 0}\n",
      "xl_visual_session0005_00008840 {'true_positive': 14, 'false_positive': 3, 'false_negative': 0}\n",
      "xl_visual_session0005_00008843 {'true_positive': 13, 'false_positive': 5, 'false_negative': 0}\n",
      "xl_visual_session0005_00008851 {'true_positive': 15, 'false_positive': 5, 'false_negative': 1}\n",
      "xl_visual_session0005_00008861 {'true_positive': 13, 'false_positive': 6, 'false_negative': 0}\n",
      "xl_visual_session0005_00008873 {'true_positive': 14, 'false_positive': 5, 'false_negative': 1}\n",
      "xl_visual_session0005_00008875 {'true_positive': 13, 'false_positive': 7, 'false_negative': 0}\n",
      "xl_visual_session0005_00008881 {'true_positive': 11, 'false_positive': 7, 'false_negative': 3}\n",
      "xl_visual_session0005_00008922 {'true_positive': 14, 'false_positive': 5, 'false_negative': 2}\n",
      "xl_visual_session0005_00008925 {'true_positive': 15, 'false_positive': 8, 'false_negative': 2}\n",
      "xl_visual_session0005_00008940 {'true_positive': 17, 'false_positive': 6, 'false_negative': 0}\n",
      "xl_visual_session0005_00008948 {'true_positive': 16, 'false_positive': 5, 'false_negative': 0}\n",
      "xl_visual_session0005_00008958 {'true_positive': 16, 'false_positive': 3, 'false_negative': 0}\n",
      "xl_visual_session0005_00008962 {'true_positive': 13, 'false_positive': 2, 'false_negative': 1}\n",
      "xl_visual_session0005_00008979 {'true_positive': 15, 'false_positive': 6, 'false_negative': 1}\n",
      "xl_visual_session0005_00008983 {'true_positive': 15, 'false_positive': 6, 'false_negative': 0}\n",
      "xl_visual_session0005_00009007 {'true_positive': 13, 'false_positive': 2, 'false_negative': 0}\n",
      "xl_visual_session0005_00009024 {'true_positive': 10, 'false_positive': 5, 'false_negative': 0}\n",
      "xl_visual_session0005_00009038 {'true_positive': 14, 'false_positive': 2, 'false_negative': 1}\n",
      "xl_visual_session0005_00009058 {'true_positive': 8, 'false_positive': 2, 'false_negative': 0}\n",
      "xl_visual_session0005_00009060 {'true_positive': 10, 'false_positive': 3, 'false_negative': 0}\n",
      "xl_visual_session0005_00009064 {'true_positive': 11, 'false_positive': 1, 'false_negative': 1}\n",
      "xl_visual_session0005_00009074 {'true_positive': 11, 'false_positive': 1, 'false_negative': 0}\n",
      "xl_visual_session0005_00009093 {'true_positive': 9, 'false_positive': 1, 'false_negative': 0}\n",
      "xl_visual_session0005_00009097 {'true_positive': 9, 'false_positive': 1, 'false_negative': 0}\n",
      "xl_visual_session0005_00009109 {'true_positive': 13, 'false_positive': 4, 'false_negative': 0}\n",
      "xl_visual_session0005_00009111 {'true_positive': 13, 'false_positive': 2, 'false_negative': 1}\n",
      "xl_visual_session0005_00009118 {'true_positive': 8, 'false_positive': 4, 'false_negative': 1}\n",
      "xl_visual_session0005_00009120 {'true_positive': 11, 'false_positive': 3, 'false_negative': 0}\n"
     ]
    },
    {
     "name": "stdout",
     "output_type": "stream",
     "text": [
      "xl_visual_session0005_00009122 {'true_positive': 10, 'false_positive': 3, 'false_negative': 0}\n",
      "xl_visual_session0005_00009126 {'true_positive': 10, 'false_positive': 2, 'false_negative': 0}\n",
      "xl_visual_session0005_00009132 {'true_positive': 7, 'false_positive': 4, 'false_negative': 1}\n",
      "xl_visual_session0005_00009138 {'true_positive': 10, 'false_positive': 1, 'false_negative': 0}\n",
      "xl_visual_session0005_00009144 {'true_positive': 12, 'false_positive': 3, 'false_negative': 0}\n",
      "xl_visual_session0005_00009146 {'true_positive': 11, 'false_positive': 2, 'false_negative': 0}\n",
      "xl_visual_session0005_00009151 {'true_positive': 10, 'false_positive': 4, 'false_negative': 1}\n",
      "xl_visual_session0005_00009165 {'true_positive': 13, 'false_positive': 4, 'false_negative': 0}\n",
      "xl_visual_session0005_00009175 {'true_positive': 11, 'false_positive': 0, 'false_negative': 0}\n",
      "xl_visual_session0005_00009184 {'true_positive': 12, 'false_positive': 0, 'false_negative': 0}\n",
      "xl_visual_session0005_00009192 {'true_positive': 10, 'false_positive': 5, 'false_negative': 3}\n",
      "xl_visual_session0005_00009202 {'true_positive': 7, 'false_positive': 4, 'false_negative': 0}\n",
      "xl_visual_session0005_00009216 {'true_positive': 9, 'false_positive': 0, 'false_negative': 0}\n",
      "xl_visual_session0005_00009218 {'true_positive': 10, 'false_positive': 0, 'false_negative': 0}\n",
      "xl_visual_session0005_00009220 {'true_positive': 10, 'false_positive': 0, 'false_negative': 0}\n",
      "xl_visual_session0005_00009232 {'true_positive': 10, 'false_positive': 4, 'false_negative': 1}\n",
      "xl_visual_session0005_00009236 {'true_positive': 10, 'false_positive': 3, 'false_negative': 1}\n",
      "xl_visual_session0005_00009242 {'true_positive': 8, 'false_positive': 7, 'false_negative': 4}\n",
      "xl_visual_session0005_00009254 {'true_positive': 10, 'false_positive': 2, 'false_negative': 0}\n",
      "xl_visual_session0005_00009270 {'true_positive': 10, 'false_positive': 2, 'false_negative': 0}\n",
      "xl_visual_session0005_00009272 {'true_positive': 10, 'false_positive': 4, 'false_negative': 0}\n",
      "xl_visual_session0005_00009276 {'true_positive': 9, 'false_positive': 3, 'false_negative': 1}\n",
      "xl_visual_session0005_00009286 {'true_positive': 10, 'false_positive': 1, 'false_negative': 0}\n",
      "xl_visual_session0005_00009296 {'true_positive': 8, 'false_positive': 5, 'false_negative': 2}\n",
      "xl_visual_session0005_00009304 {'true_positive': 8, 'false_positive': 4, 'false_negative': 2}\n",
      "xl_visual_session0005_00009313 {'true_positive': 10, 'false_positive': 2, 'false_negative': 0}\n",
      "xl_visual_session0005_00009327 {'true_positive': 9, 'false_positive': 2, 'false_negative': 1}\n",
      "xl_visual_session0005_00009331 {'true_positive': 11, 'false_positive': 0, 'false_negative': 0}\n",
      "xl_visual_session0005_00009349 {'true_positive': 8, 'false_positive': 2, 'false_negative': 1}\n",
      "xl_visual_session0005_00009351 {'true_positive': 9, 'false_positive': 1, 'false_negative': 0}\n",
      "xl_visual_session0005_00009353 {'true_positive': 9, 'false_positive': 4, 'false_negative': 0}\n",
      "xl_visual_session0005_00009371 {'true_positive': 9, 'false_positive': 1, 'false_negative': 1}\n",
      "xl_visual_session0005_00009380 {'true_positive': 10, 'false_positive': 6, 'false_negative': 1}\n",
      "xl_visual_session0005_00009385 {'true_positive': 7, 'false_positive': 2, 'false_negative': 0}\n",
      "xl_visual_session0005_00009401 {'true_positive': 8, 'false_positive': 0, 'false_negative': 0}\n",
      "xl_visual_session0005_00009403 {'true_positive': 8, 'false_positive': 0, 'false_negative': 0}\n",
      "xl_visual_session0005_00009405 {'true_positive': 8, 'false_positive': 2, 'false_negative': 0}\n",
      "xl_visual_session0005_00009416 {'true_positive': 10, 'false_positive': 5, 'false_negative': 0}\n",
      "xl_visual_session0005_00009428 {'true_positive': 7, 'false_positive': 4, 'false_negative': 2}\n",
      "xl_visual_session0005_00009438 {'true_positive': 7, 'false_positive': 4, 'false_negative': 0}\n",
      "xl_visual_session0005_00009461 {'true_positive': 6, 'false_positive': 0, 'false_negative': 0}\n",
      "xl_visual_session0005_00009469 {'true_positive': 6, 'false_positive': 0, 'false_negative': 0}\n",
      "xl_visual_session0005_00009481 {'true_positive': 6, 'false_positive': 1, 'false_negative': 0}\n",
      "xl_visual_session0005_00009489 {'true_positive': 5, 'false_positive': 1, 'false_negative': 0}\n",
      "xl_visual_session0005_00009497 {'true_positive': 6, 'false_positive': 0, 'false_negative': 0}\n",
      "xl_visual_session0005_00009533 {'true_positive': 5, 'false_positive': 0, 'false_negative': 0}\n",
      "xl_visual_session0005_00009563 {'true_positive': 4, 'false_positive': 1, 'false_negative': 0}\n",
      "xl_visual_session0005_00009587 {'true_positive': 7, 'false_positive': 1, 'false_negative': 0}\n",
      "xl_visual_session0005_00009595 {'true_positive': 7, 'false_positive': 1, 'false_negative': 0}\n",
      "xl_visual_session0005_00009605 {'true_positive': 7, 'false_positive': 1, 'false_negative': 0}\n",
      "xl_visual_session0005_00009609 {'true_positive': 7, 'false_positive': 0, 'false_negative': 0}\n",
      "xl_visual_session0005_00009628 {'true_positive': 6, 'false_positive': 0, 'false_negative': 0}\n",
      "xl_visual_session0005_00009636 {'true_positive': 5, 'false_positive': 4, 'false_negative': 1}\n",
      "xl_visual_session0005_00009656 {'true_positive': 7, 'false_positive': 3, 'false_negative': 0}\n",
      "xl_visual_session0005_00009662 {'true_positive': 7, 'false_positive': 3, 'false_negative': 0}\n",
      "xl_visual_session0005_00009843 {'true_positive': 5, 'false_positive': 0, 'false_negative': 0}\n",
      "xl_visual_session0005_00009861 {'true_positive': 4, 'false_positive': 2, 'false_negative': 0}\n",
      "xl_visual_session0005_00009867 {'true_positive': 5, 'false_positive': 0, 'false_negative': 0}\n",
      "xl_visual_session0005_00009879 {'true_positive': 5, 'false_positive': 0, 'false_negative': 0}\n",
      "xl_visual_session0005_00009889 {'true_positive': 5, 'false_positive': 0, 'false_negative': 0}\n",
      "xl_visual_session0005_00009892 {'true_positive': 4, 'false_positive': 0, 'false_negative': 0}\n",
      "xl_visual_session0005_00009900 {'true_positive': 2, 'false_positive': 0, 'false_negative': 0}\n",
      "xl_visual_session0005_00009912 {'true_positive': 3, 'false_positive': 4, 'false_negative': 1}\n",
      "xl_visual_session0005_00009919 {'true_positive': 2, 'false_positive': 7, 'false_negative': 1}\n",
      "xl_visual_session0005_00009927 {'true_positive': 3, 'false_positive': 12, 'false_negative': 4}\n",
      "xl_visual_session0005_00009939 {'true_positive': 5, 'false_positive': 5, 'false_negative': 2}\n",
      "xl_visual_session0005_00009945 {'true_positive': 6, 'false_positive': 3, 'false_negative': 0}\n",
      "xl_visual_session0005_00009957 {'true_positive': 2, 'false_positive': 1, 'false_negative': 2}\n",
      "xl_visual_session0005_00009963 {'true_positive': 2, 'false_positive': 1, 'false_negative': 0}\n",
      "xl_visual_session0005_00009965 {'true_positive': 3, 'false_positive': 0, 'false_negative': 0}\n",
      "xl_visual_session0005_00009975 {'true_positive': 5, 'false_positive': 1, 'false_negative': 0}\n",
      "xl_visual_session0005_00009988 {'true_positive': 8, 'false_positive': 5, 'false_negative': 1}\n",
      "xl_visual_session0005_00010006 {'true_positive': 11, 'false_positive': 8, 'false_negative': 2}\n",
      "xl_visual_session0005_00010038 {'true_positive': 18, 'false_positive': 9, 'false_negative': 0}\n",
      "xl_visual_session0005_00010076 {'true_positive': 9, 'false_positive': 11, 'false_negative': 1}\n",
      "xl_visual_session0005_00010084 {'true_positive': 11, 'false_positive': 5, 'false_negative': 1}\n",
      "xl_visual_session0005_00010281 {'true_positive': 10, 'false_positive': 5, 'false_negative': 1}\n",
      "xl_visual_session0005_00010288 {'true_positive': 10, 'false_positive': 6, 'false_negative': 1}\n",
      "xl_visual_session0005_00010293 {'true_positive': 10, 'false_positive': 2, 'false_negative': 0}\n",
      "xl_visual_session0005_00010303 {'true_positive': 7, 'false_positive': 2, 'false_negative': 1}\n",
      "xl_visual_session0005_00010307 {'true_positive': 6, 'false_positive': 4, 'false_negative': 1}\n",
      "xl_visual_session0005_00010309 {'true_positive': 7, 'false_positive': 2, 'false_negative': 1}\n",
      "xl_visual_session0005_00010330 {'true_positive': 9, 'false_positive': 1, 'false_negative': 0}\n",
      "xl_visual_session0005_00010352 {'true_positive': 10, 'false_positive': 2, 'false_negative': 1}\n",
      "xl_visual_session0005_00010357 {'true_positive': 9, 'false_positive': 5, 'false_negative': 0}\n",
      "xl_visual_session0005_00010370 {'true_positive': 12, 'false_positive': 6, 'false_negative': 0}\n",
      "xl_visual_session0005_00010374 {'true_positive': 11, 'false_positive': 5, 'false_negative': 0}\n",
      "xl_visual_session0005_00010376 {'true_positive': 11, 'false_positive': 7, 'false_negative': 0}\n",
      "xl_visual_session0005_00010394 {'true_positive': 12, 'false_positive': 4, 'false_negative': 1}\n",
      "xl_visual_session0005_00010408 {'true_positive': 12, 'false_positive': 3, 'false_negative': 0}\n",
      "xl_visual_session0005_00010430 {'true_positive': 7, 'false_positive': 11, 'false_negative': 2}\n",
      "xl_visual_session0005_00010436 {'true_positive': 10, 'false_positive': 11, 'false_negative': 1}\n",
      "xl_visual_session0005_00010442 {'true_positive': 11, 'false_positive': 5, 'false_negative': 0}\n",
      "xl_visual_session0005_00010444 {'true_positive': 10, 'false_positive': 4, 'false_negative': 0}\n",
      "xl_visual_session0005_00010446 {'true_positive': 10, 'false_positive': 7, 'false_negative': 2}\n",
      "xl_visual_session0005_00010448 {'true_positive': 12, 'false_positive': 3, 'false_negative': 1}\n",
      "xl_visual_session0005_00010450 {'true_positive': 13, 'false_positive': 3, 'false_negative': 1}\n",
      "xl_visual_session0005_00010452 {'true_positive': 13, 'false_positive': 1, 'false_negative': 0}\n",
      "xl_visual_session0005_00010456 {'true_positive': 13, 'false_positive': 2, 'false_negative': 0}\n",
      "xl_visual_session0005_00010480 {'true_positive': 11, 'false_positive': 7, 'false_negative': 2}\n",
      "xl_visual_session0005_00010486 {'true_positive': 12, 'false_positive': 7, 'false_negative': 1}\n",
      "xl_visual_session0005_00010488 {'true_positive': 12, 'false_positive': 7, 'false_negative': 2}\n",
      "xl_visual_session0005_00010500 {'true_positive': 15, 'false_positive': 6, 'false_negative': 0}\n",
      "xl_visual_session0005_00010508 {'true_positive': 14, 'false_positive': 6, 'false_negative': 2}\n",
      "xl_visual_session0005_00010526 {'true_positive': 14, 'false_positive': 10, 'false_negative': 2}\n",
      "xl_visual_session0005_00010532 {'true_positive': 14, 'false_positive': 9, 'false_negative': 2}\n",
      "xl_visual_session0005_00010538 {'true_positive': 16, 'false_positive': 7, 'false_negative': 0}\n",
      "xl_visual_session0005_00010544 {'true_positive': 12, 'false_positive': 12, 'false_negative': 2}\n",
      "xl_visual_session0005_00010550 {'true_positive': 13, 'false_positive': 9, 'false_negative': 3}\n",
      "xl_visual_session0005_00010563 {'true_positive': 14, 'false_positive': 5, 'false_negative': 1}\n",
      "xl_visual_session0005_00010575 {'true_positive': 12, 'false_positive': 6, 'false_negative': 1}\n",
      "xl_visual_session0005_00010801 {'true_positive': 7, 'false_positive': 7, 'false_negative': 0}\n",
      "xl_visual_session0005_00010807 {'true_positive': 8, 'false_positive': 2, 'false_negative': 0}\n",
      "xl_visual_session0005_00010815 {'true_positive': 11, 'false_positive': 3, 'false_negative': 0}\n",
      "xl_visual_session0005_00010823 {'true_positive': 9, 'false_positive': 9, 'false_negative': 1}\n",
      "xl_visual_session0005_00010835 {'true_positive': 10, 'false_positive': 3, 'false_negative': 1}\n",
      "xl_visual_session0005_00010844 {'true_positive': 8, 'false_positive': 5, 'false_negative': 2}\n",
      "xl_visual_session0005_00010848 {'true_positive': 8, 'false_positive': 8, 'false_negative': 2}\n",
      "xl_visual_session0005_00010859 {'true_positive': 9, 'false_positive': 5, 'false_negative': 0}\n",
      "xl_visual_session0005_00010871 {'true_positive': 8, 'false_positive': 8, 'false_negative': 2}\n",
      "xl_visual_session0005_00010873 {'true_positive': 8, 'false_positive': 3, 'false_negative': 0}\n",
      "xl_visual_session0005_00010875 {'true_positive': 9, 'false_positive': 2, 'false_negative': 0}\n",
      "xl_visual_session0005_00011512 {'true_positive': 11, 'false_positive': 5, 'false_negative': 0}\n",
      "xl_visual_session0005_00011514 {'true_positive': 9, 'false_positive': 7, 'false_negative': 2}\n",
      "xl_visual_session0005_00011526 {'true_positive': 10, 'false_positive': 5, 'false_negative': 1}\n",
      "xl_visual_session0005_00011538 {'true_positive': 9, 'false_positive': 4, 'false_negative': 1}\n",
      "xl_visual_session0005_00011543 {'true_positive': 9, 'false_positive': 5, 'false_negative': 2}\n",
      "xl_visual_session0005_00011557 {'true_positive': 10, 'false_positive': 2, 'false_negative': 0}\n",
      "xl_visual_session0005_00011564 {'true_positive': 10, 'false_positive': 2, 'false_negative': 0}\n",
      "xl_visual_session0005_00011579 {'true_positive': 7, 'false_positive': 4, 'false_negative': 2}\n",
      "xl_visual_session0005_00011586 {'true_positive': 9, 'false_positive': 3, 'false_negative': 2}\n",
      "xl_visual_session0005_00011609 {'true_positive': 7, 'false_positive': 11, 'false_negative': 0}\n",
      "xl_visual_session0005_00011625 {'true_positive': 9, 'false_positive': 10, 'false_negative': 3}\n",
      "xl_visual_session0005_00011636 {'true_positive': 7, 'false_positive': 11, 'false_negative': 3}\n",
      "xl_visual_session0005_00011638 {'true_positive': 9, 'false_positive': 6, 'false_negative': 1}\n",
      "xl_visual_session0005_00011640 {'true_positive': 11, 'false_positive': 5, 'false_negative': 0}\n",
      "xl_visual_session0005_00011647 {'true_positive': 10, 'false_positive': 5, 'false_negative': 2}\n",
      "xl_visual_session0005_00011651 {'true_positive': 10, 'false_positive': 3, 'false_negative': 0}\n",
      "xl_visual_session0005_00011655 {'true_positive': 9, 'false_positive': 5, 'false_negative': 2}\n",
      "xl_visual_session0005_00011662 {'true_positive': 10, 'false_positive': 4, 'false_negative': 0}\n",
      "xl_visual_session0005_00011674 {'true_positive': 8, 'false_positive': 4, 'false_negative': 1}\n",
      "xl_visual_session0005_00011677 {'true_positive': 9, 'false_positive': 2, 'false_negative': 0}\n",
      "xl_visual_session0005_00011679 {'true_positive': 8, 'false_positive': 3, 'false_negative': 0}\n",
      "xl_visual_session0005_00011688 {'true_positive': 6, 'false_positive': 3, 'false_negative': 0}\n",
      "xl_visual_session0005_00011692 {'true_positive': 8, 'false_positive': 2, 'false_negative': 1}\n",
      "xl_visual_session0005_00011697 {'true_positive': 7, 'false_positive': 4, 'false_negative': 1}\n",
      "xl_visual_session0005_00012956 {'true_positive': 9, 'false_positive': 6, 'false_negative': 1}\n",
      "xl_visual_session0005_00012975 {'true_positive': 9, 'false_positive': 7, 'false_negative': 0}\n",
      "xl_visual_session0005_00012983 {'true_positive': 9, 'false_positive': 7, 'false_negative': 1}\n",
      "xl_visual_session0005_00013007 {'true_positive': 11, 'false_positive': 6, 'false_negative': 1}\n",
      "xl_visual_session0005_00013017 {'true_positive': 11, 'false_positive': 1, 'false_negative': 0}\n",
      "xl_visual_session0005_00013034 {'true_positive': 11, 'false_positive': 1, 'false_negative': 1}\n",
      "xl_visual_session0005_00013049 {'true_positive': 11, 'false_positive': 2, 'false_negative': 0}\n",
      "xl_visual_session0005_00013062 {'true_positive': 11, 'false_positive': 9, 'false_negative': 2}\n",
      "xl_visual_session0005_00013075 {'true_positive': 10, 'false_positive': 5, 'false_negative': 2}\n",
      "xl_visual_session0005_00013084 {'true_positive': 9, 'false_positive': 5, 'false_negative': 1}\n",
      "xl_visual_session0005_00013130 {'true_positive': 11, 'false_positive': 2, 'false_negative': 0}\n",
      "xl_visual_session0005_00013144 {'true_positive': 9, 'false_positive': 9, 'false_negative': 2}\n",
      "xl_visual_session0005_00013152 {'true_positive': 10, 'false_positive': 4, 'false_negative': 1}\n",
      "xl_visual_session0005_00013157 {'true_positive': 11, 'false_positive': 3, 'false_negative': 1}\n",
      "xl_visual_session0005_00013165 {'true_positive': 8, 'false_positive': 8, 'false_negative': 1}\n",
      "xl_visual_session0005_00013177 {'true_positive': 11, 'false_positive': 4, 'false_negative': 1}\n",
      "xl_visual_session0005_00013191 {'true_positive': 10, 'false_positive': 3, 'false_negative': 2}\n",
      "xl_visual_session0005_00013198 {'true_positive': 11, 'false_positive': 4, 'false_negative': 2}\n",
      "xl_visual_session0005_00013236 {'true_positive': 10, 'false_positive': 8, 'false_negative': 2}\n",
      "xl_visual_session0005_00013238 {'true_positive': 12, 'false_positive': 5, 'false_negative': 1}\n",
      "xl_visual_session0005_00013249 {'true_positive': 9, 'false_positive': 7, 'false_negative': 1}\n",
      "xl_visual_session0005_00013270 {'true_positive': 7, 'false_positive': 4, 'false_negative': 3}\n",
      "xl_visual_session0005_00013283 {'true_positive': 12, 'false_positive': 5, 'false_negative': 1}\n",
      "xl_visual_session0005_00013286 {'true_positive': 12, 'false_positive': 3, 'false_negative': 1}\n",
      "xl_visual_session0005_00013309 {'true_positive': 13, 'false_positive': 6, 'false_negative': 0}\n",
      "xl_visual_session0005_00013343 {'true_positive': 9, 'false_positive': 2, 'false_negative': 0}\n",
      "xl_visual_session0005_00013353 {'true_positive': 8, 'false_positive': 10, 'false_negative': 4}\n",
      "xl_visual_session0005_00013356 {'true_positive': 11, 'false_positive': 1, 'false_negative': 0}\n",
      "xl_visual_session0005_00013375 {'true_positive': 9, 'false_positive': 6, 'false_negative': 1}\n",
      "xl_visual_session0005_00013401 {'true_positive': 5, 'false_positive': 7, 'false_negative': 3}\n",
      "xl_visual_session0005_00013413 {'true_positive': 9, 'false_positive': 3, 'false_negative': 0}\n",
      "xl_visual_session0005_00013449 {'true_positive': 8, 'false_positive': 2, 'false_negative': 1}\n",
      "xl_visual_session0005_00013457 {'true_positive': 6, 'false_positive': 2, 'false_negative': 1}\n",
      "xl_visual_session0005_00013483 {'true_positive': 6, 'false_positive': 4, 'false_negative': 0}\n",
      "6209 10058 1229\n"
     ]
    }
   ],
   "source": [
    "score_fp=[]\n",
    "score_tp=[]\n",
    "score_fn=[]\n",
    "\n",
    "for i in gt_boxes:\n",
    "    result = get_single_image_results(gt_boxes[i],pred_boxes[i],iou_thr=0.8)    \n",
    "    print(i,result)\n",
    "    score_fp.append(result['false_positive'])\n",
    "    score_tp.append(result['true_positive'])\n",
    "    score_fn.append(result['false_negative'])\n",
    "    \n",
    "total_score_fp = np.sum(score_fp)\n",
    "total_score_tp = np.sum(score_tp)\n",
    "total_score_fn = np.sum(score_fn)\n",
    "\n",
    "print(total_score_fp,total_score_tp,total_score_fn)"
   ]
  },
  {
   "cell_type": "code",
   "execution_count": 40,
   "metadata": {},
   "outputs": [],
   "source": [
    "path = \"C:/Users/nisha/MACS/Internship/Data/XL_CarPedDataset_INT_v2_train_val/val/Final prediction/\"\n",
    "for i in pred_boxes:    \n",
    "    labels_path = path+i+'.txt'\n",
    "    f = open(labels_path,\"w+\")\n",
    "    for pos,val in enumerate(pred_boxes[i]['boxes']):\n",
    "        f.write(\"%.2f,%.2f,%.2f,%.2f,%d\\r\"%(val[0],val[1],val[2],val[3],pred_boxes[i]['category'][pos]))\n",
    "    f.close()\n",
    "    "
   ]
  },
  {
   "cell_type": "code",
   "execution_count": 54,
   "metadata": {},
   "outputs": [
    {
     "data": {
      "text/plain": [
       "{'boxes': [[684.5831909179688,\n",
       "   65.04529571533203,\n",
       "   822.5634765625,\n",
       "   187.24476623535156],\n",
       "  [605.711181640625, 65.82211303710938, 675.2811279296875, 125.75077819824219],\n",
       "  [1243.05126953125, 72.28565979003906, 1304.94482421875, 205.37362670898438],\n",
       "  [349.32672119140625,\n",
       "   64.59368133544922,\n",
       "   457.11444091796875,\n",
       "   148.4347686767578],\n",
       "  [1081.0784912109375,\n",
       "   67.74000549316406,\n",
       "   1264.4202880859375,\n",
       "   145.73043823242188],\n",
       "  [885.7490844726562, 63.52130889892578, 939.023681640625, 106.81635284423828],\n",
       "  [935.269287109375,\n",
       "   66.01365661621094,\n",
       "   1001.1487426757812,\n",
       "   121.62299346923828],\n",
       "  [505.58984375, 64.0499267578125, 569.570068359375, 117.13196563720703],\n",
       "  [666.448974609375, 67.66883850097656, 709.5735473632812, 108.84821319580078],\n",
       "  [1250.51513671875, 139.509765625, 1304.4698486328125, 220.68055725097656],\n",
       "  [801.649658203125, 47.52809143066406, 824.4478149414062, 66.72103118896484],\n",
       "  [771.5206298828125,\n",
       "   51.849952697753906,\n",
       "   798.0000610351562,\n",
       "   70.49832916259766],\n",
       "  [1088.703369140625, 61.29581069946289, 1116.7109375, 100.43434143066406],\n",
       "  [712.006591796875, 51.61014938354492, 730.2843627929688, 67.11705780029297],\n",
       "  [830.1773071289062, 51.28262710571289, 859.262451171875, 76.61287689208984],\n",
       "  [730.0631713867188, 56.61146545410156, 772.8770141601562, 68.51685333251953],\n",
       "  [876.2374877929688, 52.13662338256836, 895.6550903320312, 83.0644302368164],\n",
       "  [419.67156982421875,\n",
       "   67.8054428100586,\n",
       "   459.53204345703125,\n",
       "   137.45144653320312],\n",
       "  [827.8543701171875,\n",
       "   56.32588577270508,\n",
       "   849.3151245117188,\n",
       "   77.53790283203125]],\n",
       " 'category': [4, 4, 1, 4, 4, 4, 4, 4, 4, 3, 4, 4, 1, 4, 4, 4, 1, 4, 4]}"
      ]
     },
     "execution_count": 54,
     "metadata": {},
     "output_type": "execute_result"
    }
   ],
   "source": [
    "pred_boxes['xl_visual_session0002_00000387']"
   ]
  },
  {
   "cell_type": "code",
   "execution_count": 52,
   "metadata": {},
   "outputs": [
    {
     "data": {
      "text/plain": [
       "{'boxes': [[684.0, 64.0, 820.0, 189.0],\n",
       "  [350.0, 66.0, 458.0, 149.0],\n",
       "  [1239.0, 76.0, 1304.0, 199.0],\n",
       "  [1079.0, 69.0, 1266.0, 143.0],\n",
       "  [606.0, 66.0, 676.0, 126.0],\n",
       "  [887.0, 65.0, 938.0, 107.0],\n",
       "  [506.0, 65.0, 568.0, 116.0],\n",
       "  [1248.0, 136.0, 1304.0, 221.0],\n",
       "  [936.0, 66.0, 1000.0, 122.0],\n",
       "  [800.0, 49.0, 825.0, 69.0],\n",
       "  [771.0, 55.0, 797.0, 74.0],\n",
       "  [668.0, 68.0, 707.0, 111.0]],\n",
       " 'category': [4.0, 4.0, 1.0, 4.0, 4.0, 4.0, 4.0, 3.0, 4.0, 4.0, 4.0, 4.0]}"
      ]
     },
     "execution_count": 52,
     "metadata": {},
     "output_type": "execute_result"
    }
   ],
   "source": [
    "gt_boxes['xl_visual_session0002_00000387']"
   ]
  },
  {
   "cell_type": "code",
   "execution_count": 59,
   "metadata": {},
   "outputs": [
    {
     "data": {
      "text/plain": [
       "{'true_positive': 10, 'false_positive': 9, 'false_negative': 2}"
      ]
     },
     "execution_count": 59,
     "metadata": {},
     "output_type": "execute_result"
    }
   ],
   "source": [
    "get_single_image_results(gt_boxes['xl_visual_session0002_00000387'],pred_boxes['xl_visual_session0002_00000387'],iou_thr=0.8)"
   ]
  },
  {
   "cell_type": "code",
   "execution_count": null,
   "metadata": {},
   "outputs": [],
   "source": []
  },
  {
   "cell_type": "code",
   "execution_count": 62,
   "metadata": {},
   "outputs": [
    {
     "name": "stdout",
     "output_type": "stream",
     "text": [
      "11288\n"
     ]
    }
   ],
   "source": [
    "count =0\n",
    "for i in gt_boxes:\n",
    "    count+=len(gt_boxes[i]['boxes'])\n",
    "\n",
    "print(count)"
   ]
  },
  {
   "cell_type": "code",
   "execution_count": 5,
   "metadata": {},
   "outputs": [
    {
     "name": "stdout",
     "output_type": "stream",
     "text": [
      "xl_visual_session0000_00000026.txt 4\n",
      "xl_visual_session0000_00000051.txt 4\n",
      "xl_visual_session0000_00000064.txt 4\n",
      "xl_visual_session0000_00000068.txt 4\n",
      "xl_visual_session0000_00000080.txt 5\n",
      "xl_visual_session0000_00000088.txt 4\n",
      "xl_visual_session0000_00000100.txt 4\n",
      "xl_visual_session0000_00000104.txt 4\n",
      "xl_visual_session0000_00000108.txt 4\n",
      "xl_visual_session0000_00000120.txt 4\n",
      "xl_visual_session0000_00000144.txt 5\n",
      "xl_visual_session0000_00000152.txt 4\n",
      "xl_visual_session0000_00000160.txt 3\n",
      "xl_visual_session0000_00000180.txt 3\n",
      "xl_visual_session0000_00000261.txt 4\n",
      "xl_visual_session0000_00000321.txt 5\n",
      "xl_visual_session0000_00000326.txt 5\n",
      "xl_visual_session0000_00000335.txt 4\n",
      "xl_visual_session0000_00000353.txt 5\n",
      "xl_visual_session0000_00000357.txt 4\n",
      "xl_visual_session0000_00000403.txt 4\n",
      "xl_visual_session0000_00000408.txt 4\n",
      "xl_visual_session0000_00000410.txt 4\n",
      "xl_visual_session0000_00000437.txt 4\n",
      "xl_visual_session0000_00000461.txt 4\n",
      "xl_visual_session0000_00000499.txt 4\n",
      "xl_visual_session0000_00000507.txt 4\n",
      "xl_visual_session0000_00000510.txt 4\n",
      "xl_visual_session0000_00000525.txt 5\n",
      "xl_visual_session0000_00000563.txt 4\n",
      "xl_visual_session0000_00000566.txt 4\n",
      "xl_visual_session0000_00000572.txt 4\n",
      "xl_visual_session0000_00000580.txt 4\n",
      "xl_visual_session0000_00000587.txt 5\n",
      "xl_visual_session0000_00000590.txt 4\n",
      "xl_visual_session0000_00000615.txt 2\n",
      "xl_visual_session0000_00000619.txt 3\n",
      "xl_visual_session0000_00000696.txt 5\n",
      "xl_visual_session0000_00000699.txt 6\n",
      "xl_visual_session0000_00000722.txt 5\n",
      "xl_visual_session0000_00000733.txt 5\n",
      "xl_visual_session0000_00000743.txt 6\n",
      "xl_visual_session0000_00000749.txt 5\n",
      "xl_visual_session0000_00000760.txt 5\n",
      "xl_visual_session0000_00000792.txt 4\n",
      "xl_visual_session0000_00000809.txt 5\n",
      "xl_visual_session0000_00000817.txt 4\n",
      "xl_visual_session0000_00000842.txt 4\n",
      "xl_visual_session0000_00000865.txt 1\n",
      "xl_visual_session0000_00000873.txt 2\n",
      "xl_visual_session0000_00000912.txt 4\n",
      "xl_visual_session0000_00000968.txt 4\n",
      "xl_visual_session0000_00000976.txt 4\n",
      "xl_visual_session0000_00000983.txt 4\n",
      "xl_visual_session0000_00000992.txt 4\n",
      "xl_visual_session0000_00001001.txt 4\n",
      "xl_visual_session0000_00001018.txt 4\n",
      "xl_visual_session0000_00001026.txt 3\n",
      "xl_visual_session0000_00001070.txt 3\n",
      "xl_visual_session0000_00001174.txt 3\n",
      "xl_visual_session0000_00001220.txt 3\n",
      "xl_visual_session0000_00001236.txt 3\n",
      "xl_visual_session0000_00001249.txt 5\n",
      "xl_visual_session0000_00001258.txt 4\n",
      "xl_visual_session0000_00001286.txt 3\n",
      "xl_visual_session0000_00001292.txt 3\n",
      "xl_visual_session0000_00001302.txt 3\n",
      "xl_visual_session0000_00001309.txt 3\n",
      "xl_visual_session0000_00001347.txt 5\n",
      "xl_visual_session0000_00001388.txt 4\n",
      "xl_visual_session0000_00001409.txt 5\n",
      "xl_visual_session0000_00001421.txt 5\n",
      "xl_visual_session0000_00001438.txt 4\n",
      "xl_visual_session0000_00001487.txt 4\n",
      "xl_visual_session0000_00001544.txt 4\n",
      "xl_visual_session0000_00001589.txt 4\n",
      "xl_visual_session0000_00001598.txt 5\n",
      "xl_visual_session0000_00001603.txt 4\n",
      "xl_visual_session0000_00001612.txt 7\n",
      "xl_visual_session0000_00001625.txt 5\n",
      "xl_visual_session0000_00001707.txt 6\n",
      "xl_visual_session0000_00001713.txt 4\n",
      "xl_visual_session0000_00001743.txt 4\n",
      "xl_visual_session0000_00001802.txt 3\n",
      "xl_visual_session0000_00001806.txt 3\n",
      "xl_visual_session0000_00001810.txt 3\n",
      "xl_visual_session0000_00001815.txt 3\n",
      "xl_visual_session0000_00001851.txt 3\n",
      "xl_visual_session0000_00001856.txt 3\n",
      "xl_visual_session0000_00001864.txt 3\n",
      "xl_visual_session0000_00001884.txt 3\n",
      "xl_visual_session0000_00001950.txt 4\n",
      "xl_visual_session0000_00001955.txt 7\n",
      "xl_visual_session0000_00001973.txt 6\n",
      "xl_visual_session0000_00001985.txt 7\n",
      "xl_visual_session0000_00001988.txt 7\n",
      "xl_visual_session0000_00001992.txt 7\n",
      "xl_visual_session0000_00001996.txt 8\n",
      "xl_visual_session0000_00002005.txt 9\n",
      "xl_visual_session0000_00002025.txt 4\n",
      "xl_visual_session0000_00002029.txt 4\n",
      "xl_visual_session0000_00002033.txt 5\n",
      "xl_visual_session0000_00002037.txt 4\n",
      "xl_visual_session0000_00002057.txt 4\n",
      "xl_visual_session0000_00002092.txt 4\n",
      "xl_visual_session0000_00002105.txt 4\n",
      "xl_visual_session0000_00002123.txt 4\n",
      "xl_visual_session0000_00002132.txt 4\n",
      "xl_visual_session0000_00002162.txt 4\n",
      "xl_visual_session0000_00002184.txt 3\n",
      "xl_visual_session0000_00002215.txt 4\n",
      "xl_visual_session0000_00002251.txt 5\n",
      "xl_visual_session0000_00002272.txt 4\n",
      "xl_visual_session0000_00002286.txt 4\n",
      "xl_visual_session0000_00002295.txt 5\n",
      "xl_visual_session0000_00002304.txt 3\n",
      "xl_visual_session0000_00002348.txt 3\n",
      "xl_visual_session0000_00002352.txt 3\n",
      "xl_visual_session0000_00002375.txt 3\n",
      "xl_visual_session0000_00002379.txt 3\n",
      "xl_visual_session0000_00002393.txt 3\n",
      "xl_visual_session0000_00002406.txt 4\n",
      "xl_visual_session0000_00002429.txt 4\n",
      "xl_visual_session0000_00002433.txt 5\n",
      "xl_visual_session0000_00002469.txt 6\n",
      "xl_visual_session0000_00002474.txt 6\n",
      "xl_visual_session0000_00002505.txt 6\n",
      "xl_visual_session0000_00002514.txt 5\n",
      "xl_visual_session0000_00002519.txt 5\n",
      "xl_visual_session0000_00002564.txt 6\n",
      "xl_visual_session0000_00002617.txt 8\n",
      "xl_visual_session0000_00002626.txt 7\n",
      "xl_visual_session0000_00002639.txt 7\n",
      "xl_visual_session0000_00002644.txt 8\n",
      "xl_visual_session0000_00002671.txt 7\n",
      "xl_visual_session0000_00002680.txt 8\n",
      "xl_visual_session0000_00002711.txt 6\n",
      "xl_visual_session0000_00002756.txt 3\n",
      "xl_visual_session0000_00002828.txt 5\n",
      "xl_visual_session0000_00002846.txt 4\n",
      "xl_visual_session0000_00002967.txt 6\n",
      "xl_visual_session0000_00002981.txt 6\n",
      "xl_visual_session0000_00003003.txt 7\n",
      "xl_visual_session0000_00003009.txt 6\n",
      "xl_visual_session0000_00003063.txt 5\n",
      "xl_visual_session0000_00003069.txt 5\n",
      "xl_visual_session0000_00003075.txt 5\n",
      "xl_visual_session0000_00003085.txt 5\n",
      "xl_visual_session0000_00003196.txt 3\n",
      "xl_visual_session0001_00000010.txt 1\n",
      "xl_visual_session0001_00000039.txt 1\n",
      "xl_visual_session0001_00000051.txt 1\n",
      "xl_visual_session0001_00000089.txt 1\n",
      "xl_visual_session0001_00000092.txt 1\n",
      "xl_visual_session0001_00000112.txt 1\n",
      "xl_visual_session0001_00000129.txt 1\n",
      "xl_visual_session0001_00000145.txt 1\n",
      "xl_visual_session0001_00000180.txt 1\n",
      "xl_visual_session0001_00000280.txt 2\n",
      "xl_visual_session0001_00000284.txt 1\n",
      "xl_visual_session0001_00000305.txt 1\n",
      "xl_visual_session0001_00000308.txt 1\n",
      "xl_visual_session0001_00000319.txt 1\n",
      "xl_visual_session0001_00000333.txt 1\n",
      "xl_visual_session0001_00000340.txt 1\n",
      "xl_visual_session0001_00000354.txt 1\n",
      "xl_visual_session0001_00000357.txt 1\n",
      "xl_visual_session0001_00000389.txt 1\n",
      "xl_visual_session0001_00000403.txt 1\n",
      "xl_visual_session0001_00000455.txt 2\n",
      "xl_visual_session0001_00000473.txt 2\n",
      "xl_visual_session0001_00000501.txt 2\n",
      "xl_visual_session0001_00000511.txt 2\n",
      "xl_visual_session0001_00000522.txt 3\n",
      "xl_visual_session0001_00000532.txt 3\n",
      "xl_visual_session0001_00000565.txt 4\n",
      "xl_visual_session0001_00000598.txt 5\n",
      "xl_visual_session0001_00000678.txt 7\n",
      "xl_visual_session0001_00000735.txt 8\n",
      "xl_visual_session0001_00000753.txt 9\n",
      "xl_visual_session0001_00000757.txt 10\n",
      "xl_visual_session0001_00000761.txt 6\n",
      "xl_visual_session0001_00000797.txt 9\n",
      "xl_visual_session0001_00000815.txt 6\n",
      "xl_visual_session0001_00000827.txt 8\n",
      "xl_visual_session0001_00000834.txt 8\n",
      "xl_visual_session0001_00000844.txt 7\n",
      "xl_visual_session0001_00000851.txt 8\n",
      "xl_visual_session0001_00000865.txt 6\n",
      "xl_visual_session0001_00000940.txt 5\n",
      "xl_visual_session0001_00000951.txt 4\n",
      "xl_visual_session0001_00000954.txt 5\n",
      "xl_visual_session0001_00000957.txt 4\n",
      "xl_visual_session0001_00000963.txt 5\n",
      "xl_visual_session0001_00000990.txt 5\n",
      "xl_visual_session0001_00001011.txt 6\n",
      "xl_visual_session0001_00001023.txt 6\n",
      "xl_visual_session0001_00001032.txt 5\n",
      "xl_visual_session0001_00001038.txt 4\n",
      "xl_visual_session0001_00001062.txt 5\n",
      "xl_visual_session0002_00000006.txt 12\n",
      "xl_visual_session0002_00000014.txt 11\n",
      "xl_visual_session0002_00000034.txt 8\n",
      "xl_visual_session0002_00000038.txt 9\n",
      "xl_visual_session0002_00000042.txt 13\n",
      "xl_visual_session0002_00000046.txt 11\n",
      "xl_visual_session0002_00000075.txt 10\n",
      "xl_visual_session0002_00000161.txt 8\n",
      "xl_visual_session0002_00000229.txt 13\n",
      "xl_visual_session0002_00000248.txt 12\n",
      "xl_visual_session0002_00000320.txt 12\n",
      "xl_visual_session0002_00000324.txt 12\n",
      "xl_visual_session0002_00000341.txt 14\n",
      "xl_visual_session0002_00000368.txt 14\n",
      "xl_visual_session0002_00000377.txt 15\n",
      "xl_visual_session0002_00000387.txt 19\n",
      "xl_visual_session0002_00000406.txt 19\n",
      "xl_visual_session0002_00000442.txt 21\n",
      "xl_visual_session0002_00000447.txt 23\n",
      "xl_visual_session0002_00000456.txt 22\n",
      "xl_visual_session0002_00000475.txt 17\n",
      "xl_visual_session0002_00000513.txt 22\n"
     ]
    },
    {
     "name": "stdout",
     "output_type": "stream",
     "text": [
      "xl_visual_session0002_00000517.txt 20\n",
      "xl_visual_session0002_00000535.txt 18\n",
      "xl_visual_session0002_00000558.txt 19\n",
      "xl_visual_session0002_00000582.txt 20\n",
      "xl_visual_session0002_00000604.txt 20\n",
      "xl_visual_session0002_00000627.txt 20\n",
      "xl_visual_session0002_00000662.txt 19\n",
      "xl_visual_session0002_00000680.txt 22\n",
      "xl_visual_session0002_00000702.txt 22\n",
      "xl_visual_session0002_00000708.txt 21\n",
      "xl_visual_session0002_00000720.txt 30\n",
      "xl_visual_session0002_00000731.txt 25\n",
      "xl_visual_session0002_00000737.txt 21\n",
      "xl_visual_session0002_00000773.txt 24\n",
      "xl_visual_session0002_00000782.txt 26\n",
      "xl_visual_session0002_00000814.txt 23\n",
      "xl_visual_session0002_00000864.txt 37\n",
      "xl_visual_session0002_00000874.txt 26\n",
      "xl_visual_session0002_00000893.txt 26\n",
      "xl_visual_session0002_00000897.txt 26\n",
      "xl_visual_session0002_00000920.txt 27\n",
      "xl_visual_session0002_00000930.txt 28\n",
      "xl_visual_session0002_00000934.txt 29\n",
      "xl_visual_session0002_00000948.txt 29\n",
      "xl_visual_session0002_00000952.txt 31\n",
      "xl_visual_session0002_00000966.txt 27\n",
      "xl_visual_session0002_00000988.txt 23\n",
      "xl_visual_session0002_00001011.txt 23\n",
      "xl_visual_session0002_00001020.txt 22\n",
      "xl_visual_session0002_00001033.txt 29\n",
      "xl_visual_session0002_00001096.txt 21\n",
      "xl_visual_session0002_00001101.txt 26\n",
      "xl_visual_session0002_00001119.txt 22\n",
      "xl_visual_session0002_00001137.txt 21\n",
      "xl_visual_session0002_00001141.txt 21\n",
      "xl_visual_session0002_00001159.txt 26\n",
      "xl_visual_session0002_00001182.txt 20\n",
      "xl_visual_session0002_00001209.txt 24\n",
      "xl_visual_session0002_00001263.txt 17\n",
      "xl_visual_session0002_00001267.txt 22\n",
      "xl_visual_session0002_00001276.txt 24\n",
      "xl_visual_session0002_00001290.txt 29\n",
      "xl_visual_session0002_00001303.txt 23\n",
      "xl_visual_session0002_00001348.txt 22\n",
      "xl_visual_session0002_00001353.txt 23\n",
      "xl_visual_session0002_00001366.txt 25\n",
      "xl_visual_session0002_00001407.txt 21\n",
      "xl_visual_session0002_00001452.txt 15\n",
      "xl_visual_session0002_00001479.txt 14\n",
      "xl_visual_session0002_00001497.txt 18\n",
      "xl_visual_session0002_00001535.txt 19\n",
      "xl_visual_session0002_00001558.txt 23\n",
      "xl_visual_session0002_00001563.txt 18\n",
      "xl_visual_session0002_00001585.txt 28\n",
      "xl_visual_session0002_00001599.txt 25\n",
      "xl_visual_session0002_00001608.txt 29\n",
      "xl_visual_session0002_00001612.txt 26\n",
      "xl_visual_session0002_00001630.txt 26\n",
      "xl_visual_session0002_00001635.txt 24\n",
      "xl_visual_session0002_00001648.txt 23\n",
      "xl_visual_session0002_00001662.txt 27\n",
      "xl_visual_session0002_00001689.txt 23\n",
      "xl_visual_session0002_00001702.txt 32\n",
      "xl_visual_session0002_00001716.txt 29\n",
      "xl_visual_session0002_00001725.txt 27\n",
      "xl_visual_session0002_00001780.txt 31\n",
      "xl_visual_session0002_00001784.txt 32\n",
      "xl_visual_session0002_00001793.txt 31\n",
      "xl_visual_session0002_00001861.txt 27\n",
      "xl_visual_session0002_00001870.txt 30\n",
      "xl_visual_session0002_00001874.txt 31\n",
      "xl_visual_session0002_00001893.txt 25\n",
      "xl_visual_session0002_00001921.txt 36\n",
      "xl_visual_session0002_00001930.txt 27\n",
      "xl_visual_session0002_00001935.txt 34\n",
      "xl_visual_session0002_00001939.txt 27\n",
      "xl_visual_session0002_00001944.txt 31\n",
      "xl_visual_session0002_00001969.txt 25\n",
      "xl_visual_session0002_00002001.txt 34\n",
      "xl_visual_session0002_00002023.txt 31\n",
      "xl_visual_session0002_00002055.txt 25\n",
      "xl_visual_session0002_00002059.txt 20\n",
      "xl_visual_session0002_00002095.txt 18\n",
      "xl_visual_session0002_00002117.txt 19\n",
      "xl_visual_session0002_00002128.txt 16\n",
      "xl_visual_session0002_00002155.txt 16\n",
      "xl_visual_session0002_00002165.txt 19\n",
      "xl_visual_session0002_00002179.txt 15\n",
      "xl_visual_session0002_00002207.txt 18\n",
      "xl_visual_session0002_00002225.txt 16\n",
      "xl_visual_session0002_00002251.txt 18\n",
      "xl_visual_session0002_00002295.txt 26\n",
      "xl_visual_session0002_00002363.txt 20\n",
      "xl_visual_session0002_00002366.txt 18\n",
      "xl_visual_session0002_00002389.txt 19\n",
      "xl_visual_session0002_00002399.txt 16\n",
      "xl_visual_session0002_00002424.txt 16\n",
      "xl_visual_session0002_00002427.txt 15\n",
      "xl_visual_session0002_00002441.txt 13\n",
      "xl_visual_session0002_00002459.txt 17\n",
      "xl_visual_session0002_00002468.txt 15\n",
      "xl_visual_session0002_00002562.txt 24\n",
      "xl_visual_session0002_00002593.txt 29\n",
      "xl_visual_session0002_00002607.txt 23\n",
      "xl_visual_session0002_00002620.txt 23\n",
      "xl_visual_session0002_00002665.txt 22\n",
      "xl_visual_session0002_00002704.txt 25\n",
      "xl_visual_session0002_00002740.txt 26\n",
      "xl_visual_session0002_00002824.txt 23\n",
      "xl_visual_session0002_00002874.txt 27\n",
      "xl_visual_session0002_00002887.txt 30\n",
      "xl_visual_session0002_00002896.txt 27\n",
      "xl_visual_session0002_00002905.txt 25\n",
      "xl_visual_session0002_00002950.txt 24\n",
      "xl_visual_session0002_00002956.txt 25\n",
      "xl_visual_session0002_00002960.txt 22\n",
      "xl_visual_session0002_00002978.txt 27\n",
      "xl_visual_session0002_00002983.txt 27\n",
      "xl_visual_session0002_00002988.txt 32\n",
      "xl_visual_session0002_00003006.txt 29\n",
      "xl_visual_session0002_00003015.txt 26\n",
      "xl_visual_session0002_00003042.txt 20\n",
      "xl_visual_session0002_00003060.txt 18\n",
      "xl_visual_session0002_00003065.txt 18\n",
      "xl_visual_session0002_00003069.txt 24\n",
      "xl_visual_session0002_00003078.txt 18\n",
      "xl_visual_session0002_00003087.txt 17\n",
      "xl_visual_session0002_00003105.txt 17\n",
      "xl_visual_session0002_00003110.txt 16\n",
      "xl_visual_session0002_00003137.txt 20\n",
      "xl_visual_session0002_00003164.txt 23\n",
      "xl_visual_session0002_00003191.txt 22\n",
      "xl_visual_session0002_00003195.txt 28\n",
      "xl_visual_session0002_00003200.txt 27\n",
      "xl_visual_session0002_00003213.txt 19\n",
      "xl_visual_session0002_00003222.txt 18\n",
      "xl_visual_session0002_00003231.txt 18\n",
      "xl_visual_session0002_00003254.txt 23\n",
      "xl_visual_session0002_00003281.txt 23\n",
      "xl_visual_session0002_00003313.txt 17\n",
      "xl_visual_session0002_00003385.txt 19\n",
      "xl_visual_session0002_00003439.txt 19\n",
      "xl_visual_session0002_00003444.txt 17\n",
      "xl_visual_session0002_00003453.txt 16\n",
      "xl_visual_session0002_00003463.txt 13\n",
      "xl_visual_session0002_00003465.txt 17\n",
      "xl_visual_session0002_00003516.txt 11\n",
      "xl_visual_session0002_00003528.txt 13\n",
      "xl_visual_session0002_00003537.txt 12\n",
      "xl_visual_session0002_00003546.txt 7\n",
      "xl_visual_session0002_00003569.txt 13\n",
      "xl_visual_session0002_00003572.txt 12\n",
      "xl_visual_session0002_00003581.txt 11\n",
      "xl_visual_session0002_00003589.txt 12\n",
      "xl_visual_session0002_00003592.txt 12\n",
      "xl_visual_session0002_00003621.txt 13\n",
      "xl_visual_session0002_00003656.txt 11\n",
      "xl_visual_session0002_00003665.txt 11\n",
      "xl_visual_session0002_00003686.txt 12\n",
      "xl_visual_session0002_00003715.txt 15\n",
      "xl_visual_session0002_00003721.txt 22\n",
      "xl_visual_session0002_00003727.txt 10\n",
      "xl_visual_session0002_00003732.txt 11\n",
      "xl_visual_session0002_00003756.txt 12\n",
      "xl_visual_session0002_00003759.txt 11\n",
      "xl_visual_session0002_00003786.txt 10\n",
      "xl_visual_session0002_00003789.txt 11\n",
      "xl_visual_session0002_00003792.txt 11\n",
      "xl_visual_session0002_00003811.txt 11\n",
      "xl_visual_session0002_00003821.txt 12\n",
      "xl_visual_session0002_00003830.txt 12\n",
      "xl_visual_session0002_00003833.txt 10\n",
      "xl_visual_session0003_00000006.txt 20\n",
      "xl_visual_session0003_00000026.txt 20\n",
      "xl_visual_session0003_00000030.txt 19\n",
      "xl_visual_session0003_00000088.txt 18\n",
      "xl_visual_session0003_00000102.txt 15\n",
      "xl_visual_session0003_00000107.txt 16\n",
      "xl_visual_session0003_00000117.txt 17\n",
      "xl_visual_session0003_00000173.txt 17\n",
      "xl_visual_session0003_00000208.txt 15\n",
      "xl_visual_session0003_00000213.txt 12\n",
      "xl_visual_session0003_00000228.txt 16\n",
      "xl_visual_session0003_00000238.txt 17\n",
      "xl_visual_session0003_00000248.txt 16\n",
      "xl_visual_session0003_00000258.txt 17\n",
      "xl_visual_session0003_00000268.txt 17\n",
      "xl_visual_session0003_00000331.txt 13\n",
      "xl_visual_session0003_00000335.txt 11\n",
      "xl_visual_session0003_00000359.txt 8\n",
      "xl_visual_session0003_00000373.txt 5\n",
      "xl_visual_session0003_00000387.txt 6\n",
      "xl_visual_session0003_00000400.txt 6\n",
      "xl_visual_session0003_00000417.txt 8\n",
      "xl_visual_session0003_00000431.txt 8\n",
      "xl_visual_session0003_00000434.txt 8\n",
      "xl_visual_session0003_00000458.txt 10\n",
      "xl_visual_session0003_00000467.txt 9\n",
      "xl_visual_session0003_00000479.txt 14\n",
      "xl_visual_session0003_00000512.txt 3\n",
      "xl_visual_session0003_00000519.txt 4\n",
      "xl_visual_session0003_00000526.txt 3\n",
      "xl_visual_session0003_00000568.txt 13\n",
      "xl_visual_session0003_00000575.txt 6\n",
      "xl_visual_session0003_00000622.txt 12\n",
      "xl_visual_session0003_00000628.txt 12\n",
      "xl_visual_session0003_00000635.txt 12\n",
      "xl_visual_session0003_00000642.txt 7\n",
      "xl_visual_session0003_00000663.txt 5\n",
      "xl_visual_session0003_00000684.txt 1\n",
      "xl_visual_session0003_00000764.txt 12\n",
      "xl_visual_session0003_00000810.txt 13\n",
      "xl_visual_session0003_00000828.txt 14\n",
      "xl_visual_session0003_00000841.txt 13\n",
      "xl_visual_session0003_00000886.txt 13\n",
      "xl_visual_session0003_00000891.txt 12\n",
      "xl_visual_session0003_00000902.txt 16\n",
      "xl_visual_session0003_00000966.txt 16\n",
      "xl_visual_session0003_00000976.txt 15\n",
      "xl_visual_session0003_00000995.txt 16\n",
      "xl_visual_session0003_00001014.txt 11\n",
      "xl_visual_session0003_00001020.txt 11\n",
      "xl_visual_session0003_00001078.txt 11\n",
      "xl_visual_session0003_00001123.txt 6\n",
      "xl_visual_session0003_00001127.txt 6\n",
      "xl_visual_session0003_00001151.txt 7\n"
     ]
    },
    {
     "name": "stdout",
     "output_type": "stream",
     "text": [
      "xl_visual_session0003_00001213.txt 16\n",
      "xl_visual_session0003_00001249.txt 13\n",
      "xl_visual_session0003_00001258.txt 17\n",
      "xl_visual_session0003_00001262.txt 14\n",
      "xl_visual_session0003_00001330.txt 15\n",
      "xl_visual_session0003_00001348.txt 12\n",
      "xl_visual_session0003_00001358.txt 13\n",
      "xl_visual_session0003_00001361.txt 13\n",
      "xl_visual_session0003_00001371.txt 12\n",
      "xl_visual_session0003_00001413.txt 16\n",
      "xl_visual_session0003_00001436.txt 15\n",
      "xl_visual_session0003_00001439.txt 17\n",
      "xl_visual_session0003_00001449.txt 23\n",
      "xl_visual_session0003_00001452.txt 12\n",
      "xl_visual_session0003_00001458.txt 15\n",
      "xl_visual_session0003_00001467.txt 11\n",
      "xl_visual_session0003_00001472.txt 16\n",
      "xl_visual_session0003_00001489.txt 11\n",
      "xl_visual_session0003_00001491.txt 11\n",
      "xl_visual_session0003_00001496.txt 13\n",
      "xl_visual_session0003_00001498.txt 9\n",
      "xl_visual_session0003_00001517.txt 10\n",
      "xl_visual_session0003_00001533.txt 9\n",
      "xl_visual_session0003_00001535.txt 8\n",
      "xl_visual_session0003_00001552.txt 12\n",
      "xl_visual_session0003_00001558.txt 12\n",
      "xl_visual_session0003_00001615.txt 9\n",
      "xl_visual_session0003_00001650.txt 7\n",
      "xl_visual_session0003_00001678.txt 3\n",
      "xl_visual_session0003_00001707.txt 8\n",
      "xl_visual_session0003_00001727.txt 9\n",
      "xl_visual_session0003_00001731.txt 8\n",
      "xl_visual_session0003_00001760.txt 15\n",
      "xl_visual_session0003_00001764.txt 13\n",
      "xl_visual_session0003_00001774.txt 16\n",
      "xl_visual_session0003_00001779.txt 19\n",
      "xl_visual_session0003_00001788.txt 20\n",
      "xl_visual_session0003_00001792.txt 19\n",
      "xl_visual_session0003_00001811.txt 18\n",
      "xl_visual_session0003_00001828.txt 14\n",
      "xl_visual_session0003_00001846.txt 15\n",
      "xl_visual_session0003_00001868.txt 14\n",
      "xl_visual_session0003_00001890.txt 15\n",
      "xl_visual_session0003_00001899.txt 16\n",
      "xl_visual_session0003_00001904.txt 14\n",
      "xl_visual_session0003_00001917.txt 17\n",
      "xl_visual_session0003_00001944.txt 16\n",
      "xl_visual_session0003_00002009.txt 27\n",
      "xl_visual_session0003_00002037.txt 26\n",
      "xl_visual_session0003_00002064.txt 32\n",
      "xl_visual_session0003_00002079.txt 32\n",
      "xl_visual_session0003_00002097.txt 27\n",
      "xl_visual_session0003_00002121.txt 30\n",
      "xl_visual_session0003_00002147.txt 37\n",
      "xl_visual_session0003_00002174.txt 46\n",
      "xl_visual_session0003_00002204.txt 33\n",
      "xl_visual_session0003_00002216.txt 40\n",
      "xl_visual_session0003_00002221.txt 42\n",
      "xl_visual_session0003_00002227.txt 32\n",
      "xl_visual_session0003_00002245.txt 38\n",
      "xl_visual_session0003_00002261.txt 15\n",
      "xl_visual_session0003_00002270.txt 26\n",
      "xl_visual_session0003_00002308.txt 17\n",
      "xl_visual_session0003_00002315.txt 24\n",
      "xl_visual_session0003_00002380.txt 15\n",
      "xl_visual_session0003_00002389.txt 16\n",
      "xl_visual_session0003_00002412.txt 22\n",
      "xl_visual_session0003_00002421.txt 25\n",
      "xl_visual_session0003_00002454.txt 20\n",
      "xl_visual_session0003_00002469.txt 27\n",
      "xl_visual_session0003_00002511.txt 26\n",
      "xl_visual_session0003_00002560.txt 20\n",
      "xl_visual_session0003_00002626.txt 17\n",
      "xl_visual_session0003_00002754.txt 25\n",
      "xl_visual_session0003_00002759.txt 22\n",
      "xl_visual_session0003_00002775.txt 21\n",
      "xl_visual_session0003_00002790.txt 14\n",
      "xl_visual_session0003_00002890.txt 32\n",
      "xl_visual_session0003_00002896.txt 31\n",
      "xl_visual_session0003_00002908.txt 23\n",
      "xl_visual_session0003_00002913.txt 29\n",
      "xl_visual_session0003_00002920.txt 23\n",
      "xl_visual_session0003_00002925.txt 26\n",
      "xl_visual_session0003_00002934.txt 26\n",
      "xl_visual_session0003_00002973.txt 29\n",
      "xl_visual_session0003_00003001.txt 22\n",
      "xl_visual_session0003_00003006.txt 24\n",
      "xl_visual_session0003_00003015.txt 27\n",
      "xl_visual_session0003_00003046.txt 27\n",
      "xl_visual_session0003_00003060.txt 23\n",
      "xl_visual_session0003_00003101.txt 26\n",
      "xl_visual_session0003_00003110.txt 28\n",
      "xl_visual_session0003_00003213.txt 21\n",
      "xl_visual_session0003_00003222.txt 22\n",
      "xl_visual_session0003_00003225.txt 23\n",
      "xl_visual_session0003_00003238.txt 22\n",
      "xl_visual_session0003_00003254.txt 21\n",
      "xl_visual_session0003_00003266.txt 22\n",
      "xl_visual_session0003_00003269.txt 19\n",
      "xl_visual_session0003_00003276.txt 21\n",
      "xl_visual_session0003_00003323.txt 21\n",
      "xl_visual_session0003_00003325.txt 24\n",
      "xl_visual_session0003_00003330.txt 21\n",
      "xl_visual_session0003_00003338.txt 23\n",
      "xl_visual_session0003_00003354.txt 20\n",
      "xl_visual_session0003_00003383.txt 16\n",
      "xl_visual_session0003_00003402.txt 19\n",
      "xl_visual_session0003_00003461.txt 15\n",
      "xl_visual_session0003_00003470.txt 13\n",
      "xl_visual_session0003_00003497.txt 17\n",
      "xl_visual_session0003_00003501.txt 15\n",
      "xl_visual_session0003_00003598.txt 16\n",
      "xl_visual_session0003_00003624.txt 18\n",
      "xl_visual_session0003_00003704.txt 15\n",
      "xl_visual_session0003_00003707.txt 13\n",
      "xl_visual_session0003_00003748.txt 15\n",
      "xl_visual_session0003_00003783.txt 15\n",
      "xl_visual_session0003_00003792.txt 15\n",
      "xl_visual_session0003_00003865.txt 18\n",
      "xl_visual_session0003_00003883.txt 19\n",
      "xl_visual_session0003_00003902.txt 18\n",
      "xl_visual_session0003_00003906.txt 19\n",
      "xl_visual_session0003_00003930.txt 4\n",
      "xl_visual_session0003_00003969.txt 22\n",
      "xl_visual_session0003_00004010.txt 15\n",
      "xl_visual_session0003_00004028.txt 18\n",
      "xl_visual_session0003_00004037.txt 14\n",
      "xl_visual_session0003_00004071.txt 13\n",
      "xl_visual_session0003_00004089.txt 24\n",
      "xl_visual_session0003_00004092.txt 16\n",
      "xl_visual_session0003_00004099.txt 15\n",
      "xl_visual_session0003_00004108.txt 20\n",
      "xl_visual_session0003_00004135.txt 14\n",
      "xl_visual_session0003_00004140.txt 15\n",
      "xl_visual_session0003_00004144.txt 14\n",
      "xl_visual_session0003_00004180.txt 17\n",
      "xl_visual_session0003_00004200.txt 18\n",
      "xl_visual_session0003_00004215.txt 19\n",
      "xl_visual_session0003_00004265.txt 21\n",
      "xl_visual_session0003_00004302.txt 23\n",
      "xl_visual_session0003_00004315.txt 20\n",
      "xl_visual_session0003_00004334.txt 25\n",
      "xl_visual_session0003_00004338.txt 23\n",
      "xl_visual_session0003_00004344.txt 21\n",
      "xl_visual_session0003_00004347.txt 22\n",
      "xl_visual_session0003_00004350.txt 23\n",
      "xl_visual_session0003_00004375.txt 24\n",
      "xl_visual_session0003_00004387.txt 22\n",
      "xl_visual_session0003_00004427.txt 24\n",
      "xl_visual_session0003_00004498.txt 13\n",
      "xl_visual_session0003_00004507.txt 17\n",
      "xl_visual_session0003_00004542.txt 20\n",
      "xl_visual_session0003_00004562.txt 18\n",
      "xl_visual_session0003_00004599.txt 13\n",
      "xl_visual_session0003_00004631.txt 22\n",
      "xl_visual_session0003_00004640.txt 22\n",
      "xl_visual_session0003_00004655.txt 17\n",
      "xl_visual_session0003_00004669.txt 22\n",
      "xl_visual_session0003_00004744.txt 23\n",
      "xl_visual_session0003_00004763.txt 19\n",
      "xl_visual_session0003_00004771.txt 16\n",
      "xl_visual_session0003_00004784.txt 15\n",
      "xl_visual_session0003_00004820.txt 18\n",
      "xl_visual_session0003_00004827.txt 20\n",
      "xl_visual_session0003_00004848.txt 17\n",
      "xl_visual_session0003_00004852.txt 15\n",
      "xl_visual_session0003_00004897.txt 14\n",
      "xl_visual_session0003_00004901.txt 15\n",
      "xl_visual_session0003_00004911.txt 15\n",
      "xl_visual_session0003_00004922.txt 15\n",
      "xl_visual_session0003_00004929.txt 14\n",
      "xl_visual_session0003_00004936.txt 20\n",
      "xl_visual_session0003_00004955.txt 19\n",
      "xl_visual_session0003_00004967.txt 12\n",
      "xl_visual_session0003_00004973.txt 19\n",
      "xl_visual_session0003_00004981.txt 14\n",
      "xl_visual_session0003_00004983.txt 16\n",
      "xl_visual_session0003_00004986.txt 16\n",
      "xl_visual_session0003_00004988.txt 14\n",
      "xl_visual_session0003_00004995.txt 17\n",
      "xl_visual_session0003_00005007.txt 16\n",
      "xl_visual_session0003_00005016.txt 21\n",
      "xl_visual_session0003_00005022.txt 24\n",
      "xl_visual_session0003_00005049.txt 17\n",
      "xl_visual_session0003_00005063.txt 14\n",
      "xl_visual_session0003_00005084.txt 16\n",
      "xl_visual_session0003_00005091.txt 17\n",
      "xl_visual_session0003_00005098.txt 18\n",
      "xl_visual_session0003_00005132.txt 9\n",
      "xl_visual_session0003_00005148.txt 12\n",
      "xl_visual_session0003_00005157.txt 15\n",
      "xl_visual_session0003_00005164.txt 15\n",
      "xl_visual_session0003_00005176.txt 12\n",
      "xl_visual_session0003_00005193.txt 14\n",
      "xl_visual_session0003_00005196.txt 13\n",
      "xl_visual_session0003_00005216.txt 14\n",
      "xl_visual_session0003_00005348.txt 20\n",
      "xl_visual_session0003_00005353.txt 18\n",
      "xl_visual_session0003_00005372.txt 16\n",
      "xl_visual_session0003_00005391.txt 14\n",
      "xl_visual_session0003_00005395.txt 16\n",
      "xl_visual_session0003_00005427.txt 22\n",
      "xl_visual_session0003_00005444.txt 21\n",
      "xl_visual_session0003_00005468.txt 15\n",
      "xl_visual_session0003_00005484.txt 15\n",
      "xl_visual_session0003_00005501.txt 16\n",
      "xl_visual_session0003_00005507.txt 13\n",
      "xl_visual_session0003_00005517.txt 16\n",
      "xl_visual_session0003_00005549.txt 19\n",
      "xl_visual_session0003_00005553.txt 23\n",
      "xl_visual_session0003_00005607.txt 17\n",
      "xl_visual_session0003_00005618.txt 17\n",
      "xl_visual_session0003_00005633.txt 18\n",
      "xl_visual_session0003_00005683.txt 16\n",
      "xl_visual_session0003_00005698.txt 19\n",
      "xl_visual_session0003_00006518.txt 1\n",
      "xl_visual_session0003_00006542.txt 1\n",
      "xl_visual_session0003_00006570.txt 1\n",
      "xl_visual_session0003_00006577.txt 1\n",
      "xl_visual_session0003_00006612.txt 1\n",
      "xl_visual_session0003_00006654.txt 1\n",
      "xl_visual_session0003_00006665.txt 1\n",
      "xl_visual_session0003_00006672.txt 1\n",
      "xl_visual_session0003_00006700.txt 1\n",
      "xl_visual_session0003_00006735.txt 1\n",
      "xl_visual_session0003_00006738.txt 1\n",
      "xl_visual_session0003_00006794.txt 1\n",
      "xl_visual_session0003_00006819.txt 1\n",
      "xl_visual_session0003_00006833.txt 1\n",
      "xl_visual_session0003_00006850.txt 1\n",
      "xl_visual_session0003_00006854.txt 1\n",
      "xl_visual_session0003_00006861.txt 1\n",
      "xl_visual_session0003_00006868.txt 1\n",
      "xl_visual_session0003_00006885.txt 1\n",
      "xl_visual_session0003_00006906.txt 1\n",
      "xl_visual_session0003_00006932.txt 1\n",
      "xl_visual_session0003_00006936.txt 1\n",
      "xl_visual_session0003_00006943.txt 1\n",
      "xl_visual_session0003_00006971.txt 1\n",
      "xl_visual_session0003_00006982.txt 1\n",
      "xl_visual_session0003_00006999.txt 1\n",
      "xl_visual_session0003_00007009.txt 1\n",
      "xl_visual_session0003_00007016.txt 1\n",
      "xl_visual_session0003_00007027.txt 1\n",
      "xl_visual_session0003_00007114.txt 1\n",
      "xl_visual_session0003_00007117.txt 1\n",
      "xl_visual_session0003_00007129.txt 2\n",
      "xl_visual_session0003_00007160.txt 2\n",
      "xl_visual_session0003_00007171.txt 2\n",
      "xl_visual_session0003_00007178.txt 2\n",
      "xl_visual_session0003_00007181.txt 2\n",
      "xl_visual_session0003_00007204.txt 2\n",
      "xl_visual_session0003_00007235.txt 2\n",
      "xl_visual_session0003_00007239.txt 2\n",
      "xl_visual_session0003_00007253.txt 2\n",
      "xl_visual_session0003_00007257.txt 2\n",
      "xl_visual_session0003_00007302.txt 2\n",
      "xl_visual_session0003_00007317.txt 2\n",
      "xl_visual_session0003_00007321.txt 1\n",
      "xl_visual_session0003_00007330.txt 1\n",
      "xl_visual_session0003_00007358.txt 1\n",
      "xl_visual_session0003_00007419.txt 3\n",
      "xl_visual_session0003_00007441.txt 3\n",
      "xl_visual_session0003_00007450.txt 2\n",
      "xl_visual_session0003_00007465.txt 2\n",
      "xl_visual_session0003_00007469.txt 2\n",
      "xl_visual_session0004_00000272.txt 3\n",
      "xl_visual_session0004_00000274.txt 3\n",
      "xl_visual_session0004_00000283.txt 2\n",
      "xl_visual_session0004_00000288.txt 2\n",
      "xl_visual_session0004_00000293.txt 2\n",
      "xl_visual_session0004_00000296.txt 2\n",
      "xl_visual_session0004_00000297.txt 2\n",
      "xl_visual_session0004_00000300.txt 2\n",
      "xl_visual_session0004_00000304.txt 2\n",
      "xl_visual_session0004_00000306.txt 2\n",
      "xl_visual_session0004_00000311.txt 2\n",
      "xl_visual_session0004_00000316.txt 2\n",
      "xl_visual_session0004_00000507.txt 2\n",
      "xl_visual_session0004_00000512.txt 2\n",
      "xl_visual_session0004_00000514.txt 2\n",
      "xl_visual_session0004_00000517.txt 2\n",
      "xl_visual_session0004_00000532.txt 2\n",
      "xl_visual_session0004_00000535.txt 2\n",
      "xl_visual_session0004_00000538.txt 2\n",
      "xl_visual_session0004_00000546.txt 3\n",
      "xl_visual_session0004_00000554.txt 2\n",
      "xl_visual_session0004_00000776.txt 5\n",
      "xl_visual_session0004_00000787.txt 5\n",
      "xl_visual_session0004_00000794.txt 5\n",
      "xl_visual_session0004_00000800.txt 7\n",
      "xl_visual_session0004_00000809.txt 6\n",
      "xl_visual_session0004_00000811.txt 6\n",
      "xl_visual_session0004_00000812.txt 4\n",
      "xl_visual_session0004_00000825.txt 5\n",
      "xl_visual_session0004_00000832.txt 4\n",
      "xl_visual_session0004_00000836.txt 5\n",
      "xl_visual_session0004_00000843.txt 4\n",
      "xl_visual_session0004_00000986.txt 1\n",
      "xl_visual_session0004_00001002.txt 1\n",
      "xl_visual_session0004_00001003.txt 1\n",
      "xl_visual_session0004_00001006.txt 1\n",
      "xl_visual_session0004_00001007.txt 1\n",
      "xl_visual_session0004_00001009.txt 2\n",
      "xl_visual_session0004_00001014.txt 1\n",
      "xl_visual_session0004_00001024.txt 1\n",
      "xl_visual_session0004_00001029.txt 1\n",
      "xl_visual_session0004_00001036.txt 1\n",
      "xl_visual_session0004_00001040.txt 1\n",
      "xl_visual_session0004_00001042.txt 1\n",
      "xl_visual_session0004_00001043.txt 1\n",
      "xl_visual_session0004_00001332.txt 6\n",
      "xl_visual_session0004_00001337.txt 6\n",
      "xl_visual_session0004_00001340.txt 5\n",
      "xl_visual_session0004_00001346.txt 6\n",
      "xl_visual_session0004_00001347.txt 8\n",
      "xl_visual_session0004_00001350.txt 8\n",
      "xl_visual_session0004_00001353.txt 6\n",
      "xl_visual_session0004_00001360.txt 4\n",
      "xl_visual_session0004_00001366.txt 8\n",
      "xl_visual_session0004_00001386.txt 12\n",
      "xl_visual_session0004_00001391.txt 8\n",
      "xl_visual_session0004_00001392.txt 10\n",
      "xl_visual_session0004_00001397.txt 9\n",
      "xl_visual_session0004_00001399.txt 10\n",
      "xl_visual_session0004_00001402.txt 8\n",
      "xl_visual_session0004_00001403.txt 11\n",
      "xl_visual_session0004_00001407.txt 10\n",
      "xl_visual_session0004_00001421.txt 5\n",
      "xl_visual_session0004_00001425.txt 8\n",
      "xl_visual_session0004_00001426.txt 5\n",
      "xl_visual_session0004_00001427.txt 5\n",
      "xl_visual_session0004_00001511.txt 4\n",
      "xl_visual_session0004_00001524.txt 5\n",
      "xl_visual_session0004_00001525.txt 6\n",
      "xl_visual_session0004_00001536.txt 6\n",
      "xl_visual_session0004_00001544.txt 6\n",
      "xl_visual_session0004_00001553.txt 7\n",
      "xl_visual_session0004_00001560.txt 3\n",
      "xl_visual_session0004_00001563.txt 2\n",
      "xl_visual_session0004_00001568.txt 1\n",
      "xl_visual_session0004_00001569.txt 1\n",
      "xl_visual_session0004_00001949.txt 5\n",
      "xl_visual_session0004_00001957.txt 5\n",
      "xl_visual_session0004_00001959.txt 5\n",
      "xl_visual_session0004_00001965.txt 4\n",
      "xl_visual_session0004_00001968.txt 4\n",
      "xl_visual_session0004_00001985.txt 6\n",
      "xl_visual_session0004_00001990.txt 4\n",
      "xl_visual_session0004_00001994.txt 5\n",
      "xl_visual_session0004_00001995.txt 4\n",
      "xl_visual_session0004_00001999.txt 8\n",
      "xl_visual_session0004_00002001.txt 7\n",
      "xl_visual_session0004_00002004.txt 6\n",
      "xl_visual_session0004_00002006.txt 6\n",
      "xl_visual_session0004_00002010.txt 5\n",
      "xl_visual_session0004_00002014.txt 6\n",
      "xl_visual_session0004_00002027.txt 2\n",
      "xl_visual_session0004_00002030.txt 2\n",
      "xl_visual_session0004_00002034.txt 3\n",
      "xl_visual_session0004_00002037.txt 4\n",
      "xl_visual_session0004_00002041.txt 2\n",
      "xl_visual_session0004_00002044.txt 2\n",
      "xl_visual_session0004_00002045.txt 2\n",
      "xl_visual_session0004_00002049.txt 4\n",
      "xl_visual_session0004_00002052.txt 2\n",
      "xl_visual_session0004_00002054.txt 2\n",
      "xl_visual_session0004_00002056.txt 3\n",
      "xl_visual_session0004_00002057.txt 3\n",
      "xl_visual_session0004_00002059.txt 2\n",
      "xl_visual_session0004_00002063.txt 3\n",
      "xl_visual_session0004_00002068.txt 3\n",
      "xl_visual_session0004_00002074.txt 3\n",
      "xl_visual_session0004_00002087.txt 3\n",
      "xl_visual_session0004_00002101.txt 1\n",
      "xl_visual_session0004_00002103.txt 1\n",
      "xl_visual_session0004_00002107.txt 1\n",
      "xl_visual_session0004_00003295.txt 9\n",
      "xl_visual_session0004_00003299.txt 7\n",
      "xl_visual_session0004_00003304.txt 3\n",
      "xl_visual_session0004_00003305.txt 3\n",
      "xl_visual_session0004_00003306.txt 4\n",
      "xl_visual_session0004_00003309.txt 4\n",
      "xl_visual_session0004_00003313.txt 5\n",
      "xl_visual_session0004_00003314.txt 4\n",
      "xl_visual_session0004_00003315.txt 3\n",
      "xl_visual_session0004_00003317.txt 2\n",
      "xl_visual_session0004_00003325.txt 2\n",
      "xl_visual_session0004_00003329.txt 3\n",
      "xl_visual_session0004_00003334.txt 3\n",
      "xl_visual_session0004_00003337.txt 2\n",
      "xl_visual_session0004_00003344.txt 2\n",
      "xl_visual_session0004_00003348.txt 2\n",
      "xl_visual_session0004_00003350.txt 2\n",
      "xl_visual_session0004_00003351.txt 2\n",
      "xl_visual_session0004_00003358.txt 2\n",
      "xl_visual_session0004_00003373.txt 2\n",
      "xl_visual_session0004_00003376.txt 2\n",
      "xl_visual_session0004_00003379.txt 2\n",
      "xl_visual_session0005_00000131.txt 11\n",
      "xl_visual_session0005_00000133.txt 13\n",
      "xl_visual_session0005_00000148.txt 8\n",
      "xl_visual_session0005_00000150.txt 9\n",
      "xl_visual_session0005_00000152.txt 11\n",
      "xl_visual_session0005_00000160.txt 8\n",
      "xl_visual_session0005_00000162.txt 10\n",
      "xl_visual_session0005_00000168.txt 8\n",
      "xl_visual_session0005_00000175.txt 9\n",
      "xl_visual_session0005_00000193.txt 7\n",
      "xl_visual_session0005_00000195.txt 9\n",
      "xl_visual_session0005_00000201.txt 10\n",
      "xl_visual_session0005_00000250.txt 13\n",
      "xl_visual_session0005_00000256.txt 13\n",
      "xl_visual_session0005_00000264.txt 9\n",
      "xl_visual_session0005_00000291.txt 11\n",
      "xl_visual_session0005_00000297.txt 8\n",
      "xl_visual_session0005_00000317.txt 11\n",
      "xl_visual_session0005_00000321.txt 10\n",
      "xl_visual_session0005_00000327.txt 11\n",
      "xl_visual_session0005_00000346.txt 16\n",
      "xl_visual_session0005_00000354.txt 13\n",
      "xl_visual_session0005_00000362.txt 13\n",
      "xl_visual_session0005_00000379.txt 12\n",
      "xl_visual_session0005_00000381.txt 14\n",
      "xl_visual_session0005_00000397.txt 12\n",
      "xl_visual_session0005_00000411.txt 11\n",
      "xl_visual_session0005_00000425.txt 10\n",
      "xl_visual_session0005_00000449.txt 12\n",
      "xl_visual_session0005_00000451.txt 11\n",
      "xl_visual_session0005_00000453.txt 10\n",
      "xl_visual_session0005_00000457.txt 8\n",
      "xl_visual_session0005_00000469.txt 11\n",
      "xl_visual_session0005_00000477.txt 10\n",
      "xl_visual_session0005_00000489.txt 8\n",
      "xl_visual_session0005_00000493.txt 7\n",
      "xl_visual_session0005_00000505.txt 11\n",
      "xl_visual_session0005_00000630.txt 18\n",
      "xl_visual_session0005_00000647.txt 23\n",
      "xl_visual_session0005_00000649.txt 23\n",
      "xl_visual_session0005_00000655.txt 19\n",
      "xl_visual_session0005_00000688.txt 23\n",
      "xl_visual_session0005_00000690.txt 22\n",
      "xl_visual_session0005_00000692.txt 24\n",
      "xl_visual_session0005_00000694.txt 21\n",
      "xl_visual_session0005_00000698.txt 21\n",
      "xl_visual_session0005_00000717.txt 18\n"
     ]
    },
    {
     "name": "stdout",
     "output_type": "stream",
     "text": [
      "xl_visual_session0005_00000766.txt 12\n",
      "xl_visual_session0005_00000774.txt 13\n",
      "xl_visual_session0005_00000780.txt 14\n",
      "xl_visual_session0005_00000800.txt 11\n",
      "xl_visual_session0005_00000820.txt 10\n",
      "xl_visual_session0005_00000824.txt 10\n",
      "xl_visual_session0005_00000838.txt 13\n",
      "xl_visual_session0005_00000845.txt 10\n",
      "xl_visual_session0005_00000857.txt 9\n",
      "xl_visual_session0005_00000863.txt 7\n",
      "xl_visual_session0005_00000869.txt 8\n",
      "xl_visual_session0005_00000884.txt 9\n",
      "xl_visual_session0005_00000886.txt 7\n",
      "xl_visual_session0005_00000888.txt 9\n",
      "xl_visual_session0005_00000894.txt 10\n",
      "xl_visual_session0005_00000900.txt 10\n",
      "xl_visual_session0005_00000904.txt 9\n",
      "xl_visual_session0005_00000920.txt 8\n",
      "xl_visual_session0005_00000928.txt 7\n",
      "xl_visual_session0005_00000934.txt 10\n",
      "xl_visual_session0005_00000957.txt 6\n",
      "xl_visual_session0005_00000965.txt 6\n",
      "xl_visual_session0005_00000969.txt 6\n",
      "xl_visual_session0005_00000977.txt 6\n",
      "xl_visual_session0005_00001013.txt 9\n",
      "xl_visual_session0005_00001029.txt 5\n",
      "xl_visual_session0005_00001033.txt 6\n",
      "xl_visual_session0005_00001045.txt 9\n",
      "xl_visual_session0005_00001049.txt 4\n",
      "xl_visual_session0005_00001055.txt 8\n",
      "xl_visual_session0005_00001057.txt 6\n",
      "xl_visual_session0005_00001061.txt 7\n",
      "xl_visual_session0005_00001063.txt 5\n",
      "xl_visual_session0005_00001069.txt 6\n",
      "xl_visual_session0005_00001081.txt 3\n",
      "xl_visual_session0005_00001280.txt 4\n",
      "xl_visual_session0005_00001290.txt 3\n",
      "xl_visual_session0005_00001294.txt 5\n",
      "xl_visual_session0005_00001298.txt 4\n",
      "xl_visual_session0005_00001322.txt 4\n",
      "xl_visual_session0005_00001328.txt 4\n",
      "xl_visual_session0005_00001336.txt 6\n",
      "xl_visual_session0005_00001338.txt 5\n",
      "xl_visual_session0005_00001350.txt 4\n",
      "xl_visual_session0005_00001354.txt 4\n",
      "xl_visual_session0005_00001358.txt 4\n",
      "xl_visual_session0005_00001374.txt 5\n",
      "xl_visual_session0005_00001384.txt 6\n",
      "xl_visual_session0005_00001392.txt 5\n",
      "xl_visual_session0005_00001398.txt 9\n",
      "xl_visual_session0005_00001400.txt 6\n",
      "xl_visual_session0005_00002644.txt 7\n",
      "xl_visual_session0005_00002646.txt 9\n",
      "xl_visual_session0005_00002652.txt 12\n",
      "xl_visual_session0005_00002658.txt 5\n",
      "xl_visual_session0005_00002674.txt 7\n",
      "xl_visual_session0005_00002678.txt 7\n",
      "xl_visual_session0005_00002680.txt 5\n",
      "xl_visual_session0005_00002682.txt 7\n",
      "xl_visual_session0005_00002684.txt 6\n",
      "xl_visual_session0005_00002690.txt 5\n",
      "xl_visual_session0005_00002698.txt 9\n",
      "xl_visual_session0005_00002710.txt 7\n",
      "xl_visual_session0005_00002712.txt 8\n",
      "xl_visual_session0005_00002714.txt 12\n",
      "xl_visual_session0005_00002733.txt 8\n",
      "xl_visual_session0005_00002735.txt 6\n",
      "xl_visual_session0005_00002737.txt 6\n",
      "xl_visual_session0005_00002745.txt 5\n",
      "xl_visual_session0005_00002765.txt 6\n",
      "xl_visual_session0005_00002772.txt 6\n",
      "xl_visual_session0005_00002774.txt 5\n",
      "xl_visual_session0005_00002800.txt 6\n",
      "xl_visual_session0005_00002813.txt 7\n",
      "xl_visual_session0005_00002815.txt 5\n",
      "xl_visual_session0005_00002819.txt 7\n",
      "xl_visual_session0005_00002821.txt 5\n",
      "xl_visual_session0005_00003322.txt 12\n",
      "xl_visual_session0005_00003365.txt 17\n",
      "xl_visual_session0005_00003380.txt 15\n",
      "xl_visual_session0005_00003382.txt 18\n",
      "xl_visual_session0005_00003384.txt 15\n",
      "xl_visual_session0005_00003386.txt 14\n",
      "xl_visual_session0005_00003391.txt 16\n",
      "xl_visual_session0005_00003409.txt 18\n",
      "xl_visual_session0005_00003413.txt 22\n",
      "xl_visual_session0005_00003427.txt 18\n",
      "xl_visual_session0005_00003443.txt 13\n",
      "xl_visual_session0005_00003454.txt 11\n",
      "xl_visual_session0005_00003456.txt 12\n",
      "xl_visual_session0005_00003458.txt 11\n",
      "xl_visual_session0005_00003494.txt 8\n",
      "xl_visual_session0005_00003506.txt 7\n",
      "xl_visual_session0005_00003518.txt 8\n",
      "xl_visual_session0005_00003535.txt 11\n",
      "xl_visual_session0005_00003545.txt 16\n",
      "xl_visual_session0005_00003557.txt 13\n",
      "xl_visual_session0005_00003563.txt 11\n",
      "xl_visual_session0005_00003569.txt 14\n",
      "xl_visual_session0005_00003578.txt 12\n",
      "xl_visual_session0005_00003619.txt 12\n",
      "xl_visual_session0005_00003621.txt 10\n",
      "xl_visual_session0005_00003631.txt 12\n",
      "xl_visual_session0005_00003658.txt 15\n",
      "xl_visual_session0005_00003667.txt 13\n",
      "xl_visual_session0005_00003674.txt 11\n",
      "xl_visual_session0005_00003680.txt 12\n",
      "xl_visual_session0005_00003686.txt 12\n",
      "xl_visual_session0005_00003690.txt 11\n",
      "xl_visual_session0005_00003692.txt 11\n",
      "xl_visual_session0005_00003745.txt 14\n",
      "xl_visual_session0005_00003751.txt 11\n",
      "xl_visual_session0005_00003753.txt 13\n",
      "xl_visual_session0005_00003757.txt 9\n",
      "xl_visual_session0005_00003774.txt 12\n",
      "xl_visual_session0005_00003786.txt 9\n",
      "xl_visual_session0005_00003798.txt 12\n",
      "xl_visual_session0005_00003816.txt 8\n",
      "xl_visual_session0005_00003820.txt 11\n",
      "xl_visual_session0005_00003826.txt 9\n",
      "xl_visual_session0005_00003830.txt 9\n",
      "xl_visual_session0005_00003833.txt 11\n",
      "xl_visual_session0005_00003837.txt 10\n",
      "xl_visual_session0005_00003877.txt 9\n",
      "xl_visual_session0005_00003885.txt 14\n",
      "xl_visual_session0005_00003905.txt 14\n",
      "xl_visual_session0005_00003940.txt 12\n",
      "xl_visual_session0005_00003946.txt 11\n",
      "xl_visual_session0005_00003969.txt 12\n",
      "xl_visual_session0005_00003973.txt 10\n",
      "xl_visual_session0005_00003979.txt 14\n",
      "xl_visual_session0005_00003981.txt 13\n",
      "xl_visual_session0005_00003983.txt 11\n",
      "xl_visual_session0005_00004006.txt 11\n",
      "xl_visual_session0005_00004016.txt 10\n",
      "xl_visual_session0005_00004020.txt 11\n",
      "xl_visual_session0005_00004030.txt 10\n",
      "xl_visual_session0005_00004039.txt 10\n",
      "xl_visual_session0005_00004049.txt 13\n",
      "xl_visual_session0005_00004079.txt 11\n",
      "xl_visual_session0005_00004081.txt 11\n",
      "xl_visual_session0005_00004104.txt 13\n",
      "xl_visual_session0005_00004118.txt 9\n",
      "xl_visual_session0005_00004126.txt 11\n",
      "xl_visual_session0005_00004134.txt 11\n",
      "xl_visual_session0005_00004136.txt 10\n",
      "xl_visual_session0005_00004138.txt 10\n",
      "xl_visual_session0005_00004149.txt 8\n",
      "xl_visual_session0005_00004151.txt 8\n",
      "xl_visual_session0005_00004163.txt 11\n",
      "xl_visual_session0005_00004184.txt 12\n",
      "xl_visual_session0005_00004186.txt 12\n",
      "xl_visual_session0005_00004199.txt 16\n",
      "xl_visual_session0005_00004201.txt 15\n",
      "xl_visual_session0005_00004204.txt 15\n",
      "xl_visual_session0005_00004220.txt 17\n",
      "xl_visual_session0005_00004228.txt 17\n",
      "xl_visual_session0005_00004232.txt 21\n",
      "xl_visual_session0005_00004239.txt 15\n",
      "xl_visual_session0005_00004241.txt 16\n",
      "xl_visual_session0005_00004245.txt 21\n",
      "xl_visual_session0005_00004249.txt 22\n",
      "xl_visual_session0005_00004259.txt 19\n",
      "xl_visual_session0005_00004265.txt 16\n",
      "xl_visual_session0005_00004272.txt 15\n",
      "xl_visual_session0005_00004275.txt 16\n",
      "xl_visual_session0005_00004293.txt 9\n",
      "xl_visual_session0005_00004301.txt 9\n",
      "xl_visual_session0005_00004327.txt 10\n",
      "xl_visual_session0005_00004333.txt 11\n",
      "xl_visual_session0005_00004343.txt 7\n",
      "xl_visual_session0005_00005287.txt 8\n",
      "xl_visual_session0005_00005295.txt 6\n",
      "xl_visual_session0005_00005301.txt 8\n",
      "xl_visual_session0005_00005309.txt 8\n",
      "xl_visual_session0005_00005325.txt 6\n",
      "xl_visual_session0005_00005329.txt 7\n",
      "xl_visual_session0005_00005343.txt 6\n",
      "xl_visual_session0005_00005345.txt 6\n",
      "xl_visual_session0005_00005366.txt 5\n",
      "xl_visual_session0005_00005372.txt 5\n",
      "xl_visual_session0005_00005381.txt 7\n",
      "xl_visual_session0005_00005392.txt 4\n",
      "xl_visual_session0005_00005394.txt 4\n",
      "xl_visual_session0005_00005398.txt 5\n",
      "xl_visual_session0005_00005416.txt 4\n",
      "xl_visual_session0005_00005430.txt 5\n",
      "xl_visual_session0005_00005442.txt 5\n",
      "xl_visual_session0005_00005449.txt 5\n",
      "xl_visual_session0005_00005454.txt 5\n",
      "xl_visual_session0005_00005473.txt 5\n",
      "xl_visual_session0005_00005477.txt 6\n",
      "xl_visual_session0005_00005492.txt 6\n",
      "xl_visual_session0005_00005496.txt 4\n",
      "xl_visual_session0005_00005523.txt 4\n",
      "xl_visual_session0005_00005531.txt 5\n",
      "xl_visual_session0005_00005541.txt 6\n",
      "xl_visual_session0005_00005546.txt 6\n",
      "xl_visual_session0005_00005550.txt 4\n",
      "xl_visual_session0005_00005554.txt 6\n",
      "xl_visual_session0005_00005562.txt 4\n",
      "xl_visual_session0005_00005566.txt 4\n",
      "xl_visual_session0005_00005570.txt 5\n",
      "xl_visual_session0005_00005572.txt 5\n",
      "xl_visual_session0005_00005580.txt 5\n",
      "xl_visual_session0005_00005594.txt 7\n",
      "xl_visual_session0005_00005596.txt 7\n",
      "xl_visual_session0005_00005636.txt 8\n",
      "xl_visual_session0005_00005651.txt 14\n",
      "xl_visual_session0005_00005667.txt 12\n",
      "xl_visual_session0005_00005685.txt 11\n",
      "xl_visual_session0005_00005692.txt 13\n",
      "xl_visual_session0005_00005710.txt 13\n",
      "xl_visual_session0005_00005712.txt 12\n",
      "xl_visual_session0005_00005729.txt 13\n",
      "xl_visual_session0005_00005738.txt 10\n",
      "xl_visual_session0005_00005754.txt 13\n",
      "xl_visual_session0005_00005756.txt 12\n",
      "xl_visual_session0005_00005768.txt 10\n",
      "xl_visual_session0005_00005816.txt 15\n",
      "xl_visual_session0005_00005823.txt 12\n",
      "xl_visual_session0005_00005860.txt 10\n",
      "xl_visual_session0005_00005864.txt 10\n",
      "xl_visual_session0005_00005866.txt 10\n",
      "xl_visual_session0005_00005882.txt 10\n",
      "xl_visual_session0005_00005896.txt 8\n",
      "xl_visual_session0005_00005926.txt 9\n",
      "xl_visual_session0005_00005928.txt 7\n",
      "xl_visual_session0005_00005936.txt 7\n",
      "xl_visual_session0005_00005942.txt 8\n",
      "xl_visual_session0005_00005948.txt 8\n"
     ]
    },
    {
     "name": "stdout",
     "output_type": "stream",
     "text": [
      "xl_visual_session0005_00005971.txt 10\n",
      "xl_visual_session0005_00005981.txt 6\n",
      "xl_visual_session0005_00005988.txt 6\n",
      "xl_visual_session0005_00005992.txt 5\n",
      "xl_visual_session0005_00005996.txt 4\n",
      "xl_visual_session0005_00006000.txt 4\n",
      "xl_visual_session0005_00006139.txt 6\n",
      "xl_visual_session0005_00006141.txt 6\n",
      "xl_visual_session0005_00006149.txt 6\n",
      "xl_visual_session0005_00006166.txt 7\n",
      "xl_visual_session0005_00006182.txt 9\n",
      "xl_visual_session0005_00006184.txt 9\n",
      "xl_visual_session0005_00006190.txt 13\n",
      "xl_visual_session0005_00006206.txt 11\n",
      "xl_visual_session0005_00006226.txt 7\n",
      "xl_visual_session0005_00006240.txt 9\n",
      "xl_visual_session0005_00006250.txt 8\n",
      "xl_visual_session0005_00006263.txt 6\n",
      "xl_visual_session0005_00006267.txt 5\n",
      "xl_visual_session0005_00006279.txt 4\n",
      "xl_visual_session0005_00006289.txt 8\n",
      "xl_visual_session0005_00006305.txt 6\n",
      "xl_visual_session0005_00006307.txt 6\n",
      "xl_visual_session0005_00006376.txt 5\n",
      "xl_visual_session0005_00006393.txt 4\n",
      "xl_visual_session0005_00006397.txt 4\n",
      "xl_visual_session0005_00006405.txt 5\n",
      "xl_visual_session0005_00006411.txt 6\n",
      "xl_visual_session0005_00006413.txt 3\n",
      "xl_visual_session0005_00006415.txt 5\n",
      "xl_visual_session0005_00006421.txt 6\n",
      "xl_visual_session0005_00006429.txt 6\n",
      "xl_visual_session0005_00006433.txt 4\n",
      "xl_visual_session0005_00007148.txt 7\n",
      "xl_visual_session0005_00007162.txt 5\n",
      "xl_visual_session0005_00007188.txt 4\n",
      "xl_visual_session0005_00007192.txt 4\n",
      "xl_visual_session0005_00007199.txt 4\n",
      "xl_visual_session0005_00007201.txt 4\n",
      "xl_visual_session0005_00007203.txt 4\n",
      "xl_visual_session0005_00007221.txt 3\n",
      "xl_visual_session0005_00007223.txt 4\n",
      "xl_visual_session0005_00007232.txt 2\n",
      "xl_visual_session0005_00007234.txt 1\n",
      "xl_visual_session0005_00007242.txt 1\n",
      "xl_visual_session0005_00007252.txt 1\n",
      "xl_visual_session0005_00007258.txt 1\n",
      "xl_visual_session0005_00007277.txt 1\n",
      "xl_visual_session0005_00007279.txt 2\n",
      "xl_visual_session0005_00007289.txt 2\n",
      "xl_visual_session0005_00007298.txt 2\n",
      "xl_visual_session0005_00007308.txt 2\n",
      "xl_visual_session0005_00007314.txt 2\n",
      "xl_visual_session0005_00008444.txt 16\n",
      "xl_visual_session0005_00008446.txt 16\n",
      "xl_visual_session0005_00008450.txt 16\n",
      "xl_visual_session0005_00008454.txt 16\n",
      "xl_visual_session0005_00008456.txt 17\n",
      "xl_visual_session0005_00008464.txt 15\n",
      "xl_visual_session0005_00008466.txt 16\n",
      "xl_visual_session0005_00008527.txt 15\n",
      "xl_visual_session0005_00008529.txt 15\n",
      "xl_visual_session0005_00008533.txt 16\n",
      "xl_visual_session0005_00008537.txt 18\n",
      "xl_visual_session0005_00008553.txt 16\n",
      "xl_visual_session0005_00008567.txt 15\n",
      "xl_visual_session0005_00008571.txt 15\n",
      "xl_visual_session0005_00008580.txt 15\n",
      "xl_visual_session0005_00008584.txt 15\n",
      "xl_visual_session0005_00008616.txt 15\n",
      "xl_visual_session0005_00008622.txt 16\n",
      "xl_visual_session0005_00008634.txt 14\n",
      "xl_visual_session0005_00008652.txt 13\n",
      "xl_visual_session0005_00008656.txt 13\n",
      "xl_visual_session0005_00008670.txt 14\n",
      "xl_visual_session0005_00008698.txt 12\n",
      "xl_visual_session0005_00008700.txt 15\n",
      "xl_visual_session0005_00008718.txt 12\n",
      "xl_visual_session0005_00008740.txt 10\n",
      "xl_visual_session0005_00008840.txt 17\n",
      "xl_visual_session0005_00008843.txt 18\n",
      "xl_visual_session0005_00008851.txt 20\n",
      "xl_visual_session0005_00008861.txt 19\n",
      "xl_visual_session0005_00008873.txt 19\n",
      "xl_visual_session0005_00008875.txt 20\n",
      "xl_visual_session0005_00008881.txt 18\n",
      "xl_visual_session0005_00008922.txt 19\n",
      "xl_visual_session0005_00008925.txt 23\n",
      "xl_visual_session0005_00008940.txt 23\n",
      "xl_visual_session0005_00008948.txt 21\n",
      "xl_visual_session0005_00008958.txt 19\n",
      "xl_visual_session0005_00008962.txt 15\n",
      "xl_visual_session0005_00008979.txt 21\n",
      "xl_visual_session0005_00008983.txt 21\n",
      "xl_visual_session0005_00009007.txt 15\n",
      "xl_visual_session0005_00009024.txt 15\n",
      "xl_visual_session0005_00009038.txt 16\n",
      "xl_visual_session0005_00009058.txt 10\n",
      "xl_visual_session0005_00009060.txt 13\n",
      "xl_visual_session0005_00009064.txt 12\n",
      "xl_visual_session0005_00009074.txt 12\n",
      "xl_visual_session0005_00009093.txt 10\n",
      "xl_visual_session0005_00009097.txt 10\n",
      "xl_visual_session0005_00009109.txt 17\n",
      "xl_visual_session0005_00009111.txt 15\n",
      "xl_visual_session0005_00009118.txt 12\n",
      "xl_visual_session0005_00009120.txt 14\n",
      "xl_visual_session0005_00009122.txt 13\n",
      "xl_visual_session0005_00009126.txt 12\n",
      "xl_visual_session0005_00009132.txt 11\n",
      "xl_visual_session0005_00009138.txt 11\n",
      "xl_visual_session0005_00009144.txt 15\n",
      "xl_visual_session0005_00009146.txt 13\n",
      "xl_visual_session0005_00009151.txt 14\n",
      "xl_visual_session0005_00009165.txt 17\n",
      "xl_visual_session0005_00009175.txt 11\n",
      "xl_visual_session0005_00009184.txt 12\n",
      "xl_visual_session0005_00009192.txt 15\n",
      "xl_visual_session0005_00009202.txt 11\n",
      "xl_visual_session0005_00009216.txt 9\n",
      "xl_visual_session0005_00009218.txt 10\n",
      "xl_visual_session0005_00009220.txt 10\n",
      "xl_visual_session0005_00009232.txt 14\n",
      "xl_visual_session0005_00009236.txt 13\n",
      "xl_visual_session0005_00009242.txt 15\n",
      "xl_visual_session0005_00009254.txt 12\n",
      "xl_visual_session0005_00009270.txt 12\n",
      "xl_visual_session0005_00009272.txt 14\n",
      "xl_visual_session0005_00009276.txt 12\n",
      "xl_visual_session0005_00009286.txt 11\n",
      "xl_visual_session0005_00009296.txt 13\n",
      "xl_visual_session0005_00009304.txt 12\n",
      "xl_visual_session0005_00009313.txt 12\n",
      "xl_visual_session0005_00009327.txt 11\n",
      "xl_visual_session0005_00009331.txt 11\n",
      "xl_visual_session0005_00009349.txt 10\n",
      "xl_visual_session0005_00009351.txt 10\n",
      "xl_visual_session0005_00009353.txt 13\n",
      "xl_visual_session0005_00009371.txt 10\n",
      "xl_visual_session0005_00009380.txt 16\n",
      "xl_visual_session0005_00009385.txt 9\n",
      "xl_visual_session0005_00009401.txt 8\n",
      "xl_visual_session0005_00009403.txt 8\n",
      "xl_visual_session0005_00009405.txt 10\n",
      "xl_visual_session0005_00009416.txt 15\n",
      "xl_visual_session0005_00009428.txt 11\n",
      "xl_visual_session0005_00009438.txt 11\n",
      "xl_visual_session0005_00009461.txt 6\n",
      "xl_visual_session0005_00009469.txt 6\n",
      "xl_visual_session0005_00009481.txt 7\n",
      "xl_visual_session0005_00009489.txt 6\n",
      "xl_visual_session0005_00009497.txt 6\n",
      "xl_visual_session0005_00009533.txt 5\n",
      "xl_visual_session0005_00009563.txt 5\n",
      "xl_visual_session0005_00009587.txt 8\n",
      "xl_visual_session0005_00009595.txt 8\n",
      "xl_visual_session0005_00009605.txt 8\n",
      "xl_visual_session0005_00009609.txt 7\n",
      "xl_visual_session0005_00009628.txt 6\n",
      "xl_visual_session0005_00009636.txt 9\n",
      "xl_visual_session0005_00009656.txt 10\n",
      "xl_visual_session0005_00009662.txt 10\n",
      "xl_visual_session0005_00009843.txt 5\n",
      "xl_visual_session0005_00009861.txt 6\n",
      "xl_visual_session0005_00009867.txt 5\n",
      "xl_visual_session0005_00009879.txt 5\n",
      "xl_visual_session0005_00009889.txt 5\n",
      "xl_visual_session0005_00009892.txt 4\n",
      "xl_visual_session0005_00009900.txt 2\n",
      "xl_visual_session0005_00009912.txt 7\n",
      "xl_visual_session0005_00009919.txt 9\n",
      "xl_visual_session0005_00009927.txt 15\n",
      "xl_visual_session0005_00009939.txt 10\n",
      "xl_visual_session0005_00009945.txt 9\n",
      "xl_visual_session0005_00009957.txt 3\n",
      "xl_visual_session0005_00009963.txt 3\n",
      "xl_visual_session0005_00009965.txt 3\n",
      "xl_visual_session0005_00009975.txt 6\n",
      "xl_visual_session0005_00009988.txt 13\n",
      "xl_visual_session0005_00010006.txt 19\n",
      "xl_visual_session0005_00010038.txt 27\n",
      "xl_visual_session0005_00010076.txt 20\n",
      "xl_visual_session0005_00010084.txt 16\n",
      "xl_visual_session0005_00010281.txt 15\n",
      "xl_visual_session0005_00010288.txt 16\n",
      "xl_visual_session0005_00010293.txt 12\n",
      "xl_visual_session0005_00010303.txt 9\n",
      "xl_visual_session0005_00010307.txt 10\n",
      "xl_visual_session0005_00010309.txt 9\n",
      "xl_visual_session0005_00010330.txt 10\n",
      "xl_visual_session0005_00010352.txt 12\n",
      "xl_visual_session0005_00010357.txt 14\n",
      "xl_visual_session0005_00010370.txt 18\n",
      "xl_visual_session0005_00010374.txt 16\n",
      "xl_visual_session0005_00010376.txt 18\n",
      "xl_visual_session0005_00010394.txt 16\n",
      "xl_visual_session0005_00010408.txt 15\n",
      "xl_visual_session0005_00010430.txt 18\n",
      "xl_visual_session0005_00010436.txt 21\n",
      "xl_visual_session0005_00010442.txt 16\n",
      "xl_visual_session0005_00010444.txt 14\n",
      "xl_visual_session0005_00010446.txt 17\n",
      "xl_visual_session0005_00010448.txt 15\n",
      "xl_visual_session0005_00010450.txt 16\n",
      "xl_visual_session0005_00010452.txt 14\n",
      "xl_visual_session0005_00010456.txt 15\n",
      "xl_visual_session0005_00010480.txt 18\n",
      "xl_visual_session0005_00010486.txt 19\n",
      "xl_visual_session0005_00010488.txt 19\n",
      "xl_visual_session0005_00010500.txt 21\n",
      "xl_visual_session0005_00010508.txt 20\n",
      "xl_visual_session0005_00010526.txt 24\n",
      "xl_visual_session0005_00010532.txt 23\n",
      "xl_visual_session0005_00010538.txt 23\n",
      "xl_visual_session0005_00010544.txt 24\n",
      "xl_visual_session0005_00010550.txt 22\n",
      "xl_visual_session0005_00010563.txt 19\n",
      "xl_visual_session0005_00010575.txt 18\n",
      "xl_visual_session0005_00010801.txt 14\n",
      "xl_visual_session0005_00010807.txt 10\n",
      "xl_visual_session0005_00010815.txt 14\n",
      "xl_visual_session0005_00010823.txt 18\n",
      "xl_visual_session0005_00010835.txt 13\n",
      "xl_visual_session0005_00010844.txt 13\n",
      "xl_visual_session0005_00010848.txt 16\n",
      "xl_visual_session0005_00010859.txt 14\n",
      "xl_visual_session0005_00010871.txt 16\n",
      "xl_visual_session0005_00010873.txt 11\n",
      "xl_visual_session0005_00010875.txt 11\n",
      "xl_visual_session0005_00011512.txt 16\n",
      "xl_visual_session0005_00011514.txt 16\n",
      "xl_visual_session0005_00011526.txt 15\n",
      "xl_visual_session0005_00011538.txt 13\n",
      "xl_visual_session0005_00011543.txt 14\n",
      "xl_visual_session0005_00011557.txt 12\n",
      "xl_visual_session0005_00011564.txt 12\n",
      "xl_visual_session0005_00011579.txt 11\n"
     ]
    },
    {
     "name": "stdout",
     "output_type": "stream",
     "text": [
      "xl_visual_session0005_00011586.txt 12\n",
      "xl_visual_session0005_00011609.txt 18\n",
      "xl_visual_session0005_00011625.txt 19\n",
      "xl_visual_session0005_00011636.txt 18\n",
      "xl_visual_session0005_00011638.txt 15\n",
      "xl_visual_session0005_00011640.txt 16\n",
      "xl_visual_session0005_00011647.txt 15\n",
      "xl_visual_session0005_00011651.txt 13\n",
      "xl_visual_session0005_00011655.txt 14\n",
      "xl_visual_session0005_00011662.txt 14\n",
      "xl_visual_session0005_00011674.txt 12\n",
      "xl_visual_session0005_00011677.txt 11\n",
      "xl_visual_session0005_00011679.txt 11\n",
      "xl_visual_session0005_00011688.txt 9\n",
      "xl_visual_session0005_00011692.txt 10\n",
      "xl_visual_session0005_00011697.txt 11\n",
      "xl_visual_session0005_00012956.txt 15\n",
      "xl_visual_session0005_00012975.txt 16\n",
      "xl_visual_session0005_00012983.txt 16\n",
      "xl_visual_session0005_00013007.txt 17\n",
      "xl_visual_session0005_00013017.txt 12\n",
      "xl_visual_session0005_00013034.txt 12\n",
      "xl_visual_session0005_00013049.txt 13\n",
      "xl_visual_session0005_00013062.txt 20\n",
      "xl_visual_session0005_00013075.txt 15\n",
      "xl_visual_session0005_00013084.txt 14\n",
      "xl_visual_session0005_00013130.txt 13\n",
      "xl_visual_session0005_00013144.txt 18\n",
      "xl_visual_session0005_00013152.txt 14\n",
      "xl_visual_session0005_00013157.txt 14\n",
      "xl_visual_session0005_00013165.txt 16\n",
      "xl_visual_session0005_00013177.txt 15\n",
      "xl_visual_session0005_00013191.txt 13\n",
      "xl_visual_session0005_00013198.txt 15\n",
      "xl_visual_session0005_00013236.txt 18\n",
      "xl_visual_session0005_00013238.txt 17\n",
      "xl_visual_session0005_00013249.txt 16\n",
      "xl_visual_session0005_00013270.txt 11\n",
      "xl_visual_session0005_00013283.txt 17\n",
      "xl_visual_session0005_00013286.txt 15\n",
      "xl_visual_session0005_00013309.txt 19\n",
      "xl_visual_session0005_00013343.txt 11\n",
      "xl_visual_session0005_00013353.txt 18\n",
      "xl_visual_session0005_00013356.txt 12\n",
      "xl_visual_session0005_00013375.txt 15\n",
      "xl_visual_session0005_00013401.txt 12\n",
      "xl_visual_session0005_00013413.txt 12\n",
      "xl_visual_session0005_00013449.txt 10\n",
      "xl_visual_session0005_00013457.txt 8\n",
      "xl_visual_session0005_00013483.txt 10\n"
     ]
    }
   ],
   "source": [
    "import os\n",
    "from os import listdir\n",
    "import glob\n",
    "    \n",
    "gtfolder = 'C:/Users/nisha/MACS/Internship/Data/XL_CarPedDataset_INT_v2_train_val/val/Final prediction/'\n",
    "\n",
    "# Read ground truths\n",
    "os.chdir(gtfolder)\n",
    "files = glob.glob(\"*.txt\")\n",
    "files.sort()\n",
    "\n",
    "for f in files:        \n",
    "    fh1 = open(f, \"r\")    \n",
    "    lineCount=0\n",
    "    for line in fh1:\n",
    "        lineCount+=1\n",
    "    print(f,lineCount)\n",
    "        "
   ]
  },
  {
   "cell_type": "code",
   "execution_count": null,
   "metadata": {},
   "outputs": [],
   "source": []
  }
 ],
 "metadata": {
  "kernelspec": {
   "display_name": "Python 3",
   "language": "python",
   "name": "python3"
  },
  "language_info": {
   "codemirror_mode": {
    "name": "ipython",
    "version": 3
   },
   "file_extension": ".py",
   "mimetype": "text/x-python",
   "name": "python",
   "nbconvert_exporter": "python",
   "pygments_lexer": "ipython3",
   "version": "3.8.5"
  }
 },
 "nbformat": 4,
 "nbformat_minor": 4
}
